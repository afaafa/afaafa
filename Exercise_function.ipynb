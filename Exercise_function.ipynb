{
  "nbformat": 4,
  "nbformat_minor": 0,
  "metadata": {
    "colab": {
      "provenance": [],
      "include_colab_link": true
    },
    "kernelspec": {
      "name": "python3",
      "display_name": "Python 3"
    },
    "language_info": {
      "name": "python"
    }
  },
  "cells": [
    {
      "cell_type": "markdown",
      "metadata": {
        "id": "view-in-github",
        "colab_type": "text"
      },
      "source": [
        "<a href=\"https://colab.research.google.com/github/afaafa/afaafa/blob/main/Exercise_function.ipynb\" target=\"_parent\"><img src=\"https://colab.research.google.com/assets/colab-badge.svg\" alt=\"Open In Colab\"/></a>"
      ]
    },
    {
      "cell_type": "markdown",
      "source": [
        "## Soal 1\n",
        "---\n",
        "\n",
        "Below is a code to calculate a negative log-likelihood (NLL) from given actual value ($y_{i}$) & predicted probability ($P_{i}$)\n",
        "\n",
        "$$\n",
        "\\text{NLL} =\n",
        "-\\cfrac{1}{N}\n",
        "\\sum_{i=1}^{N}\n",
        "\\left(\n",
        "    y_{i} \\log (P_{i})\n",
        "    +\n",
        "    (1 - y_{i}) \\log (1 - P_{i})\n",
        "\\right)\n",
        "$$"
      ],
      "metadata": {
        "id": "wjDQv7f2zIVj"
      }
    },
    {
      "cell_type": "code",
      "source": [
        "# fungsi rumus ini untuk melihat probability antara data sebenarnya dan yang diprediksi\n",
        "\n",
        "# code rumus disini\n",
        "import math\n",
        "\n",
        "actual = [1, 0, 0, 1, 1]\n",
        "predicted_proba = [0.9, 0.1, 0.05, 0.8, 0.7]\n",
        "\n",
        "def nll(actual, predicted_proba):\n",
        "    '''return the negative log-likelihood. Return NLL (float)'''\n",
        "    N = len(actual)\n",
        "\n",
        "    nll = 0\n",
        "    for i in range(N):\n",
        "        nll += (actual[i] * math.log(predicted_proba[i]) + (1 - actual[i]) * math.log(1 - predicted_proba[i]))\n",
        "\n",
        "    nll_ = -(1/N) * nll\n",
        "    return nll_"
      ],
      "metadata": {
        "id": "AFE5M2PAAsup"
      },
      "execution_count": null,
      "outputs": []
    },
    {
      "cell_type": "code",
      "source": [
        "# Input\n",
        "actual = [1, 0, 0, 1, 1]\n",
        "predicted_proba = [0.9, 0.1, 0.05, 0.8, 0.7]\n",
        "\n",
        "res = nll(actual, predicted_proba)\n",
        "print(res)\n",
        "# Should be 0.16836656419122908 atau 16%"
      ],
      "metadata": {
        "id": "Tld2pP10zTI_",
        "colab": {
          "base_uri": "https://localhost:8080/"
        },
        "outputId": "53457aaf-f8e8-4a9f-d230-dbe902b2d48f"
      },
      "execution_count": null,
      "outputs": [
        {
          "output_type": "stream",
          "name": "stdout",
          "text": [
            "0.16836656419122908\n"
          ]
        }
      ]
    },
    {
      "cell_type": "markdown",
      "source": [
        "# Soal 2"
      ],
      "metadata": {
        "id": "8-LHN9EsGi6V"
      }
    },
    {
      "cell_type": "markdown",
      "source": [
        "**What is a normalization?**\n",
        "\n",
        "- Convert a set of data to have minimum value of 0.0 and maximum value of 1.0.\n",
        "- How to **transform** or **normalize** a data?\n",
        "\n",
        "$$\n",
        "x^{(\\text{new})}_{i}\n",
        "=\n",
        "\\cfrac\n",
        "{x^{(\\text{old})}_{i} - \\min(x^{(\\text{old})})}\n",
        "{\\max(x^{(\\text{old})}) - \\min(x^{(\\text{old})})}\n",
        "$$"
      ],
      "metadata": {
        "id": "9AyOaOs6H8rj"
      }
    },
    {
      "cell_type": "markdown",
      "source": [
        "**Examples**\n",
        "- Let, `x = [-3, -9, 0, 8, 11]`\n",
        "- We know that\n",
        "  - `min(x) = -9`\n",
        "  - `max(x) = 11`\n",
        "- Then\n",
        "\n",
        "$$\n",
        "\\begin{align*}\n",
        "x^{(\\text{new})}_{1}\n",
        "&=\n",
        "\\cfrac\n",
        "{x^{(\\text{old})}_{1} - \\min(x^{(\\text{old})})}\n",
        "{\\max(x^{(\\text{old})}) - \\min(x^{(\\text{old})})} \\\\\n",
        "x^{(\\text{new})}_{1}\n",
        "&=\n",
        "\\cfrac\n",
        "{-3 - (-9)}\n",
        "{11 - (-9)} \\\\\n",
        "x^{(\\text{new})}_{1}\n",
        "&=\n",
        "\\cfrac\n",
        "{6}\n",
        "{20} \\\\\n",
        "x^{(\\text{new})}_{1}\n",
        "&= 0.3\n",
        "\\end{align*}\n",
        "$$\n",
        "\n",
        "- Doing to all the `x`, we will have `x_normalized = [0.30, 0.00, 0.45, 0.05, 1.00]`"
      ],
      "metadata": {
        "id": "KpWKYSruIAJS"
      }
    },
    {
      "cell_type": "markdown",
      "source": [
        "- Create a class named `Normalizer`\n",
        "- You can initialize the class without any input.\n",
        "- The `Normalizer` has three method\n",
        "  1. `fit`\n",
        "    - Have one input: `data` (list)\n",
        "    - To get the minimum & maximum value of data\n",
        "  2. `transform`\n",
        "    - Have one input: `data` (list)\n",
        "    - Have one output: `data_scaled` (list)\n",
        "    - Normalize the input data\n",
        "  3. `inverse_transform`\n",
        "    - Have one input: `data` (list)\n",
        "    - Have one output: `data_inv_scaled` (list)\n",
        "    - Return the normalize data to the initial data\n",
        "- The `Normalizer` has three parameters\n",
        "  1. `min`, contain the minimum value of the data\n",
        "  2. `max`, contain the maximum value of the data"
      ],
      "metadata": {
        "id": "2DYW5LynIBqx"
      }
    },
    {
      "cell_type": "markdown",
      "source": [
        "**Input 1**\n",
        "\n",
        "```python\n",
        "# Define a data to normalize\n",
        "x = [-3, -9, 0, 8, 11]\n",
        "\n",
        "# 1. Initialize a Normalizer object\n",
        "scaler = Normalizer()\n",
        "\n",
        "# 2. Fit the data\n",
        "scaler.fit(data = x)\n",
        "print('min value    :', scaler.min)\n",
        "print('max value    :', scaler.max)\n",
        "\n",
        "# 3. Transform data\n",
        "x_scaled = scaler.transform(data = x)\n",
        "print('x initial    :', x)\n",
        "print('x scaled     :', x_scaled)\n",
        "\n",
        "# 4. Transform back the scaled data\n",
        "x_inv_scaled = scaler.inverse_transform(data = x_scaled)\n",
        "print('x inv scaled :', x_inv_scaled)\n",
        "```\n",
        "\n",
        "**Output 1**\n",
        "```\n",
        "min value    : -9\n",
        "max value    : 11\n",
        "x initial    : [-3, -9, 0, 8, 11]\n",
        "x scaled     : [0.3, 0.0, 0.45, 0.85, 1.0]\n",
        "x inv scaled : [-3.0, -9.0, 0.0, 8.0, 11.0]\n",
        "```"
      ],
      "metadata": {
        "id": "8apPyDx0IE9k"
      }
    },
    {
      "cell_type": "code",
      "source": [
        "# code disini\n",
        "class Scaler:\n",
        "  def fit(self, data):\n",
        "    # isi code\n",
        "  def normalize(self):\n",
        "    # isi code\n",
        "  def inverse_transform(self, data):\n",
        "    # isi code"
      ],
      "metadata": {
        "id": "8BVUKVQbIbdp"
      },
      "execution_count": null,
      "outputs": []
    },
    {
      "cell_type": "code",
      "source": [
        "# code panggil function"
      ],
      "metadata": {
        "id": "Dix9VGLpI0os"
      },
      "execution_count": null,
      "outputs": []
    },
    {
      "cell_type": "markdown",
      "source": [
        "# Soal 3"
      ],
      "metadata": {
        "id": "hpwkCQjEJQkg"
      }
    },
    {
      "cell_type": "markdown",
      "source": [
        "<img src=\"https://drive.google.com/uc?id=1myBRg0Nf6JnUpKcvXlSz5P7HDRJKE3OW\" />\n",
        "\n",
        "```\n",
        "a = sin2 (Δlat/2) + cos(lat1).cos(lat2).sin2 (Δlong/2)\n",
        "c = 2atan2(√a, √1-a)\n",
        "d = R.c\n",
        "```"
      ],
      "metadata": {
        "id": "Dwmp39yHJPQ4"
      }
    },
    {
      "cell_type": "code",
      "source": [
        "import math\n",
        "lat_1 = math.radians(-6.106318) # inputan\n",
        "lat_2 = math.radians(-6.1378) # referensi\n",
        "\n",
        "#longitude\n",
        "long_1 = math.radians(106.920193)\t # inputan\n",
        "long_2 = math.radians(106.8144) # referensi\n",
        "\n",
        "# code disini\n",
        "\n",
        "# output -9904.86020264961"
      ],
      "metadata": {
        "id": "wh9rbzzXJUcM"
      },
      "execution_count": null,
      "outputs": []
    },
    {
      "cell_type": "markdown",
      "source": [
        "# Soal 4"
      ],
      "metadata": {
        "id": "1UaSfdYPBjtI"
      }
    },
    {
      "cell_type": "markdown",
      "source": [
        "Rumus Standarisasi:\n",
        "------------------\n",
        "\n",
        "Rumus standarisasi digunakan untuk mengubah data menjadi nilai yang memiliki rata-rata (mean) sekitar 0 dan deviasi standar (standard deviation) sekitar 1. Ini adalah teknik umum dalam statistik dan analisis data.\n",
        "\n",
        "Rumus standarisasi umumnya dinyatakan sebagai:\n",
        "\n",
        "$$Z = \\frac{X - \\mu}{\\sigma}$$\n",
        "\n",
        "- $Z$ adalah nilai standar (z-score) dari data yang telah diubah.\n",
        "- $X$ adalah nilai data asli.\n",
        "- $\\mu$ adalah rata-rata dari populasi data.\n",
        "- $\\sigma$ adalah deviasi standar dari populasi data.\n",
        "\n",
        "Dalam prakteknya, kita sering menggunakan rata-rata dan deviasi standar dari sampel data, dan rumus standarisasi dapat ditulis sebagai:\n",
        "\n",
        "$$Z = \\frac{X - \\bar{X}}{s}$$\n",
        "\n",
        "- $Z$ adalah nilai standar (z-score) dari data yang telah diubah.\n",
        "- $X$ adalah nilai data asli.\n",
        "- $\\bar{X}$ adalah rata-rata sampel.\n",
        "- $s$ adalah deviasi standar sampel.\n",
        "\n",
        "Dengan menggunakan rumus standarisasi ini, kita dapat membandingkan dan menganalisis data dengan skala yang berbeda-beda.\n",
        "\n",
        "untuk mendapatkan standarisasi :\n",
        "\n",
        "$$\\sigma = \\sqrt{\\frac{\\sum_{i=1}^n (X_i - \\bar{X})^2}{n}}$$\n",
        "\n",
        "- $\\sigma$ adalah deviasi standar.\n",
        "- $X_i$ adalah nilai individu dalam kumpulan data.\n",
        "- $\\bar{X}$ adalah rata-rata dari kumpulan data.\n",
        "- $n$ adalah jumlah total data dalam kumpulan."
      ],
      "metadata": {
        "id": "LxrLlZNoDYfU"
      }
    },
    {
      "cell_type": "code",
      "source": [
        "# code standarization\n",
        "import numpy as np\n",
        "\n",
        "# Contoh data features\n",
        "data = np.array([[1, 2, 3],\n",
        "                 [4, 5, 6],\n",
        "                 [7, 8, 9]])\n",
        "\n",
        "\n",
        "# Get the total number of elements in the array\n",
        "n = data.size\n",
        "\n",
        "# mean data\n",
        "X_mean = np.mean(data)\n",
        "\n",
        "# std\n",
        "std = np.sqrt(np.sum((data - X_mean) ** 2) / n)\n",
        "std"
      ],
      "metadata": {
        "colab": {
          "base_uri": "https://localhost:8080/"
        },
        "id": "UlX29Zz-BnVz",
        "outputId": "d13ee3bc-be17-4a03-ece7-0f97d6862644"
      },
      "execution_count": null,
      "outputs": [
        {
          "output_type": "execute_result",
          "data": {
            "text/plain": [
              "2.581988897471611"
            ]
          },
          "metadata": {},
          "execution_count": 16
        }
      ]
    },
    {
      "cell_type": "code",
      "source": [
        "# code untuk Z-score\n",
        "z_score = (data - X_mean) / std\n",
        "z_score"
      ],
      "metadata": {
        "colab": {
          "base_uri": "https://localhost:8080/"
        },
        "id": "PxJUWGgKI-Tm",
        "outputId": "7d9cbfee-52e4-4a86-cf31-9faa7a13ab7e"
      },
      "execution_count": null,
      "outputs": [
        {
          "output_type": "execute_result",
          "data": {
            "text/plain": [
              "array([[-1.54919334, -1.161895  , -0.77459667],\n",
              "       [-0.38729833,  0.        ,  0.38729833],\n",
              "       [ 0.77459667,  1.161895  ,  1.54919334]])"
            ]
          },
          "metadata": {},
          "execution_count": 18
        }
      ]
    },
    {
      "cell_type": "code",
      "source": [
        "# buat function\n",
        "def standartscaller(data_actual, data_train):\n"
      ],
      "metadata": {
        "id": "zsufBVdqGLSm"
      },
      "execution_count": null,
      "outputs": []
    }
  ]
}