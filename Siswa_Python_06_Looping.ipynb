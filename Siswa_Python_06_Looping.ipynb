{
  "nbformat": 4,
  "nbformat_minor": 0,
  "metadata": {
    "colab": {
      "provenance": [],
      "toc_visible": true,
      "include_colab_link": true
    },
    "kernelspec": {
      "name": "python3",
      "display_name": "Python 3"
    },
    "language_info": {
      "name": "python"
    }
  },
  "cells": [
    {
      "cell_type": "markdown",
      "metadata": {
        "id": "view-in-github",
        "colab_type": "text"
      },
      "source": [
        "<a href=\"https://colab.research.google.com/github/afaafa/afaafa/blob/main/Siswa_Python_06_Looping.ipynb\" target=\"_parent\"><img src=\"https://colab.research.google.com/assets/colab-badge.svg\" alt=\"Open In Colab\"/></a>"
      ]
    },
    {
      "cell_type": "markdown",
      "source": [
        "# Day 6 - Looping\n",
        "---\n",
        "\n",
        "Python Programming - Sekolah Data - Pacmann AI"
      ],
      "metadata": {
        "id": "cDvvlBDkX7iY"
      }
    },
    {
      "cell_type": "markdown",
      "source": [
        "## Task 1\n",
        "---"
      ],
      "metadata": {
        "id": "Dl9LVmpTHjL7"
      }
    },
    {
      "cell_type": "markdown",
      "source": [
        "**Soal**\n",
        "\n",
        "---"
      ],
      "metadata": {
        "id": "ZMx5M2pCHm76"
      }
    },
    {
      "cell_type": "markdown",
      "source": [
        "- Print angka 1 sampai $n$ menggunakan sintaks `for` pada Python!"
      ],
      "metadata": {
        "id": "8C0t5NFFHjL8"
      }
    },
    {
      "cell_type": "markdown",
      "source": [
        "**Contoh Input:**\n",
        "\n",
        "---"
      ],
      "metadata": {
        "id": "uM6vMSN1Hx3U"
      }
    },
    {
      "cell_type": "markdown",
      "source": [
        "```python\n",
        "n = 10\n",
        "```"
      ],
      "metadata": {
        "id": "YAYlmw7lH9Ne"
      }
    },
    {
      "cell_type": "markdown",
      "source": [
        "**Contoh Output:**\n",
        "\n",
        "---"
      ],
      "metadata": {
        "id": "SF19-2RuH5dK"
      }
    },
    {
      "cell_type": "markdown",
      "source": [
        "```\n",
        "1\n",
        "2\n",
        "3\n",
        "4\n",
        "5\n",
        "6\n",
        "7\n",
        "8\n",
        "9\n",
        "10\n",
        "```"
      ],
      "metadata": {
        "id": "PISbwpi7H9Ne"
      }
    },
    {
      "cell_type": "markdown",
      "source": [
        "**Code disini!**\n",
        "\n",
        "---"
      ],
      "metadata": {
        "id": "LqCKjjptIGts"
      }
    },
    {
      "cell_type": "code",
      "source": [
        "# Tulis code Anda disini\n"
      ],
      "metadata": {
        "id": "c3NNFRTnIIsy",
        "colab": {
          "base_uri": "https://localhost:8080/"
        },
        "outputId": "4dccc02a-9c40-48d2-d17e-638bb73e93a9"
      },
      "execution_count": null,
      "outputs": [
        {
          "output_type": "stream",
          "name": "stdout",
          "text": [
            "1\n",
            "2\n",
            "3\n",
            "4\n",
            "5\n",
            "6\n",
            "7\n",
            "8\n",
            "9\n",
            "10\n"
          ]
        }
      ]
    },
    {
      "cell_type": "markdown",
      "source": [
        "## Task 2\n",
        "\n",
        "---"
      ],
      "metadata": {
        "id": "QRpt9JqQZq2i"
      }
    },
    {
      "cell_type": "markdown",
      "source": [
        "**Soal**\n",
        "\n",
        "---"
      ],
      "metadata": {
        "id": "AHvLYStCCoh3"
      }
    },
    {
      "cell_type": "markdown",
      "source": [
        "Buatlah sebuah variable `kata` yang berisi saya suka makan nasi pecel, kemudian lakukan perulangan menggunakan sintaks `for` sebanyak `n`!"
      ],
      "metadata": {
        "id": "5_dz_wB6fpk-"
      }
    },
    {
      "cell_type": "markdown",
      "source": [
        "**Contoh Input:**\n",
        "\n",
        "---"
      ],
      "metadata": {
        "id": "_ddxTAX7hX59"
      }
    },
    {
      "cell_type": "markdown",
      "source": [
        "```python\n",
        "kata = \"saya suka makan nasi pecel\"\n",
        "n = 5\n",
        "```"
      ],
      "metadata": {
        "id": "YPLCOaxRC6Mf"
      }
    },
    {
      "cell_type": "markdown",
      "source": [
        "**Contoh Output:**\n",
        "\n",
        "---"
      ],
      "metadata": {
        "id": "FO1jyYnbhiuC"
      }
    },
    {
      "cell_type": "markdown",
      "source": [
        "```python\n",
        "Saya suka makan nasi pecel\n",
        "Saya suka makan nasi pecel\n",
        "Saya suka makan nasi pecel\n",
        "Saya suka makan nasi pecel\n",
        "Saya suka makan nasi pecel\n",
        "```"
      ],
      "metadata": {
        "id": "1MOOflYihcr4"
      }
    },
    {
      "cell_type": "markdown",
      "source": [
        "**Code disini!**\n",
        "\n",
        "---"
      ],
      "metadata": {
        "id": "dN7NqgvBDMQN"
      }
    },
    {
      "cell_type": "code",
      "source": [
        "# Tulis code Anda disini\n"
      ],
      "metadata": {
        "id": "SgDpT6UADMQT",
        "colab": {
          "base_uri": "https://localhost:8080/"
        },
        "outputId": "4449c32a-8ee7-45bb-bbf3-3e6de8014bb0"
      },
      "execution_count": null,
      "outputs": [
        {
          "output_type": "stream",
          "name": "stdout",
          "text": [
            "saya suka makan nasi pecel\n",
            "saya suka makan nasi pecel\n",
            "saya suka makan nasi pecel\n",
            "saya suka makan nasi pecel\n",
            "saya suka makan nasi pecel\n"
          ]
        }
      ]
    },
    {
      "cell_type": "markdown",
      "source": [
        "## Task 3\n",
        "\n",
        "---"
      ],
      "metadata": {
        "id": "gYiiyqwtpai6"
      }
    },
    {
      "cell_type": "markdown",
      "source": [
        "**Soal**\n",
        "\n",
        "---"
      ],
      "metadata": {
        "id": "UZ8BngWQDZ4O"
      }
    },
    {
      "cell_type": "markdown",
      "source": [
        "- Buatlah sebuah range angka 1 sampai 10, lakukan perulangan menggunakan sintaks `for` pada angka tersebut.\n",
        "- Buatlah variable `n1` berisi 1 dan `n2` berisi 11"
      ],
      "metadata": {
        "id": "ink4_3x1pbz3"
      }
    },
    {
      "cell_type": "markdown",
      "source": [
        "Buatlah kondisi :\n",
        "\n",
        "- Jika diantara 1 sampai 10 terdapat angka genap maka ganti angka tersebut dengan kata **genap**!\n",
        "- Jika bukan angka genap maka tampilkan angka tersebut"
      ],
      "metadata": {
        "id": "Hy8CDkEYD7Dp"
      }
    },
    {
      "cell_type": "markdown",
      "source": [
        "**Hint**\n",
        "- Bilangan genap jika hasil sisa bagi sama dengan 0"
      ],
      "metadata": {
        "id": "-IdEq-9spuF4"
      }
    },
    {
      "cell_type": "markdown",
      "source": [
        "**Contoh Input:**\n",
        "\n",
        "---"
      ],
      "metadata": {
        "id": "8zwVs6zIqiT3"
      }
    },
    {
      "cell_type": "markdown",
      "source": [
        "```python\n",
        "n1 = 1\n",
        "n2 = 11\n",
        "```"
      ],
      "metadata": {
        "id": "lRjsBmxBqkRh"
      }
    },
    {
      "cell_type": "markdown",
      "source": [
        "**Contoh output:**\n",
        "\n",
        "---"
      ],
      "metadata": {
        "id": "SdONWaMuqnP2"
      }
    },
    {
      "cell_type": "markdown",
      "source": [
        "```\n",
        "1\n",
        "genap\n",
        "3\n",
        "genap\n",
        "5\n",
        "genap\n",
        "7\n",
        "genap\n",
        "9\n",
        "genap\n",
        "```"
      ],
      "metadata": {
        "id": "YdFqpCfkqrOk"
      }
    },
    {
      "cell_type": "markdown",
      "source": [
        "**Code disini!**\n",
        "\n",
        "---"
      ],
      "metadata": {
        "id": "GPyBnqjFEVWd"
      }
    },
    {
      "cell_type": "code",
      "source": [
        "# Tulis code Anda disini\n"
      ],
      "metadata": {
        "id": "XDDOmqDsEVWk",
        "colab": {
          "base_uri": "https://localhost:8080/"
        },
        "outputId": "4a903c66-2cfc-4809-b8f5-f15f7605a073"
      },
      "execution_count": null,
      "outputs": [
        {
          "output_type": "stream",
          "name": "stdout",
          "text": [
            "1\n",
            "genap\n",
            "3\n",
            "genap\n",
            "5\n",
            "genap\n",
            "7\n",
            "genap\n",
            "9\n",
            "genap\n"
          ]
        }
      ]
    },
    {
      "cell_type": "markdown",
      "source": [
        "## Task 4\n",
        "\n",
        "---"
      ],
      "metadata": {
        "id": "Iu1VrzqIh7t7"
      }
    },
    {
      "cell_type": "markdown",
      "source": [
        "**Soal**\n",
        "\n",
        "----"
      ],
      "metadata": {
        "id": "fkuw_ZjvFZ96"
      }
    },
    {
      "cell_type": "markdown",
      "source": [
        "Hitunglah bilangan deret artimatika menggunakan sintaks `for`!"
      ],
      "metadata": {
        "id": "limjCKlbiriO"
      }
    },
    {
      "cell_type": "markdown",
      "source": [
        "**Rumus**"
      ],
      "metadata": {
        "id": "vuQrBNWeEz5Q"
      }
    },
    {
      "cell_type": "markdown",
      "source": [
        "$$\n",
        "\\begin{align*}\n",
        "a_{1} &= 3 \\\\\n",
        "a_{i} &= a_{-1} + d \\\\\n",
        "S_{n} &= a_{n} + a_{n-1} + \\cdots + a_{1}\n",
        "\\end{align*}\n",
        "$$"
      ],
      "metadata": {
        "id": "rzxNDrrNWGAA"
      }
    },
    {
      "cell_type": "markdown",
      "source": [
        "$$ \\text {S_total} = \\text {tambahkan semua suku}$$"
      ],
      "metadata": {
        "id": "HN1RDBoolobO"
      }
    },
    {
      "cell_type": "markdown",
      "source": [
        "Keterangan:\n",
        "- $a_{1}$ adalah suku pertama\n",
        "- $a_{i}$ adalah suku selanjutnya\n",
        "- $d$ adalah selisih antar 2 suku berturut-turut\n",
        "- $S_{n}$ adalah  jumlah total dari ${n}$ suku deret aritmatika."
      ],
      "metadata": {
        "id": "j751uirBFS3B"
      }
    },
    {
      "cell_type": "markdown",
      "source": [
        "Misal :\n",
        "- Suka pertama ($s_{1}$)  = 3\n",
        "- Suku kedua ($s_{2}$) = 3 + 5 = 8\n",
        "- Suku ketiga ($s_{3}$) = 8 + 5 = 13\n",
        "- Suku keempat ($s_{4}$) = 13 + 5 = 18\n",
        "- Suku kelima ($s_{5}$) = 18 + 5 = 23"
      ],
      "metadata": {
        "id": "SLZelRk3FCk5"
      }
    },
    {
      "cell_type": "markdown",
      "source": [
        "**Contoh Input:**\n",
        "\n",
        "---"
      ],
      "metadata": {
        "id": "Z45zTi-ImG4e"
      }
    },
    {
      "cell_type": "markdown",
      "source": [
        "```python\n",
        "suku_pertama = 3\n",
        "selisih = 5\n",
        "jumlah_suku = 5\n",
        "```"
      ],
      "metadata": {
        "id": "lwaLBADAmIW7"
      }
    },
    {
      "cell_type": "markdown",
      "source": [
        "**Contoh Output:**\n",
        "\n",
        "---"
      ],
      "metadata": {
        "id": "3PTUtRbomxXj"
      }
    },
    {
      "cell_type": "markdown",
      "source": [
        "```python\n",
        "Suku ke-1 (a1)= 3, Jumlah deret sementara = 3\n",
        "Suku ke-2 (a2)= 8, Jumlah deret sementara = 11\n",
        "Suku ke-3 (a3)= 13, Jumlah deret sementara = 24\n",
        "Suku ke-4 (a4)= 18, Jumlah deret sementara = 42\n",
        "Suku ke-5 (a5)= 23, Jumlah deret sementara = 65\n",
        "\n",
        "Jumlah deret aritmatika: 65\n",
        "```"
      ],
      "metadata": {
        "id": "ypoujOZDmywt"
      }
    },
    {
      "cell_type": "markdown",
      "source": [
        "**Code disini!**\n",
        "\n",
        "---"
      ],
      "metadata": {
        "id": "Tg8XPwt-FWA0"
      }
    },
    {
      "cell_type": "code",
      "source": [
        "# Tulis code Anda disini"
      ],
      "metadata": {
        "colab": {
          "base_uri": "https://localhost:8080/"
        },
        "id": "-ObiI-Y8rBYJ",
        "outputId": "8f5ab490-2095-4c54-aac7-0a4434d1880d"
      },
      "execution_count": null,
      "outputs": [
        {
          "output_type": "stream",
          "name": "stdout",
          "text": [
            "Suku ke-1 (a1)= 3, Jumlah deret sementara = 3\n",
            "Suku ke-2 (a2)= 8, Jumlah deret sementara = 11\n",
            "Suku ke-3 (a3)= 13, Jumlah deret sementara = 24\n",
            "Suku ke-4 (a4)= 18, Jumlah deret sementara = 42\n",
            "Suku ke-5 (a5)= 23, Jumlah deret sementara = 65\n",
            "\n",
            " Jumlah deret aritmatika: 65\n"
          ]
        }
      ]
    },
    {
      "cell_type": "markdown",
      "source": [
        "## Task 5\n",
        "\n",
        "---"
      ],
      "metadata": {
        "id": "cw6cuBd6oWdI"
      }
    },
    {
      "cell_type": "markdown",
      "source": [
        "**Soal**\n",
        "\n",
        "---"
      ],
      "metadata": {
        "id": "VBri_gIlFfgF"
      }
    },
    {
      "cell_type": "markdown",
      "source": [
        "- Buatlah tabel perkalian 1 sampai 100 dengan melakukan dua kali perulangan menggunakan sintaks `for`!\n",
        "- Buatlah variable `n1` berisi 1 dan `n2` berisi 11"
      ],
      "metadata": {
        "id": "qReRp2nOrRku"
      }
    },
    {
      "cell_type": "markdown",
      "source": [
        "**Contoh Input:**\n",
        "\n",
        "---"
      ],
      "metadata": {
        "id": "xBjmVW_6GIkv"
      }
    },
    {
      "cell_type": "markdown",
      "source": [
        "```python\n",
        "n1 = 1\n",
        "n2 = 11\n",
        "```"
      ],
      "metadata": {
        "id": "bzIrumrdGLnx"
      }
    },
    {
      "cell_type": "markdown",
      "source": [
        "**Contoh Output:**\n",
        "\n",
        "---"
      ],
      "metadata": {
        "id": "NkxmmrRqsFXc"
      }
    },
    {
      "cell_type": "markdown",
      "source": [
        "```python\n",
        "1\t2\t3\t4\t5\t6\t7\t8\t9\t10\n",
        "2\t4\t6\t8\t10\t12\t14\t16\t18\t20\n",
        "3\t6\t9\t12\t15\t18\t21\t24\t27\t30\n",
        "4\t8\t12\t16\t20\t24\t28\t32\t36\t40\n",
        "5\t10\t15\t20\t25\t30\t35\t40\t45\t50\n",
        "6\t12\t18\t24\t30\t36\t42\t48\t54\t60\n",
        "7\t14\t21\t28\t35\t42\t49\t56\t63\t70\n",
        "8\t16\t24\t32\t40\t48\t56\t64\t72\t80\n",
        "9\t18\t27\t36\t45\t54\t63\t72\t81\t90\n",
        "10\t20\t30\t40\t50\t60\t70\t80\t90\t100\n",
        "```"
      ],
      "metadata": {
        "id": "4zWc8waBsHEh"
      }
    },
    {
      "cell_type": "markdown",
      "source": [
        "**Code disini!**\n",
        "\n",
        "---"
      ],
      "metadata": {
        "id": "Yalvpe6EGbxz"
      }
    },
    {
      "cell_type": "code",
      "source": [
        "# Tulis code Anda disini\n",
        "\n",
        "\n"
      ],
      "metadata": {
        "id": "tYiVDzArGbx6",
        "colab": {
          "base_uri": "https://localhost:8080/"
        },
        "outputId": "7579485b-ee3c-4afe-8482-eaa5ced0e185"
      },
      "execution_count": null,
      "outputs": [
        {
          "output_type": "stream",
          "name": "stdout",
          "text": [
            "1\t2\t3\t4\t5\t6\t7\t8\t9\t10\n",
            "1\t2\t3\t4\t5\t6\t7\t8\t9\t10\n",
            "2\t4\t6\t8\t10\t12\t14\t16\t18\t20\n",
            "3\t6\t9\t12\t15\t18\t21\t24\t27\t30\n",
            "4\t8\t12\t16\t20\t24\t28\t32\t36\t40\n",
            "5\t10\t15\t20\t25\t30\t35\t40\t45\t50\n",
            "6\t12\t18\t24\t30\t36\t42\t48\t54\t60\n",
            "7\t14\t21\t28\t35\t42\t49\t56\t63\t70\n",
            "8\t16\t24\t32\t40\t48\t56\t64\t72\t80\n",
            "9\t18\t27\t36\t45\t54\t63\t72\t81\t90\n",
            "10\t20\t30\t40\t50\t60\t70\t80\t90\t100\n"
          ]
        }
      ]
    },
    {
      "cell_type": "code",
      "source": [
        "# Tulis code Anda disini\n"
      ],
      "metadata": {
        "colab": {
          "base_uri": "https://localhost:8080/"
        },
        "id": "Ni9FD2H3vz3P",
        "outputId": "96251f89-0bfa-4d2c-8aa6-728df6839557"
      },
      "execution_count": null,
      "outputs": [
        {
          "output_type": "stream",
          "name": "stdout",
          "text": [
            "1\t2\t3\t4\t5\t6\t7\t8\t9\t10\t\n",
            "2\t4\t6\t8\t10\t12\t14\t16\t18\t20\t\n",
            "3\t6\t9\t12\t15\t18\t21\t24\t27\t30\t\n",
            "4\t8\t12\t16\t20\t24\t28\t32\t36\t40\t\n",
            "5\t10\t15\t20\t25\t30\t35\t40\t45\t50\t\n",
            "6\t12\t18\t24\t30\t36\t42\t48\t54\t60\t\n",
            "7\t14\t21\t28\t35\t42\t49\t56\t63\t70\t\n",
            "8\t16\t24\t32\t40\t48\t56\t64\t72\t80\t\n",
            "9\t18\t27\t36\t45\t54\t63\t72\t81\t90\t\n",
            "10\t20\t30\t40\t50\t60\t70\t80\t90\t100\t\n"
          ]
        }
      ]
    },
    {
      "cell_type": "markdown",
      "source": [
        "## Task 6\n",
        "\n",
        "---"
      ],
      "metadata": {
        "id": "Gc3nZvm_sRAm"
      }
    },
    {
      "cell_type": "markdown",
      "source": [
        "**Soal**\n",
        "\n",
        "---"
      ],
      "metadata": {
        "id": "S2vdAWheG7qD"
      }
    },
    {
      "cell_type": "markdown",
      "source": [
        "- Buatlah sebuah variable `kode_telpon_negara`\n",
        "- Misal :\n",
        "    - kode_telpon_negara berisi +62, +1, +44, dan +81, beripe `list`\n",
        "- Keluarkan isi list kode telpon negara tersebut menggunakan sintaks `for`!"
      ],
      "metadata": {
        "id": "fePBQHNYsT0L"
      }
    },
    {
      "cell_type": "markdown",
      "source": [
        "**Contoh Input:**\n",
        "\n",
        "---"
      ],
      "metadata": {
        "id": "xHCMenzUtptO"
      }
    },
    {
      "cell_type": "markdown",
      "source": [
        "```python\n",
        "kode_telpon_negara = [\"+62\", \"+1\", \"+44\", \"+81\"]\n",
        "```"
      ],
      "metadata": {
        "id": "DdmfnVSHtsJz"
      }
    },
    {
      "cell_type": "markdown",
      "source": [
        "**Contoh Output:**\n",
        "\n",
        "---"
      ],
      "metadata": {
        "id": "gXdvSgN5tx92"
      }
    },
    {
      "cell_type": "markdown",
      "source": [
        "```python\n",
        "+62\n",
        "+1\n",
        "+44\n",
        "+81\n",
        "```"
      ],
      "metadata": {
        "id": "1zjq03CVtzWL"
      }
    },
    {
      "cell_type": "markdown",
      "source": [
        "**Code disini!**\n",
        "\n",
        "---"
      ],
      "metadata": {
        "id": "FHY_THL3HTlV"
      }
    },
    {
      "cell_type": "code",
      "source": [
        "# Tulis code Anda disini\n"
      ],
      "metadata": {
        "id": "Uhdh08JrHTlV",
        "colab": {
          "base_uri": "https://localhost:8080/"
        },
        "outputId": "b2b36a52-f089-4038-ce20-8b3c41f11a03"
      },
      "execution_count": null,
      "outputs": [
        {
          "output_type": "stream",
          "name": "stdout",
          "text": [
            "+62\n",
            "+1\n",
            "+44\n",
            "+81\n"
          ]
        }
      ]
    },
    {
      "cell_type": "markdown",
      "source": [
        "## Task 7\n",
        "\n",
        "---"
      ],
      "metadata": {
        "id": "U2I8BAxBt6h5"
      }
    },
    {
      "cell_type": "markdown",
      "source": [
        "**Soal**\n",
        "\n",
        "---"
      ],
      "metadata": {
        "id": "4rBw9yE7Ha1P"
      }
    },
    {
      "cell_type": "markdown",
      "source": [
        "- Buatlah sebuah variable `stock` dalam bentuk dictionary\n",
        "- `key` berisi gula, tepung, beras, dan sayur\n",
        "- `value` berisi id_001, id_002, id_003, dan id_004\n",
        "- Gunakan perulangan `for` untuk menampilkan `key` dan `value` tersebut!"
      ],
      "metadata": {
        "id": "dD9m0RGdt8J8"
      }
    },
    {
      "cell_type": "markdown",
      "source": [
        "**Contoh Input:**\n",
        "\n",
        "---"
      ],
      "metadata": {
        "id": "Dm-aCucQIb3_"
      }
    },
    {
      "cell_type": "markdown",
      "source": [
        "```python\n",
        "stock = {\n",
        "        \"gula\": \"id_001\",\n",
        "        \"tepung\": \"id_002\",\n",
        "        \"beras\": \"id_003\",\n",
        "        \"sayur\": \"id_004\"\n",
        "        }\n",
        "```"
      ],
      "metadata": {
        "id": "8FhNyhpgIeUu"
      }
    },
    {
      "cell_type": "markdown",
      "source": [
        "**Contoh Output:**\n",
        "\n",
        "---"
      ],
      "metadata": {
        "id": "QvsM0zseHqJE"
      }
    },
    {
      "cell_type": "markdown",
      "source": [
        "```python\n",
        "gula | id_001\n",
        "tepung | id_002\n",
        "beras | id_003\n",
        "sayur | id_004\n",
        "```"
      ],
      "metadata": {
        "id": "ajcuF1LpHsx7"
      }
    },
    {
      "cell_type": "markdown",
      "source": [
        "**Code disini!**\n",
        "\n",
        "---"
      ],
      "metadata": {
        "id": "lW16KyIrH1M1"
      }
    },
    {
      "cell_type": "code",
      "source": [
        "# Tulis code Anda disini\n"
      ],
      "metadata": {
        "id": "pam68WELH1M1",
        "colab": {
          "base_uri": "https://localhost:8080/"
        },
        "outputId": "6936ffb2-1d45-44b7-bebb-9e5d75d89219"
      },
      "execution_count": null,
      "outputs": [
        {
          "output_type": "stream",
          "name": "stdout",
          "text": [
            " gula | id_001 \n",
            " tepung | id_002 \n",
            " beras | id_003 \n",
            " sayur | id_004 \n"
          ]
        }
      ]
    },
    {
      "cell_type": "markdown",
      "source": [
        "## Task 8\n",
        "\n",
        "---"
      ],
      "metadata": {
        "id": "SZ0DKpUVwep7"
      }
    },
    {
      "cell_type": "markdown",
      "source": [
        "**Soal**\n",
        "\n",
        "---"
      ],
      "metadata": {
        "id": "HOVfJw6MH40N"
      }
    },
    {
      "cell_type": "markdown",
      "source": [
        "Di sebuah sekolah, guru sejarah sedang melakukan absensi kehadiran pada siswanya.\n",
        "- Buatlah sebuah variable `nama_siswa` yang berisi list Jono, Joni, Joko, dan Mulyono\n",
        "- Lakukan perulangan menggunakan sintaks `for` pada list tersebut\n",
        "- Urutkan list tersebut dimulai dari angka 1 menggunakan `enumerate`!"
      ],
      "metadata": {
        "id": "mH64JrQmwf1r"
      }
    },
    {
      "cell_type": "markdown",
      "source": [
        "**Contoh Input:**\n",
        "\n",
        "---"
      ],
      "metadata": {
        "id": "Om-0k2wMxxyk"
      }
    },
    {
      "cell_type": "markdown",
      "source": [
        "```python\n",
        "nama_siswa = [\"Jono\", \"Joni\", \"Joko\", \"Mulyono\"]\n",
        "```"
      ],
      "metadata": {
        "id": "08hw-1eaxzOe"
      }
    },
    {
      "cell_type": "markdown",
      "source": [
        "**Contoh Output:**\n",
        "\n",
        "---"
      ],
      "metadata": {
        "id": "5cROdCpnx5up"
      }
    },
    {
      "cell_type": "markdown",
      "source": [
        "```python\n",
        "1 Jono\n",
        "2 Joni\n",
        "3 Joko\n",
        "4 Mulyono\n",
        "```"
      ],
      "metadata": {
        "id": "AhCvrILnx7P6"
      }
    },
    {
      "cell_type": "markdown",
      "source": [
        "**Code disini!**\n",
        "\n",
        "---"
      ],
      "metadata": {
        "id": "rLu32zTJIoQj"
      }
    },
    {
      "cell_type": "code",
      "source": [
        "# Tulis code Anda disini\n"
      ],
      "metadata": {
        "id": "QBXiQUddIoQq",
        "colab": {
          "base_uri": "https://localhost:8080/"
        },
        "outputId": "996dc2c4-0282-4f21-e09a-334043553370"
      },
      "execution_count": null,
      "outputs": [
        {
          "output_type": "stream",
          "name": "stdout",
          "text": [
            "1 Jono\n",
            "2 Joni\n",
            "3 Joko\n",
            "4 Mulyono\n"
          ]
        }
      ]
    },
    {
      "cell_type": "markdown",
      "source": [
        "## Task 9\n",
        "\n",
        "---"
      ],
      "metadata": {
        "id": "gH5kyAafzFxj"
      }
    },
    {
      "cell_type": "markdown",
      "source": [
        "**Soal 9**\n",
        "\n",
        "---"
      ],
      "metadata": {
        "id": "ZuljFf0SIw3M"
      }
    },
    {
      "cell_type": "markdown",
      "source": [
        "- Simpan dictionary ke dalam sebuah variable `dict_class`\n",
        "- `key` berisi `I, II, III, IV, dan V` dengan `value`\n",
        "    - `key` `I` berisi list `[10, 12]`\n",
        "    - `key` `II` berisi list `[10]`\n",
        "    - `key` `III` berisi list `[10, 20, 30, 40]`\n",
        "    - `key` `IV` berisi list `[20]`\n",
        "    - `key` `V` `[80]`\n",
        "\n",
        "- Lakukan perulangan menggunakan sintaks `for` untuk menemukan `key` yang memiliki jumlah element terpendek!"
      ],
      "metadata": {
        "id": "zYL3IZL0zGzL"
      }
    },
    {
      "cell_type": "markdown",
      "source": [
        "**Contoh Input:**\n",
        "\n",
        "---"
      ],
      "metadata": {
        "id": "UENWNpmr0DSh"
      }
    },
    {
      "cell_type": "markdown",
      "source": [
        "```python\n",
        "dict_class = {\n",
        "              'I': [10, 12],\n",
        "              'II': [10],\n",
        "              'III': [10, 20, 30, 40],\n",
        "              'IV': [20],\n",
        "              'V': [10, 30, 50, 70],\n",
        "              'VI': [80]\n",
        "            }\n",
        "```"
      ],
      "metadata": {
        "id": "7yAiUwDx0E3i"
      }
    },
    {
      "cell_type": "markdown",
      "source": [
        "**Contoh Output:**\n",
        "\n",
        "---"
      ],
      "metadata": {
        "id": "HWUrHx_U0Oeo"
      }
    },
    {
      "cell_type": "markdown",
      "source": [
        "```python\n",
        "['II', 'IV', 'VI']\n",
        "```"
      ],
      "metadata": {
        "id": "8I-Srby90en_"
      }
    },
    {
      "cell_type": "markdown",
      "source": [
        "**Code disini!**\n",
        "\n",
        "---"
      ],
      "metadata": {
        "id": "PthPrUvqKBd0"
      }
    },
    {
      "cell_type": "code",
      "source": [
        "# Tulis code Anda disini\n"
      ],
      "metadata": {
        "id": "KOOlP4QAKBd1",
        "colab": {
          "base_uri": "https://localhost:8080/"
        },
        "outputId": "f3db5760-ba4b-4d40-bf98-b38971225f81"
      },
      "execution_count": null,
      "outputs": [
        {
          "output_type": "stream",
          "name": "stdout",
          "text": [
            "II\n"
          ]
        }
      ]
    },
    {
      "cell_type": "code",
      "source": [
        "\n"
      ],
      "metadata": {
        "colab": {
          "base_uri": "https://localhost:8080/"
        },
        "id": "ah4x_1vHyVB9",
        "outputId": "9c76c56f-b37e-44da-e7a7-a9f9faa6d09d"
      },
      "execution_count": null,
      "outputs": [
        {
          "output_type": "stream",
          "name": "stdout",
          "text": [
            "['II', 'IV', 'VI']\n"
          ]
        }
      ]
    },
    {
      "cell_type": "markdown",
      "source": [
        "## Task 10\n",
        "\n",
        "---"
      ],
      "metadata": {
        "id": "2fFrb2raD-Zy"
      }
    },
    {
      "cell_type": "markdown",
      "source": [
        "**Soal**\n",
        "\n",
        "---"
      ],
      "metadata": {
        "id": "e4Q_Az5VKEm4"
      }
    },
    {
      "cell_type": "markdown",
      "source": [
        "- Simpan angka 10 ke dalam variable `angka`\n",
        "- Lakukan perulangan menggunakan sintaks `while` untuk menghitung mundur 10 sampai 1"
      ],
      "metadata": {
        "id": "I0YBKBiZD_dW"
      }
    },
    {
      "cell_type": "markdown",
      "source": [
        "**Contoh Input:**\n",
        "\n",
        "---"
      ],
      "metadata": {
        "id": "c-aI27vwGV_X"
      }
    },
    {
      "cell_type": "markdown",
      "source": [
        "```python\n",
        "angka = 10\n",
        "```"
      ],
      "metadata": {
        "id": "AY6w8cc1GXxs"
      }
    },
    {
      "cell_type": "markdown",
      "source": [
        "**Contoh Output:**\n",
        "\n",
        "---"
      ],
      "metadata": {
        "id": "8xYNfKruGgbS"
      }
    },
    {
      "cell_type": "markdown",
      "source": [
        "```python\n",
        "10\n",
        "9\n",
        "8\n",
        "7\n",
        "6\n",
        "5\n",
        "4\n",
        "3\n",
        "2\n",
        "1\n",
        "```"
      ],
      "metadata": {
        "id": "SAL6p3uWGiDh"
      }
    },
    {
      "cell_type": "markdown",
      "source": [
        "**Code disini!**\n",
        "\n",
        "---"
      ],
      "metadata": {
        "id": "sdSyiaywKde3"
      }
    },
    {
      "cell_type": "code",
      "source": [
        "# Tulis code Anda disini\n",
        "\n"
      ],
      "metadata": {
        "id": "Eb_oPScaKde4",
        "colab": {
          "base_uri": "https://localhost:8080/"
        },
        "outputId": "e775788f-de67-468c-bdfc-f6f0dc23b91a"
      },
      "execution_count": null,
      "outputs": [
        {
          "output_type": "stream",
          "name": "stdout",
          "text": [
            "10\n",
            "9\n",
            "8\n",
            "7\n",
            "6\n",
            "5\n",
            "4\n",
            "3\n",
            "2\n",
            "1\n"
          ]
        }
      ]
    },
    {
      "cell_type": "markdown",
      "source": [
        "## Task 11\n",
        "\n",
        "---"
      ],
      "metadata": {
        "id": "TtuVzWTvHSyN"
      }
    },
    {
      "cell_type": "markdown",
      "source": [
        "**Soal**\n",
        "\n",
        "---"
      ],
      "metadata": {
        "id": "xPhMpflqKqXE"
      }
    },
    {
      "cell_type": "markdown",
      "source": [
        "- Buatlah beberapa variable :\n",
        "    - Misal :\n",
        "        - `length` berisi angka 5\n",
        "    - variable `count` berisi angka 0 untuk counter setiap angka\n",
        "    - `a, b` berisi angka 0, 1 untuk elemen deret pertama\n",
        "- Gunakan perulangan sintaks `while` untuk menghasilkan deret Fibonacci dengan panjang tertentu.\n",
        "- Deret Fibonacci dimulai dari 0, 1, 1, 2, 3, 5, 8, ... di mana setiap elemen adalah penjumlahan dua elemen sebelumnya."
      ],
      "metadata": {
        "id": "Q5xzyi_UHqhJ"
      }
    },
    {
      "cell_type": "markdown",
      "source": [
        "**Perhitungan manual fibonacci!**\n",
        "\n",
        "- a = 0, b = 1, cetak 0, (a, b) = (1, 1)\n",
        "- a = 1, b = 1, cetak 1, (a, b) = (1, 2)\n",
        "- a = 1, b = 2, cetak 1, (a, b) = (2, 3)\n",
        "- a = 2, b = 3, cetak 2, (a, b) = (3, 5)\n",
        "- a = 3, b = 5, cetak 3, (a, b) = (5, 8)"
      ],
      "metadata": {
        "id": "LOZ7A9uRIXRU"
      }
    },
    {
      "cell_type": "markdown",
      "source": [
        "**Contoh Input:**\n",
        "\n",
        "---"
      ],
      "metadata": {
        "id": "862RnGrkJSzL"
      }
    },
    {
      "cell_type": "markdown",
      "source": [
        "```python\n",
        "length = 5\n",
        "a, b = 0, 1\n",
        "```"
      ],
      "metadata": {
        "id": "Lt6SXvxnJUIj"
      }
    },
    {
      "cell_type": "markdown",
      "source": [
        "**Contoh Output:**\n",
        "\n",
        "---"
      ],
      "metadata": {
        "id": "jVbuiJ2UJcEd"
      }
    },
    {
      "cell_type": "markdown",
      "source": [
        "```python\n",
        "0\n",
        "1\n",
        "1\n",
        "2\n",
        "3\n",
        "```"
      ],
      "metadata": {
        "id": "FXV2wOCLJdzL"
      }
    },
    {
      "cell_type": "markdown",
      "source": [
        "**Code disini!**\n",
        "\n",
        "---"
      ],
      "metadata": {
        "id": "JPv0XeJ9LOLW"
      }
    },
    {
      "cell_type": "code",
      "source": [
        "# Tulis code Anda disini\n",
        "\n"
      ],
      "metadata": {
        "id": "j0h9yLJ0LOLX",
        "colab": {
          "base_uri": "https://localhost:8080/"
        },
        "outputId": "737021ea-6d2f-4137-c426-ac8dd06cb220"
      },
      "execution_count": null,
      "outputs": [
        {
          "output_type": "stream",
          "name": "stdout",
          "text": [
            "0\n",
            "1\n",
            "1\n",
            "2\n",
            "3\n"
          ]
        }
      ]
    },
    {
      "cell_type": "markdown",
      "source": [
        "## Task 12\n",
        "\n",
        "---"
      ],
      "metadata": {
        "id": "vYx0-k9FJy9-"
      }
    },
    {
      "cell_type": "markdown",
      "source": [
        "**Soal**\n",
        "\n",
        "---"
      ],
      "metadata": {
        "id": "XegtMZjdLU1s"
      }
    },
    {
      "cell_type": "markdown",
      "source": [
        "- Diberikan daftar beberapa tahun dalam variabel `tahun`\n",
        "    - `[2024, 2025, 2026, 2027, 2028, 2029, 2030, 2031, 2032]`\n",
        "- Cari tahun kabisat dari daftar tadi dan simpan dalam list `tahun_kabisat`\n",
        "- Gunakan sintaks `for` untuk menemukan apakah tahun tersebut adalah tahun kabisat!"
      ],
      "metadata": {
        "id": "YYAFvFIxN-4J"
      }
    },
    {
      "cell_type": "markdown",
      "source": [
        "Ketentuan tahun kabisat :\n",
        "\n",
        "- Angka tahun habis dibagi 400\n",
        "- Angka tahun habis dibagi 100 bukan merupakan tahun kabisat\n",
        "- Angka tahun habis di bagi 4"
      ],
      "metadata": {
        "id": "cSeZvxaULkjc"
      }
    },
    {
      "cell_type": "markdown",
      "source": [
        "**Contoh Input:**\n",
        "\n",
        "---"
      ],
      "metadata": {
        "id": "3B7-lx8-QSxw"
      }
    },
    {
      "cell_type": "markdown",
      "source": [
        "```python\n",
        "tahun = [2024, 2025, 2026, 2027, 2028, 2029, 2030, 2031, 2032]\n",
        "tahun_kabisat = []\n",
        "```"
      ],
      "metadata": {
        "id": "yFNe71GZQUbY"
      }
    },
    {
      "cell_type": "markdown",
      "source": [
        "**Contoh Output:**\n",
        "\n",
        "---"
      ],
      "metadata": {
        "id": "AtQ1YVkZQd9W"
      }
    },
    {
      "cell_type": "markdown",
      "source": [
        "```python\n",
        "[2024, 2028, 2032]\n",
        "```"
      ],
      "metadata": {
        "id": "uPwoSFEZQfjm"
      }
    },
    {
      "cell_type": "markdown",
      "source": [
        "**Code disini!**\n",
        "\n",
        "---"
      ],
      "metadata": {
        "id": "jqM66Lr8Lv-t"
      }
    },
    {
      "cell_type": "code",
      "source": [
        "# Input\n"
      ],
      "metadata": {
        "colab": {
          "base_uri": "https://localhost:8080/"
        },
        "id": "Gx6M9gpjB7nf",
        "outputId": "08a17470-a4c3-4ce0-9656-2c00988eeb17"
      },
      "execution_count": null,
      "outputs": [
        {
          "output_type": "stream",
          "name": "stdout",
          "text": [
            "[2024, 2028, 2032]\n"
          ]
        }
      ]
    },
    {
      "cell_type": "markdown",
      "source": [
        "## Task 13\n",
        "\n",
        "---"
      ],
      "metadata": {
        "id": "fHjuhZz5RGhI"
      }
    },
    {
      "cell_type": "markdown",
      "source": [
        "**Soal**\n",
        "\n",
        "---"
      ],
      "metadata": {
        "id": "KXaTwMXHMLAI"
      }
    },
    {
      "cell_type": "markdown",
      "source": [
        "- Buatlah sebuah variable `kalimat` yang berisi saya adalah orang yang rajin\n",
        "- Buatlah sebuah variable `vokal` untuk penyimpanan.\n",
        "- Lakukan perulangan menggunakan sintaks `for` untuk menghitung jumlah huruf vokal di dalamnya\n",
        "- Simpan temuan ke dalam variable `vokal`!"
      ],
      "metadata": {
        "id": "Rncy6gpzRHhQ"
      }
    },
    {
      "cell_type": "markdown",
      "source": [
        "**Hint**\n",
        "- Huruf vokal terdiri dari `a, i, u, e, o`"
      ],
      "metadata": {
        "id": "Uc6-6YEiMKNi"
      }
    },
    {
      "cell_type": "markdown",
      "source": [
        "**Contoh Input:**\n",
        "\n",
        "---"
      ],
      "metadata": {
        "id": "2sQ9vg51S2uy"
      }
    },
    {
      "cell_type": "markdown",
      "source": [
        "```python\n",
        "kalimat = \"sayA adalah orAng yang rajIn\"\n",
        "vokal = 0\n",
        "```"
      ],
      "metadata": {
        "id": "UhpSbbKNS4S7"
      }
    },
    {
      "cell_type": "markdown",
      "source": [
        "**Contoh Output:**\n",
        "\n",
        "---"
      ],
      "metadata": {
        "id": "-IMIw1czS9V1"
      }
    },
    {
      "cell_type": "markdown",
      "source": [
        "```python\n",
        "Jumlah huruf vokal pada kalimat tersebut adalah : 10\n",
        "```"
      ],
      "metadata": {
        "id": "vVbXxFJ3S-mg"
      }
    },
    {
      "cell_type": "markdown",
      "source": [
        "**Code disini!**\n",
        "\n",
        "---"
      ],
      "metadata": {
        "id": "yteW5XpOMaND"
      }
    },
    {
      "cell_type": "code",
      "source": [
        "# Tulis code Anda disini\n"
      ],
      "metadata": {
        "id": "qkjWNbSeMaNK",
        "colab": {
          "base_uri": "https://localhost:8080/"
        },
        "outputId": "b95a1720-3c37-4f3b-c11c-020021fe1990"
      },
      "execution_count": null,
      "outputs": [
        {
          "output_type": "stream",
          "name": "stdout",
          "text": [
            "Jumlah huruf vokal pada kalimat tersebut adalah : 10\n"
          ]
        }
      ]
    },
    {
      "cell_type": "markdown",
      "source": [
        "## Task 14\n",
        "\n",
        "---"
      ],
      "metadata": {
        "id": "ZYJVko_FTH-C"
      }
    },
    {
      "cell_type": "markdown",
      "source": [
        "**Soal**\n",
        "\n",
        "---"
      ],
      "metadata": {
        "id": "KvC99xuqMdi5"
      }
    },
    {
      "cell_type": "markdown",
      "source": [
        "- Buatlah sebuah variable `customer` yang berisi :\n",
        "\n",
        "    - `{\"cust1\":2_000_000, \"cust2\":3_500_000, \"cust3\":1_250_000, \"cust4\":400_000, \"cust5\":90_000} `\n",
        "\n",
        "- Kemudian buatlah perulangan dengan sintaks `for` untuk mengitung diskon yang didapatkan oleh masing-masing customer tersebut."
      ],
      "metadata": {
        "id": "pVwYfQ7TTJSn"
      }
    },
    {
      "cell_type": "markdown",
      "source": [
        "Ketentuannya :\n",
        "\n",
        "- Jika total belanja kurang dari Rp. 100.000, maka tampilkan pesan **Total belajaan cust adalah 123**\n",
        "- Jika total belanja antara Rp. 100.000 – Rp. 500.000, maka tampilkan pesan **'Selamat, cust mendapat diskon 10% dengan total belanjaan 123**\n",
        "- Jika total belanja antara Rp. 500.000 – Rp. 1.000.000, maka tampilkan pesan **'Selamat, cust mendapat diskon 20% dengan total belanjaan 123**\n",
        "- Jika total belanja diatas Rp.1.000.000, maka tampilkan pesan **'Selamat, cust mendapat diskon 30% dengan total belanjaan 123**"
      ],
      "metadata": {
        "id": "S9SNB5qxMsFL"
      }
    },
    {
      "cell_type": "markdown",
      "source": [
        "**Contoh Input:**\n",
        "\n",
        "---"
      ],
      "metadata": {
        "id": "MEAJw5sHVbw8"
      }
    },
    {
      "cell_type": "markdown",
      "source": [
        "```python\n",
        "customer = {\"cust1\":2_000_000, \"cust2\":3_500_000, \"cust3\":1_250_000, \"cust4\":400_000, \"cust5\":90_000}\n",
        "```"
      ],
      "metadata": {
        "id": "hZ0DdfGzVc2O"
      }
    },
    {
      "cell_type": "markdown",
      "source": [
        "**Contoh Output:**\n",
        "\n",
        "---"
      ],
      "metadata": {
        "id": "QwXXP6jaVlCe"
      }
    },
    {
      "cell_type": "markdown",
      "source": [
        "```python\n",
        "Selamat, cust1 mendapat diskon 30% dengan total belanjaan 1400000.0\n",
        "Selamat, cust2 mendapat diskon 30% dengan total belanjaan 2450000.0\n",
        "Selamat, cust3 mendapat diskon 30% dengan total belanjaan 875000.0\n",
        "Selamat, cust4 mendapat diskon 10% dengan total belanjaan 360000.0\n",
        "Total belajaan cust5 adalah 90000\n",
        "```"
      ],
      "metadata": {
        "id": "fevLrAwfVnD-"
      }
    },
    {
      "cell_type": "markdown",
      "source": [
        "**Code disini!**\n",
        "\n",
        "---"
      ],
      "metadata": {
        "id": "BWCFk17_M5Cr"
      }
    },
    {
      "cell_type": "code",
      "source": [
        "# Tulis code Anda disini\n"
      ],
      "metadata": {
        "id": "Pc6K-Ux_M5Cr",
        "colab": {
          "base_uri": "https://localhost:8080/"
        },
        "outputId": "3ffadfd4-ea1d-45ab-ba56-c212bfffb009"
      },
      "execution_count": null,
      "outputs": [
        {
          "output_type": "stream",
          "name": "stdout",
          "text": [
            "Selamat, cust1 mendapat diskon 30% dengan total belanjaan 1400000.0\n",
            "Selamat, cust2 mendapat diskon 30% dengan total belanjaan 2450000.0\n",
            "Selamat, cust3 mendapat diskon 30% dengan total belanjaan 875000.0\n",
            "Selamat, cust4 mendapat diskon 10% dengan total belanjaan 360000.0\n",
            "Total belajaan cust5 adalah 90000\n"
          ]
        }
      ]
    },
    {
      "cell_type": "markdown",
      "source": [
        "## Task 15\n",
        "\n",
        "---"
      ],
      "metadata": {
        "id": "xsLt35dmZ7_l"
      }
    },
    {
      "cell_type": "markdown",
      "source": [
        "**Soal**\n",
        "\n",
        "---"
      ],
      "metadata": {
        "id": "cRa0Mzi0M8gr"
      }
    },
    {
      "cell_type": "markdown",
      "source": [
        "- Buatlah sebuah list yang berisi :\n",
        "    - Misal :\n",
        "        - angka 1 sampai 10\n",
        "- Carilah angka ganjil di dalam list tersebut\n",
        "- Kuadratkan yang merupakan angka gajil pada list\n",
        "- Gunakan perulangan sintaks `for` comprehension untuk melakukan perhitungan tersebut!"
      ],
      "metadata": {
        "id": "slwup9qqZ9du"
      }
    },
    {
      "cell_type": "markdown",
      "source": [
        "**Hint**\n",
        "- Bilangan gajil adalah hasil sisa bagi sama dengan 1"
      ],
      "metadata": {
        "id": "XNtX0iGQa4kQ"
      }
    },
    {
      "cell_type": "markdown",
      "source": [
        "**Contoh Input:**\n",
        "\n",
        "---"
      ],
      "metadata": {
        "id": "fw1hnf8QasFY"
      }
    },
    {
      "cell_type": "markdown",
      "source": [
        "```python\n",
        "n1 = 1\n",
        "n2 = 11\n",
        "```"
      ],
      "metadata": {
        "id": "qBlUfUW-aceq"
      }
    },
    {
      "cell_type": "markdown",
      "source": [
        "**Contoh Output:**\n",
        "\n",
        "---"
      ],
      "metadata": {
        "id": "XnEUQaumaprK"
      }
    },
    {
      "cell_type": "markdown",
      "source": [
        "```python\n",
        "[1, 9, 25, 49, 81]\n",
        "```"
      ],
      "metadata": {
        "id": "EcAA3i2Katvf"
      }
    },
    {
      "cell_type": "markdown",
      "source": [
        "**Code disini!**\n",
        "\n",
        "---"
      ],
      "metadata": {
        "id": "rZuRB8vIN_Tz"
      }
    },
    {
      "cell_type": "code",
      "source": [
        "# Tulis code Anda disini\n"
      ],
      "metadata": {
        "id": "EQC7y2-5N_T6",
        "colab": {
          "base_uri": "https://localhost:8080/"
        },
        "outputId": "3f2209f2-52b4-484a-8001-30f6dc1418f3"
      },
      "execution_count": null,
      "outputs": [
        {
          "output_type": "stream",
          "name": "stdout",
          "text": [
            "[1, 9, 25, 49, 81]\n"
          ]
        }
      ]
    },
    {
      "cell_type": "markdown",
      "source": [
        "## Task 16\n",
        "\n",
        "---"
      ],
      "metadata": {
        "id": "JUiQw751XCL6"
      }
    },
    {
      "cell_type": "markdown",
      "source": [
        "**Soal**\n",
        "\n",
        "---"
      ],
      "metadata": {
        "id": "SlVSMHqeOHzz"
      }
    },
    {
      "cell_type": "markdown",
      "source": [
        "- Buatlah sebuah variable `list_asal` yang berisi list `1, -2, 3,-4, 5, dan -6`\n",
        "- Lakukan perulangan sintaks `for` comprehension untuk pengecekan pada angka tersebut."
      ],
      "metadata": {
        "id": "vlM8dCfNXz4x"
      }
    },
    {
      "cell_type": "markdown",
      "source": [
        "Ketentuan :\n",
        "- Jika angka positive maka tampilkan **Positive**\n",
        "- Jika angka negative maka tampilkan **Negative**"
      ],
      "metadata": {
        "id": "iM1CIOVTOVLa"
      }
    },
    {
      "cell_type": "markdown",
      "source": [
        "**Contoh Input:**\n",
        "\n",
        "---"
      ],
      "metadata": {
        "id": "Sy6BX3q0YUed"
      }
    },
    {
      "cell_type": "markdown",
      "source": [
        "```python\n",
        "list_asal =  [1, -2, 3,-4, 5, -6]\n",
        "```"
      ],
      "metadata": {
        "id": "WOgkgAvtYVws"
      }
    },
    {
      "cell_type": "markdown",
      "source": [
        "**Contoh Output:**\n",
        "\n",
        "---"
      ],
      "metadata": {
        "id": "hDehiA0pYhQk"
      }
    },
    {
      "cell_type": "markdown",
      "source": [
        "```python\n",
        "['Positif', 'Negatif', 'Positif', 'Negatif', 'Positif', 'Negatif']\n",
        "```"
      ],
      "metadata": {
        "id": "8T8KEWAaYijl"
      }
    },
    {
      "cell_type": "markdown",
      "source": [
        "**Code disini!**\n",
        "\n",
        "---"
      ],
      "metadata": {
        "id": "6oSAZ4EROkwJ"
      }
    },
    {
      "cell_type": "code",
      "source": [
        "# Tulis code Anda disini\n",
        "\n"
      ],
      "metadata": {
        "id": "5E_iEBODOkwJ",
        "colab": {
          "base_uri": "https://localhost:8080/"
        },
        "outputId": "b00f3946-9911-4218-d459-62c1169d1b75"
      },
      "execution_count": null,
      "outputs": [
        {
          "output_type": "stream",
          "name": "stdout",
          "text": [
            "['Positif', 'Negatif', 'Positif', 'Negatif', 'Positif', 'Negatif']\n"
          ]
        }
      ]
    },
    {
      "cell_type": "markdown",
      "source": [
        "## Task 17\n",
        "\n",
        "---"
      ],
      "metadata": {
        "id": "OHDCGhUKcZDz"
      }
    },
    {
      "cell_type": "markdown",
      "source": [
        "**Soal**\n",
        "\n",
        "---"
      ],
      "metadata": {
        "id": "M1QCQanwOnu0"
      }
    },
    {
      "cell_type": "markdown",
      "source": [
        "- Buatlah sebuah variable `list_a` dan `list_b`\n",
        "    - `list_a` berisi 1, 2, dan 3\n",
        "    - `list_b` berisi 4, 5, dan 6\n",
        "- Gabungkan dan tambahkan kedua variable tersebut menggunakan perulangan sintaks `for` comprehension!"
      ],
      "metadata": {
        "id": "uPr4Rm-CcaId"
      }
    },
    {
      "cell_type": "markdown",
      "source": [
        "**Contoh Input:**\n",
        "\n",
        "---"
      ],
      "metadata": {
        "id": "1KS60yKGcuSw"
      }
    },
    {
      "cell_type": "markdown",
      "source": [
        "```python\n",
        "list_a = [1, 2, 3]\n",
        "list_b = [4, 5, 6]\n",
        "```"
      ],
      "metadata": {
        "id": "QDyA3RuFcwK0"
      }
    },
    {
      "cell_type": "markdown",
      "source": [
        "**Contoh Output:**\n",
        "\n",
        "---"
      ],
      "metadata": {
        "id": "i8H1w1IDdim1"
      }
    },
    {
      "cell_type": "markdown",
      "source": [
        "```python\n",
        "[5, 6, 7, 6, 7, 8, 7, 8, 9]\n",
        "```"
      ],
      "metadata": {
        "id": "_EX_oZEHdkFB"
      }
    },
    {
      "cell_type": "markdown",
      "source": [
        "**Code disini!**\n",
        "\n",
        "---"
      ],
      "metadata": {
        "id": "0PfMC07oPEz1"
      }
    },
    {
      "cell_type": "code",
      "source": [
        "# Tulis code Anda disini\n",
        "\n"
      ],
      "metadata": {
        "id": "t_2N4iUEPEz2",
        "colab": {
          "base_uri": "https://localhost:8080/"
        },
        "outputId": "305cc5f6-f99e-4daf-e74b-4b12d77c5a83"
      },
      "execution_count": null,
      "outputs": [
        {
          "output_type": "stream",
          "name": "stdout",
          "text": [
            "[5, 6, 7, 6, 7, 8, 7, 8, 9]\n"
          ]
        }
      ]
    }
  ]
}