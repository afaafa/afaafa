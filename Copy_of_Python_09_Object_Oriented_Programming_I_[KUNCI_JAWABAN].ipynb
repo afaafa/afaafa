{
  "nbformat": 4,
  "nbformat_minor": 0,
  "metadata": {
    "colab": {
      "provenance": [],
      "toc_visible": true,
      "include_colab_link": true
    },
    "kernelspec": {
      "name": "python3",
      "display_name": "Python 3"
    },
    "language_info": {
      "name": "python"
    }
  },
  "cells": [
    {
      "cell_type": "markdown",
      "metadata": {
        "id": "view-in-github",
        "colab_type": "text"
      },
      "source": [
        "<a href=\"https://colab.research.google.com/github/afaafa/afaafa/blob/main/Copy_of_Python_09_Object_Oriented_Programming_I_%5BKUNCI_JAWABAN%5D.ipynb\" target=\"_parent\"><img src=\"https://colab.research.google.com/assets/colab-badge.svg\" alt=\"Open In Colab\"/></a>"
      ]
    },
    {
      "cell_type": "markdown",
      "source": [
        "# Day 9 - Object Oriented Programming I\n",
        "---\n",
        "\n",
        "Python Programming - Sekolah Data - Pacmann AI"
      ],
      "metadata": {
        "id": "0SwJgSPcDD6m"
      }
    },
    {
      "cell_type": "markdown",
      "source": [
        "## Task 1\n",
        "\n",
        "---"
      ],
      "metadata": {
        "id": "R0yvMIjQM27S"
      }
    },
    {
      "cell_type": "markdown",
      "source": [
        "**Soal**\n",
        "\n",
        "---"
      ],
      "metadata": {
        "id": "xfL4ETPdM4Ui"
      }
    },
    {
      "cell_type": "markdown",
      "source": [
        "Buatlah sebuah class `Tiket` yang tidak menjalankan apapun menggunakan Python!"
      ],
      "metadata": {
        "id": "t2ehIMEJM6LZ"
      }
    },
    {
      "cell_type": "markdown",
      "source": [
        "**Code disini!**\n",
        "\n",
        "---"
      ],
      "metadata": {
        "id": "PRgHkFysOL94"
      }
    },
    {
      "cell_type": "code",
      "source": [
        "# Tulis code Anda disini"
      ],
      "metadata": {
        "id": "7fGKjZEHOL95"
      },
      "execution_count": null,
      "outputs": []
    },
    {
      "cell_type": "markdown",
      "source": [
        "**Kunci jawaban**\n",
        "\n",
        "---"
      ],
      "metadata": {
        "id": "Xb1-BMfaOL96"
      }
    },
    {
      "cell_type": "code",
      "source": [
        "class Tiket:\n",
        "    pass"
      ],
      "metadata": {
        "id": "4g8qq5gtNc7K"
      },
      "execution_count": null,
      "outputs": []
    },
    {
      "cell_type": "markdown",
      "source": [
        "## Task 2\n",
        "\n",
        "---"
      ],
      "metadata": {
        "id": "FRDDMn07DK-Y"
      }
    },
    {
      "cell_type": "markdown",
      "source": [
        "**Soal**\n",
        "\n",
        "---"
      ],
      "metadata": {
        "id": "QxeYdlwdDM0S"
      }
    },
    {
      "cell_type": "markdown",
      "source": [
        "Buatlah sebuah class untuk menampilkan setiap attributnya menggunakan Python!"
      ],
      "metadata": {
        "id": "_Xl57jDPD1_J"
      }
    },
    {
      "cell_type": "markdown",
      "source": [
        "**Intruksi :**\n",
        "\n",
        "- Buatlah sebuah class `Karyawan`\n",
        "    - Tambahkan initial `__init__` pada class\n",
        "        - Tambahkan parameter `nama` dan `usia`\n",
        "        - Misal :\n",
        "            - `nama` adalah Joko, bertipe `str`\n",
        "            - `usia` adalah 22, bertipe `int`\n",
        "- Buatlah instance `karyawan_`\n",
        "    - Instance berisi class `Karyawan` dan attributenya\n",
        "- Tampilkan setiap attribute menggunakan instance"
      ],
      "metadata": {
        "id": "nv_tNI-fEVW6"
      }
    },
    {
      "cell_type": "markdown",
      "source": [
        "**Contoh Input:**\n",
        "\n",
        "---"
      ],
      "metadata": {
        "id": "4oGjsexjFp-3"
      }
    },
    {
      "cell_type": "markdown",
      "source": [
        "```python\n",
        "nama = \"Joko\"\n",
        "usia = 22\n",
        "```"
      ],
      "metadata": {
        "id": "hn5w7xcqFtN1"
      }
    },
    {
      "cell_type": "markdown",
      "source": [
        "**Contoh Output:**\n",
        "\n",
        "---"
      ],
      "metadata": {
        "id": "m7obSEDfFi2-"
      }
    },
    {
      "cell_type": "markdown",
      "source": [
        "```python\n",
        "Joko\n",
        "22\n",
        "```"
      ],
      "metadata": {
        "id": "exic90DBFlsg"
      }
    },
    {
      "cell_type": "markdown",
      "source": [
        "**Code disini!**\n",
        "\n",
        "---"
      ],
      "metadata": {
        "id": "LqCKjjptIGts"
      }
    },
    {
      "cell_type": "code",
      "source": [
        "# Tulis code Anda disini"
      ],
      "metadata": {
        "id": "c3NNFRTnIIsy"
      },
      "execution_count": null,
      "outputs": []
    },
    {
      "cell_type": "markdown",
      "source": [
        "**Kunci jawaban**\n",
        "\n",
        "---"
      ],
      "metadata": {
        "id": "7VkuOW-NIUPV"
      }
    },
    {
      "cell_type": "code",
      "execution_count": null,
      "metadata": {
        "colab": {
          "base_uri": "https://localhost:8080/"
        },
        "id": "5AWbvW6R7e9z",
        "outputId": "f6404600-568c-43df-9b9a-3ec2e7e2a3f5"
      },
      "outputs": [
        {
          "output_type": "stream",
          "name": "stdout",
          "text": [
            "Joko\n",
            "22\n"
          ]
        }
      ],
      "source": [
        "# Tulis code Anda disini\n",
        "\n",
        "# Buat class Karyawan\n",
        "class Karyawan:\n",
        "\n",
        "    # Buat initial class\n",
        "    def __init__(self, nama, usia):\n",
        "        self.nama = nama\n",
        "        self.usia = usia\n",
        "\n",
        "# Buat instance\n",
        "karyawan_ = Karyawan(nama = \"Joko\", usia = 22)\n",
        "\n",
        "# Tampilkan attribute\n",
        "print(karyawan_.nama)\n",
        "print(karyawan_.usia)"
      ]
    },
    {
      "cell_type": "markdown",
      "source": [
        "## Task 3\n",
        "\n",
        "---"
      ],
      "metadata": {
        "id": "5BSKvXonGJwR"
      }
    },
    {
      "cell_type": "markdown",
      "source": [
        "**Soal**\n",
        "\n",
        "---"
      ],
      "metadata": {
        "id": "EmI5ZUFBGL3A"
      }
    },
    {
      "cell_type": "markdown",
      "source": [
        "Buatlah sebuah class untuk menampilkan setiap attributnya menggunakan Python!"
      ],
      "metadata": {
        "id": "Xcqw5diWGP2W"
      }
    },
    {
      "cell_type": "markdown",
      "source": [
        "**Intruksi:**\n",
        "\n",
        "- Buatlah sebuah class `Pegawai`\n",
        "    - Tambahkan initial `__init__` pada class\n",
        "        - Tambahkan attribute `nama`, `jabatan`, dan `usia`\n",
        "        - Misal :\n",
        "            - `nama` adalah Andri, bertipe `str`\n",
        "            - `jabatan` adalah direktur, bertipe `str`\n",
        "            - `gaji` adalah Rp. 100.000.000, bertipe `int`\n",
        "- Buatlah instance `pegawai_`\n",
        "    - instance berisi class `Pegawai` dan attributenya\n",
        "- Tampilkan setiap attribute menggunakan instance"
      ],
      "metadata": {
        "id": "2yQ_pIqIEXsf"
      }
    },
    {
      "cell_type": "markdown",
      "source": [
        "**Contoh Input:**\n",
        "\n",
        "---"
      ],
      "metadata": {
        "id": "_OUn9OU3GyRT"
      }
    },
    {
      "cell_type": "markdown",
      "source": [
        "```python\n",
        "nama = \"Andri\"\n",
        "jabatan = \"direktur\"\n",
        "gaji = 100000000\n",
        "```"
      ],
      "metadata": {
        "id": "rVCNFQ9-GzUR"
      }
    },
    {
      "cell_type": "markdown",
      "source": [
        "**Contoh Output:**\n",
        "\n",
        "---"
      ],
      "metadata": {
        "id": "s129xtt4HKAD"
      }
    },
    {
      "cell_type": "markdown",
      "source": [
        "```python\n",
        "Andri\n",
        "direktur\n",
        "100000000\n",
        "```"
      ],
      "metadata": {
        "id": "OeGaUrmTHKkn"
      }
    },
    {
      "cell_type": "markdown",
      "source": [
        "**Code disini!**\n",
        "\n",
        "---"
      ],
      "metadata": {
        "id": "fKwMc8x4HbG9"
      }
    },
    {
      "cell_type": "code",
      "source": [
        "# Tulis code Anda disini"
      ],
      "metadata": {
        "id": "iIZ2J-MRHbG-"
      },
      "execution_count": null,
      "outputs": []
    },
    {
      "cell_type": "markdown",
      "source": [
        "**Kunci jawaban**\n",
        "\n",
        "---"
      ],
      "metadata": {
        "id": "u5jyuCfoHbG_"
      }
    },
    {
      "cell_type": "code",
      "source": [
        "# Tulis code Anda disini\n",
        "\n",
        "# Buat class Pegawai\n",
        "class Pegawai:\n",
        "\n",
        "    # Buat initial class\n",
        "    def __init__(self, nama, jabatan, gaji):\n",
        "        self.nama = nama\n",
        "        self.jabatan = jabatan\n",
        "        self.gaji = gaji\n",
        "\n",
        "# Buat instance\n",
        "pegawai_ = Pegawai(nama = \"Andri\",\n",
        "                   jabatan = \"direktur\",\n",
        "                   gaji = 100000000)\n",
        "\n",
        "# Tampilkan attribute\n",
        "print(pegawai_.nama)\n",
        "print(pegawai_.jabatan)\n",
        "print(pegawai_.gaji)"
      ],
      "metadata": {
        "colab": {
          "base_uri": "https://localhost:8080/"
        },
        "id": "Xki3qtZaGZJ8",
        "outputId": "2d1ff75c-e757-4a02-9164-3979e998df0b"
      },
      "execution_count": null,
      "outputs": [
        {
          "output_type": "stream",
          "name": "stdout",
          "text": [
            "Andri\n",
            "direktur\n",
            "100000000\n"
          ]
        }
      ]
    },
    {
      "cell_type": "markdown",
      "source": [
        "## Task 4\n",
        "\n",
        "---"
      ],
      "metadata": {
        "id": "QXVuWsVgHqg7"
      }
    },
    {
      "cell_type": "markdown",
      "source": [
        "**Soal**\n",
        "\n",
        "---"
      ],
      "metadata": {
        "id": "A3fs4wj_Hsso"
      }
    },
    {
      "cell_type": "markdown",
      "source": [
        "**Intruksi :**\n",
        "- Buatlah sebuah class `KonversiSuhu`\n",
        "    - Class ini akan mengkonversi suhu Celsius menjadi Fahrenheit\n",
        "    - Class ini memiliki 1 parameter input ketika inisialisasi, yakni celcius\n",
        "        - Misal :\n",
        "            - `celsius` adalah 25.5, bertipe `float`"
      ],
      "metadata": {
        "id": "BQK70KhREaE5"
      }
    },
    {
      "cell_type": "markdown",
      "source": [
        "- Buat class KonversiSuhu sesuai deskripsi\n",
        "- Buat instance class dengan nama `fahrenheit_`\n",
        "- Tampilkan setiap attribute class menggunakan instance tersebut"
      ],
      "metadata": {
        "id": "rcEG2LDgMOW7"
      }
    },
    {
      "cell_type": "markdown",
      "source": [
        "**Rumus**\n",
        "\n",
        "$$\n",
        "\\text {konversi suhu} = (\\text {celsius} \\cdot \\frac{9}{5}) + 32\n",
        "$$"
      ],
      "metadata": {
        "id": "OtzhvQ6bTUpK"
      }
    },
    {
      "cell_type": "markdown",
      "source": [
        "**Contoh Input:**\n",
        "\n",
        "---"
      ],
      "metadata": {
        "id": "KkJSKY65PoP9"
      }
    },
    {
      "cell_type": "markdown",
      "source": [
        "```python\n",
        "celsius = 25.3\n",
        "```"
      ],
      "metadata": {
        "id": "Qm7CD6rRPwu1"
      }
    },
    {
      "cell_type": "markdown",
      "source": [
        "**Contoh Output:**\n",
        "\n",
        "---"
      ],
      "metadata": {
        "id": "JCQPk94EP_k6"
      }
    },
    {
      "cell_type": "markdown",
      "source": [
        "```python\n",
        "77.9\n",
        "```"
      ],
      "metadata": {
        "id": "_NoXCd-PQBCu"
      }
    },
    {
      "cell_type": "markdown",
      "source": [
        "**Code disini!**\n",
        "\n",
        "---"
      ],
      "metadata": {
        "id": "HoFypaHUP60p"
      }
    },
    {
      "cell_type": "code",
      "source": [
        "# Tulis code Anda disini"
      ],
      "metadata": {
        "id": "P40AuCOkP60q"
      },
      "execution_count": null,
      "outputs": []
    },
    {
      "cell_type": "markdown",
      "source": [
        "**Kunci jawaban**\n",
        "\n",
        "---"
      ],
      "metadata": {
        "id": "P6U7D5VQP60q"
      }
    },
    {
      "cell_type": "code",
      "source": [
        "# Tulis code Anda disini\n",
        "\n",
        "# Buat class KonversiSuhu\n",
        "class KonversiSuhu:\n",
        "\n",
        "    # Buat initial class\n",
        "    def __init__(self, celsius):\n",
        "\n",
        "        # Hitung konversi suhu\n",
        "        self. celsius = (celsius * 9/5) + 32\n",
        "\n",
        "# Buat instance\n",
        "fahrenheit_ = KonversiSuhu(celsius = 25.5)\n",
        "\n",
        "# Tampilkan attribute\n",
        "print(fahrenheit_.celsius)"
      ],
      "metadata": {
        "colab": {
          "base_uri": "https://localhost:8080/"
        },
        "id": "FB0hjQk0L388",
        "outputId": "a0cc2c85-32e7-4e41-8aab-547783978c3e"
      },
      "execution_count": null,
      "outputs": [
        {
          "output_type": "stream",
          "name": "stdout",
          "text": [
            "77.9\n"
          ]
        }
      ]
    },
    {
      "cell_type": "markdown",
      "source": [
        "## Task 5\n",
        "\n",
        "---"
      ],
      "metadata": {
        "id": "apcLhmTMQk3t"
      }
    },
    {
      "cell_type": "markdown",
      "source": [
        "**Soal**\n",
        "\n",
        "---"
      ],
      "metadata": {
        "id": "V7NB_n4eQnIO"
      }
    },
    {
      "cell_type": "markdown",
      "source": [
        "Buatlah sebuah class yang berguna untuk menghitung nilai rata-rata pada siswa menggunakan Python!\n",
        "\n",
        "**Rumus**\n",
        "\n",
        "$$\n",
        "\\text {rata-rata} = \\frac {\\text {Σ nilai}} {\\text {jumlah element}}\n",
        "$$"
      ],
      "metadata": {
        "id": "PyIWNNZCFP1q"
      }
    },
    {
      "cell_type": "markdown",
      "source": [
        "**Intruksi:**\n",
        "\n",
        "- Buatlah sebuah class `Student`\n",
        "    - Tambahkan initial `__init__` pada class\n",
        "        - Tambahkan attribute `name` dan `scores`\n",
        "        - Misal :\n",
        "            - `nama` adalah John Doe, bertipe `str`\n",
        "            - `scores` adalah [85, 90, 92, 88], bertipe `list`\n",
        "- Buatlah perhitungan rata-rata pada class\n",
        "- Buatlah instance `student_`\n",
        "    - Instance berisi class `Student` dan attributenya\n",
        "- Tampilkan rata-rata nilainya menggunakan instance"
      ],
      "metadata": {
        "id": "pR3vOnoDS-6N"
      }
    },
    {
      "cell_type": "markdown",
      "source": [
        "**Contoh Input:**\n",
        "\n",
        "---"
      ],
      "metadata": {
        "id": "-LxRLumfW2Dk"
      }
    },
    {
      "cell_type": "markdown",
      "source": [
        "```python\n",
        "scores = [85, 90, 92, 88]\n",
        "name = \"Joe Doe\"\n",
        "```"
      ],
      "metadata": {
        "id": "C1M56gqAW4Uq"
      }
    },
    {
      "cell_type": "markdown",
      "source": [
        "**Contoh Output:**\n",
        "\n",
        "---"
      ],
      "metadata": {
        "id": "1f_RPPPtXCx5"
      }
    },
    {
      "cell_type": "markdown",
      "source": [
        "```python\n",
        "rata-rata nilai John Doe adalah 88.75\n",
        "```"
      ],
      "metadata": {
        "id": "51JfUkxaXE8a"
      }
    },
    {
      "cell_type": "markdown",
      "source": [
        "**Code disini!**\n",
        "\n",
        "---"
      ],
      "metadata": {
        "id": "n9pzSVuqXsLM"
      }
    },
    {
      "cell_type": "code",
      "source": [
        "# Tulis code Anda disini"
      ],
      "metadata": {
        "id": "BO5UCY9BXsLW"
      },
      "execution_count": null,
      "outputs": []
    },
    {
      "cell_type": "markdown",
      "source": [
        "**Kunci jawaban**\n",
        "\n",
        "---"
      ],
      "metadata": {
        "id": "5un0vkmHXsLX"
      }
    },
    {
      "cell_type": "code",
      "source": [
        "# Tulis code Anda disini\n",
        "\n",
        "# Buat class student\n",
        "class Student:\n",
        "\n",
        "    # Buat initial class\n",
        "    def __init__(self, name, scores):\n",
        "        self.name = name\n",
        "        self.scores = scores\n",
        "\n",
        "        # Hitung average\n",
        "        self.average = sum(self.scores) / len(self.scores)\n",
        "\n",
        "# Buat instance\n",
        "student_ = Student(name = \"John Doe\", scores = [85, 90, 92, 88])\n",
        "\n",
        "# Tampilkan hasil\n",
        "print(f'rata-rata nilai {student_.name} adalah {student_.average}')"
      ],
      "metadata": {
        "colab": {
          "base_uri": "https://localhost:8080/"
        },
        "id": "EXNmPWhPS-Dl",
        "outputId": "49e4e6bd-ca78-4913-cb7b-a6af66dd6f67"
      },
      "execution_count": null,
      "outputs": [
        {
          "output_type": "stream",
          "name": "stdout",
          "text": [
            "rata-rata nilai John Doe adalah 88.75\n"
          ]
        }
      ]
    },
    {
      "cell_type": "markdown",
      "source": [
        "## Task 6\n",
        "\n",
        "---"
      ],
      "metadata": {
        "id": "-4yEVsIc2ymW"
      }
    },
    {
      "cell_type": "markdown",
      "source": [
        "**Soal**\n",
        "\n",
        "---"
      ],
      "metadata": {
        "id": "nRmK1-pa4lv9"
      }
    },
    {
      "cell_type": "markdown",
      "source": [
        "Buatlah sebuah class untuk menghitung Kinetik energy menggunakan Python!\n",
        "\n",
        "**Rumus**\n",
        "$$\n",
        "    \\text{KE} = \\frac {1} {2} \\cdot \\text{m} \\cdot \\text{v}^{2}\n",
        "$$\n",
        "\n",
        "- m adalah massa benda,\n",
        "- v adalah kecepatan benda."
      ],
      "metadata": {
        "id": "AvNjFvYXFkaG"
      }
    },
    {
      "cell_type": "markdown",
      "source": [
        "**Intruksi:**\n",
        "\n",
        "- Buatlah sebuah class `KineticEnergy`\n",
        "    - Tambahkan initial `__init__` pada class\n",
        "        - Tambahkan attribute `mass` dan `velocity`\n",
        "        - Misal :\n",
        "            - `mass` adalah 500, bertipe `int`\n",
        "            - `velocity` adalah 100, bertipe `int`\n",
        "- Buatlah perhitungan energi kinetik pada class\n",
        "- Buatlah instance `kinetik_`\n",
        "    - Instance berisi class `KineticEnergy` dan attributenya\n",
        "- Tampilkan hasil energi kinetiknya menggunakan instance"
      ],
      "metadata": {
        "id": "9lvyrSni21R0"
      }
    },
    {
      "cell_type": "markdown",
      "source": [
        "**Contoh Input**\n",
        "\n",
        "---"
      ],
      "metadata": {
        "id": "iHKEPYtg4oWT"
      }
    },
    {
      "cell_type": "markdown",
      "source": [
        "```python\n",
        "mass = 500\n",
        "velocity = 100\n",
        "```"
      ],
      "metadata": {
        "id": "fB9R6gaw4sZi"
      }
    },
    {
      "cell_type": "markdown",
      "source": [
        "**Contoh Output**\n",
        "\n",
        "---"
      ],
      "metadata": {
        "id": "3vUvWn5d5Mh1"
      }
    },
    {
      "cell_type": "markdown",
      "source": [
        "```python\n",
        "2500000.0 joule\n",
        "```"
      ],
      "metadata": {
        "id": "D8MNaVau5Sxg"
      }
    },
    {
      "cell_type": "markdown",
      "source": [
        "**Code disini!**\n",
        "\n",
        "---"
      ],
      "metadata": {
        "id": "8IYn5A1g5SUm"
      }
    },
    {
      "cell_type": "code",
      "source": [
        "# Tulis code Anda disini"
      ],
      "metadata": {
        "id": "PUfX8D1m5SU5"
      },
      "execution_count": null,
      "outputs": []
    },
    {
      "cell_type": "markdown",
      "source": [
        "**Kunci jawaban**\n",
        "\n",
        "---"
      ],
      "metadata": {
        "id": "-JDgoamT5SU6"
      }
    },
    {
      "cell_type": "code",
      "source": [
        "# Tulis code Anda disini\n",
        "\n",
        "# Buat class KineticEnergy\n",
        "class KineticEnergy:\n",
        "\n",
        "    # Buat initial class\n",
        "    def __init__(self, mass, velocity):\n",
        "        self.mass = mass\n",
        "        self.velocity = velocity\n",
        "\n",
        "        # Hitung energi kinetik\n",
        "        self.kinetic_energy = 0.5 * self.mass * self.velocity**2\n",
        "\n",
        "# Buat instance\n",
        "kinetik_ = KineticEnergy(mass = 500, velocity = 100)\n",
        "\n",
        "# Tampilkan hasil\n",
        "print(f'{kinetik_.kinetic_energy} joule')"
      ],
      "metadata": {
        "colab": {
          "base_uri": "https://localhost:8080/"
        },
        "id": "x4FLDPHM3ZFT",
        "outputId": "1d02838b-48dc-48bf-db25-d772cb9e19e1"
      },
      "execution_count": null,
      "outputs": [
        {
          "output_type": "stream",
          "name": "stdout",
          "text": [
            "2500000.0 joule\n"
          ]
        }
      ]
    },
    {
      "cell_type": "markdown",
      "source": [
        "## Task 7\n",
        "\n",
        "---"
      ],
      "metadata": {
        "id": "K3E3cgYG6kTC"
      }
    },
    {
      "cell_type": "markdown",
      "source": [
        "**Soal**\n",
        "\n",
        "---"
      ],
      "metadata": {
        "id": "B9B58IU-6l15"
      }
    },
    {
      "cell_type": "markdown",
      "source": [
        "Buatlah sebuah class yang berguna untuk melakukan perhitungan potensial energi menggunakan Python!\n",
        "\n",
        "**Rumus**\n",
        "$$\n",
        "\\text {potensial energi} = \\text {massa} \\cdot \\text {gravitasi konstant} \\cdot \\text {height}\n",
        "$$"
      ],
      "metadata": {
        "id": "21fmKqOJF-ds"
      }
    },
    {
      "cell_type": "markdown",
      "source": [
        "**Intruksi:**\n",
        "\n",
        "- Buatlah sebuah class `GravitationalPotentialEnergy`\n",
        "    - Tambahkan initial `__init__` pada class\n",
        "        - Tambahkan attribute default `gravity_constant` adalah 9.8\n",
        "        - Tambahkan attribute `mass` dan `heigth`\n",
        "        - Misal :\n",
        "            - `mass` adalah 2, bertipe `int`\n",
        "            - `heigth` adalah 15, bertipe `int`\n",
        "- Buatlah perhitungan potensial gravitasi pada class\n",
        "- Buatlah instance `gravitasi`\n",
        "    - Instance berisi class `GravitationalPotentialEnergy` dan attributenya\n",
        "- Tampilkan hasil potensial gravitasi menggunakan instance"
      ],
      "metadata": {
        "id": "A-nqomD56nM6"
      }
    },
    {
      "cell_type": "markdown",
      "source": [
        "**Contoh Input:**\n",
        "\n",
        "---"
      ],
      "metadata": {
        "id": "FDAtrZ8u80oW"
      }
    },
    {
      "cell_type": "markdown",
      "source": [
        "```python\n",
        "mass = 2\n",
        "height = 15\n",
        "```"
      ],
      "metadata": {
        "id": "Y3JqKWnz82eC"
      }
    },
    {
      "cell_type": "markdown",
      "source": [
        "**Contoh Output**\n",
        "\n",
        "---"
      ],
      "metadata": {
        "id": "1w4Qhmdx89Ww"
      }
    },
    {
      "cell_type": "markdown",
      "source": [
        "```python\n",
        "294.0 joule\n",
        "```"
      ],
      "metadata": {
        "id": "lDrKG6YN8_qz"
      }
    },
    {
      "cell_type": "markdown",
      "source": [
        "**Code disini!**\n",
        "\n",
        "---"
      ],
      "metadata": {
        "id": "KjwsxhXu9PV2"
      }
    },
    {
      "cell_type": "code",
      "source": [
        "# Tulis code Anda disini"
      ],
      "metadata": {
        "id": "IxUru6Ih9PWB"
      },
      "execution_count": null,
      "outputs": []
    },
    {
      "cell_type": "markdown",
      "source": [
        "**Kunci jawaban**\n",
        "\n",
        "---"
      ],
      "metadata": {
        "id": "FJfB0c7E9PWB"
      }
    },
    {
      "cell_type": "code",
      "source": [
        "# Tulis code Anda disini\n",
        "\n",
        "# Buat class GravitationalPotentialEnergy\n",
        "class GravitationalPotentialEnergy:\n",
        "\n",
        "    # Buat initial class\n",
        "    def __init__(self, mass, height, gravity_constant = 9.8):\n",
        "        self.mass = mass\n",
        "        self.height = height\n",
        "\n",
        "        # Hitung energi potensial gravitasi\n",
        "        self.potential_energy = mass * gravity_constant * height\n",
        "\n",
        "# Buat instance\n",
        "gravitasi = GravitationalPotentialEnergy(mass=2, height=15)\n",
        "\n",
        "# Tampilkan hasil\n",
        "print(f'{gravitasi.potential_energy} joule')"
      ],
      "metadata": {
        "colab": {
          "base_uri": "https://localhost:8080/"
        },
        "id": "b8xorV4n7c5r",
        "outputId": "fca09b5c-2d6d-49d1-dfef-e086939a6dbd"
      },
      "execution_count": null,
      "outputs": [
        {
          "output_type": "stream",
          "name": "stdout",
          "text": [
            "294.0 joule\n"
          ]
        }
      ]
    },
    {
      "cell_type": "markdown",
      "source": [
        "## Task 8\n",
        "\n",
        "---"
      ],
      "metadata": {
        "id": "y6ft3wEkNQNf"
      }
    },
    {
      "cell_type": "markdown",
      "source": [
        "**Soal**\n",
        "\n",
        "---"
      ],
      "metadata": {
        "id": "sC8TCOnRNRkX"
      }
    },
    {
      "cell_type": "markdown",
      "source": [
        "Buatlah sebuah class yang berguna untuk menampilkan list siswa menggunakan Python!"
      ],
      "metadata": {
        "id": "A_FEvoqOGdvZ"
      }
    },
    {
      "cell_type": "markdown",
      "source": [
        "**Intruksi**\n",
        "\n",
        "- Buatlah sebuah class `Siswa`\n",
        "    - Tambahkan initial `__init__` pada class\n",
        "        - Tambahkan attribute `nama` dan `usia`\n",
        "        - Misal :\n",
        "            - `nama` adalah John, bertipe `str`\n",
        "            - `usia` adalah 17, bertipe `int`\n",
        "        - Tambahkan method `info_siswa`\n",
        "            - Tampilkan attribute `nama` dan `usia`  \n",
        "- Buatlah instance `siswa_`\n",
        "    - Instance berisi class `Siswa` dan attributenya\n",
        "- Gunakan method `info_siswa` untuk menampilkan daftar siswa"
      ],
      "metadata": {
        "id": "3YiyPSNHNSxO"
      }
    },
    {
      "cell_type": "markdown",
      "source": [
        "**Contoh Input:**\n",
        "\n",
        "---"
      ],
      "metadata": {
        "id": "cyie5OQvNTZX"
      }
    },
    {
      "cell_type": "markdown",
      "source": [
        "```python\n",
        "nama = \"John\"\n",
        "usia = 17\n",
        "```"
      ],
      "metadata": {
        "id": "h1D1GnekNU9Y"
      }
    },
    {
      "cell_type": "markdown",
      "source": [
        "**Contoh Output:**\n",
        "\n",
        "---"
      ],
      "metadata": {
        "id": "p-CxUretNVJ9"
      }
    },
    {
      "cell_type": "markdown",
      "source": [
        "```python\n",
        "Nama siswa: John, Usia: 17 tahun\n",
        "```"
      ],
      "metadata": {
        "id": "BhyHARnbNfQc"
      }
    },
    {
      "cell_type": "markdown",
      "source": [
        "**Code disini!**\n",
        "\n",
        "---"
      ],
      "metadata": {
        "id": "yWGMnTPVNb_7"
      }
    },
    {
      "cell_type": "code",
      "source": [
        "# Tulis code Anda disini"
      ],
      "metadata": {
        "id": "8EzHZ21gNgoX"
      },
      "execution_count": null,
      "outputs": []
    },
    {
      "cell_type": "markdown",
      "source": [
        "**Kunci jawaban**\n",
        "\n",
        "---"
      ],
      "metadata": {
        "id": "aOPEvy4LNnCO"
      }
    },
    {
      "cell_type": "code",
      "source": [
        "# Tulis code Anda disini\n",
        "\n",
        "# Buat class siswa\n",
        "class Siswa:\n",
        "\n",
        "    # Buat Initial class\n",
        "    def __init__(self, nama, usia):\n",
        "        self.nama = nama\n",
        "        self.usia = usia\n",
        "\n",
        "    # Buat method info_siswa\n",
        "    def info_siswa(self):\n",
        "\n",
        "        # Tampilkan informasi siswa\n",
        "        print(f\"Nama siswa: {self.nama}, Usia: {self.usia} tahun\")\n",
        "\n",
        "# Buat instance\n",
        "siswa_ = Siswa(nama = \"John\", usia = 17)\n",
        "\n",
        "# Tampilkan hasil\n",
        "siswa_.info_siswa()"
      ],
      "metadata": {
        "colab": {
          "base_uri": "https://localhost:8080/"
        },
        "id": "ok8J64fuNi0S",
        "outputId": "ff76ba14-1238-4bbd-ddc0-cf38e8c5d394"
      },
      "execution_count": null,
      "outputs": [
        {
          "output_type": "stream",
          "name": "stdout",
          "text": [
            "Nama siswa: John, Usia: 17 tahun\n"
          ]
        }
      ]
    },
    {
      "cell_type": "markdown",
      "source": [
        "## Task 9\n",
        "\n",
        "---"
      ],
      "metadata": {
        "id": "l6ED_TllN5AD"
      }
    },
    {
      "cell_type": "markdown",
      "source": [
        "**Soal**\n",
        "\n",
        "---"
      ],
      "metadata": {
        "id": "WyYZs6HRN5AM"
      }
    },
    {
      "cell_type": "markdown",
      "source": [
        "Buatlah sebuah class yang berguna untuk melakukan list aktivitas sehari-hari menggunakan Python!"
      ],
      "metadata": {
        "id": "26GlAcDQG17O"
      }
    },
    {
      "cell_type": "markdown",
      "source": [
        "**Intruksi**\n",
        "\n",
        "- Buatlah sebuah class `ToDoList`\n",
        "    - Tambahkan initial `__init__` pada class\n",
        "        - Initial class berisi list kosong\n",
        "    - Tambahkan method `task` untuk mengisi task ke dalam list kosong pada initial\n",
        "        -  Misal :\n",
        "            - `task` adalah Belajar Python, bertipe `str`\n",
        "    - Tambahkan method `get_task` untuk menampilkan isi list tersebut\n",
        "- Buatlah instance `do_list`\n",
        "    - Instance berisi class `ToDoList`\n",
        "- Tampilkan method `info_siswa` menggunakan instance"
      ],
      "metadata": {
        "id": "5ADjH2IEN5AM"
      }
    },
    {
      "cell_type": "markdown",
      "source": [
        "**Contoh Input:**\n",
        "\n",
        "---"
      ],
      "metadata": {
        "id": "335Lu5-ON5AM"
      }
    },
    {
      "cell_type": "markdown",
      "source": [
        "```python\n",
        "task = \"Belajar Python\"\n",
        "```"
      ],
      "metadata": {
        "id": "M2cR22N-N5AM"
      }
    },
    {
      "cell_type": "markdown",
      "source": [
        "**Contoh Output:**\n",
        "\n",
        "---"
      ],
      "metadata": {
        "id": "bSTFHcnXN5AM"
      }
    },
    {
      "cell_type": "markdown",
      "source": [
        "```python\n",
        "['Belajar Python']\n",
        "```"
      ],
      "metadata": {
        "id": "JLbAwdfJN5AM"
      }
    },
    {
      "cell_type": "markdown",
      "source": [
        "**Code disini!**\n",
        "\n",
        "---"
      ],
      "metadata": {
        "id": "0-0TDv94N5AM"
      }
    },
    {
      "cell_type": "code",
      "source": [
        "# Tulis code Anda disini"
      ],
      "metadata": {
        "id": "s_LWBARXN5AM"
      },
      "execution_count": null,
      "outputs": []
    },
    {
      "cell_type": "markdown",
      "source": [
        "**Kunci jawaban**\n",
        "\n",
        "---"
      ],
      "metadata": {
        "id": "GNoiD1NRN5AM"
      }
    },
    {
      "cell_type": "code",
      "source": [
        "# Tulis code Anda disini\n",
        "\n",
        "# Buat class ToDoList\n",
        "class ToDoList:\n",
        "\n",
        "    # Buat initial class\n",
        "    def __init__(self):\n",
        "\n",
        "        # Simpan task ke dalam list\n",
        "        self.tasks = []\n",
        "\n",
        "    # Buat method add_task\n",
        "    def add_task(self, task):\n",
        "\n",
        "        # Tambahkan inputan ke dalam tasks\n",
        "        self.tasks.append(task)\n",
        "\n",
        "    # Buat method get_tasks untuk menampilkan list\n",
        "    def get_tasks(self):\n",
        "        return self.tasks\n",
        "\n",
        "# Buat instance\n",
        "do_list = ToDoList()\n",
        "\n",
        "# Gunakan method add_task untuk menyimpan task\n",
        "do_list.add_task(task = \"Belajar Python\")\n",
        "\n",
        "# Gunakan method get_task untuk menampilkan semua to do list\n",
        "do_list.get_tasks()"
      ],
      "metadata": {
        "id": "4oiSdiExN5AM",
        "colab": {
          "base_uri": "https://localhost:8080/"
        },
        "outputId": "5df37da0-6045-41ae-9bea-e7f65f694985"
      },
      "execution_count": null,
      "outputs": [
        {
          "output_type": "execute_result",
          "data": {
            "text/plain": [
              "['Belajar Python']"
            ]
          },
          "metadata": {},
          "execution_count": 100
        }
      ]
    },
    {
      "cell_type": "markdown",
      "source": [
        "## Task 10\n",
        "\n",
        "---"
      ],
      "metadata": {
        "id": "k5CS1huBNxo4"
      }
    },
    {
      "cell_type": "markdown",
      "source": [
        "**Soal**\n",
        "\n",
        "---"
      ],
      "metadata": {
        "id": "whJ_JIwoNxpA"
      }
    },
    {
      "cell_type": "markdown",
      "source": [
        "Buatlah sebuah class yang berguna untuk menghitung jumlah pendapatan menggunakan Python!"
      ],
      "metadata": {
        "id": "t0LqBoYtHHfs"
      }
    },
    {
      "cell_type": "markdown",
      "source": [
        "**Intruksi**\n",
        "\n",
        "- Buatlah sebuah class `Karyawan`\n",
        "    - Tambahkan initial `__init__` pada class\n",
        "        - Tambahkan attribute `nama`, `gaji` dan `tunjangan`\n",
        "        - Misal :\n",
        "            - `nama` adalah Alice, bertipe `str`\n",
        "            - `Gaji` adalah Rp.5.000.000, bertipe `int`\n",
        "            - `tunjangan` adalah Rp. 1.000.000, bertipe `int`\n",
        "        - Tambahkan method `total_pendapatan`\n",
        "            - Buat perhitungan `gaji` + `tunjangan`  \n",
        "- Buatlah instance `karyawan_`\n",
        "    - Instance berisi class `Karyawan` dan attributenya\n",
        "- Tampilkan method `total_pendapatan` menggunakan instance"
      ],
      "metadata": {
        "id": "GjD7jWlbNxpA"
      }
    },
    {
      "cell_type": "markdown",
      "source": [
        "**Contoh Input:**\n",
        "\n",
        "---"
      ],
      "metadata": {
        "id": "dQzVPFcWNxpA"
      }
    },
    {
      "cell_type": "markdown",
      "source": [
        "```python\n",
        "nama = \"Alice\"\n",
        "gaji = 50000000\n",
        "tunjangan = 100000\n",
        "```"
      ],
      "metadata": {
        "id": "OZVYpTdrNxpA"
      }
    },
    {
      "cell_type": "markdown",
      "source": [
        "**Contoh Output:**\n",
        "\n",
        "---"
      ],
      "metadata": {
        "id": "KCr50FtNNxpA"
      }
    },
    {
      "cell_type": "markdown",
      "source": [
        "```python\n",
        "Total Pendapatan Karyawan: 5100000\n",
        "```"
      ],
      "metadata": {
        "id": "CXVTLk_VNxpA"
      }
    },
    {
      "cell_type": "markdown",
      "source": [
        "**Code disini!**\n",
        "\n",
        "---"
      ],
      "metadata": {
        "id": "7A7fq91ANxpA"
      }
    },
    {
      "cell_type": "code",
      "source": [
        "# Tulis code Anda disini"
      ],
      "metadata": {
        "id": "3DtTkHZwNxpA"
      },
      "execution_count": null,
      "outputs": []
    },
    {
      "cell_type": "markdown",
      "source": [
        "**Kunci jawaban**\n",
        "\n",
        "---"
      ],
      "metadata": {
        "id": "bwe278vkNxpA"
      }
    },
    {
      "cell_type": "code",
      "source": [
        "# Tulis code Anda disini\n",
        "\n",
        "# Buat class Karyawan\n",
        "class Karyawan:\n",
        "\n",
        "    # Buat initial class\n",
        "    def __init__(self, nama, gaji, tunjangan):\n",
        "        self.nama = nama\n",
        "        self.gaji = gaji\n",
        "        self.tunjangan = tunjangan\n",
        "\n",
        "    # Buat method total_pendapatan\n",
        "    def total_pendapatan(self):\n",
        "\n",
        "        # Hitung total_pendapatan\n",
        "        self.total_pendapatan = self.gaji + self.tunjangan\n",
        "\n",
        "        # Tampilkan hasil\n",
        "        return self.total_pendapatan\n",
        "\n",
        "# Buat instance\n",
        "karyawan_ = Karyawan(nama = \"Alice\",\n",
        "                     gaji = 5000000,\n",
        "                     tunjangan = 100000)\n",
        "\n",
        "# Tampilkan hasil\n",
        "print(\"Total Pendapatan Karyawan:\", karyawan_.total_pendapatan())"
      ],
      "metadata": {
        "colab": {
          "base_uri": "https://localhost:8080/"
        },
        "id": "C327UCnDNxpB",
        "outputId": "79b7a8ad-8740-4d31-d482-1caf5f810236"
      },
      "execution_count": null,
      "outputs": [
        {
          "output_type": "stream",
          "name": "stdout",
          "text": [
            "Total Pendapatan Karyawan: 5100000\n"
          ]
        }
      ]
    },
    {
      "cell_type": "markdown",
      "source": [
        "## Task 11\n",
        "\n",
        "---"
      ],
      "metadata": {
        "id": "UwbSTrylYDuv"
      }
    },
    {
      "cell_type": "markdown",
      "source": [
        "**Soal**\n",
        "\n",
        "---"
      ],
      "metadata": {
        "id": "l_-y3ijwYtu3"
      }
    },
    {
      "cell_type": "markdown",
      "source": [
        "Buatlah sebuah aplikasi sederhana untuk penarikan rekening bank menggunakan Python!"
      ],
      "metadata": {
        "id": "3zNn2fv7Hiaq"
      }
    },
    {
      "cell_type": "markdown",
      "source": [
        "**Intruksi**\n",
        "\n",
        "- Buatlah sebuah class `BankAccount`\n",
        "    - Tambahkan initial `__init__` pada class\n",
        "        - Tambahkan attribute default `balance`\n",
        "        - Misal :\n",
        "            - `balance` adalah 0, bertipe `int`\n",
        "    - Tambahkan method `deposit` dan `withdraw`\n",
        "        - Method `deposit` berisi mengirim inputan ke dalam `balance`\n",
        "        - Method `withdraw` berisi kondisi :\n",
        "            - Jika permintaan saldo kurang dari `balance` maka `balance` akan berkurang\n",
        "            - Jika tidak maka munculkan pesan **Saldo tidak mencukupi**\n",
        "- Buatlah instance `account` untuk menyimpan class\n",
        "- Simpan instance ke dalam `balance`\n",
        "- Gunakan method `deposit` untuk menambahkan saldo\n",
        "- Gunakan method `withdraw` untuk mengambil dan mengurangi saldo"
      ],
      "metadata": {
        "id": "CXSjAn2nY-6j"
      }
    },
    {
      "cell_type": "markdown",
      "source": [
        "**Contoh Input:**\n",
        "\n",
        "---"
      ],
      "metadata": {
        "id": "jKP6NtidYvOD"
      }
    },
    {
      "cell_type": "markdown",
      "source": [
        "```python\n",
        "account = BankAccount(100000)\n",
        "deposit_amount = 50000\n",
        "withdraw = 2000000\n",
        "```"
      ],
      "metadata": {
        "id": "cgdJidnGc3Ki"
      }
    },
    {
      "cell_type": "markdown",
      "source": [
        "**Contoh Output:**\n",
        "\n",
        "---"
      ],
      "metadata": {
        "id": "elXovnd1dKyf"
      }
    },
    {
      "cell_type": "markdown",
      "source": [
        "```python\n",
        "Saldo awal 100000\n",
        "150000\n",
        "Saldo tidak mencukupi\n",
        "150000\n",
        "```"
      ],
      "metadata": {
        "id": "qseW_Km9dHog"
      }
    },
    {
      "cell_type": "markdown",
      "source": [
        "**Code disini!**\n",
        "\n",
        "---"
      ],
      "metadata": {
        "id": "MdSyQalsdO2K"
      }
    },
    {
      "cell_type": "code",
      "source": [
        "# Tulis code Anda disini"
      ],
      "metadata": {
        "id": "XAsoPYKsdO2M"
      },
      "execution_count": null,
      "outputs": []
    },
    {
      "cell_type": "markdown",
      "source": [
        "**Kunci jawaban**\n",
        "\n",
        "---"
      ],
      "metadata": {
        "id": "Hx7MJo6CdO2N"
      }
    },
    {
      "cell_type": "code",
      "source": [
        "# Tulis code Anda disini\n",
        "\n",
        "# Buat class BankAccount\n",
        "class BankAccount:\n",
        "\n",
        "    # Buat initial class\n",
        "    def __init__(self, balance=0):\n",
        "        self.balance = balance\n",
        "\n",
        "    # Buat method deposit\n",
        "    def deposit(self, amount):\n",
        "\n",
        "        # Simpan ke dalam initial\n",
        "        self.balance += amount\n",
        "\n",
        "    # Buat method withdraw\n",
        "    def withdraw(self, amount):\n",
        "\n",
        "        # Buat kondisi kurangkan saldo sesuai jumlah permintaan\n",
        "        if amount <= self.balance:\n",
        "            self.balance -= amount\n",
        "\n",
        "        # Buat kondisi jika permintaan kurang dari saldo\n",
        "        else:\n",
        "            print(\"Saldo tidak mencukupi\")\n",
        "\n",
        "# Buat instance\n",
        "account = BankAccount(100000)\n",
        "\n",
        "# Gunakan attribute balance untuk mengisi saldo awal\n",
        "print('Saldo awal', account.balance)\n",
        "\n",
        "# Gunakan method amount untuk menambahkan saldo\n",
        "\n",
        "# Saldo yang ditambahkan\n",
        "deposit_amount = 50000\n",
        "\n",
        "# Gunakan parameter amount pada method deposito\n",
        "account.deposit(amount = deposit_amount)\n",
        "\n",
        "# Simpan deposito ke balance\n",
        "print(account.balance)\n",
        "\n",
        "# Gunakan metod withdraw untuk mengambil uang\n",
        "\n",
        "# Uang yang ingin diambil\n",
        "withdraw = 2000000\n",
        "\n",
        "# Gunakan parameter amount pada method withdraw\n",
        "account.withdraw(amount = withdraw)\n",
        "\n",
        "# Tampilkan saldo dan pesan\n",
        "print(account.balance)"
      ],
      "metadata": {
        "colab": {
          "base_uri": "https://localhost:8080/"
        },
        "id": "q0vcx8nuYo-o",
        "outputId": "7876c18e-89ca-4f95-a8e1-e903145ab8dd"
      },
      "execution_count": null,
      "outputs": [
        {
          "output_type": "stream",
          "name": "stdout",
          "text": [
            "Saldo awal 100000\n",
            "150000\n",
            "Saldo tidak mencukupi\n",
            "150000\n"
          ]
        }
      ]
    },
    {
      "cell_type": "markdown",
      "source": [
        "## Task 12\n",
        "\n",
        "---"
      ],
      "metadata": {
        "id": "wjYtdkjdN3Q1"
      }
    },
    {
      "cell_type": "markdown",
      "source": [
        "**Soal**\n",
        "\n",
        "---"
      ],
      "metadata": {
        "id": "s7fuYSjIN3Q8"
      }
    },
    {
      "cell_type": "markdown",
      "source": [
        "Buatlah sebuah aplikasi perpustakaan sederhana menggunakan Python!"
      ],
      "metadata": {
        "id": "sihFULS_HvOW"
      }
    },
    {
      "cell_type": "markdown",
      "source": [
        "**Intruksi**\n",
        "\n",
        "- Buatlah sebuah class `Book`\n",
        "    - Tambahkan initial `__init__` pada class\n",
        "        - Tambahkan attribute default `title`, `author`, dan `pages`\n",
        "        - Misal :\n",
        "            - `title` adalah The Great Gatsby, bertipe `str`\n",
        "            - `author` adalah F. Scott Fitzgerald, bertipe `str`\n",
        "            - `pages` adalah 180, bertipe `int`\n",
        "    - Tambahkan method `read_book` dan `display_info`\n",
        "        - Method `read_book` berisi validasi bahwa buku telah dibaca `True`\n",
        "        - Method `display_info` berisi kondisi :\n",
        "            - Jika status list buku adalah `True`, maka tampilkan pesan **Sudah dibaca**\n",
        "            - Jika tidak, maka tampilkan pesan **Belum dibaca**\n",
        "            - Kemudian tampilkan semua daftar buku dan status\n",
        "- Buatlah instance `book_` untuk menyimpan class\n",
        "- Gunakan method `display_info` untuk menampilkan inputan daftar buku\n",
        "- Gunakan method `read_book` sebagai tanda telah terbaca\n",
        "- Gunakan method `display_info` untuk menampilkan daftar buku   "
      ],
      "metadata": {
        "id": "1n8Xhd16N3Q8"
      }
    },
    {
      "cell_type": "markdown",
      "source": [
        "**Contoh Input:**\n",
        "\n",
        "---"
      ],
      "metadata": {
        "id": "Jid67RMDN3Q8"
      }
    },
    {
      "cell_type": "markdown",
      "source": [
        "```python\n",
        "title=\"The Great Gatsby\"\n",
        "author=\"F. Scott Fitzgerald\"\n",
        "pages = 180\n",
        "```"
      ],
      "metadata": {
        "id": "AIWzDmuGN3Q8"
      }
    },
    {
      "cell_type": "markdown",
      "source": [
        "**Contoh Output:**\n",
        "\n",
        "---"
      ],
      "metadata": {
        "id": "IEKsKpnjN3Q8"
      }
    },
    {
      "cell_type": "markdown",
      "source": [
        "```python\n",
        "Informasi Buku Belum Dibaca:\n",
        "\n",
        "Title: The Great Gatsby\n",
        "Author: F. Scott Fitzgerald\n",
        "Pages: 180\n",
        "Status: Belum dibaca\n",
        "\n",
        "Informasi Buku Telah Dibaca:\n",
        "\n",
        "Title: The Great Gatsby\n",
        "Author: F. Scott Fitzgerald\n",
        "Pages: 180\n",
        "Status: Sudah dibaca\n",
        "```"
      ],
      "metadata": {
        "id": "DVpfw6xsN3Q8"
      }
    },
    {
      "cell_type": "markdown",
      "source": [
        "**Code disini!**\n",
        "\n",
        "---"
      ],
      "metadata": {
        "id": "Jqjlp_lQN3Q8"
      }
    },
    {
      "cell_type": "code",
      "source": [
        "# Tulis code Anda disini"
      ],
      "metadata": {
        "id": "RsEV_Gy4N3Q8"
      },
      "execution_count": null,
      "outputs": []
    },
    {
      "cell_type": "markdown",
      "source": [
        "**Kunci jawaban**\n",
        "\n",
        "---"
      ],
      "metadata": {
        "id": "d4D2MKwyN3Q9"
      }
    },
    {
      "cell_type": "code",
      "source": [
        "# Tulis code Anda disini\n",
        "\n",
        "# Buat function Book\n",
        "class Book:\n",
        "\n",
        "    # Buat initial class\n",
        "    def __init__(self, title, author, pages):\n",
        "        self.title = title\n",
        "        self.author = author\n",
        "        self.pages = pages\n",
        "\n",
        "        # Buat awalan belum dibaca (False)\n",
        "        self.is_read = False\n",
        "\n",
        "    # Buat method read_book\n",
        "    def read_book(self):\n",
        "\n",
        "        # Buat tanda telah dibaca (True)\n",
        "        self.is_read = True\n",
        "\n",
        "    # Buat method display_info\n",
        "    def display_info(self):\n",
        "\n",
        "        # Buat kondisi jika telah dibaca tampilkan pesan\n",
        "        read_status = \"Sudah dibaca\" if self.is_read else \"Belum dibaca\"\n",
        "\n",
        "        # Tampilkan semua daftar buku dan status\n",
        "        print(f\"Title: {self.title}\\nAuthor: {self.author}\\nPages: {self.pages}\\nStatus: {read_status}\\n\")\n",
        "\n",
        "# Buat instance book_\n",
        "book_ = Book(title=\"The Great Gatsby\", author=\"F. Scott Fitzgerald\", pages=180)\n",
        "\n",
        "# Tampilkan informasi buku sebelum dibaca\n",
        "print(\"Informasi Buku Belum Dibaca:\")\n",
        "print(\"\\n\")\n",
        "\n",
        "# Gunakan method display_info untuk menampilkan inputan daftar buku\n",
        "book_.display_info()\n",
        "\n",
        "# Gunakan method read_book sebagai tanda telah terbaca\n",
        "book_.read_book()\n",
        "\n",
        "# Tampilkan informasi buku setelah dibaca\n",
        "print(\"Informasi Buku Telah Dibaca:\")\n",
        "print(\"\\n\")\n",
        "\n",
        "# Gunakan method display_info untuk menampilkan daftar buku\n",
        "book_.display_info()"
      ],
      "metadata": {
        "colab": {
          "base_uri": "https://localhost:8080/"
        },
        "id": "8DT6ukJCN3Q9",
        "outputId": "2ba3fa7d-b337-4e3b-fde3-5a5d31b6e572"
      },
      "execution_count": null,
      "outputs": [
        {
          "output_type": "stream",
          "name": "stdout",
          "text": [
            "Informasi Buku Belum Dibaca:\n",
            "\n",
            "\n",
            "Title: The Great Gatsby\n",
            "Author: F. Scott Fitzgerald\n",
            "Pages: 180\n",
            "Status: Belum dibaca\n",
            "\n",
            "Informasi Buku Telah Dibaca:\n",
            "\n",
            "\n",
            "Title: The Great Gatsby\n",
            "Author: F. Scott Fitzgerald\n",
            "Pages: 180\n",
            "Status: Sudah dibaca\n",
            "\n"
          ]
        }
      ]
    },
    {
      "cell_type": "markdown",
      "source": [
        "## Task 13\n",
        "\n",
        "---"
      ],
      "metadata": {
        "id": "DaLnRJAhN0yJ"
      }
    },
    {
      "cell_type": "markdown",
      "source": [
        "**Soal**\n",
        "\n",
        "---"
      ],
      "metadata": {
        "id": "tRxzLuFeN0yP"
      }
    },
    {
      "cell_type": "markdown",
      "source": [
        "Buatlah sebuah aplikasi penyimpanan barang sederhana menggunakan Python!"
      ],
      "metadata": {
        "id": "_hqVRkhpIFuH"
      }
    },
    {
      "cell_type": "markdown",
      "source": [
        "**Intruksi**\n",
        "\n",
        "- Buatlah sebuah class `ItemInventory`\n",
        "    - Tambahkan initial `__init__` pada class\n",
        "        - Buat attribute `item` pada initial berisi sebuah dictionary kosong untuk penyimpanan\n",
        "    - Tambahkan method `add_item`, `get_item` dan `item_details`\n",
        "        - Method `add_item` berisi attribute `item_name`, `price`, dan `quantity`\n",
        "            - Misal :\n",
        "                - `item_name` adalah Snack_A, bertipe `str`\n",
        "                - `price` adalah 5000, bertipe `int`\n",
        "                - `quantity` adalah 10, bertipe `int`\n",
        "            - Buat Kondisi :\n",
        "                - Jika `item_nama` ada di dictionary `items`, maka jumlahkan quantity\n",
        "                - Jika belum ada, maka buat item inventory baru dalam bentuk dictionary\n",
        "        - Method `get_item` berisi attribute `item_name` dan `quantity`\n",
        "            - Misal :\n",
        "                - `item_name` adalah Snack_A, bertipe `str`\n",
        "                - `quantity` adalah 2, bertipe `int`\n",
        "            - Buat kondisi :\n",
        "                - Jika `item_name` ada di dictionary `items`, maka kurangkan jumlah quantity\n",
        "        - Method `item_details` berisi attribute `items`, method ini untuk menampilkan dictionary `items`\n",
        "- Buatlah instance `item_inventory` untuk menyimpan class\n",
        "- Gunakan method `add_item` untuk menambahkan ke dalam dictionary\n",
        "- Gunakan method `item_details` untuk tampilkan informasi dictionary item\n",
        "- Gunakan method `get_item` untuk mengambil jumlah quantity pada item"
      ],
      "metadata": {
        "id": "g6vPYec9N0yP"
      }
    },
    {
      "cell_type": "markdown",
      "source": [
        "**Contoh Input:**\n",
        "\n",
        "---"
      ],
      "metadata": {
        "id": "clL8qZqJN0yP"
      }
    },
    {
      "cell_type": "markdown",
      "source": [
        "```python\n",
        "item_name=\"Snack A\", price=5000, quantity=10\n",
        "item_name=\"Snack A\", quantity=2\n",
        "```"
      ],
      "metadata": {
        "id": "3kx4cLPfN0yQ"
      }
    },
    {
      "cell_type": "markdown",
      "source": [
        "**Contoh Output:**\n",
        "\n",
        "---"
      ],
      "metadata": {
        "id": "fJdLOMlXN0yQ"
      }
    },
    {
      "cell_type": "markdown",
      "source": [
        "```python\n",
        "Item di dalam inventory :\n",
        "Informasi Item 'Snack A': {'price': 5000, 'quantity': 10}\n",
        "\n",
        "Persediaan Item setelah diambil :\n",
        "Informasi Item 'Snack A' setelah diambil: {'price': 5000, 'quantity': 8}\n",
        "```"
      ],
      "metadata": {
        "id": "d44KlPAoN0yQ"
      }
    },
    {
      "cell_type": "markdown",
      "source": [
        "**Code disini!**\n",
        "\n",
        "---"
      ],
      "metadata": {
        "id": "lEe0uOVUN0yQ"
      }
    },
    {
      "cell_type": "code",
      "source": [
        "# Tulis code Anda disini"
      ],
      "metadata": {
        "id": "FhNpi0XsN0yQ"
      },
      "execution_count": null,
      "outputs": []
    },
    {
      "cell_type": "markdown",
      "source": [
        "**Kunci jawaban**\n",
        "\n",
        "---"
      ],
      "metadata": {
        "id": "SMCil7J_N0yQ"
      }
    },
    {
      "cell_type": "code",
      "source": [
        "# Tulis code Anda disini\n",
        "\n",
        "# Buat class ItemInventory\n",
        "class ItemInventory:\n",
        "\n",
        "    # Buat Inisialisasi class\n",
        "    def __init__(self):\n",
        "\n",
        "        # Inisialisasi dictionary kosong untuk menyimpan item\n",
        "        self.items = {}\n",
        "\n",
        "    # Method untuk menambahkan item ke inventori\n",
        "    def add_item(self, item_name, price, quantity):\n",
        "\n",
        "        # Buat statetment\n",
        "\n",
        "        # Periksa apakah item_name sudah ada di inventori\n",
        "        if item_name in self.items:\n",
        "\n",
        "            # Kondisi Jika sudah ada, perbarui quantity\n",
        "            self.items[item_name]['quantity'] += quantity\n",
        "\n",
        "        # Kondisi jika belum ada\n",
        "        else:\n",
        "\n",
        "            # Jika belum ada, tambahkan item baru ke inventori\n",
        "            self.items[item_name] = {'price': price, 'quantity': quantity}\n",
        "\n",
        "    # Method untuk mengambil quantity item\n",
        "    def get_item(self, item_name, quantity):\n",
        "\n",
        "        # Periksa apakah item_name ada di inventori\n",
        "        if item_name in self.items:\n",
        "\n",
        "            # Kurangi jumlah quantity yang diambil\n",
        "            self.items[item_name]['quantity'] -= quantity\n",
        "\n",
        "    # Method untuk mendapatkan detail item berdasarkan nama\n",
        "    def item_details(self, item_name):\n",
        "\n",
        "        # Return dictionary pada items\n",
        "        return self.items.get(item_name)\n",
        "\n",
        "# Buat instance ItemInventory\n",
        "item_inventory = ItemInventory()\n",
        "\n",
        "# Buat inputan menggunakan method add_item\n",
        "item_inventory.add_item(item_name=\"Snack A\", price=5000, quantity=10)\n",
        "\n",
        "# Buat judul tampilan\n",
        "print(\"Item di dalam inventory :\")\n",
        "\n",
        "# Tampilkan informasi item dictionary menggunakan method item_inventory\n",
        "print(\"Informasi Item 'Snack A':\", item_inventory.item_details(\"Snack A\"))\n",
        "\n",
        "# Ambil jumlah item\n",
        "item_inventory.get_item(item_name=\"Snack A\", quantity=2)\n",
        "\n",
        "# Beri jarak pesan\n",
        "print(\"\\n\")\n",
        "print(\"Persediaan Item setelah diambil :\")\n",
        "\n",
        "# Tampilkan informasi item setelah pembaruan kuantitas\n",
        "print(\"Informasi Item 'Snack A' setelah diambil:\", item_inventory.item_details(\"Snack A\"))"
      ],
      "metadata": {
        "colab": {
          "base_uri": "https://localhost:8080/"
        },
        "id": "l66OSY0RN0yQ",
        "outputId": "445b15e4-91f0-46a6-946a-df1ef1661352"
      },
      "execution_count": null,
      "outputs": [
        {
          "output_type": "stream",
          "name": "stdout",
          "text": [
            "Item di dalam inventory :\n",
            "Informasi Item 'Snack A': {'price': 5000, 'quantity': 10}\n",
            "\n",
            "\n",
            "Persediaan Item setelah diambil :\n",
            "Informasi Item 'Snack A' setelah diambil: {'price': 5000, 'quantity': 8}\n"
          ]
        }
      ]
    },
    {
      "cell_type": "markdown",
      "source": [
        "## Task 14\n",
        "\n",
        "---"
      ],
      "metadata": {
        "id": "Al65dkjZkc2l"
      }
    },
    {
      "cell_type": "markdown",
      "source": [
        "**Soal**\n",
        "\n",
        "---"
      ],
      "metadata": {
        "id": "mkP1e_7_keWU"
      }
    },
    {
      "cell_type": "markdown",
      "source": [
        "Buatlah sebuah aplikasi pemesanan online sederhana menggunakan Python!"
      ],
      "metadata": {
        "id": "vM3HNls4IPuY"
      }
    },
    {
      "cell_type": "markdown",
      "source": [
        "**Intruksi**\n",
        "\n",
        "- Buatlah sebuah class `PemesananBarang`\n",
        "    - Tambahkan initial `__init__` pada class\n",
        "        - Tambahkan attribute `nama_toko` dan buatlah variable yang berisi list kosong\n",
        "            - Misal :\n",
        "                - `nama_toko` adalah TOKO ABC, bertipe `str`\n",
        "    - Tambahkan method `pesan_barang` yang berisi attribute `nama_barang` dan `jumlah`.\n",
        "        - Misal :\n",
        "            - `nama_barang` adalah Laptop, bertipe `str`\n",
        "            - `jumlah` adalah 5, bertipe `int`\n",
        "        - Buatlah dictionary untuk menyimpan inputan tersebut lalu tambahkan ke dalam list kosong di initial\n",
        "    - Tambahkan method `tampilkan_pesanan` untuk menampilkan daftar pesanan pada list di initial\n",
        "        - Lakukan perulangan menggunakan sintaks `for` untuk menampilkan semua pesanan yang ada di dalam list tersebut\n",
        "    - Tambahkan method `hitung_total_pesanan` untuk menampilkan jumlah pesanan\n",
        "        - Lakukan perulangan dengan sintaks `for` untuk menghitung jumlah pada attribute `jumlah`\n",
        "        - Tampilkan hasil perhitungannya!\n",
        "- Buatlah instance `pemesanan_toko`\n",
        "    - Tambahkan classs `PemesananBarang` dan attribute `nama_toko`\n",
        "- Gunakan method `pesan_barang` untuk menambahkan pesanan\n",
        "- Gunakan method `tampilkan_pesanan` untuk menampilkan daftar pesanan\n",
        "- Gunakan method `hitung_total_pesanan` untuk menghitung jumlah pesanan    "
      ],
      "metadata": {
        "id": "i4DIxbOCkf_F"
      }
    },
    {
      "cell_type": "markdown",
      "source": [
        "**Contoh Input:**\n",
        "\n",
        "---"
      ],
      "metadata": {
        "id": "oyXK-qYnkgHb"
      }
    },
    {
      "cell_type": "markdown",
      "source": [
        "```python\n",
        "nama_toko = \"Toko ABC\"\n",
        "nama_barang = \"Laptop\"\n",
        "jumlah = 5\n",
        "```"
      ],
      "metadata": {
        "id": "qAslNHzlkifD"
      }
    },
    {
      "cell_type": "markdown",
      "source": [
        "**Contoh Output:**\n",
        "\n",
        "---"
      ],
      "metadata": {
        "id": "v6ovvdIdkioG"
      }
    },
    {
      "cell_type": "markdown",
      "source": [
        "```python\n",
        "Pesanan 5 Laptop berhasil dipesan dari Toko ABC\n",
        "\n",
        "Daftar Pesanan di Toko ABC:\n",
        "5 Laptop\n",
        "Total barang yang dipesan: 5\n",
        "```"
      ],
      "metadata": {
        "id": "LY-s6jr4kkzx"
      }
    },
    {
      "cell_type": "markdown",
      "source": [
        "**Code disini!**\n",
        "\n",
        "---"
      ],
      "metadata": {
        "id": "ziXuXcEtklCi"
      }
    },
    {
      "cell_type": "code",
      "source": [
        "# Tulis code Anda disini"
      ],
      "metadata": {
        "id": "eMZ8zVeUk29h"
      },
      "execution_count": null,
      "outputs": []
    },
    {
      "cell_type": "markdown",
      "source": [
        "**Kunci Jawaban**"
      ],
      "metadata": {
        "id": "UVgkK_PRkqRD"
      }
    },
    {
      "cell_type": "code",
      "source": [
        "# Tulis code Anda disini\n",
        "\n",
        "# Buat class PemesananBarang\n",
        "class PemesananBarang:\n",
        "\n",
        "    # Buat initial class\n",
        "    def __init__(self, nama_toko):\n",
        "        self.nama_toko = nama_toko\n",
        "\n",
        "        # Buat daftar_pesanan dengan list kosong\n",
        "        self.daftar_pesanan = []\n",
        "\n",
        "    # Buat method pesan_barang\n",
        "    def pesan_barang(self, nama_barang, jumlah):\n",
        "\n",
        "        # Simpan attribute method pesan_barang dalam bentuk dict\n",
        "        pesanan = {'Nama Barang': nama_barang, 'Jumlah': jumlah}\n",
        "\n",
        "        # Simpan daftar pesanan ke dalam list\n",
        "        self.daftar_pesanan.append(pesanan)\n",
        "        print(f\"Pesanan {jumlah} {nama_barang} berhasil dipesan dari {self.nama_toko}\")\n",
        "\n",
        "    # Buat method tampilkan_pesanan\n",
        "    def tampilkan_pesanan(self):\n",
        "\n",
        "        # Tampilkan daftar pesanan nama_toko\n",
        "        print(f\"Daftar Pesanan di {self.nama_toko}:\")\n",
        "\n",
        "        # Perulangan untuk menampilkan daftar_pesanan\n",
        "        for pesanan in self.daftar_pesanan:\n",
        "            print(f\"{pesanan['Jumlah']} {pesanan['Nama Barang']}\")\n",
        "\n",
        "    # Buat method hitung_total_pesanan\n",
        "    def hitung_total_pesanan(self):\n",
        "\n",
        "        # Jumlah kan total pesanan menggunakan perulangan for\n",
        "        total = sum(pesanan['Jumlah'] for pesanan in self.daftar_pesanan)\n",
        "\n",
        "        # Tampilkan total pesanan\n",
        "        print(f\"Total barang yang dipesan: {total}\")\n",
        "\n",
        "# Buat instance\n",
        "pemesanan_toko = PemesananBarang(nama_toko = \"Toko ABC\")\n",
        "\n",
        "# Gunakan method pesan barang untuk menambahkan pesanan\n",
        "pemesanan_toko.pesan_barang(nama_barang = \"Laptop\", jumlah = 5)\n",
        "\n",
        "print(\"\\n\")\n",
        "# Gunakan method tampilkan_pesanan untuk menampilkan daftar pesanan\n",
        "pemesanan_toko.tampilkan_pesanan()\n",
        "\n",
        "# Gunakan method hitung_total_pesanan untuk menghitung jumlah pesanan\n",
        "pemesanan_toko.hitung_total_pesanan()"
      ],
      "metadata": {
        "colab": {
          "base_uri": "https://localhost:8080/"
        },
        "id": "97iaUnl6k3bh",
        "outputId": "80f5902b-f729-42bf-fb7e-dbc624d9ce27"
      },
      "execution_count": null,
      "outputs": [
        {
          "output_type": "stream",
          "name": "stdout",
          "text": [
            "Pesanan 5 Laptop berhasil dipesan dari Toko ABC\n",
            "\n",
            "\n",
            "Daftar Pesanan di Toko ABC:\n",
            "5 Laptop\n",
            "Total barang yang dipesan: 5\n"
          ]
        }
      ]
    },
    {
      "cell_type": "markdown",
      "source": [
        "## Task 15\n",
        "\n",
        "---"
      ],
      "metadata": {
        "id": "2Pip0ZSYN7si"
      }
    },
    {
      "cell_type": "markdown",
      "source": [
        "**Soal**\n",
        "\n",
        "---"
      ],
      "metadata": {
        "id": "903I5chON7sj"
      }
    },
    {
      "cell_type": "markdown",
      "source": [
        "Buatlah sebuah aplikasi Inventory Management System sederhana menggunakan Python!"
      ],
      "metadata": {
        "id": "9W7Piw_gIanM"
      }
    },
    {
      "cell_type": "markdown",
      "source": [
        "**Intruksi**\n",
        "\n",
        "- Buatlah sebuah class `InventorySistem`\n",
        "    - Tambahkan initial `__init__` pada class\n",
        "        - Tambahkan attribute `product_id`, `name`, `price`, dan `stock_quantity`\n",
        "        - Misal :\n",
        "            - `product_id` adalah P001, bertipe `int`\n",
        "            - `name` adalah Laptop, bertipe `str`\n",
        "            - `price` adalah 1200, bertipe `int`\n",
        "            - `stock_quantity` adalah 50, bertipe `int`\n",
        "    - Tambahkan method `display_info` untuk menampilkan inputan inventory\n",
        "    - Tambahkan method `sell` untuk menjual produk yang ada di inventory\n",
        "        - Tambahkan attribute `quantity_sell` dan default `product_name_sell=None`\n",
        "        - Misal :\n",
        "            - `quantity_sell` adalah 5, bertipe `int`\n",
        "        - Buat kondisi :\n",
        "            - Jika nama produk tidak diberikan atau sesuai dengan nama produk saat ini, maka buat kondisi lagi.\n",
        "                - Jika stok mencukupi untuk dijual, maka kurangkan `stock_quantity` sesuai keinginan pengguna\n",
        "                - Jika tidak, maka tampilkan pesan **Stok tidak cukup untuk dijual 2 pada unit laptop**\n",
        "            - Jika nama produk tidak ditemukan, maka tampilkan **Produk dengan nama kawasaki tidak ditemukan**\n",
        "    - Tambahkan method `restock` untuk stock ulang quantity_stock pada inventory\n",
        "- Buat instance `product1` yang berisi class `InventorySistem` dan attributenya\n",
        "- Gunakan method display_info untuk menampilkan inventory\n",
        "- Gunakan method sell untuk memilih jumlah dan nama produk yang akan di jual\n",
        "- Gunakan method display_info untuk menampilkan inventory setelah dijual\n",
        "- Gunakan method restock untuk stock ulang inventory\n",
        "- Gunakan method display_info untuk menampilkan inventory setelah di re-stock"
      ],
      "metadata": {
        "id": "e_45XsZPN7sj"
      }
    },
    {
      "cell_type": "markdown",
      "source": [
        "**Contoh Input:**\n",
        "\n",
        "---"
      ],
      "metadata": {
        "id": "4HhUzntfN7sj"
      }
    },
    {
      "cell_type": "markdown",
      "source": [
        "```python\n",
        "product_id=\"P001\"\n",
        "name=\"Laptop\"\n",
        "price=1200\n",
        "stock_quantity=50\n",
        "quantity_sell=5\n",
        "product_name_sell=\"Laptop\"\n",
        "quantity_restock=10\n",
        "```"
      ],
      "metadata": {
        "id": "AjrwfBzAN7sj"
      }
    },
    {
      "cell_type": "markdown",
      "source": [
        "**Contoh Output:**\n",
        "\n",
        "---"
      ],
      "metadata": {
        "id": "5XqqQe3DN7sj"
      }
    },
    {
      "cell_type": "markdown",
      "source": [
        "```python\n",
        "Tampilkan produk yang baru dimasukan :\n",
        "Product ID: P001\n",
        "Name: Laptop\n",
        "Price: $1200\n",
        "Stock Quantity: 50\n",
        "\n",
        "Tampilkan produk yang dijual :\n",
        "Sold 5 units of Laptop.\n",
        "Product ID: P001\n",
        "Name: Laptop\n",
        "Price: $1200\n",
        "Stock Quantity: 45\n",
        "\n",
        "Tampilkan produk yang direstock :\n",
        "Restocked 10 units of Laptop.\n",
        "Product ID: P001\n",
        "Name: Laptop\n",
        "Price: $1200\n",
        "Stock Quantity: 55\n",
        "\n",
        "```"
      ],
      "metadata": {
        "id": "fbppd-sTN7sj"
      }
    },
    {
      "cell_type": "markdown",
      "source": [
        "**Code disini!**\n",
        "\n",
        "---"
      ],
      "metadata": {
        "id": "UKFySo-oN7sj"
      }
    },
    {
      "cell_type": "code",
      "source": [
        "# Tulis code Anda disini"
      ],
      "metadata": {
        "id": "ylwQ8YWGN7sk"
      },
      "execution_count": null,
      "outputs": []
    },
    {
      "cell_type": "markdown",
      "source": [
        "**Kunci jawaban**\n",
        "\n",
        "---"
      ],
      "metadata": {
        "id": "KK03iRQeN7sk"
      }
    },
    {
      "cell_type": "code",
      "source": [
        "# Tulis code Anda disini\n",
        "\n",
        "# Buat class Product\n",
        "class InventorySistem:\n",
        "\n",
        "    # Buat initial class\n",
        "    def __init__(self, product_id, name, price, stock_quantity):\n",
        "        self.product_id = product_id\n",
        "        self.name = name\n",
        "        self.price = price\n",
        "        self.stock_quantity = stock_quantity\n",
        "\n",
        "    # Buat method display_info\n",
        "    def display_info(self):\n",
        "        print(f\"Product ID: {self.product_id}\")\n",
        "        print(f\"Name: {self.name}\")\n",
        "        print(f\"Price: ${self.price}\")\n",
        "        print(f\"Stock Quantity: {self.stock_quantity}\")\n",
        "\n",
        "    # Buat method sell\n",
        "    def sell(self, quantity_sell, product_name_sell=None):\n",
        "\n",
        "        # Kondisi jika nama produk tidak diberikan atau sesuai dengan nama produk saat ini\n",
        "        if product_name_sell is None or product_name_sell.lower() == self.name.lower():\n",
        "\n",
        "            # Kondisi jika stok mencukupi untuk dijual\n",
        "            if quantity_sell <= self.stock_quantity:\n",
        "\n",
        "                # Kurangkan jumlah stock_quantity\n",
        "                self.stock_quantity -= quantity_sell\n",
        "\n",
        "            # Kondisi jika tidak mencukupi\n",
        "            else:\n",
        "                print(f\"Stok tidak cukup untuk dijual{quantity_sell} pada unit {self.name}.\")\n",
        "\n",
        "        # Kondisi jika product_name tidak ditemukan\n",
        "        else:\n",
        "            print(f\"Produk dengan nama {product_name_sell} tidak ditemukan.\")\n",
        "\n",
        "    # Buat method restock\n",
        "    def restock(self, quantity_restock):\n",
        "\n",
        "        # Tambahkan stock_quantity\n",
        "        self.stock_quantity += quantity_restock\n",
        "\n",
        "# Buat instance\n",
        "product1 = InventorySistem(product_id=\"P001\",\n",
        "                           name=\"Laptop\",\n",
        "                           price=1200,\n",
        "                           stock_quantity=50)\n",
        "\n",
        "print(\"Tampilkan produk yang baru dimasukan :\")\n",
        "\n",
        "# Gunakan method display_info untuk menampilkan inventory\n",
        "product1.display_info()\n",
        "print(\"\\n\")\n",
        "print(\"Tampilkan produk yang dijual :\")\n",
        "\n",
        "# Gunakan method sell untuk memilih jumlah dan nama produk yang akan di jual\n",
        "product1.sell(quantity_sell=5, product_name_sell=\"Laptop\")\n",
        "\n",
        "# Gunakan method display_info untuk menampilkan inventory setelah dijual\n",
        "product1.display_info()\n",
        "print(\"\\n\")\n",
        "print(\"Tampilkan produk yang direstock :\")\n",
        "\n",
        "# Gunakan method restock untuk stock ulang inventory\n",
        "product1.restock(quantity_restock=10)\n",
        "\n",
        "# Gunakan method display_info untuk menampilkan inventory setelah di re-stock\n",
        "product1.display_info()"
      ],
      "metadata": {
        "id": "LTkHl--CN7sk",
        "colab": {
          "base_uri": "https://localhost:8080/"
        },
        "outputId": "ac3ae1bd-d520-4416-c251-b3c98c983d4b"
      },
      "execution_count": null,
      "outputs": [
        {
          "output_type": "stream",
          "name": "stdout",
          "text": [
            "Tampilkan produk yang baru dimasukan :\n",
            "Product ID: P001\n",
            "Name: Laptop\n",
            "Price: $1200\n",
            "Stock Quantity: 50\n",
            "\n",
            "\n",
            "Tampilkan produk yang dijual :\n",
            "Product ID: P001\n",
            "Name: Laptop\n",
            "Price: $1200\n",
            "Stock Quantity: 45\n",
            "\n",
            "\n",
            "Tampilkan produk yang direstock :\n",
            "Product ID: P001\n",
            "Name: Laptop\n",
            "Price: $1200\n",
            "Stock Quantity: 55\n"
          ]
        }
      ]
    }
  ]
}