{
  "nbformat": 4,
  "nbformat_minor": 0,
  "metadata": {
    "colab": {
      "provenance": [],
      "authorship_tag": "ABX9TyPLkGANmHjz/kNgp9Dmr3qy",
      "include_colab_link": true
    },
    "kernelspec": {
      "name": "python3",
      "display_name": "Python 3"
    },
    "language_info": {
      "name": "python"
    }
  },
  "cells": [
    {
      "cell_type": "markdown",
      "metadata": {
        "id": "view-in-github",
        "colab_type": "text"
      },
      "source": [
        "<a href=\"https://colab.research.google.com/github/afaafa/afaafa/blob/main/function.ipynb\" target=\"_parent\"><img src=\"https://colab.research.google.com/assets/colab-badge.svg\" alt=\"Open In Colab\"/></a>"
      ]
    },
    {
      "cell_type": "code",
      "execution_count": 2,
      "metadata": {
        "colab": {
          "base_uri": "https://localhost:8080/"
        },
        "id": "TH9z0ECRGT5V",
        "outputId": "414130d5-cf57-4521-d0af-7e5c46d2e4e2"
      },
      "outputs": [
        {
          "output_type": "stream",
          "name": "stdout",
          "text": [
            "19000.0\n"
          ]
        }
      ],
      "source": [
        "data_belanja = 20_000\n",
        "diskon = 0.05\n",
        "\n",
        "if data_belanja > 15_000:\n",
        "  diskon = data_belanja * diskon\n",
        "  pembayaran = data_belanja - diskon\n",
        "  print(pembayaran)\n",
        "else:\n",
        "  print(data_belanja)"
      ]
    },
    {
      "cell_type": "code",
      "source": [
        "def belanja(data_belanja, diskon):\n",
        "  if data_belanja > 15_000:\n",
        "    diskon = data_belanja * diskon\n",
        "    pembayaran = data_belanja - diskon\n",
        "    print(pembayaran)\n",
        "  else:\n",
        "    print(data_belanja)\n",
        "\n",
        "belanja(data_belanja = 20_000, diskon = 0.05)"
      ],
      "metadata": {
        "colab": {
          "base_uri": "https://localhost:8080/"
        },
        "id": "XbmBRmRFK2lZ",
        "outputId": "3c3fa5e9-dd3c-49b0-8d2a-82cc9cbb6b14"
      },
      "execution_count": 4,
      "outputs": [
        {
          "output_type": "stream",
          "name": "stdout",
          "text": [
            "19000.0\n"
          ]
        }
      ]
    },
    {
      "cell_type": "code",
      "source": [
        "#isilah titik-titik dibawah ini\n",
        "#fungsi dengan parameter\n",
        "def jadwal_catering(hari):\n",
        "    if str.lower(hari) == 'senin':\n",
        "        print(\"Menu makan hari Senin adalah Nasi Kuning\")\n",
        "    elif str.lower(hari) == 'selasa':\n",
        "        print(\"Menu makan hari Selasa adalah Salad Sayur\")\n",
        "    elif str.lower(hari) == 'rabu':\n",
        "        print(\"Menu makan hari Rabu adalah Soto Ayam\")\n",
        "    elif str.lower(hari) == 'kamis':\n",
        "        print(\"Menu makan hari Kamis adalah Nasi Goreng\")\n",
        "    elif str.lower(hari) == 'jumat':\n",
        "        print(\"Menu makan hari Jumat adalah Rawon\")\n",
        "    else:\n",
        "        print(\"Menu makan tidak tersedia\")\n",
        "\n",
        "jadwal_catering('SELASA')"
      ],
      "metadata": {
        "colab": {
          "base_uri": "https://localhost:8080/"
        },
        "id": "6ziLlbLDY2UL",
        "outputId": "0d218ce2-9a4a-4451-9408-ad35c3ebb971"
      },
      "execution_count": 6,
      "outputs": [
        {
          "output_type": "stream",
          "name": "stdout",
          "text": [
            "Menu makan hari Selasa adalah Salad Sayur\n"
          ]
        }
      ]
    },
    {
      "cell_type": "markdown",
      "source": [
        "step buat function :\n",
        "buat nama function\n",
        "buat parameter\n",
        "buat perhitungan\n",
        "buat tampilan hasil perhitungan"
      ],
      "metadata": {
        "id": "omwWqEzDIJCC"
      }
    },
    {
      "cell_type": "code",
      "source": [
        "def pegawai(nama, departemen, tahun):\n",
        "    print(f'{nama}, merupakan karyawab dari departemen {departemen} sejak tahun {str(tahun)}')\n",
        "\n",
        "# memanggil fungsi\n",
        "pegawai(nama = 'Chaidar Abdul'  , departemen = 'public relation' , tahun = 2010)\n",
        "pegawai(nama = 'Fajariyah Ainun'  , departemen = 'marketing' , tahun = 2014)"
      ],
      "metadata": {
        "colab": {
          "base_uri": "https://localhost:8080/"
        },
        "id": "9T7i5pZocwVG",
        "outputId": "2c45e413-2cc4-471f-b165-20785d93a6b1"
      },
      "execution_count": 7,
      "outputs": [
        {
          "output_type": "stream",
          "name": "stdout",
          "text": [
            "Chaidar Abdul, merupakan karyawab dari departemen public relation sejak tahun 2010\n",
            "Fajariyah Ainun, merupakan karyawab dari departemen marketing sejak tahun 2014\n"
          ]
        }
      ]
    },
    {
      "cell_type": "code",
      "source": [
        "def profit(jumlah_produk, harga_jual, biaya_produksi):\n",
        "    total_sales = jumlah_produk * harga_jual\n",
        "    total_cost = jumlah_produk * biaya_produksi\n",
        "    hitung_profit = total_sales - total_cost\n",
        "    return hitung_profit\n",
        "\n",
        "# memanggil fungsi\n",
        "profit(2, 1_000_000, 750_000)"
      ],
      "metadata": {
        "colab": {
          "base_uri": "https://localhost:8080/"
        },
        "id": "DAKqexfShHP7",
        "outputId": "34e94f6f-b4be-4110-927e-eee48ed82dd0"
      },
      "execution_count": 8,
      "outputs": [
        {
          "output_type": "execute_result",
          "data": {
            "text/plain": [
              "500000"
            ]
          },
          "metadata": {},
          "execution_count": 8
        }
      ]
    },
    {
      "cell_type": "code",
      "source": [
        "def harga_diskon2(harga, barang, diskon=0.05):\n",
        "    \"\"\"\n",
        "    Fungsi untuk menghitung harga diskon.\n",
        "\n",
        "    Parameter:\n",
        "    ---------\n",
        "      harga : int/float\n",
        "          Harga barang sebelum diskon.\n",
        "\n",
        "      barang : string\n",
        "          nama barang yang akan dihitung\n",
        "\n",
        "      diskon : 0.05\n",
        "          default diskon yang diberikan\n",
        "\n",
        "    Returns:\n",
        "    --------\n",
        "      harga_akhir : int/float :\n",
        "          Harga setelah diskon.\n",
        "    \"\"\"\n",
        "    diskon = 10/100\n",
        "    harga_akhir = int(harga * (1 - diskon))\n",
        "    return harga_akhir"
      ],
      "metadata": {
        "id": "R7IU6t0h5fAv"
      },
      "execution_count": null,
      "outputs": []
    },
    {
      "cell_type": "code",
      "source": [
        "#Kasus pertama\n",
        "# Lengkapi titik-titik dibawah ini\n",
        "def pajak_penghasilan(penghasilan, pajak = 0.01):\n",
        "    \"\"\"\n",
        "    fungsi ini untuk menghitung pajak penghasilan\n",
        "\n",
        "    parameters:\n",
        "    ----------\n",
        "    penghasilan : int/float\n",
        "        penghasilan yang diterima pegawai\n",
        "\n",
        "    pajak : 0.1\n",
        "        tarif pajak yang harus dibayarkan\n",
        "\n",
        "    returns:\n",
        "    --------\n",
        "    pph : int/float\n",
        "        besaran penghasilan yang diterima pegawai setelah terkena pajak\n",
        "\n",
        "    \"\"\"\n",
        "    pph = penghasilan * pajak\n",
        "\n",
        "    return pph"
      ],
      "metadata": {
        "id": "JRttShb_6s0i"
      },
      "execution_count": null,
      "outputs": []
    },
    {
      "cell_type": "code",
      "source": [
        "#fungsi biasa\n",
        "def sentence(nama):\n",
        "    sapa = f\"Hello, {nama}\"\n",
        "    print(sapa)\n",
        "\n",
        "sentence(\"World!\")\n",
        "sentence(\"Friends!\")\n",
        "\n",
        "def sentence(angka_1, angka_2):\n",
        "    hasil = angka_1 + angka_2\n",
        "    print(hasil)\n",
        "\n",
        "sentence(1,1)\n",
        "\n",
        "hasil = lambda angka_1, angka_2: angka_1 + angka_2\n",
        "\n",
        "hasil(1,2)"
      ],
      "metadata": {
        "id": "CIac9kRT-oQG"
      },
      "execution_count": null,
      "outputs": []
    }
  ]
}