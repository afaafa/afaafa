{
  "nbformat": 4,
  "nbformat_minor": 0,
  "metadata": {
    "colab": {
      "provenance": [],
      "toc_visible": true,
      "include_colab_link": true
    },
    "kernelspec": {
      "name": "python3",
      "display_name": "Python 3"
    },
    "language_info": {
      "name": "python"
    }
  },
  "cells": [
    {
      "cell_type": "markdown",
      "metadata": {
        "id": "view-in-github",
        "colab_type": "text"
      },
      "source": [
        "<a href=\"https://colab.research.google.com/github/afaafa/afaafa/blob/main/Copy_of_Python_06_Looping_%5BKUNCI_JAWABAN%5D.ipynb\" target=\"_parent\"><img src=\"https://colab.research.google.com/assets/colab-badge.svg\" alt=\"Open In Colab\"/></a>"
      ]
    },
    {
      "cell_type": "markdown",
      "source": [
        "# Day 6 - Looping\n",
        "---\n",
        "\n",
        "Python Programming - Sekolah Data - Pacmann AI"
      ],
      "metadata": {
        "id": "cDvvlBDkX7iY"
      }
    },
    {
      "cell_type": "markdown",
      "source": [
        "## Task 1\n",
        "---"
      ],
      "metadata": {
        "id": "Dl9LVmpTHjL7"
      }
    },
    {
      "cell_type": "markdown",
      "source": [
        "**Soal**\n",
        "\n",
        "---"
      ],
      "metadata": {
        "id": "ZMx5M2pCHm76"
      }
    },
    {
      "cell_type": "markdown",
      "source": [
        "- Print angka 1 sampai $n$ menggunakan sintaks `for` pada Python!"
      ],
      "metadata": {
        "id": "8C0t5NFFHjL8"
      }
    },
    {
      "cell_type": "markdown",
      "source": [
        "**Contoh Input:**\n",
        "\n",
        "---"
      ],
      "metadata": {
        "id": "uM6vMSN1Hx3U"
      }
    },
    {
      "cell_type": "markdown",
      "source": [
        "```python\n",
        "n = 10\n",
        "```"
      ],
      "metadata": {
        "id": "YAYlmw7lH9Ne"
      }
    },
    {
      "cell_type": "markdown",
      "source": [
        "**Contoh Output:**\n",
        "\n",
        "---"
      ],
      "metadata": {
        "id": "SF19-2RuH5dK"
      }
    },
    {
      "cell_type": "markdown",
      "source": [
        "```\n",
        "1\n",
        "2\n",
        "3\n",
        "4\n",
        "5\n",
        "6\n",
        "7\n",
        "8\n",
        "9\n",
        "10\n",
        "```"
      ],
      "metadata": {
        "id": "PISbwpi7H9Ne"
      }
    },
    {
      "cell_type": "markdown",
      "source": [
        "**Code disini!**\n",
        "\n",
        "---"
      ],
      "metadata": {
        "id": "LqCKjjptIGts"
      }
    },
    {
      "cell_type": "code",
      "source": [
        "# Tulis code Anda disini"
      ],
      "metadata": {
        "id": "c3NNFRTnIIsy"
      },
      "execution_count": null,
      "outputs": []
    },
    {
      "cell_type": "markdown",
      "source": [
        "**Kunci jawaban**\n",
        "\n",
        "---"
      ],
      "metadata": {
        "id": "7VkuOW-NIUPV"
      }
    },
    {
      "cell_type": "code",
      "source": [
        "# Tulis code Anda disini\n",
        "\n",
        "# Variable n\n",
        "n = 10\n",
        "\n",
        "# Looping angka n\n",
        "for angka in range(1, n+1):\n",
        "    print(angka)"
      ],
      "metadata": {
        "colab": {
          "base_uri": "https://localhost:8080/"
        },
        "outputId": "2700244a-145b-4bd3-f9a9-3d19a41ff1f4",
        "id": "T0rhZ1lXHjL9"
      },
      "execution_count": null,
      "outputs": [
        {
          "output_type": "stream",
          "name": "stdout",
          "text": [
            "1\n",
            "2\n",
            "3\n",
            "4\n",
            "5\n",
            "6\n",
            "7\n",
            "8\n",
            "9\n",
            "10\n"
          ]
        }
      ]
    },
    {
      "cell_type": "markdown",
      "source": [
        "## Task 2\n",
        "\n",
        "---"
      ],
      "metadata": {
        "id": "QRpt9JqQZq2i"
      }
    },
    {
      "cell_type": "markdown",
      "source": [
        "**Soal**\n",
        "\n",
        "---"
      ],
      "metadata": {
        "id": "AHvLYStCCoh3"
      }
    },
    {
      "cell_type": "markdown",
      "source": [
        "Buatlah sebuah variable `kata` yang berisi saya suka makan nasi pecel, kemudian lakukan perulangan menggunakan sintaks `for` sebanyak `n`!"
      ],
      "metadata": {
        "id": "5_dz_wB6fpk-"
      }
    },
    {
      "cell_type": "markdown",
      "source": [
        "**Contoh Input:**\n",
        "\n",
        "---"
      ],
      "metadata": {
        "id": "_ddxTAX7hX59"
      }
    },
    {
      "cell_type": "markdown",
      "source": [
        "```python\n",
        "kata = \"saya suka makan nasi pecel\"\n",
        "n = 5\n",
        "```"
      ],
      "metadata": {
        "id": "YPLCOaxRC6Mf"
      }
    },
    {
      "cell_type": "markdown",
      "source": [
        "**Contoh Output:**\n",
        "\n",
        "---"
      ],
      "metadata": {
        "id": "FO1jyYnbhiuC"
      }
    },
    {
      "cell_type": "markdown",
      "source": [
        "```python\n",
        "Saya suka makan nasi pecel\n",
        "Saya suka makan nasi pecel\n",
        "Saya suka makan nasi pecel\n",
        "Saya suka makan nasi pecel\n",
        "Saya suka makan nasi pecel\n",
        "```"
      ],
      "metadata": {
        "id": "1MOOflYihcr4"
      }
    },
    {
      "cell_type": "markdown",
      "source": [
        "**Code disini!**\n",
        "\n",
        "---"
      ],
      "metadata": {
        "id": "dN7NqgvBDMQN"
      }
    },
    {
      "cell_type": "code",
      "source": [
        "# Tulis code Anda disini"
      ],
      "metadata": {
        "id": "SgDpT6UADMQT"
      },
      "execution_count": null,
      "outputs": []
    },
    {
      "cell_type": "markdown",
      "source": [
        "**Kunci jawaban**\n",
        "\n",
        "---"
      ],
      "metadata": {
        "id": "pvnGYg3MDMQT"
      }
    },
    {
      "cell_type": "code",
      "execution_count": null,
      "metadata": {
        "colab": {
          "base_uri": "https://localhost:8080/"
        },
        "id": "R_5k3znhZkQq",
        "outputId": "9bb33dcf-b3e4-4818-86c4-29be398296f7"
      },
      "outputs": [
        {
          "output_type": "stream",
          "name": "stdout",
          "text": [
            "Saya suka makan nasi pecel\n",
            "Saya suka makan nasi pecel\n",
            "Saya suka makan nasi pecel\n",
            "Saya suka makan nasi pecel\n",
            "Saya suka makan nasi pecel\n"
          ]
        }
      ],
      "source": [
        "# Tulis code Anda disini\n",
        "\n",
        "# Variable kata\n",
        "kata = \"Saya suka makan nasi pecel\"\n",
        "\n",
        "# Variable n\n",
        "n = 5\n",
        "\n",
        "# Looping angka n\n",
        "for i in range(n) :\n",
        "\n",
        "    # Tampilkan kata\n",
        "    print(kata)"
      ]
    },
    {
      "cell_type": "markdown",
      "source": [
        "## Task 3\n",
        "\n",
        "---"
      ],
      "metadata": {
        "id": "gYiiyqwtpai6"
      }
    },
    {
      "cell_type": "markdown",
      "source": [
        "**Soal**\n",
        "\n",
        "---"
      ],
      "metadata": {
        "id": "UZ8BngWQDZ4O"
      }
    },
    {
      "cell_type": "markdown",
      "source": [
        "- Buatlah sebuah range angka 1 sampai 10, lakukan perulangan menggunakan sintaks `for` pada angka tersebut.\n",
        "- Buatlah variable `n1` berisi 1 dan `n2` berisi 11"
      ],
      "metadata": {
        "id": "ink4_3x1pbz3"
      }
    },
    {
      "cell_type": "markdown",
      "source": [
        "Buatlah kondisi :\n",
        "\n",
        "- Jika diantara 1 sampai 10 terdapat angka genap maka ganti angka tersebut dengan kata **genap**!\n",
        "- Jika bukan angka genap maka tampilkan angka tersebut"
      ],
      "metadata": {
        "id": "Hy8CDkEYD7Dp"
      }
    },
    {
      "cell_type": "markdown",
      "source": [
        "**Hint**\n",
        "- Bilangan genap jika hasil sisa bagi sama dengan 0"
      ],
      "metadata": {
        "id": "-IdEq-9spuF4"
      }
    },
    {
      "cell_type": "markdown",
      "source": [
        "**Contoh Input:**\n",
        "\n",
        "---"
      ],
      "metadata": {
        "id": "8zwVs6zIqiT3"
      }
    },
    {
      "cell_type": "markdown",
      "source": [
        "```python\n",
        "n1 = 1\n",
        "n2 = 11\n",
        "```"
      ],
      "metadata": {
        "id": "lRjsBmxBqkRh"
      }
    },
    {
      "cell_type": "markdown",
      "source": [
        "**Contoh output:**\n",
        "\n",
        "---"
      ],
      "metadata": {
        "id": "SdONWaMuqnP2"
      }
    },
    {
      "cell_type": "markdown",
      "source": [
        "```\n",
        "1\n",
        "genap\n",
        "3\n",
        "genap\n",
        "5\n",
        "genap\n",
        "7\n",
        "genap\n",
        "9\n",
        "genap\n",
        "```"
      ],
      "metadata": {
        "id": "YdFqpCfkqrOk"
      }
    },
    {
      "cell_type": "markdown",
      "source": [
        "**Code disini!**\n",
        "\n",
        "---"
      ],
      "metadata": {
        "id": "GPyBnqjFEVWd"
      }
    },
    {
      "cell_type": "code",
      "source": [
        "# Tulis code Anda disini"
      ],
      "metadata": {
        "id": "XDDOmqDsEVWk"
      },
      "execution_count": null,
      "outputs": []
    },
    {
      "cell_type": "markdown",
      "source": [
        "**Kunci jawaban**\n",
        "\n",
        "---"
      ],
      "metadata": {
        "id": "0s3tWsq9EVWk"
      }
    },
    {
      "cell_type": "code",
      "source": [
        "# Tulis code Anda disini\n",
        "\n",
        "# Variable n1 dan n2\n",
        "n1 = 1 # n1\n",
        "n2 = 11 # n2\n",
        "\n",
        "# Looping range 1 sampai 10\n",
        "for i in range(n1, n2):\n",
        "\n",
        "    # Kondisi jika angka tersebut genap\n",
        "    if i % 2 == 0:\n",
        "\n",
        "        # Tampilkan genap\n",
        "        print(\"genap\")\n",
        "\n",
        "    # Kondisi jika tidak genap\n",
        "    else:\n",
        "        print(i)\n"
      ],
      "metadata": {
        "colab": {
          "base_uri": "https://localhost:8080/"
        },
        "id": "Ud3zr_XqpcUp",
        "outputId": "dc9dc955-f39c-43e0-ebe6-1649ec606b87"
      },
      "execution_count": null,
      "outputs": [
        {
          "output_type": "stream",
          "name": "stdout",
          "text": [
            "1\n",
            "genap\n",
            "3\n",
            "genap\n",
            "5\n",
            "genap\n",
            "7\n",
            "genap\n",
            "9\n",
            "genap\n"
          ]
        }
      ]
    },
    {
      "cell_type": "markdown",
      "source": [
        "## Task 4\n",
        "\n",
        "---"
      ],
      "metadata": {
        "id": "Iu1VrzqIh7t7"
      }
    },
    {
      "cell_type": "markdown",
      "source": [
        "**Soal**\n",
        "\n",
        "----"
      ],
      "metadata": {
        "id": "fkuw_ZjvFZ96"
      }
    },
    {
      "cell_type": "markdown",
      "source": [
        "Hitunglah bilangan deret artimatika menggunakan sintaks `for`!"
      ],
      "metadata": {
        "id": "limjCKlbiriO"
      }
    },
    {
      "cell_type": "markdown",
      "source": [
        "**Rumus**"
      ],
      "metadata": {
        "id": "vuQrBNWeEz5Q"
      }
    },
    {
      "cell_type": "markdown",
      "source": [
        "$$\n",
        "\\begin{align*}\n",
        "a_{1} &= 3 \\\\\n",
        "a_{i} &= a_{-1} + d \\\\\n",
        "S_{n} &= a_{n} + a_{n-1} + \\cdots + a_{1}\n",
        "\\end{align*}\n",
        "$$"
      ],
      "metadata": {
        "id": "rzxNDrrNWGAA"
      }
    },
    {
      "cell_type": "markdown",
      "source": [
        "$$ \\text {S_total} = \\text {tambahkan semua suku}$$"
      ],
      "metadata": {
        "id": "HN1RDBoolobO"
      }
    },
    {
      "cell_type": "markdown",
      "source": [
        "Keterangan:\n",
        "- $a_{1}$ adalah suku pertama\n",
        "- $a_{i}$ adalah suku selanjutnya\n",
        "- $d$ adalah selisih antar 2 suku berturut-turut\n",
        "- $S_{n}$ adalah  jumlah total dari ${n}$ suku deret aritmatika."
      ],
      "metadata": {
        "id": "j751uirBFS3B"
      }
    },
    {
      "cell_type": "markdown",
      "source": [
        "Misal :\n",
        "- Suka pertama ($s_{1}$)  = 3\n",
        "- Suku kedua ($s_{2}$) = 3 + 5 = 8\n",
        "- Suku ketiga ($s_{3}$) = 8 + 5 = 13\n",
        "- Suku keempat ($s_{4}$) = 13 + 5 = 18\n",
        "- Suku kelima ($s_{5}$) = 18 + 5 = 23"
      ],
      "metadata": {
        "id": "SLZelRk3FCk5"
      }
    },
    {
      "cell_type": "markdown",
      "source": [
        "**Contoh Input:**\n",
        "\n",
        "---"
      ],
      "metadata": {
        "id": "Z45zTi-ImG4e"
      }
    },
    {
      "cell_type": "markdown",
      "source": [
        "```python\n",
        "suku_pertama = 3\n",
        "selisih = 5\n",
        "jumlah_suku = 5\n",
        "```"
      ],
      "metadata": {
        "id": "lwaLBADAmIW7"
      }
    },
    {
      "cell_type": "markdown",
      "source": [
        "**Contoh Output:**\n",
        "\n",
        "---"
      ],
      "metadata": {
        "id": "3PTUtRbomxXj"
      }
    },
    {
      "cell_type": "markdown",
      "source": [
        "```python\n",
        "Suku ke-1 (a1)= 3, Jumlah deret sementara = 3\n",
        "Suku ke-2 (a2)= 8, Jumlah deret sementara = 11\n",
        "Suku ke-3 (a3)= 13, Jumlah deret sementara = 24\n",
        "Suku ke-4 (a4)= 18, Jumlah deret sementara = 42\n",
        "Suku ke-5 (a5)= 23, Jumlah deret sementara = 65\n",
        "\n",
        "Jumlah deret aritmatika: 65\n",
        "```"
      ],
      "metadata": {
        "id": "ypoujOZDmywt"
      }
    },
    {
      "cell_type": "markdown",
      "source": [
        "**Code disini!**\n",
        "\n",
        "---"
      ],
      "metadata": {
        "id": "Tg8XPwt-FWA0"
      }
    },
    {
      "cell_type": "code",
      "source": [
        "# Tulis code Anda disini"
      ],
      "metadata": {
        "id": "IjEgnu1ZFWA1"
      },
      "execution_count": null,
      "outputs": []
    },
    {
      "cell_type": "markdown",
      "source": [
        "**Kunci jawaban**\n",
        "\n",
        "---"
      ],
      "metadata": {
        "id": "RCGaoBcFFWA1"
      }
    },
    {
      "cell_type": "code",
      "source": [
        "# Tulis code Anda disini\n",
        "\n",
        "# Variabel untuk deret aritmatika\n",
        "suku_pertama = 3\n",
        "selisih = 5\n",
        "jumlah_suku = 5\n",
        "\n",
        "# Penampung hasil\n",
        "jumlah_deret = 0\n",
        "\n",
        "# Hitung dan tampilkan satu per satu\n",
        "for indeks_suku_sebelumnya in range(jumlah_suku):\n",
        "\n",
        "    # Hitung suku ke-i dan tambahkan ke jumlah deret\n",
        "    suku_ke_i = suku_pertama + indeks_suku_sebelumnya * selisih\n",
        "    jumlah_deret += suku_ke_i\n",
        "\n",
        "    # Tampilkan langkah per langkah\n",
        "    print(f\"Suku ke-{indeks_suku_sebelumnya + 1} (a{indeks_suku_sebelumnya + 1})\"\n",
        "          f\"= {suku_ke_i}, Jumlah deret sementara = {jumlah_deret}\")\n",
        "\n",
        "# Menampilkan hasil akhir\n",
        "print(f'\\nJumlah deret aritmatika: {jumlah_deret}')"
      ],
      "metadata": {
        "colab": {
          "base_uri": "https://localhost:8080/"
        },
        "id": "7eC0SUAtiNRp",
        "outputId": "dcddc91f-b1ba-46fa-fda7-82f21c439a1e"
      },
      "execution_count": null,
      "outputs": [
        {
          "output_type": "stream",
          "name": "stdout",
          "text": [
            "Suku ke-1 (a1)= 3, Jumlah deret sementara = 3\n",
            "Suku ke-2 (a2)= 8, Jumlah deret sementara = 11\n",
            "Suku ke-3 (a3)= 13, Jumlah deret sementara = 24\n",
            "Suku ke-4 (a4)= 18, Jumlah deret sementara = 42\n",
            "Suku ke-5 (a5)= 23, Jumlah deret sementara = 65\n",
            "\n",
            "Jumlah deret aritmatika: 65\n"
          ]
        }
      ]
    },
    {
      "cell_type": "markdown",
      "source": [
        "## Task 5\n",
        "\n",
        "---"
      ],
      "metadata": {
        "id": "cw6cuBd6oWdI"
      }
    },
    {
      "cell_type": "markdown",
      "source": [
        "**Soal**\n",
        "\n",
        "---"
      ],
      "metadata": {
        "id": "VBri_gIlFfgF"
      }
    },
    {
      "cell_type": "markdown",
      "source": [
        "- Buatlah tabel perkalian 1 sampai 100 dengan melakukan dua kali perulangan menggunakan sintaks `for`!\n",
        "- Buatlah variable `n1` berisi 1 dan `n2` berisi 11"
      ],
      "metadata": {
        "id": "qReRp2nOrRku"
      }
    },
    {
      "cell_type": "markdown",
      "source": [
        "**Contoh Input:**\n",
        "\n",
        "---"
      ],
      "metadata": {
        "id": "xBjmVW_6GIkv"
      }
    },
    {
      "cell_type": "markdown",
      "source": [
        "```python\n",
        "n1 = 1\n",
        "n2 = 11\n",
        "```"
      ],
      "metadata": {
        "id": "bzIrumrdGLnx"
      }
    },
    {
      "cell_type": "markdown",
      "source": [
        "**Contoh Output:**\n",
        "\n",
        "---"
      ],
      "metadata": {
        "id": "NkxmmrRqsFXc"
      }
    },
    {
      "cell_type": "markdown",
      "source": [
        "```python\n",
        "1\t2\t3\t4\t5\t6\t7\t8\t9\t10\n",
        "2\t4\t6\t8\t10\t12\t14\t16\t18\t20\n",
        "3\t6\t9\t12\t15\t18\t21\t24\t27\t30\n",
        "4\t8\t12\t16\t20\t24\t28\t32\t36\t40\n",
        "5\t10\t15\t20\t25\t30\t35\t40\t45\t50\n",
        "6\t12\t18\t24\t30\t36\t42\t48\t54\t60\n",
        "7\t14\t21\t28\t35\t42\t49\t56\t63\t70\n",
        "8\t16\t24\t32\t40\t48\t56\t64\t72\t80\n",
        "9\t18\t27\t36\t45\t54\t63\t72\t81\t90\n",
        "10\t20\t30\t40\t50\t60\t70\t80\t90\t100\n",
        "```"
      ],
      "metadata": {
        "id": "4zWc8waBsHEh"
      }
    },
    {
      "cell_type": "markdown",
      "source": [
        "**Code disini!**\n",
        "\n",
        "---"
      ],
      "metadata": {
        "id": "Yalvpe6EGbxz"
      }
    },
    {
      "cell_type": "code",
      "source": [
        "# Tulis code Anda disini"
      ],
      "metadata": {
        "id": "tYiVDzArGbx6"
      },
      "execution_count": null,
      "outputs": []
    },
    {
      "cell_type": "markdown",
      "source": [
        "**Kunci jawaban**\n",
        "\n",
        "---"
      ],
      "metadata": {
        "id": "-WxICKt9Gbx6"
      }
    },
    {
      "cell_type": "code",
      "source": [
        "# Tulis code Anda disini\n",
        "\n",
        "# Variable n1 dan n2\n",
        "n1 = 1 # n1\n",
        "n2 = 11 # n2\n",
        "\n",
        "# Looping 1 sampai 10\n",
        "for i in range(n1, n2):\n",
        "\n",
        "    # Looping 1 sampai 10\n",
        "    for j in range(n1, n2):\n",
        "\n",
        "        # Buat perkalian looping 1 dan looping 2\n",
        "        print(i * j, end='\\t')\n",
        "\n",
        "    # Tampilkan dalam bentuk deret ke bawah\n",
        "    print()"
      ],
      "metadata": {
        "colab": {
          "base_uri": "https://localhost:8080/"
        },
        "id": "64oCLyH7oX7l",
        "outputId": "9cc6b242-0df4-4012-ae43-996a37719df2"
      },
      "execution_count": null,
      "outputs": [
        {
          "output_type": "stream",
          "name": "stdout",
          "text": [
            "1\t2\t3\t4\t5\t6\t7\t8\t9\t10\t\n",
            "2\t4\t6\t8\t10\t12\t14\t16\t18\t20\t\n",
            "3\t6\t9\t12\t15\t18\t21\t24\t27\t30\t\n",
            "4\t8\t12\t16\t20\t24\t28\t32\t36\t40\t\n",
            "5\t10\t15\t20\t25\t30\t35\t40\t45\t50\t\n",
            "6\t12\t18\t24\t30\t36\t42\t48\t54\t60\t\n",
            "7\t14\t21\t28\t35\t42\t49\t56\t63\t70\t\n",
            "8\t16\t24\t32\t40\t48\t56\t64\t72\t80\t\n",
            "9\t18\t27\t36\t45\t54\t63\t72\t81\t90\t\n",
            "10\t20\t30\t40\t50\t60\t70\t80\t90\t100\t\n"
          ]
        }
      ]
    },
    {
      "cell_type": "markdown",
      "source": [
        "## Task 6\n",
        "\n",
        "---"
      ],
      "metadata": {
        "id": "Gc3nZvm_sRAm"
      }
    },
    {
      "cell_type": "markdown",
      "source": [
        "**Soal**\n",
        "\n",
        "---"
      ],
      "metadata": {
        "id": "S2vdAWheG7qD"
      }
    },
    {
      "cell_type": "markdown",
      "source": [
        "- Buatlah sebuah variable `kode_telpon_negara`\n",
        "- Misal :\n",
        "    - kode_telpon_negara berisi +62, +1, +44, dan +81, beripe `list`\n",
        "- Keluarkan isi list kode telpon negara tersebut menggunakan sintaks `for`!"
      ],
      "metadata": {
        "id": "fePBQHNYsT0L"
      }
    },
    {
      "cell_type": "markdown",
      "source": [
        "**Contoh Input:**\n",
        "\n",
        "---"
      ],
      "metadata": {
        "id": "xHCMenzUtptO"
      }
    },
    {
      "cell_type": "markdown",
      "source": [
        "```python\n",
        "kode_telpon_negara = [\"+62\", \"+1\", \"+44\", \"+81\"]\n",
        "```"
      ],
      "metadata": {
        "id": "DdmfnVSHtsJz"
      }
    },
    {
      "cell_type": "markdown",
      "source": [
        "**Contoh Output:**\n",
        "\n",
        "---"
      ],
      "metadata": {
        "id": "gXdvSgN5tx92"
      }
    },
    {
      "cell_type": "markdown",
      "source": [
        "```python\n",
        "+62\n",
        "+1\n",
        "+44\n",
        "+81\n",
        "```"
      ],
      "metadata": {
        "id": "1zjq03CVtzWL"
      }
    },
    {
      "cell_type": "markdown",
      "source": [
        "**Code disini!**\n",
        "\n",
        "---"
      ],
      "metadata": {
        "id": "FHY_THL3HTlV"
      }
    },
    {
      "cell_type": "code",
      "source": [
        "# Tulis code Anda disini"
      ],
      "metadata": {
        "id": "Uhdh08JrHTlV"
      },
      "execution_count": null,
      "outputs": []
    },
    {
      "cell_type": "markdown",
      "source": [
        "**Kunci jawaban**\n",
        "\n",
        "---"
      ],
      "metadata": {
        "id": "j-ANGGCLHTlV"
      }
    },
    {
      "cell_type": "code",
      "source": [
        "# Tulis code Anda disini\n",
        "\n",
        "# Variable kode telpon negara\n",
        "kode_telpon_negara = [\"+62\", \"+1\", \"+44\", \"+81\"]\n",
        "\n",
        "# Looping untuk mengeluarkan isi kode telpon negara\n",
        "for i in kode_telpon_negara :\n",
        "\n",
        "    # Tampilkan kode negara telpon\n",
        "    print(i)"
      ],
      "metadata": {
        "colab": {
          "base_uri": "https://localhost:8080/"
        },
        "id": "oUxvruAqtH8m",
        "outputId": "cd0168be-0755-4b64-9ac9-c901ca37c7ea"
      },
      "execution_count": null,
      "outputs": [
        {
          "output_type": "stream",
          "name": "stdout",
          "text": [
            "+62\n",
            "+1\n",
            "+44\n",
            "+81\n"
          ]
        }
      ]
    },
    {
      "cell_type": "markdown",
      "source": [
        "## Task 7\n",
        "\n",
        "---"
      ],
      "metadata": {
        "id": "U2I8BAxBt6h5"
      }
    },
    {
      "cell_type": "markdown",
      "source": [
        "**Soal**\n",
        "\n",
        "---"
      ],
      "metadata": {
        "id": "4rBw9yE7Ha1P"
      }
    },
    {
      "cell_type": "markdown",
      "source": [
        "- Buatlah sebuah variable `stock` dalam bentuk dictionary\n",
        "- `key` berisi gula, tepung, beras, dan sayur\n",
        "- `value` berisi id_001, id_002, id_003, dan id_004\n",
        "- Gunakan perulangan `for` untuk menampilkan `key` dan `value` tersebut!"
      ],
      "metadata": {
        "id": "dD9m0RGdt8J8"
      }
    },
    {
      "cell_type": "markdown",
      "source": [
        "**Contoh Input:**\n",
        "\n",
        "---"
      ],
      "metadata": {
        "id": "Dm-aCucQIb3_"
      }
    },
    {
      "cell_type": "markdown",
      "source": [
        "```python\n",
        "stock = {\n",
        "        \"gula\": \"id_001\",\n",
        "        \"tepung\": \"id_002\",\n",
        "        \"beras\": \"id_003\",\n",
        "        \"sayur\": \"id_004\"\n",
        "        }\n",
        "```"
      ],
      "metadata": {
        "id": "8FhNyhpgIeUu"
      }
    },
    {
      "cell_type": "markdown",
      "source": [
        "**Contoh Output:**\n",
        "\n",
        "---"
      ],
      "metadata": {
        "id": "QvsM0zseHqJE"
      }
    },
    {
      "cell_type": "markdown",
      "source": [
        "```python\n",
        "gula | id_001\n",
        "tepung | id_002\n",
        "beras | id_003\n",
        "sayur | id_004\n",
        "```"
      ],
      "metadata": {
        "id": "ajcuF1LpHsx7"
      }
    },
    {
      "cell_type": "markdown",
      "source": [
        "**Code disini!**\n",
        "\n",
        "---"
      ],
      "metadata": {
        "id": "lW16KyIrH1M1"
      }
    },
    {
      "cell_type": "code",
      "source": [
        "# Tulis code Anda disini"
      ],
      "metadata": {
        "id": "pam68WELH1M1"
      },
      "execution_count": null,
      "outputs": []
    },
    {
      "cell_type": "markdown",
      "source": [
        "**Kunci jawaban**\n",
        "\n",
        "---"
      ],
      "metadata": {
        "id": "JGAzktFQH1M1"
      }
    },
    {
      "cell_type": "code",
      "source": [
        "# Tulis code Anda disini\n",
        "\n",
        "# Variable stock\n",
        "stock = {\n",
        "        \"gula\": \"id_001\",\n",
        "        \"tepung\": \"id_002\",\n",
        "        \"beras\": \"id_003\",\n",
        "        \"sayur\": \"id_004\"\n",
        "        }\n",
        "\n",
        "# Looping dictionary\n",
        "for key_, value_ in stock.items():\n",
        "\n",
        "    # Tampilkan key dan value\n",
        "    print(f\"{key_} | {value_}\")"
      ],
      "metadata": {
        "colab": {
          "base_uri": "https://localhost:8080/"
        },
        "id": "YUTvvGAdvP1I",
        "outputId": "3857942d-6f60-42c3-8b99-1fd3b2587d93"
      },
      "execution_count": null,
      "outputs": [
        {
          "output_type": "stream",
          "name": "stdout",
          "text": [
            "gula | id_001\n",
            "tepung | id_002\n",
            "beras | id_003\n",
            "sayur | id_004\n"
          ]
        }
      ]
    },
    {
      "cell_type": "markdown",
      "source": [
        "## Task 8\n",
        "\n",
        "---"
      ],
      "metadata": {
        "id": "SZ0DKpUVwep7"
      }
    },
    {
      "cell_type": "code",
      "source": [],
      "metadata": {
        "id": "7JlOxiDalByt"
      },
      "execution_count": null,
      "outputs": []
    },
    {
      "cell_type": "markdown",
      "source": [
        "**Soal**\n",
        "\n",
        "---"
      ],
      "metadata": {
        "id": "HOVfJw6MH40N"
      }
    },
    {
      "cell_type": "markdown",
      "source": [
        "Di sebuah sekolah, guru sejarah sedang melakukan absensi kehadiran pada siswanya.\n",
        "- Buatlah sebuah variable `nama_siswa` yang berisi list Jono, Joni, Joko, dan Mulyono\n",
        "- Lakukan perulangan menggunakan sintaks `for` pada list tersebut\n",
        "- Urutkan list tersebut dimulai dari angka 1 menggunakan `enumerate`!"
      ],
      "metadata": {
        "id": "mH64JrQmwf1r"
      }
    },
    {
      "cell_type": "markdown",
      "source": [
        "**Contoh Input:**\n",
        "\n",
        "---"
      ],
      "metadata": {
        "id": "Om-0k2wMxxyk"
      }
    },
    {
      "cell_type": "markdown",
      "source": [
        "```python\n",
        "nama_siswa = [\"Jono\", \"Joni\", \"Joko\", \"Mulyono\"]\n",
        "```"
      ],
      "metadata": {
        "id": "08hw-1eaxzOe"
      }
    },
    {
      "cell_type": "markdown",
      "source": [
        "**Contoh Output:**\n",
        "\n",
        "---"
      ],
      "metadata": {
        "id": "5cROdCpnx5up"
      }
    },
    {
      "cell_type": "markdown",
      "source": [
        "```python\n",
        "1 Jono\n",
        "2 Joni\n",
        "3 Joko\n",
        "4 Mulyono\n",
        "```"
      ],
      "metadata": {
        "id": "AhCvrILnx7P6"
      }
    },
    {
      "cell_type": "markdown",
      "source": [
        "**Code disini!**\n",
        "\n",
        "---"
      ],
      "metadata": {
        "id": "rLu32zTJIoQj"
      }
    },
    {
      "cell_type": "code",
      "source": [
        "# Tulis code Anda disini"
      ],
      "metadata": {
        "id": "QBXiQUddIoQq"
      },
      "execution_count": null,
      "outputs": []
    },
    {
      "cell_type": "markdown",
      "source": [
        "**Kunci jawaban**\n",
        "\n",
        "---"
      ],
      "metadata": {
        "id": "2VtUifX1IoQq"
      }
    },
    {
      "cell_type": "code",
      "source": [
        "# Tulis code Anda disini\n",
        "\n",
        "# Variable nama_siswa\n",
        "nama_siswa = [\"Jono\", \"Joni\", \"Joko\", \"Mulyono\"]\n",
        "\n",
        "# Looping nama dan urutan\n",
        "for i, nama in enumerate(iterable = nama_siswa, start = 1) :\n",
        "\n",
        "    # Tampilkan hasilnya\n",
        "    print(i, nama)"
      ],
      "metadata": {
        "colab": {
          "base_uri": "https://localhost:8080/"
        },
        "id": "Arm1-9WOwq1z",
        "outputId": "f3fc4ea0-8d0a-44dd-fd34-7379cc28ef97"
      },
      "execution_count": null,
      "outputs": [
        {
          "output_type": "stream",
          "name": "stdout",
          "text": [
            "1 Jono\n",
            "2 Joni\n",
            "3 Joko\n",
            "4 Mulyono\n"
          ]
        }
      ]
    },
    {
      "cell_type": "markdown",
      "source": [
        "## Task 9\n",
        "\n",
        "---"
      ],
      "metadata": {
        "id": "gH5kyAafzFxj"
      }
    },
    {
      "cell_type": "markdown",
      "source": [
        "**Soal 9**\n",
        "\n",
        "---"
      ],
      "metadata": {
        "id": "ZuljFf0SIw3M"
      }
    },
    {
      "cell_type": "markdown",
      "source": [
        "- Simpan dictionary ke dalam sebuah variable `dict_class`\n",
        "- `key` berisi `I, II, III, IV, dan V` dengan `value`\n",
        "    - `key` `I` berisi list `[10, 12]`\n",
        "    - `key` `II` berisi list `[10]`\n",
        "    - `key` `III` berisi list `[10, 20, 30, 40]`\n",
        "    - `key` `IV` berisi list `[20]`\n",
        "    - `key` `V` `[80]`\n",
        "\n",
        "- Lakukan perulangan menggunakan sintaks `for` untuk menemukan `key` yang memiliki jumlah element terpendek!"
      ],
      "metadata": {
        "id": "zYL3IZL0zGzL"
      }
    },
    {
      "cell_type": "markdown",
      "source": [
        "**Contoh Input:**\n",
        "\n",
        "---"
      ],
      "metadata": {
        "id": "UENWNpmr0DSh"
      }
    },
    {
      "cell_type": "markdown",
      "source": [
        "```python\n",
        "dict_class = {\n",
        "              'I': [10, 12],\n",
        "              'II': [10],\n",
        "              'III': [10, 20, 30, 40],\n",
        "              'IV': [20],\n",
        "              'V': [10, 30, 50, 70],\n",
        "              'VI': [80]\n",
        "            }\n",
        "```"
      ],
      "metadata": {
        "id": "7yAiUwDx0E3i"
      }
    },
    {
      "cell_type": "markdown",
      "source": [
        "**Contoh Output:**\n",
        "\n",
        "---"
      ],
      "metadata": {
        "id": "HWUrHx_U0Oeo"
      }
    },
    {
      "cell_type": "markdown",
      "source": [
        "```python\n",
        "['II', 'IV', 'VI']\n",
        "```"
      ],
      "metadata": {
        "id": "8I-Srby90en_"
      }
    },
    {
      "cell_type": "markdown",
      "source": [
        "**Code disini!**\n",
        "\n",
        "---"
      ],
      "metadata": {
        "id": "PthPrUvqKBd0"
      }
    },
    {
      "cell_type": "code",
      "source": [
        "# Tulis code Anda disini"
      ],
      "metadata": {
        "id": "KOOlP4QAKBd1"
      },
      "execution_count": null,
      "outputs": []
    },
    {
      "cell_type": "markdown",
      "source": [
        "**Kunci jawaban**\n",
        "\n",
        "---"
      ],
      "metadata": {
        "id": "5vqD5nILKBd2"
      }
    },
    {
      "cell_type": "code",
      "source": [
        "# Tulis code Anda disini\n",
        "\n",
        "# Variable dict\n",
        "dict_class = {\n",
        "              'I': [10, 12],\n",
        "              'II': [10],\n",
        "              'III': [10, 20, 30, 40],\n",
        "              'IV': [20],\n",
        "              'V': [10, 30, 50, 70],\n",
        "              'VI': [80]\n",
        "            }\n",
        "\n",
        "# Looping untuk menghitung panjang setiap value\n",
        "panjang_angka = (len(length) for length in dict_class.values())\n",
        "\n",
        "# Temukan jumlah panjang list terpendeknya\n",
        "min_len = min(panjang_angka)\n",
        "\n",
        "# Buat penyimpanan key\n",
        "result = []\n",
        "\n",
        "# Looping untuk menemukan key dengan list angka terpendek\n",
        "for key, value in dict_class.items() :\n",
        "\n",
        "    # Kondisi jika value dict sama dengan jumlah terpendek\n",
        "     if len(value) == min_len :\n",
        "\n",
        "        # Tambahkan hasil temuan ke dalam list kosong\n",
        "         result.append(key)\n",
        "\n",
        "# Tampilkan hasilnya\n",
        "print(result)"
      ],
      "metadata": {
        "colab": {
          "base_uri": "https://localhost:8080/"
        },
        "id": "dsLmYZ0g0gdt",
        "outputId": "4ceb2704-edd0-46a6-e077-59f8a7937f6a"
      },
      "execution_count": null,
      "outputs": [
        {
          "output_type": "stream",
          "name": "stdout",
          "text": [
            "['II', 'IV', 'VI']\n"
          ]
        }
      ]
    },
    {
      "cell_type": "markdown",
      "source": [
        "## Task 10\n",
        "\n",
        "---"
      ],
      "metadata": {
        "id": "2fFrb2raD-Zy"
      }
    },
    {
      "cell_type": "markdown",
      "source": [
        "**Soal**\n",
        "\n",
        "---"
      ],
      "metadata": {
        "id": "e4Q_Az5VKEm4"
      }
    },
    {
      "cell_type": "markdown",
      "source": [
        "- Simpan angka 10 ke dalam variable `angka`\n",
        "- Lakukan perulangan menggunakan sintaks `while` untuk menghitung mundur 10 sampai 1"
      ],
      "metadata": {
        "id": "I0YBKBiZD_dW"
      }
    },
    {
      "cell_type": "markdown",
      "source": [
        "**Contoh Input:**\n",
        "\n",
        "---"
      ],
      "metadata": {
        "id": "c-aI27vwGV_X"
      }
    },
    {
      "cell_type": "markdown",
      "source": [
        "```python\n",
        "angka = 10\n",
        "```"
      ],
      "metadata": {
        "id": "AY6w8cc1GXxs"
      }
    },
    {
      "cell_type": "markdown",
      "source": [
        "**Contoh Output:**\n",
        "\n",
        "---"
      ],
      "metadata": {
        "id": "8xYNfKruGgbS"
      }
    },
    {
      "cell_type": "markdown",
      "source": [
        "```python\n",
        "10\n",
        "9\n",
        "8\n",
        "7\n",
        "6\n",
        "5\n",
        "4\n",
        "3\n",
        "2\n",
        "1\n",
        "```"
      ],
      "metadata": {
        "id": "SAL6p3uWGiDh"
      }
    },
    {
      "cell_type": "markdown",
      "source": [
        "**Code disini!**\n",
        "\n",
        "---"
      ],
      "metadata": {
        "id": "sdSyiaywKde3"
      }
    },
    {
      "cell_type": "code",
      "source": [
        "# Tulis code Anda disini"
      ],
      "metadata": {
        "id": "Eb_oPScaKde4"
      },
      "execution_count": null,
      "outputs": []
    },
    {
      "cell_type": "markdown",
      "source": [
        "**Kunci jawaban**\n",
        "\n",
        "---"
      ],
      "metadata": {
        "id": "ij4vqHlVKde4"
      }
    },
    {
      "cell_type": "code",
      "source": [
        "# Tulis code Anda disini\n",
        "\n",
        "# Variable angka\n",
        "angka = 10\n",
        "\n",
        "# Looping hitung mundur\n",
        "while angka >= 1:\n",
        "\n",
        "    # Tampilkan angka\n",
        "    print(angka)\n",
        "\n",
        "    # Kurangi nilai 10 untuk iterasi selanjutnya\n",
        "    angka -= 1"
      ],
      "metadata": {
        "colab": {
          "base_uri": "https://localhost:8080/"
        },
        "id": "Inm71RyRGDhH",
        "outputId": "0e8d4b9e-228e-46df-edf8-04ce48e469ad"
      },
      "execution_count": null,
      "outputs": [
        {
          "output_type": "stream",
          "name": "stdout",
          "text": [
            "10\n",
            "9\n",
            "8\n",
            "7\n",
            "6\n",
            "5\n",
            "4\n",
            "3\n",
            "2\n",
            "1\n"
          ]
        }
      ]
    },
    {
      "cell_type": "markdown",
      "source": [
        "## Task 11\n",
        "\n",
        "---"
      ],
      "metadata": {
        "id": "TtuVzWTvHSyN"
      }
    },
    {
      "cell_type": "markdown",
      "source": [
        "**Soal**\n",
        "\n",
        "---"
      ],
      "metadata": {
        "id": "xPhMpflqKqXE"
      }
    },
    {
      "cell_type": "markdown",
      "source": [
        "- Buatlah beberapa variable :\n",
        "    - Misal :\n",
        "        - `length` berisi angka 5\n",
        "    - variable `count` berisi angka 0 untuk counter setiap angka\n",
        "    - `a, b` berisi angka 0, 1 untuk elemen deret pertama\n",
        "- Gunakan perulangan sintaks `while` untuk menghasilkan deret Fibonacci dengan panjang tertentu.\n",
        "- Deret Fibonacci dimulai dari 0, 1, 1, 2, 3, 5, 8, ... di mana setiap elemen adalah penjumlahan dua elemen sebelumnya."
      ],
      "metadata": {
        "id": "Q5xzyi_UHqhJ"
      }
    },
    {
      "cell_type": "markdown",
      "source": [
        "**Perhitungan manual fibonacci!**\n",
        "\n",
        "- a = 0, b = 1, cetak 0, (a, b) = (1, 1)\n",
        "- a = 1, b = 1, cetak 1, (a, b) = (1, 2)\n",
        "- a = 1, b = 2, cetak 1, (a, b) = (2, 3)\n",
        "- a = 2, b = 3, cetak 2, (a, b) = (3, 5)\n",
        "- a = 3, b = 5, cetak 3, (a, b) = (5, 8)"
      ],
      "metadata": {
        "id": "LOZ7A9uRIXRU"
      }
    },
    {
      "cell_type": "markdown",
      "source": [
        "**Contoh Input:**\n",
        "\n",
        "---"
      ],
      "metadata": {
        "id": "862RnGrkJSzL"
      }
    },
    {
      "cell_type": "markdown",
      "source": [
        "```python\n",
        "length = 5\n",
        "a, b = 0, 1\n",
        "```"
      ],
      "metadata": {
        "id": "Lt6SXvxnJUIj"
      }
    },
    {
      "cell_type": "markdown",
      "source": [
        "**Contoh Output:**\n",
        "\n",
        "---"
      ],
      "metadata": {
        "id": "jVbuiJ2UJcEd"
      }
    },
    {
      "cell_type": "markdown",
      "source": [
        "```python\n",
        "0\n",
        "1\n",
        "1\n",
        "2\n",
        "3\n",
        "```"
      ],
      "metadata": {
        "id": "FXV2wOCLJdzL"
      }
    },
    {
      "cell_type": "markdown",
      "source": [
        "**Code disini!**\n",
        "\n",
        "---"
      ],
      "metadata": {
        "id": "JPv0XeJ9LOLW"
      }
    },
    {
      "cell_type": "code",
      "source": [
        "# Tulis code Anda disini"
      ],
      "metadata": {
        "id": "j0h9yLJ0LOLX"
      },
      "execution_count": null,
      "outputs": []
    },
    {
      "cell_type": "markdown",
      "source": [
        "**Kunci jawaban**\n",
        "\n",
        "---"
      ],
      "metadata": {
        "id": "0x1vn3iCLOLX"
      }
    },
    {
      "cell_type": "code",
      "source": [
        "# Tulis code Anda disini\n",
        "\n",
        "# Variable length\n",
        "length = 5\n",
        "\n",
        "# Inisialisasi dua elemen pertama deret Fibonacci\n",
        "a, b = 0, 1\n",
        "\n",
        "# Inisialisasi counter\n",
        "count = 0\n",
        "\n",
        "# Looping untuk menghasilkan deret Fibonacci\n",
        "while count < length:\n",
        "\n",
        "    # Cetak elemen saat ini\n",
        "    print(a)\n",
        "\n",
        "    # Hitung elemen berikutnya\n",
        "    a, b = b, a + b\n",
        "\n",
        "    # Tambahkan ke counter\n",
        "    count += 1"
      ],
      "metadata": {
        "colab": {
          "base_uri": "https://localhost:8080/"
        },
        "id": "uDnuNefBHuip",
        "outputId": "4e6427c7-35c1-401f-f2c1-1a3a6efb1f19"
      },
      "execution_count": null,
      "outputs": [
        {
          "output_type": "stream",
          "name": "stdout",
          "text": [
            "0\n",
            "1\n",
            "1\n",
            "2\n",
            "3\n"
          ]
        }
      ]
    },
    {
      "cell_type": "markdown",
      "source": [
        "## Task 12\n",
        "\n",
        "---"
      ],
      "metadata": {
        "id": "vYx0-k9FJy9-"
      }
    },
    {
      "cell_type": "markdown",
      "source": [
        "**Soal**\n",
        "\n",
        "---"
      ],
      "metadata": {
        "id": "XegtMZjdLU1s"
      }
    },
    {
      "cell_type": "markdown",
      "source": [
        "- Diberikan daftar beberapa tahun dalam variabel `tahun`\n",
        "    - `[2024, 2025, 2026, 2027, 2028, 2029, 2030, 2031, 2032]`\n",
        "- Cari tahun kabisat dari daftar tadi dan simpan dalam list `tahun_kabisat`\n",
        "- Gunakan sintaks `for` untuk menemukan apakah tahun tersebut adalah tahun kabisat!"
      ],
      "metadata": {
        "id": "YYAFvFIxN-4J"
      }
    },
    {
      "cell_type": "markdown",
      "source": [
        "Ketentuan tahun kabisat :\n",
        "\n",
        "- Angka tahun habis dibagi 400\n",
        "- Angka tahun habis dibagi 100 bukan merupakan tahun kabisat\n",
        "- Angka tahun habis di bagi 4"
      ],
      "metadata": {
        "id": "cSeZvxaULkjc"
      }
    },
    {
      "cell_type": "markdown",
      "source": [
        "**Contoh Input:**\n",
        "\n",
        "---"
      ],
      "metadata": {
        "id": "3B7-lx8-QSxw"
      }
    },
    {
      "cell_type": "markdown",
      "source": [
        "```python\n",
        "tahun = [2024, 2025, 2026, 2027, 2028, 2029, 2030, 2031, 2032]\n",
        "tahun_kabisat = []\n",
        "```"
      ],
      "metadata": {
        "id": "yFNe71GZQUbY"
      }
    },
    {
      "cell_type": "markdown",
      "source": [
        "**Contoh Output:**\n",
        "\n",
        "---"
      ],
      "metadata": {
        "id": "AtQ1YVkZQd9W"
      }
    },
    {
      "cell_type": "markdown",
      "source": [
        "```python\n",
        "[2024, 2028, 2032]\n",
        "```"
      ],
      "metadata": {
        "id": "uPwoSFEZQfjm"
      }
    },
    {
      "cell_type": "markdown",
      "source": [
        "**Code disini!**\n",
        "\n",
        "---"
      ],
      "metadata": {
        "id": "jqM66Lr8Lv-t"
      }
    },
    {
      "cell_type": "code",
      "source": [
        "# Tulis code Anda disini"
      ],
      "metadata": {
        "id": "ix1qoCJeLv-t"
      },
      "execution_count": null,
      "outputs": []
    },
    {
      "cell_type": "markdown",
      "source": [
        "**Kunci jawaban**\n",
        "\n",
        "---"
      ],
      "metadata": {
        "id": "ER0BYIm1Lv-t"
      }
    },
    {
      "cell_type": "code",
      "source": [
        "# Tulis code Anda disini\n",
        "\n",
        "# Variable Tahun\n",
        "tahun = [2024, 2025, 2026, 2027, 2028, 2029, 2030, 2031, 2032]\n",
        "\n",
        "# Variable penyimpanan\n",
        "tahun_kabisat = []\n",
        "\n",
        "# Looping pengecekan tahun kabisat\n",
        "for i in tahun :\n",
        "\n",
        "    # Kondisi jika habis dibagi 400\n",
        "    if i % 400 == 0 :\n",
        "\n",
        "        # Simpan ke dalam list\n",
        "        tahun_kabisat.append(i)\n",
        "\n",
        "    # Kondisi jika habis dibagi 100 maka tidak termasuk tahun kabisat\n",
        "    elif i % 100 == 0 :\n",
        "\n",
        "        # pass\n",
        "        pass\n",
        "\n",
        "    # Kondisi jika habis dibagi 4\n",
        "    elif i % 4 == 0 :\n",
        "\n",
        "        # Simpan ke dalam list\n",
        "        tahun_kabisat.append(i)\n",
        "\n",
        "    # Kondisi jika tidak terdapat pada ketentuan kabisat\n",
        "    else:\n",
        "\n",
        "        # Pass\n",
        "        pass\n",
        "\n",
        "# Tampilkan hasil\n",
        "print(tahun_kabisat)"
      ],
      "metadata": {
        "colab": {
          "base_uri": "https://localhost:8080/"
        },
        "id": "aawzLXZCK67A",
        "outputId": "66d13ba4-2317-4339-830c-e05b2b988e2d"
      },
      "execution_count": null,
      "outputs": [
        {
          "output_type": "stream",
          "name": "stdout",
          "text": [
            "[2024, 2028, 2032]\n"
          ]
        }
      ]
    },
    {
      "cell_type": "markdown",
      "source": [
        "## Task 13\n",
        "\n",
        "---"
      ],
      "metadata": {
        "id": "fHjuhZz5RGhI"
      }
    },
    {
      "cell_type": "markdown",
      "source": [
        "**Soal**\n",
        "\n",
        "---"
      ],
      "metadata": {
        "id": "KXaTwMXHMLAI"
      }
    },
    {
      "cell_type": "markdown",
      "source": [
        "- Buatlah sebuah variable `kalimat` yang berisi saya adalah orang yang rajin\n",
        "- Buatlah sebuah variable `vokal` untuk penyimpanan.\n",
        "- Lakukan perulangan menggunakan sintaks `for` untuk menghitung jumlah huruf vokal di dalamnya\n",
        "- Simpan temuan ke dalam variable `vokal`!"
      ],
      "metadata": {
        "id": "Rncy6gpzRHhQ"
      }
    },
    {
      "cell_type": "markdown",
      "source": [
        "**Hint**\n",
        "- Huruf vokal terdiri dari `a, i, u, e, o`"
      ],
      "metadata": {
        "id": "Uc6-6YEiMKNi"
      }
    },
    {
      "cell_type": "markdown",
      "source": [
        "**Contoh Input:**\n",
        "\n",
        "---"
      ],
      "metadata": {
        "id": "2sQ9vg51S2uy"
      }
    },
    {
      "cell_type": "markdown",
      "source": [
        "```python\n",
        "kalimat = \"sayA adalah orAng yang rajIn\"\n",
        "vokal = 0\n",
        "```"
      ],
      "metadata": {
        "id": "UhpSbbKNS4S7"
      }
    },
    {
      "cell_type": "markdown",
      "source": [
        "**Contoh Output:**\n",
        "\n",
        "---"
      ],
      "metadata": {
        "id": "-IMIw1czS9V1"
      }
    },
    {
      "cell_type": "markdown",
      "source": [
        "```python\n",
        "Jumlah huruf vokal pada kalimat tersebut adalah : 10\n",
        "```"
      ],
      "metadata": {
        "id": "vVbXxFJ3S-mg"
      }
    },
    {
      "cell_type": "markdown",
      "source": [
        "**Code disini!**\n",
        "\n",
        "---"
      ],
      "metadata": {
        "id": "yteW5XpOMaND"
      }
    },
    {
      "cell_type": "code",
      "source": [
        "# Tulis code Anda disini"
      ],
      "metadata": {
        "id": "qkjWNbSeMaNK"
      },
      "execution_count": null,
      "outputs": []
    },
    {
      "cell_type": "markdown",
      "source": [
        "**Kunci jawaban**\n",
        "\n",
        "---"
      ],
      "metadata": {
        "id": "lc0PCotxMaNK"
      }
    },
    {
      "cell_type": "code",
      "source": [
        "# Tulis code Anda disini\n",
        "\n",
        "# Variable kalimat\n",
        "kalimat = \"sayA adalah orAng yang rajIn\"\n",
        "\n",
        "# Variable penyimapanan\n",
        "vokal = 0\n",
        "\n",
        "# Looping untuk menemukan huruf vokal\n",
        "for i in kalimat :\n",
        "\n",
        "    # Ubah kalimat menjadi huruf kecil\n",
        "    i = i.lower()\n",
        "\n",
        "    # Kondisi jika terdapat huruf vokal\n",
        "    if i == 'a' or i == 'i' or i == 'u' or i == 'e' or i == 'o' :\n",
        "\n",
        "        # Simpan ke dalam variable vokal\n",
        "        vokal = vokal + 1\n",
        "\n",
        "# Tampilkan variable vokal\n",
        "print(f'Jumlah huruf vokal pada kalimat tersebut adalah : {vokal}')"
      ],
      "metadata": {
        "colab": {
          "base_uri": "https://localhost:8080/"
        },
        "id": "RPXLA8ALRZL-",
        "outputId": "bbe34a4c-7c85-4fdc-f557-b9ff2c6d55da"
      },
      "execution_count": null,
      "outputs": [
        {
          "output_type": "stream",
          "name": "stdout",
          "text": [
            "Jumlah huruf vokal pada kalimat tersebut adalah : 10\n"
          ]
        }
      ]
    },
    {
      "cell_type": "markdown",
      "source": [
        "## Task 14\n",
        "\n",
        "---"
      ],
      "metadata": {
        "id": "ZYJVko_FTH-C"
      }
    },
    {
      "cell_type": "markdown",
      "source": [
        "**Soal**\n",
        "\n",
        "---"
      ],
      "metadata": {
        "id": "KvC99xuqMdi5"
      }
    },
    {
      "cell_type": "markdown",
      "source": [
        "- Buatlah sebuah variable `customer` yang berisi :\n",
        "\n",
        "    - `{\"cust1\":2_000_000, \"cust2\":3_500_000, \"cust3\":1_250_000, \"cust4\":400_000, \"cust5\":90_000} `\n",
        "\n",
        "- Kemudian buatlah perulangan dengan sintaks `for` untuk mengitung diskon yang didapatkan oleh masing-masing customer tersebut."
      ],
      "metadata": {
        "id": "pVwYfQ7TTJSn"
      }
    },
    {
      "cell_type": "markdown",
      "source": [
        "Ketentuannya :\n",
        "\n",
        "- Jika total belanja kurang dari Rp. 100.000, maka tampilkan pesan **Total belajaan cust adalah 123**\n",
        "- Jika total belanja antara Rp. 100.000 – Rp. 500.000, maka tampilkan pesan **'Selamat, cust mendapat diskon 10% dengan total belanjaan 123**\n",
        "- Jika total belanja antara Rp. 500.000 – Rp. 1.000.000, maka tampilkan pesan **'Selamat, cust mendapat diskon 20% dengan total belanjaan 123**\n",
        "- Jika total belanja diatas Rp.1.000.000, maka tampilkan pesan **'Selamat, cust mendapat diskon 30% dengan total belanjaan 123**"
      ],
      "metadata": {
        "id": "S9SNB5qxMsFL"
      }
    },
    {
      "cell_type": "markdown",
      "source": [
        "**Contoh Input:**\n",
        "\n",
        "---"
      ],
      "metadata": {
        "id": "MEAJw5sHVbw8"
      }
    },
    {
      "cell_type": "markdown",
      "source": [
        "```python\n",
        "customer berisi {\"cust1\":2_000_000, \"cust2\":3_500_000, \"cust3\":1_250_000, \"cust4\":400_000, \"cust5\":90_000}\n",
        "```"
      ],
      "metadata": {
        "id": "hZ0DdfGzVc2O"
      }
    },
    {
      "cell_type": "markdown",
      "source": [
        "**Contoh Output:**\n",
        "\n",
        "---"
      ],
      "metadata": {
        "id": "QwXXP6jaVlCe"
      }
    },
    {
      "cell_type": "markdown",
      "source": [
        "```python\n",
        "Selamat, cust1 mendapat diskon 30% dengan total belanjaan 1400000.0\n",
        "Selamat, cust2 mendapat diskon 30% dengan total belanjaan 2450000.0\n",
        "Selamat, cust3 mendapat diskon 30% dengan total belanjaan 875000.0\n",
        "Selamat, cust4 mendapat diskon 10% dengan total belanjaan 360000.0\n",
        "Total belajaan cust5 adalah 90000\n",
        "```"
      ],
      "metadata": {
        "id": "fevLrAwfVnD-"
      }
    },
    {
      "cell_type": "markdown",
      "source": [
        "**Code disini!**\n",
        "\n",
        "---"
      ],
      "metadata": {
        "id": "BWCFk17_M5Cr"
      }
    },
    {
      "cell_type": "code",
      "source": [
        "# Tulis code Anda disini"
      ],
      "metadata": {
        "id": "Pc6K-Ux_M5Cr"
      },
      "execution_count": null,
      "outputs": []
    },
    {
      "cell_type": "markdown",
      "source": [
        "**Kunci jawaban**\n",
        "\n",
        "---"
      ],
      "metadata": {
        "id": "FlXTxg3hM5Cr"
      }
    },
    {
      "cell_type": "code",
      "source": [
        "# Tulis code Anda disini\n",
        "\n",
        "# Variable customer\n",
        "customer = {\"cust1\":200_0000,\n",
        "            \"cust2\":3_500_000,\n",
        "            \"cust3\":1_250_000,\n",
        "            \"cust4\":400_000,\n",
        "            \"cust5\":90_000}\n",
        "\n",
        "# Loop untuk cek diskon\n",
        "for cust, val in customer.items():\n",
        "\n",
        "    # Cek diskon\n",
        "    if val < 100_000:\n",
        "        diskon = 0.0        # jika belanja < 100.000\n",
        "    elif val <= 500_000:\n",
        "        diskon = 0.1        # jika belanja < 500.000\n",
        "    elif val <= 1_000_000:\n",
        "        diskon = 0.2        # jika belanja < 1.000.000\n",
        "    else:\n",
        "        diskon = 0.3        # jika belanja > 1.000.000\n",
        "\n",
        "    # Cari total belanjaan\n",
        "    # Total belanja = total awal - total diskon\n",
        "    total_belanja = val - diskon * val\n",
        "\n",
        "    # Buat tampilan total pembayaran\n",
        "    if diskon > 0:\n",
        "        print(f'Selamat, {cust} mendapat diskon {diskon*100:.0f}% '\n",
        "              f'dengan total belanjaan {total_belanja:.1f}')\n",
        "    else:\n",
        "        print(f'Total belajaan {cust} adalah {val:.1f}')"
      ],
      "metadata": {
        "colab": {
          "base_uri": "https://localhost:8080/"
        },
        "id": "pJSL3kiCTPJ6",
        "outputId": "957d41f4-cb5a-4b9e-b629-631bd8d4d3c8"
      },
      "execution_count": null,
      "outputs": [
        {
          "output_type": "stream",
          "name": "stdout",
          "text": [
            "Selamat, cust1 mendapat diskon 30% dengan total belanjaan 1400000.0\n",
            "Selamat, cust2 mendapat diskon 30% dengan total belanjaan 2450000.0\n",
            "Selamat, cust3 mendapat diskon 30% dengan total belanjaan 875000.0\n",
            "Selamat, cust4 mendapat diskon 10% dengan total belanjaan 360000.0\n",
            "Total belajaan cust5 adalah 90000\n"
          ]
        }
      ]
    },
    {
      "cell_type": "markdown",
      "source": [
        "## Task 15\n",
        "\n",
        "---"
      ],
      "metadata": {
        "id": "xsLt35dmZ7_l"
      }
    },
    {
      "cell_type": "markdown",
      "source": [
        "**Soal**\n",
        "\n",
        "---"
      ],
      "metadata": {
        "id": "cRa0Mzi0M8gr"
      }
    },
    {
      "cell_type": "markdown",
      "source": [
        "- Buatlah sebuah list yang berisi :\n",
        "    - Misal :\n",
        "        - angka 1 sampai 10\n",
        "- Carilah angka ganjil di dalam list tersebut\n",
        "- Kuadratkan yang merupakan angka gajil pada list\n",
        "- Gunakan perulangan sintaks `for` comprehension untuk melakukan perhitungan tersebut!"
      ],
      "metadata": {
        "id": "slwup9qqZ9du"
      }
    },
    {
      "cell_type": "markdown",
      "source": [
        "**Hint**\n",
        "- Bilangan gajil adalah hasil sisa bagi sama dengan 1"
      ],
      "metadata": {
        "id": "XNtX0iGQa4kQ"
      }
    },
    {
      "cell_type": "markdown",
      "source": [
        "**Contoh Input:**\n",
        "\n",
        "---"
      ],
      "metadata": {
        "id": "fw1hnf8QasFY"
      }
    },
    {
      "cell_type": "markdown",
      "source": [
        "```python\n",
        "n1 = 1\n",
        "n2 = 11\n",
        "```"
      ],
      "metadata": {
        "id": "qBlUfUW-aceq"
      }
    },
    {
      "cell_type": "markdown",
      "source": [
        "**Contoh Output:**\n",
        "\n",
        "---"
      ],
      "metadata": {
        "id": "XnEUQaumaprK"
      }
    },
    {
      "cell_type": "markdown",
      "source": [
        "```python\n",
        "[1, 9, 25, 49, 81]\n",
        "```"
      ],
      "metadata": {
        "id": "EcAA3i2Katvf"
      }
    },
    {
      "cell_type": "markdown",
      "source": [
        "**Code disini!**\n",
        "\n",
        "---"
      ],
      "metadata": {
        "id": "rZuRB8vIN_Tz"
      }
    },
    {
      "cell_type": "code",
      "source": [
        "# Tulis code Anda disini"
      ],
      "metadata": {
        "id": "EQC7y2-5N_T6"
      },
      "execution_count": null,
      "outputs": []
    },
    {
      "cell_type": "markdown",
      "source": [
        "**Kunci jawaban**\n",
        "\n",
        "---"
      ],
      "metadata": {
        "id": "bjGZ4rOUN_T6"
      }
    },
    {
      "cell_type": "code",
      "source": [
        "# Tulis code Anda disini\n",
        "\n",
        "# Variable n1 dan n2\n",
        "n1 = 1 # n1\n",
        "n2 = 11 # n2\n",
        "\n",
        "# Variable perhitungan kuadrat pada bilangan ganjil\n",
        "kuadrat_ganjil = [i ** 2 for i in range(1, 11) if i % 2 == 1]\n",
        "\n",
        "# Tampilkan hasil kuadrat pada bilangan ganjil\n",
        "print(kuadrat_ganjil)"
      ],
      "metadata": {
        "colab": {
          "base_uri": "https://localhost:8080/"
        },
        "id": "fl1zoU01aDQx",
        "outputId": "faa91f7b-7e6d-4485-da2b-55f0da294075"
      },
      "execution_count": null,
      "outputs": [
        {
          "output_type": "stream",
          "name": "stdout",
          "text": [
            "[1, 9, 25, 49, 81]\n"
          ]
        }
      ]
    },
    {
      "cell_type": "markdown",
      "source": [
        "## Task 16\n",
        "\n",
        "---"
      ],
      "metadata": {
        "id": "JUiQw751XCL6"
      }
    },
    {
      "cell_type": "markdown",
      "source": [
        "**Soal**\n",
        "\n",
        "---"
      ],
      "metadata": {
        "id": "SlVSMHqeOHzz"
      }
    },
    {
      "cell_type": "markdown",
      "source": [
        "- Buatlah sebuah variable `list_asal` yang berisi list `1, -2, 3,-4, 5, dan -6`\n",
        "- Lakukan perulangan sintaks `for` comprehension untuk pengecekan pada angka tersebut."
      ],
      "metadata": {
        "id": "vlM8dCfNXz4x"
      }
    },
    {
      "cell_type": "markdown",
      "source": [
        "Ketentuan :\n",
        "- Jika angka positive maka tampilkan **Positive**\n",
        "- Jika angka negative maka tampilkan **Negative**"
      ],
      "metadata": {
        "id": "iM1CIOVTOVLa"
      }
    },
    {
      "cell_type": "markdown",
      "source": [
        "**Contoh Input:**\n",
        "\n",
        "---"
      ],
      "metadata": {
        "id": "Sy6BX3q0YUed"
      }
    },
    {
      "cell_type": "markdown",
      "source": [
        "```python\n",
        "list_asal =  [1, -2, 3,-4, 5, -6]\n",
        "```"
      ],
      "metadata": {
        "id": "WOgkgAvtYVws"
      }
    },
    {
      "cell_type": "markdown",
      "source": [
        "**Contoh Output:**\n",
        "\n",
        "---"
      ],
      "metadata": {
        "id": "hDehiA0pYhQk"
      }
    },
    {
      "cell_type": "markdown",
      "source": [
        "```python\n",
        "['Positif', 'Negatif', 'Positif', 'Negatif', 'Positif', 'Negatif']\n",
        "```"
      ],
      "metadata": {
        "id": "8T8KEWAaYijl"
      }
    },
    {
      "cell_type": "markdown",
      "source": [
        "**Code disini!**\n",
        "\n",
        "---"
      ],
      "metadata": {
        "id": "6oSAZ4EROkwJ"
      }
    },
    {
      "cell_type": "code",
      "source": [
        "# Tulis code Anda disini"
      ],
      "metadata": {
        "id": "5E_iEBODOkwJ"
      },
      "execution_count": null,
      "outputs": []
    },
    {
      "cell_type": "markdown",
      "source": [
        "**Kunci jawaban**\n",
        "\n",
        "---"
      ],
      "metadata": {
        "id": "yfH5jWBOOkwJ"
      }
    },
    {
      "cell_type": "code",
      "source": [
        "# Tulis code Anda disini\n",
        "\n",
        "# Variable list\n",
        "list_asal = [1, -2, 3, -4, 5, -6]\n",
        "\n",
        "# Looping comprehension\n",
        "hasil = [\"Positive\" if i > 0  else \"Negative\" for i in list_asal]\n",
        "\n",
        "# Tampilkan hasil\n",
        "print(hasil)"
      ],
      "metadata": {
        "colab": {
          "base_uri": "https://localhost:8080/"
        },
        "id": "nnUkKkcJXsw1",
        "outputId": "b34be206-7e2a-42c7-fb39-7fd692c6652c"
      },
      "execution_count": null,
      "outputs": [
        {
          "output_type": "stream",
          "name": "stdout",
          "text": [
            "['Positive', 'Negative', 'Positive', 'Negative', 'Positive', 'Negative']\n"
          ]
        }
      ]
    },
    {
      "cell_type": "markdown",
      "source": [
        "## Task 17\n",
        "\n",
        "---"
      ],
      "metadata": {
        "id": "OHDCGhUKcZDz"
      }
    },
    {
      "cell_type": "markdown",
      "source": [
        "**Soal**\n",
        "\n",
        "---"
      ],
      "metadata": {
        "id": "M1QCQanwOnu0"
      }
    },
    {
      "cell_type": "markdown",
      "source": [
        "- Buatlah sebuah variable `list_a` dan `list_b`\n",
        "    - `list_a` berisi 1, 2, dan 3\n",
        "    - `list_b` berisi 4, 5, dan 6\n",
        "- Gabungkan dan tambahkan kedua variable tersebut menggunakan perulangan sintaks `for` comprehension!"
      ],
      "metadata": {
        "id": "uPr4Rm-CcaId"
      }
    },
    {
      "cell_type": "markdown",
      "source": [
        "**Contoh Input:**\n",
        "\n",
        "---"
      ],
      "metadata": {
        "id": "1KS60yKGcuSw"
      }
    },
    {
      "cell_type": "markdown",
      "source": [
        "```python\n",
        "list_a = [1, 2, 3]\n",
        "list_b = [4, 5, 6]\n",
        "```"
      ],
      "metadata": {
        "id": "QDyA3RuFcwK0"
      }
    },
    {
      "cell_type": "markdown",
      "source": [
        "**Contoh Output:**\n",
        "\n",
        "---"
      ],
      "metadata": {
        "id": "i8H1w1IDdim1"
      }
    },
    {
      "cell_type": "markdown",
      "source": [
        "```python\n",
        "[5, 6, 7, 6, 7, 8, 7, 8, 9]\n",
        "```"
      ],
      "metadata": {
        "id": "_EX_oZEHdkFB"
      }
    },
    {
      "cell_type": "markdown",
      "source": [
        "**Code disini!**\n",
        "\n",
        "---"
      ],
      "metadata": {
        "id": "0PfMC07oPEz1"
      }
    },
    {
      "cell_type": "code",
      "source": [
        "# Tulis code Anda disini"
      ],
      "metadata": {
        "id": "t_2N4iUEPEz2"
      },
      "execution_count": null,
      "outputs": []
    },
    {
      "cell_type": "markdown",
      "source": [
        "**Kunci jawaban**\n",
        "\n",
        "---"
      ],
      "metadata": {
        "id": "m2fgX99QPEz2"
      }
    },
    {
      "cell_type": "code",
      "source": [
        "# Tulis code Anda disini\n",
        "\n",
        "# Variable list a dan b\n",
        "list_a = [1, 2, 3] # List a\n",
        "list_b = [4, 5, 6] # List b\n",
        "\n",
        "# Gabungkan dan tambahkan variable list_a dan list_b\n",
        "gabungan = [x + y for x in list_a for y in list_b ]\n",
        "\n",
        "# Tampilkan hasil\n",
        "print(gabungan)"
      ],
      "metadata": {
        "colab": {
          "base_uri": "https://localhost:8080/"
        },
        "id": "s2BFkTfyc2th",
        "outputId": "a5b49ca3-e919-42fc-94af-ea62a33fdda3"
      },
      "execution_count": null,
      "outputs": [
        {
          "output_type": "stream",
          "name": "stdout",
          "text": [
            "[5, 6, 7, 6, 7, 8, 7, 8, 9]\n"
          ]
        }
      ]
    }
  ]
}