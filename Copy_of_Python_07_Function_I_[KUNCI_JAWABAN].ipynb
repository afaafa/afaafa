{
  "nbformat": 4,
  "nbformat_minor": 0,
  "metadata": {
    "colab": {
      "provenance": [],
      "toc_visible": true,
      "include_colab_link": true
    },
    "kernelspec": {
      "name": "python3",
      "display_name": "Python 3"
    },
    "language_info": {
      "name": "python"
    }
  },
  "cells": [
    {
      "cell_type": "markdown",
      "metadata": {
        "id": "view-in-github",
        "colab_type": "text"
      },
      "source": [
        "<a href=\"https://colab.research.google.com/github/afaafa/afaafa/blob/main/Copy_of_Python_07_Function_I_%5BKUNCI_JAWABAN%5D.ipynb\" target=\"_parent\"><img src=\"https://colab.research.google.com/assets/colab-badge.svg\" alt=\"Open In Colab\"/></a>"
      ]
    },
    {
      "cell_type": "markdown",
      "source": [
        "# Day 7 - Function I\n",
        "---\n",
        "\n",
        "Python Programming - Sekolah Data - Pacmann AI"
      ],
      "metadata": {
        "id": "EwtnO2KPhgqK"
      }
    },
    {
      "cell_type": "markdown",
      "source": [
        "## Task 1\n",
        "\n",
        "---"
      ],
      "metadata": {
        "id": "ZSYP4c04h4M0"
      }
    },
    {
      "cell_type": "markdown",
      "source": [
        "**Soal**\n",
        "\n",
        "---"
      ],
      "metadata": {
        "id": "9VuXXiEThm17"
      }
    },
    {
      "cell_type": "markdown",
      "source": [
        "- Buatlah sebuah function `kalimat` yang tidak memiliki perameter\n",
        "- Tampilkan kalimat `saya adalah manusia kuat` menggunnakan function `kalimat`\n",
        "- Jalankan function `kalimat` tersebut!"
      ],
      "metadata": {
        "id": "NVr0JFnXif39"
      }
    },
    {
      "cell_type": "markdown",
      "source": [
        "**Contoh Output:**"
      ],
      "metadata": {
        "id": "uoqoUKm8jNJB"
      }
    },
    {
      "cell_type": "markdown",
      "source": [
        "```python\n",
        "saya adalah manusia kuat\n",
        "```"
      ],
      "metadata": {
        "id": "7PD7-xQhjOr1"
      }
    },
    {
      "cell_type": "markdown",
      "source": [
        "**Code disini!**\n",
        "\n",
        "---"
      ],
      "metadata": {
        "id": "LqCKjjptIGts"
      }
    },
    {
      "cell_type": "code",
      "source": [
        "# Tulis code Anda disini"
      ],
      "metadata": {
        "id": "c3NNFRTnIIsy"
      },
      "execution_count": null,
      "outputs": []
    },
    {
      "cell_type": "markdown",
      "source": [
        "## Task 2\n",
        "\n",
        "---"
      ],
      "metadata": {
        "id": "Xuq5pAHDjVnr"
      }
    },
    {
      "cell_type": "markdown",
      "source": [
        "**Soal**\n",
        "\n",
        "---"
      ],
      "metadata": {
        "id": "2p1v_Ij2iNqt"
      }
    },
    {
      "cell_type": "markdown",
      "source": [
        "- Buatlah sebuah function `penjumlahan` yang tidak memiliki parameter\n",
        "- Buatlah perhitungan penjumlahan di dalam function dan tampilkan hasilnya.\n",
        "- Kemudian jalankan function `penjumlahan` tersebut!"
      ],
      "metadata": {
        "id": "UBIwo5L-jYLw"
      }
    },
    {
      "cell_type": "markdown",
      "source": [
        "**Contoh Output:**\n",
        "\n",
        "---"
      ],
      "metadata": {
        "id": "NmSIRe6Nj3qX"
      }
    },
    {
      "cell_type": "markdown",
      "source": [
        "```python\n",
        "4\n",
        "```"
      ],
      "metadata": {
        "id": "NnJICSzKj5aP"
      }
    },
    {
      "cell_type": "markdown",
      "source": [
        "**Code disini!**\n",
        "\n",
        "---"
      ],
      "metadata": {
        "id": "nwsU0IJrigOU"
      }
    },
    {
      "cell_type": "code",
      "source": [
        "# Tulis code Anda disini"
      ],
      "metadata": {
        "id": "EiR08TEuigOl"
      },
      "execution_count": null,
      "outputs": []
    },
    {
      "cell_type": "markdown",
      "source": [
        "## Task 3\n",
        "\n",
        "---"
      ],
      "metadata": {
        "id": "DLL76UOKkb7E"
      }
    },
    {
      "cell_type": "markdown",
      "source": [
        "**Soal**\n",
        "\n",
        "---"
      ],
      "metadata": {
        "id": "5iyAmP4Eijfg"
      }
    },
    {
      "cell_type": "markdown",
      "source": [
        "- Buatlah sebuah function `pendaftaran` yang berisi parameter `nama`, `jurusan`, dan `angkatan_kuliah`.\n",
        "- Tampilkan inputan parameter tersebut.\n",
        "- Misal :\n",
        "    - `nama` adalah Joni, bertipe `str`\n",
        "    - `jurusan` adalah teknik, bertipe `str`\n",
        "    - `angkatan_kuliah` adalah 2016, bertipe `int`\n",
        "\n",
        "- Kemudian jalankan function `pendaftaran`!"
      ],
      "metadata": {
        "id": "DD2Vjzq5khzs"
      }
    },
    {
      "cell_type": "markdown",
      "source": [
        "**Contoh Input:**\n",
        "\n",
        "---"
      ],
      "metadata": {
        "id": "FZ-dV9wGleb_"
      }
    },
    {
      "cell_type": "markdown",
      "source": [
        "```python\n",
        "nama = \"Joni\"\n",
        "jurusan = \"teknik\"\n",
        "angkatan_kuliah = 2016\n",
        "```"
      ],
      "metadata": {
        "id": "6Go89qk6lf-g"
      }
    },
    {
      "cell_type": "markdown",
      "source": [
        "**Contoh Output:**\n",
        "\n",
        "---"
      ],
      "metadata": {
        "id": "-oH5J7U6lsUR"
      }
    },
    {
      "cell_type": "markdown",
      "source": [
        "```python\n",
        "Joni teknik 2016\n",
        "```"
      ],
      "metadata": {
        "id": "MjfKVDSLlv8t"
      }
    },
    {
      "cell_type": "markdown",
      "source": [
        "**Code disini!**\n",
        "\n",
        "---"
      ],
      "metadata": {
        "id": "tDfJ8K1bjTQH"
      }
    },
    {
      "cell_type": "code",
      "source": [
        "# Tulis code Anda disini"
      ],
      "metadata": {
        "id": "dsT8m7j1jTQY"
      },
      "execution_count": null,
      "outputs": []
    },
    {
      "cell_type": "markdown",
      "source": [
        "## Task 4\n",
        "\n",
        "---"
      ],
      "metadata": {
        "id": "D90lnBzxmtxA"
      }
    },
    {
      "cell_type": "markdown",
      "source": [
        "**Soal**\n",
        "\n",
        "---"
      ],
      "metadata": {
        "id": "5NL1acqCjZuk"
      }
    },
    {
      "cell_type": "markdown",
      "source": [
        "- Buatlah sebuah function `faktorial`\n",
        "    - Tambahkan parameter `n`\n",
        "    - Misal :\n",
        "        - `n` adalah angka 5, bertipe `int`\n",
        "-Function tersebut akan membuat sebuah kondisi :\n",
        "    - Jika `n` == 0 atau 1 maka kembalikan angka 1\n",
        "    - Jika tidak maka lakukan perhitungan faktorial\n",
        "- Kemudian jalankan function `faktorial`!"
      ],
      "metadata": {
        "id": "QotBHcwtoK9T"
      }
    },
    {
      "cell_type": "markdown",
      "source": [
        "**Rumus**\n",
        "\n",
        "$$\n",
        "n!=n \\cdot (n−1) \\cdot (n−2)  ...\n",
        "$$"
      ],
      "metadata": {
        "id": "Zy3flAVknyJP"
      }
    },
    {
      "cell_type": "markdown",
      "source": [
        "**Contoh Input:**\n",
        "\n",
        "---"
      ],
      "metadata": {
        "id": "bCXi8-dBo2Hq"
      }
    },
    {
      "cell_type": "markdown",
      "source": [
        "```python\n",
        "n = 5\n",
        "```"
      ],
      "metadata": {
        "id": "_YRtqWgyo3pW"
      }
    },
    {
      "cell_type": "markdown",
      "source": [
        "**Contoh Output:**\n",
        "\n",
        "---"
      ],
      "metadata": {
        "id": "D1tybItCpJSb"
      }
    },
    {
      "cell_type": "markdown",
      "source": [
        "```python\n",
        "120\n",
        "```"
      ],
      "metadata": {
        "id": "shGwkGlRpKwt"
      }
    },
    {
      "cell_type": "markdown",
      "source": [
        "**Code disini!**\n",
        "\n",
        "---"
      ],
      "metadata": {
        "id": "9UEChDqDjvJP"
      }
    },
    {
      "cell_type": "code",
      "source": [
        "# Tulis code Anda disini"
      ],
      "metadata": {
        "id": "TKbYYWXvjvJR"
      },
      "execution_count": null,
      "outputs": []
    },
    {
      "cell_type": "markdown",
      "source": [
        "## Task 5\n",
        "\n",
        "---"
      ],
      "metadata": {
        "id": "7ZpiDkBNpNnj"
      }
    },
    {
      "cell_type": "markdown",
      "source": [
        "**Soal**\n",
        "\n",
        "---"
      ],
      "metadata": {
        "id": "EVlD_Y3Fj52J"
      }
    },
    {
      "cell_type": "markdown",
      "source": [
        "- Buatlah sebuah function `luas_lingkaran` yang mempunyai parameter default `pi` adalah 3.14 dan parameter `jari_jari`:\n",
        "- Misal :\n",
        "    - parameter `jari_jari` adalah angka 12, bertipe `int`\n",
        "- Di dalam function buatlah perhitungan rumus luas lingkaran dan tampilkan hasil perhitungannya!\n",
        "- Kemudian jalankan function `luas_lingkaran`!"
      ],
      "metadata": {
        "id": "59boXT0dpPHz"
      }
    },
    {
      "cell_type": "markdown",
      "source": [
        "**Rumus**"
      ],
      "metadata": {
        "id": "tRKNzZSBkLv1"
      }
    },
    {
      "cell_type": "markdown",
      "source": [
        "$$\n",
        "\\text {luas lingkaran} =  \\pi \\cdot r^2\n",
        "$$"
      ],
      "metadata": {
        "id": "4ri6PxInkK8Q"
      }
    },
    {
      "cell_type": "markdown",
      "source": [
        "**Contoh Input:**\n",
        "\n",
        "---"
      ],
      "metadata": {
        "id": "bvQGhLaEqnmh"
      }
    },
    {
      "cell_type": "markdown",
      "source": [
        "```python  \n",
        "jari_jari = 5\n",
        "```"
      ],
      "metadata": {
        "id": "I3Gizz8UrHTb"
      }
    },
    {
      "cell_type": "markdown",
      "source": [
        "**Contoh Output:**\n",
        "\n",
        "---"
      ],
      "metadata": {
        "id": "M2rrTst5rfmz"
      }
    },
    {
      "cell_type": "markdown",
      "source": [
        "```python\n",
        "78.5\n",
        "```"
      ],
      "metadata": {
        "id": "iSOH4uphsWW5"
      }
    },
    {
      "cell_type": "markdown",
      "source": [
        "**Code disini!**\n",
        "\n",
        "---"
      ],
      "metadata": {
        "id": "7NNQ50HKle_S"
      }
    },
    {
      "cell_type": "code",
      "source": [
        "# Tulis code Anda disini"
      ],
      "metadata": {
        "id": "tFko9sGXle_T"
      },
      "execution_count": null,
      "outputs": []
    },
    {
      "cell_type": "markdown",
      "source": [
        "## Task 6\n",
        "\n",
        "---"
      ],
      "metadata": {
        "id": "FK_tyjiJsb1e"
      }
    },
    {
      "cell_type": "markdown",
      "source": [
        "**Soal**\n",
        "\n",
        "---"
      ],
      "metadata": {
        "id": "JoHTIED3ln_P"
      }
    },
    {
      "cell_type": "markdown",
      "source": [
        "- Buatlah sebuah function `profit`\n",
        "- Tambahkan parameter `data` yang berisi dictionary berupa :\n",
        "\n",
        "    - `{\"biaya produksi\" : 35000, \"harga jual\" : 50000, jumlah produk : 1200}`\n",
        "\n",
        "- Buatlah rumus total pendapatan, total biaya, dan total profit di dalam function `profit`\n",
        "- Kemudian jalankan function `profit`!"
      ],
      "metadata": {
        "id": "1z0VuQGO7Z9C"
      }
    },
    {
      "cell_type": "markdown",
      "source": [
        "**Rumus**"
      ],
      "metadata": {
        "id": "jXmkfWtTlzTe"
      }
    },
    {
      "cell_type": "markdown",
      "source": [
        "$$\n",
        "\\text{total pendapatan} = \\text{harga jual} \\cdot \\text{jumlah produk}\n",
        "$$\n",
        "\n",
        "$$\n",
        "\\text {total biaya} = \\text{biaya_produksi} \\cdot \\text{jumlah_produk}\n",
        "$$\n",
        "\n",
        "$$\n",
        "\\text {total profit} = \\text{total_pendapatan} - \\text{total_biaya}\n",
        "$$"
      ],
      "metadata": {
        "id": "Lk6QIZTomDvT"
      }
    },
    {
      "cell_type": "markdown",
      "source": [
        "**Contoh Input:**\n",
        "\n",
        "---"
      ],
      "metadata": {
        "id": "L0lXXkPK-0Io"
      }
    },
    {
      "cell_type": "markdown",
      "source": [
        "```python\n",
        "data = {\"biaya produksi\" : 35000, \"harga jual\" : 50000, jumlah produk : 1200}\n",
        "```"
      ],
      "metadata": {
        "id": "31ob2Gl4-1QL"
      }
    },
    {
      "cell_type": "markdown",
      "source": [
        "**Contoh Output:**\n",
        "\n",
        "---"
      ],
      "metadata": {
        "id": "8reMEFl8-9Ax"
      }
    },
    {
      "cell_type": "markdown",
      "source": [
        "```python\n",
        "18000000\n",
        "```"
      ],
      "metadata": {
        "id": "L2hO2LwC--c7"
      }
    },
    {
      "cell_type": "markdown",
      "source": [
        "**Code disini!**\n",
        "\n",
        "---"
      ],
      "metadata": {
        "id": "QOQuTIh6msyV"
      }
    },
    {
      "cell_type": "code",
      "source": [
        "# Tulis code Anda disini"
      ],
      "metadata": {
        "id": "Cy-Lo5GZmsyW"
      },
      "execution_count": null,
      "outputs": []
    },
    {
      "cell_type": "markdown",
      "source": [
        "## Task 7\n",
        "\n",
        "---"
      ],
      "metadata": {
        "id": "TLIVGtL9_FxX"
      }
    },
    {
      "cell_type": "markdown",
      "source": [
        "**Soal**\n",
        "\n",
        "---"
      ],
      "metadata": {
        "id": "6-1mL2xXmwEM"
      }
    },
    {
      "cell_type": "markdown",
      "source": [
        "- Buatlah function `penjumlahan_list`, Fungsi ini untuk menghitung jumlah bilangan ganjil di dalam list.\n",
        "- Kemudian jalankan function `penjumlahan_list`!"
      ],
      "metadata": {
        "id": "GjmiPFa0_Ypf"
      }
    },
    {
      "cell_type": "markdown",
      "source": [
        "**Contoh Input:**\n",
        "\n",
        "---"
      ],
      "metadata": {
        "id": "5m0nVQR7Dtyc"
      }
    },
    {
      "cell_type": "markdown",
      "source": [
        "```python\n",
        "data  = [1, 3, 5, 7]\n",
        "```"
      ],
      "metadata": {
        "id": "PbNf4fsWDvX1"
      }
    },
    {
      "cell_type": "markdown",
      "source": [
        "**Contoh Output:**\n",
        "\n",
        "---"
      ],
      "metadata": {
        "id": "Dsr4uv6uD3Qr"
      }
    },
    {
      "cell_type": "markdown",
      "source": [
        "```python\n",
        "16\n",
        "```"
      ],
      "metadata": {
        "id": "hyLKrOm5FCcS"
      }
    },
    {
      "cell_type": "markdown",
      "source": [
        "**Code disini!**\n",
        "\n",
        "---"
      ],
      "metadata": {
        "id": "WZoB5ucmnfq_"
      }
    },
    {
      "cell_type": "code",
      "source": [
        "# Tulis code Anda disini"
      ],
      "metadata": {
        "id": "X1VvFYMNnfrR"
      },
      "execution_count": null,
      "outputs": []
    },
    {
      "cell_type": "markdown",
      "source": [
        "## Task 8\n",
        "\n",
        "---"
      ],
      "metadata": {
        "id": "6qOhtePEFbJB"
      }
    },
    {
      "cell_type": "markdown",
      "source": [
        "**Soal**\n",
        "\n",
        "---"
      ],
      "metadata": {
        "id": "M-z5-YZTnmK3"
      }
    },
    {
      "cell_type": "markdown",
      "source": [
        "- Buat sebuah fungsi yang menerima suatu input kalimat dan mengeluarkan\n",
        "    - Huruf duplikat\n",
        "    - Jumlah masing-masing huruf\n",
        "- Fungsi bernama `find_duplicate_chars`\n",
        "    - Tambahkan parameter `input_str`\n",
        "    - Misal :\n",
        "        - `input_str` adalah hello ayam, bertipe `str`\n",
        "- Di dalam function buatlah code untuk menampilkan huruf yang mengandung duplicate dan simpan ke dalam list\n",
        "- Simpan jumlah setiap huruf ke dalam dictionary!"
      ],
      "metadata": {
        "id": "2rxzeBwlHopd"
      }
    },
    {
      "cell_type": "markdown",
      "source": [
        "**Contoh Input:**\n",
        "\n",
        "---"
      ],
      "metadata": {
        "id": "vtZxsHd9JTDr"
      }
    },
    {
      "cell_type": "markdown",
      "source": [
        "```python\n",
        "input_str = \"hello ayam\"\n",
        "```"
      ],
      "metadata": {
        "id": "ECVQv78VJUlq"
      }
    },
    {
      "cell_type": "markdown",
      "source": [
        "**Contoh Output:**\n",
        "\n",
        "---"
      ],
      "metadata": {
        "id": "nI62NJH5JfyX"
      }
    },
    {
      "cell_type": "markdown",
      "source": [
        "```python\n",
        "Karakter yang duplikat: ['l', 'a']\n",
        "Jumlah kemunculan setiap karakter: {'h': 1, 'e': 1, 'l': 2, 'o': 1, 'a': 2, 'y': 1, 'm': 1}\n",
        "```"
      ],
      "metadata": {
        "id": "IG_G9JdGJhWr"
      }
    },
    {
      "cell_type": "markdown",
      "source": [
        "**Code disini!**\n",
        "\n",
        "---"
      ],
      "metadata": {
        "id": "OuLqgSFKomLF"
      }
    },
    {
      "cell_type": "code",
      "source": [
        "# Tulis code Anda disini"
      ],
      "metadata": {
        "id": "zIiwu7C4omLa"
      },
      "execution_count": null,
      "outputs": []
    },
    {
      "cell_type": "markdown",
      "source": [
        "## Task 9\n",
        "\n",
        "---"
      ],
      "metadata": {
        "id": "FVrvnt6-NLBT"
      }
    },
    {
      "cell_type": "markdown",
      "source": [
        "**Soal**\n",
        "\n",
        "---"
      ],
      "metadata": {
        "id": "BRk8e6pSopho"
      }
    },
    {
      "cell_type": "markdown",
      "source": [
        "- Buatlah function `jumlah_argumen`  \n",
        "    - Tambahkan parameter `*args` yang berisi angka 1, 2, 3, 4.\n",
        "- Buatlah penjumlahan pada function tersebut\n",
        "- Kemudian jalankan function `jumlah_argumen`!"
      ],
      "metadata": {
        "id": "e3m2EO-7NMZU"
      }
    },
    {
      "cell_type": "markdown",
      "source": [
        "**Contoh Input:**\n",
        "\n",
        "---"
      ],
      "metadata": {
        "id": "GdGW0xZrN3Kx"
      }
    },
    {
      "cell_type": "markdown",
      "source": [
        "```python\n",
        "*arg = (1, 2, 3, 4)\n",
        "```"
      ],
      "metadata": {
        "id": "BCvCIwyIN40Q"
      }
    },
    {
      "cell_type": "markdown",
      "source": [
        "**Contoh Output:**\n",
        "\n",
        "---"
      ],
      "metadata": {
        "id": "aYaaaoVMOC8_"
      }
    },
    {
      "cell_type": "markdown",
      "source": [
        "```python\n",
        "10\n",
        "```"
      ],
      "metadata": {
        "id": "PSrcfrV9OFzj"
      }
    },
    {
      "cell_type": "markdown",
      "source": [
        "**Code disini!**\n",
        "\n",
        "---"
      ],
      "metadata": {
        "id": "Uptx19eUpB_j"
      }
    },
    {
      "cell_type": "code",
      "source": [
        "# Tulis code Anda disini"
      ],
      "metadata": {
        "id": "mFrlsVp_pB_v"
      },
      "execution_count": null,
      "outputs": []
    },
    {
      "cell_type": "markdown",
      "source": [
        "## Task 10\n",
        "\n",
        "---"
      ],
      "metadata": {
        "id": "yDEas7iQPNkZ"
      }
    },
    {
      "cell_type": "markdown",
      "source": [
        "**Soal**\n",
        "\n",
        "---"
      ],
      "metadata": {
        "id": "eS6GoKT6pE-k"
      }
    },
    {
      "cell_type": "markdown",
      "source": [
        "Sebuah toko elektronik sedang melakukan pengecekan laptop di gudang, kemudian pemilik toko ingin memasukannya ke dalam database.\n",
        "- Buatlah sebuah function `info_barang`\n",
        "    - Tambahkan parameter `**kwargs` yang berisi :\n",
        "    - Misal :\n",
        "        - `nama` berisi laptop, bertipe `str`\n",
        "        - `harga` berisi 8000000, bertipe `int`\n",
        "        - `stok` berisi 10, bertipe `int`\n",
        "- Di dalam function buatlah kebuah dictionary\n",
        "- Kemudian jalankan function `info_barang`!"
      ],
      "metadata": {
        "id": "1e12UgYuQVaK"
      }
    },
    {
      "cell_type": "markdown",
      "source": [
        "**Contoh Input:**\n",
        "\n",
        "---"
      ],
      "metadata": {
        "id": "Dq9r4TiwRFpX"
      }
    },
    {
      "cell_type": "markdown",
      "source": [
        "```python\n",
        "**kwargs = (nama = \"laptop\", harga = 8000000, stok =  10)\n",
        "```"
      ],
      "metadata": {
        "id": "APqWuH46RLOY"
      }
    },
    {
      "cell_type": "markdown",
      "source": [
        "**Contoh Output:**\n",
        "\n",
        "---"
      ],
      "metadata": {
        "id": "JCgc7SC9RY18"
      }
    },
    {
      "cell_type": "markdown",
      "source": [
        "```python\n",
        "Barang: Laptop, Harga: Rp 8000000, Stok: 10 unit\n",
        "```"
      ],
      "metadata": {
        "id": "U_plefA1RuMJ"
      }
    },
    {
      "cell_type": "markdown",
      "source": [
        "**Code disini!**\n",
        "\n",
        "---"
      ],
      "metadata": {
        "id": "7wmQyZ2NpyDj"
      }
    },
    {
      "cell_type": "code",
      "source": [
        "# Tulis code Anda disini"
      ],
      "metadata": {
        "id": "dgnlM2GVpyD3"
      },
      "execution_count": null,
      "outputs": []
    },
    {
      "cell_type": "markdown",
      "source": [
        "## Task 11\n",
        "\n",
        "---"
      ],
      "metadata": {
        "id": "sgl9SEHQS1-i"
      }
    },
    {
      "cell_type": "markdown",
      "source": [
        "**Soal**\n",
        "\n",
        "---"
      ],
      "metadata": {
        "id": "6TqXvgXJp1L2"
      }
    },
    {
      "cell_type": "markdown",
      "source": [
        "- Buatlah fungsi operasi 2 bilangan\n",
        "- Nama fungsi operasi adalah `jumlah`\n",
        "    - Tambahkan parameter `a`, `b`, dan `op`\n",
        "    - Misal\n",
        "        - `a` adalah 2, bertipe `int`\n",
        "        - `b` adalah 3, bertipe `int`\n",
        "        - `op` adalah +, bertipe `str`\n",
        "- Output fungsi adalah hasil operasi antara a dengan b dengan operator dari `op`\n",
        "- Tambahkan in line docstring pada fungsi tersebut!\n",
        "- `print` line docstring yang dibuat sebelumnya"
      ],
      "metadata": {
        "id": "JSpReWP-TzJ3"
      }
    },
    {
      "cell_type": "markdown",
      "source": [
        "**Contoh Input:**\n",
        "\n",
        "---"
      ],
      "metadata": {
        "id": "xXFfjhQ8UH3B"
      }
    },
    {
      "cell_type": "markdown",
      "source": [
        "```python\n",
        "a = 2\n",
        "b = 3\n",
        "op = \"+\"\n",
        "```"
      ],
      "metadata": {
        "id": "GiezwJnuUJT0"
      }
    },
    {
      "cell_type": "markdown",
      "source": [
        "**Contoh Output:**\n",
        "\n",
        "---"
      ],
      "metadata": {
        "id": "l9VLpEhjUtsH"
      }
    },
    {
      "cell_type": "markdown",
      "source": [
        "```python\n",
        "6\n",
        "Help on function jumlah in module __main__:\n",
        "\n",
        "jumlah(a, b, op)\n",
        "    Fungsi ini melakukan operasi dua bilangan\n",
        "```"
      ],
      "metadata": {
        "id": "VRms6V6RUvaZ"
      }
    },
    {
      "cell_type": "markdown",
      "source": [
        "**Code disini!**\n",
        "\n",
        "---"
      ],
      "metadata": {
        "id": "r_Fm6fdZrDsV"
      }
    },
    {
      "cell_type": "code",
      "source": [
        "# Tulis code Anda disini"
      ],
      "metadata": {
        "id": "YZ6IIfX9rDsf"
      },
      "execution_count": null,
      "outputs": []
    },
    {
      "cell_type": "markdown",
      "source": [
        "## Task 12\n",
        "\n",
        "---"
      ],
      "metadata": {
        "id": "ONv2T3V0VKgY"
      }
    },
    {
      "cell_type": "markdown",
      "source": [
        "**Soal**\n",
        "\n",
        "---"
      ],
      "metadata": {
        "id": "Ign2E311rH5E"
      }
    },
    {
      "cell_type": "markdown",
      "source": [
        "Doni diberikan sejumlah data dalam bentuk list untuk melakukan analisis data, data yang perlu dianalisa adalah :\n",
        "- Jumlah data\n",
        "- Rata-rata pada data\n",
        "- Threshold lebih dari 10\n",
        "\n",
        "- Buatlah sebuah function `analisis_data`\n",
        "    - Tambahkan parameter `data` dan parameter default `threshold` yang berisi angka 10.\n",
        "\n",
        "        - Parameter `data` berisi list :\n",
        "\n",
        "            - `[8, 12, 6, 15, 11, 9, 7, 14, 10, 18, 20]`\n",
        "\n",
        "- Di dalam function buatlah perhitungan jumlah data, rata-rata data, dan data yang lebih dari threshold.\n",
        "- Tambahkan docstring pada function `analisa_data`\n",
        "- Kemudian jalankan function!"
      ],
      "metadata": {
        "id": "Fg1d_wiOXgP7"
      }
    },
    {
      "cell_type": "markdown",
      "source": [
        "**Rumus**\n",
        "\n",
        "$$\n",
        "\\text {rata-rata} = \\frac {\\text{jumlah data}} {\\text{panjang elemen}}\n",
        "$$"
      ],
      "metadata": {
        "id": "kn3EYxwbrMzZ"
      }
    },
    {
      "cell_type": "markdown",
      "source": [
        "**Contoh Input:**\n",
        "\n",
        "---"
      ],
      "metadata": {
        "id": "AkON-LfvXQNV"
      }
    },
    {
      "cell_type": "markdown",
      "source": [
        "```python\n",
        "data = [8, 12, 6, 15, 11, 9, 7, 14, 10, 18, 20]\n",
        "```"
      ],
      "metadata": {
        "id": "psL10RfDXSTt"
      }
    },
    {
      "cell_type": "markdown",
      "source": [
        "**Contoh Output:**\n",
        "\n",
        "---"
      ],
      "metadata": {
        "id": "vDkDswGeVLjt"
      }
    },
    {
      "cell_type": "markdown",
      "source": [
        "```python\n",
        "{'rata_rata': 11.818181818181818, 'jumlah_data': 11, 'data_di atas_threshold': [12, 15, 11, 14, 18, 20]}\n",
        "```"
      ],
      "metadata": {
        "id": "oqxYcXI_XOlm"
      }
    },
    {
      "cell_type": "markdown",
      "source": [
        "**Code disini!**\n",
        "\n",
        "---"
      ],
      "metadata": {
        "id": "hbEFXOvzsDIw"
      }
    },
    {
      "cell_type": "code",
      "source": [
        "# Tulis code Anda disini"
      ],
      "metadata": {
        "id": "sqvIl6UJsDI7"
      },
      "execution_count": null,
      "outputs": []
    },
    {
      "cell_type": "markdown",
      "source": [
        "## Task 13\n",
        "\n",
        "---"
      ],
      "metadata": {
        "id": "8uBikIfOgqUb"
      }
    },
    {
      "cell_type": "markdown",
      "source": [
        "**Soal**\n",
        "\n",
        "---"
      ],
      "metadata": {
        "id": "dkmJ5Eq6seQ_"
      }
    },
    {
      "cell_type": "markdown",
      "source": [
        "- Buatlah sebuah variable `addition` menggunakan function `lambda`\n",
        "    - Tambahkan parameter `x` dan `y`\n",
        "        - Misal :\n",
        "            - `x` adalah 5, bertipe `int`\n",
        "            - `y` adalah 10, bertipe `int`\n",
        "- Kemudian tampilkan hasilnya"
      ],
      "metadata": {
        "id": "SDghkmXGf0-2"
      }
    },
    {
      "cell_type": "markdown",
      "source": [
        "**Contoh Input:**\n",
        "\n",
        "---"
      ],
      "metadata": {
        "id": "WSsj86MWgXNN"
      }
    },
    {
      "cell_type": "markdown",
      "source": [
        "```python\n",
        "x = 5\n",
        "y = 10\n",
        "```"
      ],
      "metadata": {
        "id": "eoqib9jZgaR_"
      }
    },
    {
      "cell_type": "markdown",
      "source": [
        "**Contoh Output:**\n",
        "\n",
        "---"
      ],
      "metadata": {
        "id": "jWQHluW2iKqu"
      }
    },
    {
      "cell_type": "markdown",
      "source": [
        "```python\n",
        "15\n",
        "```"
      ],
      "metadata": {
        "id": "uf6yQZN2iNKX"
      }
    },
    {
      "cell_type": "markdown",
      "source": [
        "**Code disini!**\n",
        "\n",
        "---"
      ],
      "metadata": {
        "id": "Khhp66l-s9E8"
      }
    },
    {
      "cell_type": "code",
      "source": [
        "# Tulis code Anda disini"
      ],
      "metadata": {
        "id": "fqC3eo0us9E9"
      },
      "execution_count": null,
      "outputs": []
    },
    {
      "cell_type": "markdown",
      "source": [
        "**Kunci jawaban**\n",
        "\n",
        "---"
      ],
      "metadata": {
        "id": "Dvpx71hHs9E-"
      }
    },
    {
      "cell_type": "code",
      "source": [
        "# Tulis code Anda disini\n",
        "\n",
        "# Variable addition\n",
        "addition = lambda x, y: x + y\n",
        "\n",
        "# Parameter x dan y\n",
        "x = 5 # x\n",
        "y =  10 # y\n",
        "\n",
        "# Tampilkan hasil\n",
        "print(addition(x = 5, y = 10))"
      ],
      "metadata": {
        "colab": {
          "base_uri": "https://localhost:8080/"
        },
        "id": "l4npxuMnfumh",
        "outputId": "273c936e-4923-4560-d70b-6051a5776cb2"
      },
      "execution_count": null,
      "outputs": [
        {
          "output_type": "stream",
          "name": "stdout",
          "text": [
            "15\n"
          ]
        }
      ]
    },
    {
      "cell_type": "markdown",
      "source": [
        "## Task 14\n",
        "\n",
        "---"
      ],
      "metadata": {
        "id": "xVG3rEjrgyCo"
      }
    },
    {
      "cell_type": "markdown",
      "source": [
        "**Soal**\n",
        "\n",
        "---"
      ],
      "metadata": {
        "id": "FfahDFXrtAKl"
      }
    },
    {
      "cell_type": "markdown",
      "source": [
        "- Buatlah sebuah variable `division` yang berisi function `lambda`\n",
        "    - Tambahkan parameter `x` dan `y`\n",
        "        - Misal :\n",
        "            - `x` adalah 5, bertipe `int`\n",
        "            - `y` adalah 0 bertipe `int`"
      ],
      "metadata": {
        "id": "1INRkd_oixHx"
      }
    },
    {
      "cell_type": "markdown",
      "source": [
        "Di dalam variable terdapat kondisi :\n",
        "\n",
        "- jika parameter `y` sama dengan 0 maka tampilkan pesan **Pembagian oleh nol tidak diperbolehkan**  "
      ],
      "metadata": {
        "id": "1eodsi-JtVhI"
      }
    },
    {
      "cell_type": "markdown",
      "source": [
        "**Contoh Input:**\n",
        "\n",
        "---"
      ],
      "metadata": {
        "id": "Ti3nz2x1jWWH"
      }
    },
    {
      "cell_type": "markdown",
      "source": [
        "```python\n",
        "x = 5\n",
        "y = 0\n",
        "```"
      ],
      "metadata": {
        "id": "nhWIq8CmjYfd"
      }
    },
    {
      "cell_type": "markdown",
      "source": [
        "**Contoh Output:**\n",
        "\n",
        "---"
      ],
      "metadata": {
        "id": "vQsXfLnWjfXv"
      }
    },
    {
      "cell_type": "markdown",
      "source": [
        "```python\n",
        "'Pembagian oleh nol tidak diperbolehkan'\n",
        "```"
      ],
      "metadata": {
        "id": "I5dz88d5jg8g"
      }
    },
    {
      "cell_type": "markdown",
      "source": [
        "**Code disini!**\n",
        "\n",
        "---"
      ],
      "metadata": {
        "id": "c2-jxJTEt0f7"
      }
    },
    {
      "cell_type": "code",
      "source": [
        "# Tulis code Anda disini"
      ],
      "metadata": {
        "id": "qYXGPF68t0f9"
      },
      "execution_count": null,
      "outputs": []
    },
    {
      "cell_type": "markdown",
      "source": [
        "## Task 15\n",
        "\n",
        "---"
      ],
      "metadata": {
        "id": "AAPZ2p6Bj1G6"
      }
    },
    {
      "cell_type": "markdown",
      "source": [
        "**Soal**\n",
        "\n",
        "---"
      ],
      "metadata": {
        "id": "EXhOBF4Yt6mQ"
      }
    },
    {
      "cell_type": "markdown",
      "source": [
        "- Buatlah sebuah variabel `habis_bagi` yang berisi function `lambda`\n",
        "    - Tambahkan parameter `x`\n",
        "        - Misal :\n",
        "            - `x` berisi list `[12, 65, 54, 39, 102, 339, 221]`\n",
        "- Lakukan pembagian pada list `x` dengan 13 pada function `lambda` dan hasil bagi menghasilkan nilai yang sama dengan 0.\n",
        "- Selanjutnya, buat variabel `filtered_angka` untuk memfilter list menggunakan perulangan sintaks `for` comprehension!"
      ],
      "metadata": {
        "id": "TQN20AAIj3P9"
      }
    },
    {
      "cell_type": "markdown",
      "source": [
        "**Contoh Input:**\n",
        "\n",
        "---"
      ],
      "metadata": {
        "id": "faZ35vxSlrT4"
      }
    },
    {
      "cell_type": "markdown",
      "source": [
        "```\n",
        "angka_list = [12, 65, 54, 39, 102, 339, 221]\n",
        "```"
      ],
      "metadata": {
        "id": "EylUIKyQlsqS"
      }
    },
    {
      "cell_type": "markdown",
      "source": [
        "**Contoh Output:**\n",
        "\n",
        "---"
      ],
      "metadata": {
        "id": "3ALfIfPgl51l"
      }
    },
    {
      "cell_type": "markdown",
      "source": [
        "```python\n",
        "Output: [65, 39, 221]\n",
        "```"
      ],
      "metadata": {
        "id": "8zP5m4y-l7ZI"
      }
    },
    {
      "cell_type": "markdown",
      "source": [
        "**Code disini!**\n",
        "\n",
        "---"
      ],
      "metadata": {
        "id": "mMD3eyNqxnU0"
      }
    },
    {
      "cell_type": "code",
      "source": [
        "# Tulis code Anda disini"
      ],
      "metadata": {
        "id": "QuN7NIrvxnU2"
      },
      "execution_count": null,
      "outputs": []
    },
    {
      "cell_type": "markdown",
      "source": [
        "## Task 16\n",
        "\n",
        "---"
      ],
      "metadata": {
        "id": "K1on--w1ZwdL"
      }
    },
    {
      "cell_type": "markdown",
      "source": [
        "Seorang karyawan sedang membeli perlengkapan kerja di toko abc, barang yang dibeli oleh karyawan tersebut adalah :\n",
        "\n",
        "- `[\n",
        "    {\"nama\": \"Buku\", \"harga\": 20, \"jumlah\": 2, \"kategori\": \"Buku\"},\n",
        "    {\"nama\": \"Laptop\", \"harga\": 800, \"jumlah\": 1, \"kategori\": \"Elektronik\"},\n",
        "    {\"nama\": \"Pensil\", \"harga\": 2, \"jumlah\": 10, \"kategori\": \"Alat Tulis\"},\n",
        "    {\"nama\": \"Sepatu\", \"harga\": 50, \"jumlah\": 1, \"kategori\": \"Fashion\"}\n",
        "]`"
      ],
      "metadata": {
        "id": "VfL0ESb5ZxVW"
      }
    },
    {
      "cell_type": "markdown",
      "source": [
        "Saat ini toko abc sedang memberikan diskon sebesar 30% untuk pembelian kategori 'Elektronik'\n",
        "\n",
        "- Buatlah sebuah variable `total_harga` untuk menghitung total pembayaran pada setiap `value` dictionary menggunakan perulangan `for` comprehension\n",
        "- Buatlah sebuah variable `total_diskon` yang di dalamnya terdapat function  `lambda` untuk menghitung diskon tersebut\n",
        "    - Tambahkan parameter `total_diskon` yang berisi hasil perhitungan variable `total_harga`\n",
        "    - Tambahkan parameter `kategori` yang berisi elektronik.\n",
        "- Buatlah variable `total_pembayaran` untuk menghitung jumlah yang harus dibayar ke toko abc\n",
        "- Tampilkan pesan total pembayarannya!"
      ],
      "metadata": {
        "id": "8j5woFXjxwp-"
      }
    },
    {
      "cell_type": "markdown",
      "source": [
        "**Rumus**\n",
        "\n",
        "$$\n",
        "\\text{total harga} = \\text {harga} \\cdot \\text{jumlah}\n",
        "$$\n",
        "\n",
        "$$\n",
        "\\text{total diskon} = \\text {total harga} \\cdot \\text{0.3}\n",
        "$$\n",
        "\n",
        "$$\n",
        "\\text{total pembayaran} = \\text {total harga} - \\text{total diskon}\n",
        "$$"
      ],
      "metadata": {
        "id": "iG7AXmjrvfVX"
      }
    },
    {
      "cell_type": "markdown",
      "source": [
        "**Contoh Input:**\n",
        "\n",
        "---"
      ],
      "metadata": {
        "id": "VNMU0zU4e-yN"
      }
    },
    {
      "cell_type": "markdown",
      "source": [
        "```python\n",
        "barang_belanjaan = [\n",
        "                    {\"nama\": \"Buku\", \"harga\": 20, \"jumlah\": 2, \"kategori\": \"Buku\"},\n",
        "                    {\"nama\": \"Laptop\", \"harga\": 800, \"jumlah\": 1, \"kategori\": \"Elektronik\"},\n",
        "                    {\"nama\": \"Pensil\", \"harga\": 2, \"jumlah\": 10, \"kategori\": \"Alat Tulis\"},\n",
        "                    {\"nama\": \"Sepatu\", \"harga\": 50, \"jumlah\": 1, \"kategori\": \"Fashion\"}\n",
        "                  ]\n",
        " ```"
      ],
      "metadata": {
        "id": "lbIWNORbfBfp"
      }
    },
    {
      "cell_type": "markdown",
      "source": [
        "**Contoh Output:**\n",
        "\n",
        "---"
      ],
      "metadata": {
        "id": "Uvfp9VoKfaJt"
      }
    },
    {
      "cell_type": "markdown",
      "source": [
        "```python\n",
        "Total harga belanjaan dengan diskon: 637.0\n",
        "```"
      ],
      "metadata": {
        "id": "7e_8Sgoffbi2"
      }
    },
    {
      "cell_type": "markdown",
      "source": [
        "**Code disini!**\n",
        "\n",
        "---"
      ],
      "metadata": {
        "id": "2QI5OM6Pxq1_"
      }
    },
    {
      "cell_type": "code",
      "source": [
        "# Tulis code Anda disini"
      ],
      "metadata": {
        "id": "6t9sbPkRxq2R"
      },
      "execution_count": null,
      "outputs": []
    }
  ]
}