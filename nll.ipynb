{
  "nbformat": 4,
  "nbformat_minor": 0,
  "metadata": {
    "colab": {
      "provenance": [],
      "authorship_tag": "ABX9TyMl0y9ogykgVHX2jQfyQEnr",
      "include_colab_link": true
    },
    "kernelspec": {
      "name": "python3",
      "display_name": "Python 3"
    },
    "language_info": {
      "name": "python"
    }
  },
  "cells": [
    {
      "cell_type": "markdown",
      "metadata": {
        "id": "view-in-github",
        "colab_type": "text"
      },
      "source": [
        "<a href=\"https://colab.research.google.com/github/afaafa/afaafa/blob/main/nll.ipynb\" target=\"_parent\"><img src=\"https://colab.research.google.com/assets/colab-badge.svg\" alt=\"Open In Colab\"/></a>"
      ]
    },
    {
      "cell_type": "code",
      "execution_count": null,
      "metadata": {
        "id": "aCYheBrXcKMj"
      },
      "outputs": [],
      "source": [
        "import math\n",
        "\n",
        "def nll(actual, predicted_proba):\n",
        "    '''return the negative log-likehood, Return NLL(float)'''\n",
        "    N = len(actual)\n",
        "\n",
        "    nll = 0\n",
        "    for i in range(N):\n",
        "        nll += (actual[i] * math.log(predicted_proba[i]) + (1 - actual[i]) * math.log(1 - predicted_proba[i]))\n",
        "\n",
        "    nll_ = -(1/N) * nll\n",
        "    return nll_\n",
        "\n",
        "actual = [1, 0, 0, 1, 1]\n",
        "predicted_proba = [0.9, 0.1, 0.05, 0.8, 0.7]\n",
        "\n",
        "res = nll(actual, predicted_proba)\n",
        "print(res)"
      ]
    }
  ]
}