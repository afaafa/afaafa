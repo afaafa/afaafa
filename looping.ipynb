{
  "nbformat": 4,
  "nbformat_minor": 0,
  "metadata": {
    "colab": {
      "provenance": [],
      "authorship_tag": "ABX9TyM84sQKEC1FoS/V3GsREUB5",
      "include_colab_link": true
    },
    "kernelspec": {
      "name": "python3",
      "display_name": "Python 3"
    },
    "language_info": {
      "name": "python"
    }
  },
  "cells": [
    {
      "cell_type": "markdown",
      "metadata": {
        "id": "view-in-github",
        "colab_type": "text"
      },
      "source": [
        "<a href=\"https://colab.research.google.com/github/afaafa/afaafa/blob/main/looping.ipynb\" target=\"_parent\"><img src=\"https://colab.research.google.com/assets/colab-badge.svg\" alt=\"Open In Colab\"/></a>"
      ]
    },
    {
      "cell_type": "code",
      "execution_count": null,
      "metadata": {
        "id": "2iGnX9R_K6CT"
      },
      "outputs": [],
      "source": [
        "list_angka = [1, 2, 3, 4, 5]\n",
        "\n",
        "for angka in list_angka:\n",
        "    if angka % 2 == 0:\n",
        "        print(f'{angka} angka Genap')\n",
        "    else:\n",
        "        print(f'{angka} angka Ganjil')"
      ]
    },
    {
      "cell_type": "code",
      "source": [
        "for angka in range(1, 51):\n",
        "    if angka % 4 == 0:\n",
        "        print(angka, end=' ')"
      ],
      "metadata": {
        "id": "SpO_ns5oZUGe"
      },
      "execution_count": null,
      "outputs": []
    },
    {
      "cell_type": "code",
      "source": [
        "kelipatan = []\n",
        "bukan_kelipatan = []\n",
        "\n",
        "for angka in range(1, 51):\n",
        "  if angka % 4 == 0:\n",
        "    kelipatan.append(angka)\n",
        "  else:\n",
        "    bukan_kelipatan.append(angka)\n",
        "\n",
        "print('data kelipatan 4 = ', kelipatan)\n",
        "print('-----------')\n",
        "print('data bukan kelipatan 4 = ', bukan_kelipatan)"
      ],
      "metadata": {
        "colab": {
          "base_uri": "https://localhost:8080/"
        },
        "id": "3ULLzVl5ZgRF",
        "outputId": "c2ecf46c-d7c1-4d05-dd29-cb6a2ccd7b3d"
      },
      "execution_count": 1,
      "outputs": [
        {
          "output_type": "stream",
          "name": "stdout",
          "text": [
            "data kelipatan 4 =  [4, 8, 12, 16, 20, 24, 28, 32, 36, 40, 44, 48]\n",
            "-----------\n",
            "data bukan kelipatan 4 =  [1, 2, 3, 5, 6, 7, 9, 10, 11, 13, 14, 15, 17, 18, 19, 21, 22, 23, 25, 26, 27, 29, 30, 31, 33, 34, 35, 37, 38, 39, 41, 42, 43, 45, 46, 47, 49, 50]\n"
          ]
        }
      ]
    },
    {
      "cell_type": "code",
      "source": [
        "list_gaji = [2_000_000, 3_500_000, 4_500_000, 2_500_000]\n",
        "\n",
        "list_gaji_baru_2 = [gaji for gaji in list_gaji]\n",
        "\n",
        "print(list_gaji_baru_2)"
      ],
      "metadata": {
        "id": "m58rLzeIzMuo"
      },
      "execution_count": null,
      "outputs": []
    },
    {
      "cell_type": "code",
      "source": [
        "#comprehension list\n",
        "list_angka = [1, 2, 3, 4, 5]\n",
        "\n",
        "hasil_ = []\n",
        "for i in list_angka:\n",
        "  hasil = i + 1\n",
        "  hasil_.append(hasil)\n",
        "  print(hasil_)\n",
        "\n",
        "angka_genap = [i for i in list_angka]\n",
        "print(angka_genap)"
      ],
      "metadata": {
        "colab": {
          "base_uri": "https://localhost:8080/"
        },
        "id": "HV70Peh8zNyk",
        "outputId": "e573c859-5f16-4f95-a0a0-f87ae21cd81a"
      },
      "execution_count": 11,
      "outputs": [
        {
          "output_type": "stream",
          "name": "stdout",
          "text": [
            "[2]\n",
            "[2, 3]\n",
            "[2, 3, 4]\n",
            "[2, 3, 4, 5]\n",
            "[2, 3, 4, 5, 6]\n",
            "[1, 2, 3, 4, 5]\n"
          ]
        }
      ]
    },
    {
      "cell_type": "code",
      "source": [
        "numb_list = [1,2,3,4,5,6,7,8,9,10]\n",
        "simpan = []\n",
        "for numb in numb_list:\n",
        "  if numb % 2 == 1:\n",
        "    simpan.append('ganjil')\n",
        "  else:\n",
        "    simpan.append('genap')\n",
        "print(simpan)\n",
        "\n",
        "simpan = ['ganjil' if numb % 2 == 1 else 'genap' for numb in numb_list]"
      ],
      "metadata": {
        "colab": {
          "base_uri": "https://localhost:8080/"
        },
        "id": "gmwPmwfk6e2X",
        "outputId": "74760a2a-7e86-4bed-ce92-8bc10feab84b"
      },
      "execution_count": 17,
      "outputs": [
        {
          "output_type": "stream",
          "name": "stdout",
          "text": [
            "['ganjil', 'genap', 'ganjil', 'genap', 'ganjil', 'genap', 'ganjil', 'genap', 'ganjil', 'genap']\n"
          ]
        }
      ]
    }
  ]
}