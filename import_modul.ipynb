{
  "nbformat": 4,
  "nbformat_minor": 0,
  "metadata": {
    "colab": {
      "provenance": [],
      "authorship_tag": "ABX9TyNsDJiOU0F2rMrHOOaASwX9",
      "include_colab_link": true
    },
    "kernelspec": {
      "name": "python3",
      "display_name": "Python 3"
    },
    "language_info": {
      "name": "python"
    }
  },
  "cells": [
    {
      "cell_type": "markdown",
      "metadata": {
        "id": "view-in-github",
        "colab_type": "text"
      },
      "source": [
        "<a href=\"https://colab.research.google.com/github/afaafa/afaafa/blob/main/import_modul.ipynb\" target=\"_parent\"><img src=\"https://colab.research.google.com/assets/colab-badge.svg\" alt=\"Open In Colab\"/></a>"
      ]
    },
    {
      "cell_type": "code",
      "execution_count": 5,
      "metadata": {
        "colab": {
          "base_uri": "https://localhost:8080/"
        },
        "id": "YaDgjJ-ARyId",
        "outputId": "2428a11b-93f5-4dbe-84ce-b9297acd0a3a"
      },
      "outputs": [
        {
          "output_type": "execute_result",
          "data": {
            "text/plain": [
              "328767"
            ]
          },
          "metadata": {},
          "execution_count": 5
        }
      ],
      "source": [
        "#import modul\n",
        "import hitung_bunga\n",
        "\n",
        "hitung_bunga.bunga_terendah(saldo = 2_000_000, bunga = 2)"
      ]
    },
    {
      "cell_type": "code",
      "source": [
        "hitung_bunga.bunga_anuitas(pinjaman = 2_000_000, bunga = 2)"
      ],
      "metadata": {
        "colab": {
          "base_uri": "https://localhost:8080/"
        },
        "id": "02hC7o3IX3pr",
        "outputId": "f2840db2-0aa2-4b14-925c-06cac3d28a56"
      },
      "execution_count": 3,
      "outputs": [
        {
          "output_type": "execute_result",
          "data": {
            "text/plain": [
              "120000000"
            ]
          },
          "metadata": {},
          "execution_count": 3
        }
      ]
    },
    {
      "cell_type": "code",
      "source": [
        "#mengakses langsung fungsi didalam modul\n",
        "from hitung_bunga import bunga_terendah\n",
        "\n",
        "bunga_terendah_1 = bunga_terendah(2_000_000, 2)\n",
        "bunga_terendah_1"
      ],
      "metadata": {
        "colab": {
          "base_uri": "https://localhost:8080/"
        },
        "id": "uzIdCZoDYHsj",
        "outputId": "34bce5cd-ce2e-464b-fb96-3d87174835ff"
      },
      "execution_count": 8,
      "outputs": [
        {
          "output_type": "execute_result",
          "data": {
            "text/plain": [
              "328767"
            ]
          },
          "metadata": {},
          "execution_count": 8
        }
      ]
    },
    {
      "cell_type": "code",
      "source": [
        "#cek list function dalam modul\n",
        "functions = [func for func in dir(hitung_bunga) if callable(getattr(hitung_bunga, func))]\n",
        "print(functions)"
      ],
      "metadata": {
        "colab": {
          "base_uri": "https://localhost:8080/"
        },
        "id": "UjcWxW2gZB0V",
        "outputId": "25f074f5-a809-4391-c121-67b7ff58c19f"
      },
      "execution_count": 9,
      "outputs": [
        {
          "output_type": "stream",
          "name": "stdout",
          "text": [
            "['bunga_anuitas', 'bunga_terendah']\n"
          ]
        }
      ]
    },
    {
      "cell_type": "code",
      "source": [
        "#mengakses semua fungsi yang ada pada modul\n"
      ],
      "metadata": {
        "id": "KzU2YwsMaEFB"
      },
      "execution_count": null,
      "outputs": []
    },
    {
      "cell_type": "code",
      "source": [
        "from nll import nll\n",
        "\n",
        "actual = [1, 0, 0, 1, 1]\n",
        "predicted_proba = [0.9, 0.1, 0.05, 0.8, 0.7]\n",
        "\n",
        "res = nll(actual, predicted_proba)\n",
        "print(res)"
      ],
      "metadata": {
        "colab": {
          "base_uri": "https://localhost:8080/"
        },
        "id": "F5hmGLiyaIfc",
        "outputId": "4ad68843-d1e0-4fe9-8b36-d5c0aa8dfd8d"
      },
      "execution_count": 15,
      "outputs": [
        {
          "output_type": "stream",
          "name": "stdout",
          "text": [
            "0.16836656419122908\n"
          ]
        }
      ]
    }
  ]
}