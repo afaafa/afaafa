{
  "nbformat": 4,
  "nbformat_minor": 0,
  "metadata": {
    "colab": {
      "provenance": [],
      "authorship_tag": "ABX9TyNGrHbfZaWHCyED/qgUsiT/",
      "include_colab_link": true
    },
    "kernelspec": {
      "name": "python3",
      "display_name": "Python 3"
    },
    "language_info": {
      "name": "python"
    }
  },
  "cells": [
    {
      "cell_type": "markdown",
      "metadata": {
        "id": "view-in-github",
        "colab_type": "text"
      },
      "source": [
        "<a href=\"https://colab.research.google.com/github/afaafa/afaafa/blob/main/Untitled1.ipynb\" target=\"_parent\"><img src=\"https://colab.research.google.com/assets/colab-badge.svg\" alt=\"Open In Colab\"/></a>"
      ]
    },
    {
      "cell_type": "code",
      "execution_count": 2,
      "metadata": {
        "colab": {
          "base_uri": "https://localhost:8080/"
        },
        "id": "a2N8yVcOeabR",
        "outputId": "fb72e7b6-566a-4a88-e14c-e18081543694"
      },
      "outputs": [
        {
          "output_type": "stream",
          "name": "stdout",
          "text": [
            "[6650.0]\n"
          ]
        }
      ],
      "source": [
        "ayam = 7000\n",
        "diskon = 0.05\n",
        "pembayaran = []\n",
        "\n",
        "if ayam > 6000:\n",
        "  total = ayam - (ayam * diskon)\n",
        "  pembayaran.append(total)\n",
        "else:\n",
        "  pembayaran.append(ayam)\n",
        "\n",
        "print(pembayaran)"
      ]
    }
  ]
}