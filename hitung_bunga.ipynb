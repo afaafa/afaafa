{
  "nbformat": 4,
  "nbformat_minor": 0,
  "metadata": {
    "colab": {
      "provenance": [],
      "authorship_tag": "ABX9TyPcbAvpkZbeHngjTFibS1Xe",
      "include_colab_link": true
    },
    "kernelspec": {
      "name": "python3",
      "display_name": "Python 3"
    },
    "language_info": {
      "name": "python"
    }
  },
  "cells": [
    {
      "cell_type": "markdown",
      "metadata": {
        "id": "view-in-github",
        "colab_type": "text"
      },
      "source": [
        "<a href=\"https://colab.research.google.com/github/afaafa/afaafa/blob/main/hitung_bunga.ipynb\" target=\"_parent\"><img src=\"https://colab.research.google.com/assets/colab-badge.svg\" alt=\"Open In Colab\"/></a>"
      ]
    },
    {
      "cell_type": "code",
      "execution_count": null,
      "metadata": {
        "id": "L4BPGiHSQx9d"
      },
      "outputs": [],
      "source": [
        "#fungsi bunga terendah\n",
        "def bunga_terendah(saldo, bunga):\n",
        "  hari = 30\n",
        "  tahun = 365\n",
        "  bunga_tabungan = saldo * (bunga * hari) / tahun\n",
        "  return round(bunga_tabungan)\n",
        "\n",
        "\n",
        "# fungsi bunga anuitas\n",
        "def bunga_anuitas(pinjaman, bunga):\n",
        "  hari = 30\n",
        "  sisa_tabungan = pinjaman * bunga * hari\n",
        "  return sisa_tabungan"
      ]
    },
    {
      "cell_type": "code",
      "source": [
        "import math\n",
        "\n",
        "def nll(actual, predicted_proba):\n",
        "    N = len(actual)\n",
        "\n",
        "    nll = 0\n",
        "    for i in range(N):\n",
        "        nll += (actual[i] * math.log(predicted_proba[i]) + (1 - actual[i]) * math.log(1 - predicted_proba[i]))\n",
        "\n",
        "    nll_ = -(1/N) * nll\n",
        "    return nll_\n",
        "\n",
        "actual = [1, 0, 0, 1, 1]\n",
        "predicted_proba = [0.9, 0.1, 0.05, 0.8, 0.7]\n",
        "\n",
        "res = nll(actual, predicted_proba)\n",
        "print(res)"
      ],
      "metadata": {
        "colab": {
          "base_uri": "https://localhost:8080/"
        },
        "id": "ctuOMT-BaT8B",
        "outputId": "d74aa01c-76fe-499b-977b-75073db6d7c6"
      },
      "execution_count": 4,
      "outputs": [
        {
          "output_type": "stream",
          "name": "stdout",
          "text": [
            "0.16836656419122908\n"
          ]
        }
      ]
    }
  ]
}