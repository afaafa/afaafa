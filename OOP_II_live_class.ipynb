{
  "nbformat": 4,
  "nbformat_minor": 0,
  "metadata": {
    "colab": {
      "provenance": [],
      "authorship_tag": "ABX9TyPCVdPaXW1jnrG+a+vMaz65",
      "include_colab_link": true
    },
    "kernelspec": {
      "name": "python3",
      "display_name": "Python 3"
    },
    "language_info": {
      "name": "python"
    }
  },
  "cells": [
    {
      "cell_type": "markdown",
      "metadata": {
        "id": "view-in-github",
        "colab_type": "text"
      },
      "source": [
        "<a href=\"https://colab.research.google.com/github/afaafa/afaafa/blob/main/OOP_II_live_class.ipynb\" target=\"_parent\"><img src=\"https://colab.research.google.com/assets/colab-badge.svg\" alt=\"Open In Colab\"/></a>"
      ]
    },
    {
      "cell_type": "code",
      "execution_count": 1,
      "metadata": {
        "colab": {
          "base_uri": "https://localhost:8080/"
        },
        "id": "1rbJ3lKfAJmB",
        "outputId": "ab7f40f8-9b63-4caa-ccd7-417766a768e2"
      },
      "outputs": [
        {
          "output_type": "stream",
          "name": "stdout",
          "text": [
            "Total Pendapatan : 20000\n"
          ]
        }
      ],
      "source": [
        "#buat class Kendaraan\n",
        "class Kendaraan():\n",
        "    def __init__(self, kapasitas):\n",
        "        self.kapasitas = kapasitas\n",
        "\n",
        "#buat class child Mikrolet\n",
        "class Mikrolet(Kendaraan):\n",
        "    def __init__(self, kapasitas, tarif):\n",
        "        super().__init__(kapasitas)\n",
        "        self.tarif = tarif\n",
        "\n",
        "    # buatlah method untuk mencari keuntungan\n",
        "    def keuntungan(self):\n",
        "        self.pendapatan = self.tarif * self.kapasitas\n",
        "        print('Total Pendapatan :', self.pendapatan)\n",
        "\n",
        "#buatlah instance\n",
        "mikrolet_ = Mikrolet(kapasitas = 10, tarif = 2000)\n",
        "mikrolet_.keuntungan()"
      ]
    },
    {
      "cell_type": "code",
      "source": [
        "#buat class Kendaraan\n",
        "class Kendaraan():\n",
        "    def __init__(self, kapasitas):\n",
        "        self.kapasitas = kapasitas\n",
        "\n",
        "#buat class child Bus dan attribute kelas\n",
        "class Bus(Kendaraan):\n",
        "    def __init__(self, kapasitas, tarif):\n",
        "        super().__init__(kapasitas)\n",
        "        self.tarif = tarif\n",
        "\n",
        "    # buatlah method keuntungan untuk mencari keuntungan pendapatan\n",
        "    def keuntungan(self):\n",
        "        self.biaya_pemeliharaan = self.tarif + (self.tarif * 0.1)\n",
        "        self.pendapatan = self.kapasitas * self.biaya_pemeliharaan\n",
        "        print('Total Pendapatan bus:', self.pendapatan)\n",
        "\n",
        "#buatlah instance\n",
        "bus_ = Bus(kapasitas = 30, tarif = 5000)\n",
        "bus_.keuntungan()"
      ],
      "metadata": {
        "colab": {
          "base_uri": "https://localhost:8080/"
        },
        "id": "UyOQGszvFOt5",
        "outputId": "90b1b68c-fda4-4457-f668-43a6beaa9e43"
      },
      "execution_count": 2,
      "outputs": [
        {
          "output_type": "stream",
          "name": "stdout",
          "text": [
            "Total Pendapatan bus: 165000.0\n"
          ]
        }
      ]
    }
  ]
}