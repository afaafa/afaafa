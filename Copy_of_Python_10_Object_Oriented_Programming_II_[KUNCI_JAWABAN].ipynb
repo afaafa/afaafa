{
  "nbformat": 4,
  "nbformat_minor": 0,
  "metadata": {
    "colab": {
      "provenance": [],
      "include_colab_link": true
    },
    "kernelspec": {
      "name": "python3",
      "display_name": "Python 3"
    },
    "language_info": {
      "name": "python"
    }
  },
  "cells": [
    {
      "cell_type": "markdown",
      "metadata": {
        "id": "view-in-github",
        "colab_type": "text"
      },
      "source": [
        "<a href=\"https://colab.research.google.com/github/afaafa/afaafa/blob/main/Copy_of_Python_10_Object_Oriented_Programming_II_%5BKUNCI_JAWABAN%5D.ipynb\" target=\"_parent\"><img src=\"https://colab.research.google.com/assets/colab-badge.svg\" alt=\"Open In Colab\"/></a>"
      ]
    },
    {
      "cell_type": "markdown",
      "source": [
        "# Day 10 - Object Oriented Programming II\n",
        "---\n",
        "\n",
        "Python Programming - Sekolah Data - Pacmann AI"
      ],
      "metadata": {
        "id": "FtGbkxFEughv"
      }
    },
    {
      "cell_type": "markdown",
      "source": [
        "## Task 1\n",
        "\n",
        "---"
      ],
      "metadata": {
        "id": "czVKk6ieujSN"
      }
    },
    {
      "cell_type": "markdown",
      "source": [
        "**Soal**\n",
        "\n",
        "---"
      ],
      "metadata": {
        "id": "xU8IUMWouk15"
      }
    },
    {
      "cell_type": "markdown",
      "source": [
        "Buatlah sebuah parent dan child class  yang berguna untuk menampilkan beberapa attribute menggunakan Python!"
      ],
      "metadata": {
        "id": "Qgde9QUaJzNl"
      }
    },
    {
      "cell_type": "markdown",
      "source": [
        "**Instruksi**\n",
        "\n",
        "- Buatlah sebuah parent class `Memasak`\n",
        "    - Tambahkan initial `__init__` dan attribute `memotong` dan `merebus`\n",
        "    - Misal :\n",
        "        - `memotong` adalah Sayur bayam, bertipe `str`\n",
        "        - `merebus` adalah Sayur, bertipe `str`\n",
        "- Buatlah sebuah child class `Sayuran` dan `Daging` yang berkaitan dengan parent class\n",
        "- Buatlah instance child class `Sayuran` dan `Merebus`\n",
        "- Tampilkan setiap attribute pada setiap instance tersebut"
      ],
      "metadata": {
        "id": "BdqqijgOun1P"
      }
    },
    {
      "cell_type": "markdown",
      "source": [
        "**Contoh Input:**\n",
        "\n",
        "---"
      ],
      "metadata": {
        "id": "e3oj0QapuoCX"
      }
    },
    {
      "cell_type": "markdown",
      "source": [
        "```python\n",
        "memotong = 'Sayur bayam'\n",
        "merebus = 'Sayur'\n",
        "memotong = 'Daging ayam'\n",
        "merebus = 'Daging'\n",
        "```"
      ],
      "metadata": {
        "id": "Z8QbM_Tauraw"
      }
    },
    {
      "cell_type": "markdown",
      "source": [
        "**Contoh Output:**\n",
        "\n",
        "---"
      ],
      "metadata": {
        "id": "i4jdUPcIurzk"
      }
    },
    {
      "cell_type": "markdown",
      "source": [
        "```python\n",
        "Memasak Sayur bayam dan merebus Sayur\n",
        "Memasak Daging ayam dan merebus Daging\n",
        "```"
      ],
      "metadata": {
        "id": "mzXnErCZux5d"
      }
    },
    {
      "cell_type": "markdown",
      "source": [
        "**Code disini!**\n",
        "\n",
        "---"
      ],
      "metadata": {
        "id": "k4YAlnjduuZg"
      }
    },
    {
      "cell_type": "code",
      "execution_count": 3,
      "metadata": {
        "id": "9FR5dLWksy-e",
        "colab": {
          "base_uri": "https://localhost:8080/"
        },
        "outputId": "06e98d73-fbfb-4689-8bc8-08198a05dd42"
      },
      "outputs": [
        {
          "output_type": "stream",
          "name": "stdout",
          "text": [
            "Memasak Sayur bayam dan merebus Sayur\n",
            "Memasak Daging ayam dan merebus Daging\n"
          ]
        }
      ],
      "source": [
        "# Tulis code Anda disini\n",
        "class Memasak():\n",
        "  def __init__(self, memotong, merebus):\n",
        "      self.memotong = memotong\n",
        "      self.merebus = merebus\n",
        "class Sayuran(Memasak):\n",
        "  pass\n",
        "class Daging(Memasak):\n",
        "  pass\n",
        "\n",
        "sayuran = Sayuran(memotong = \"Sayur bayam\", merebus = \"Sayur\")\n",
        "daging = Daging(memotong = \"Daging ayam\", merebus = \"Daging\")\n",
        "\n",
        "print(f'Memasak {sayuran.memotong} dan merebus {sayuran.merebus}')\n",
        "print(f'Memasak {daging.memotong} dan merebus {daging.merebus}')"
      ]
    },
    {
      "cell_type": "markdown",
      "source": [
        "**Kunci jawaban**\n",
        "\n",
        "---"
      ],
      "metadata": {
        "id": "xh9O1BU6veu-"
      }
    },
    {
      "cell_type": "code",
      "source": [
        "# Tulis code Anda disini\n",
        "\n",
        "# Buat parent class Memasak\n",
        "class Memasak():\n",
        "\n",
        "    # Buat initial parent class\n",
        "    def __init__(self, memotong, merebus):\n",
        "        self.memotong = memotong\n",
        "        self.merebus = merebus\n",
        "\n",
        "# Buat child class Sayuran\n",
        "class Sayuran(Memasak):\n",
        "    pass\n",
        "\n",
        "# Buat child class Daging\n",
        "class Daging(Memasak):\n",
        "    pass\n",
        "\n",
        "# Buat instance child class Sayuran dan Merebus\n",
        "memasak_sayur = Sayuran(memotong = 'Sayur bayam', merebus = 'Sayur') # Child class Sayuran\n",
        "memasak_daging = Daging(memotong = 'Daging ayam', merebus = 'Daging') # Child class Daging\n",
        "\n",
        "# Tampilkan instance sayur dan daging\n",
        "print(f'Memasak {memasak_sayur.memotong} dan merebus {memasak_sayur.merebus}')\n",
        "print(f'Memasak {memasak_daging.memotong} dan merebus {memasak_daging.merebus}')"
      ],
      "metadata": {
        "id": "u6CTYRF3vk6Y",
        "colab": {
          "base_uri": "https://localhost:8080/"
        },
        "outputId": "90fc5999-4ce4-4371-e6bd-1edb3bb8744f"
      },
      "execution_count": null,
      "outputs": [
        {
          "output_type": "stream",
          "name": "stdout",
          "text": [
            "Memasak Sayur bayam dan merebus Sayur\n",
            "Memasak Daging ayam dan merebus Daging\n"
          ]
        }
      ]
    },
    {
      "cell_type": "markdown",
      "source": [
        "## Task 2\n",
        "\n",
        "---"
      ],
      "metadata": {
        "id": "wnyz68WOv00m"
      }
    },
    {
      "cell_type": "markdown",
      "source": [
        "**Soal**\n",
        "\n",
        "---"
      ],
      "metadata": {
        "id": "8RWGQJV7v009"
      }
    },
    {
      "cell_type": "markdown",
      "source": [
        "Buatlah sebuah parent dan child class yang berguna untuk melakukan perhitungan luas dan keliling persegi menggunakan Python!"
      ],
      "metadata": {
        "id": "olo0h0grKENZ"
      }
    },
    {
      "cell_type": "markdown",
      "source": [
        "- Buatlah sebuah parent class `BangunDatar`\n",
        "    - Tambahkan initial `__init__` dan attribute `sisi`\n",
        "    - Misal :\n",
        "        - `sisi` adalah 5, bertipe `int`\n",
        "- Buatlah sebuah child class `Persegi` yang berkaitan dengan parent class\n",
        "    - Tambahkan method `luas_persegi` dan `keliling_persegi` lalu buat perhitungan pada masing-masing method\n",
        "- Buatlah instance child class `Persegi`\n",
        "- Gunakan method `luas_persegi` dan `keliling_persegi` untuk menampilkan hasil perhitungan"
      ],
      "metadata": {
        "id": "ENzyK7pEv009"
      }
    },
    {
      "cell_type": "markdown",
      "source": [
        "**Rumus**\n"
      ],
      "metadata": {
        "id": "EpeKNxywKM2P"
      }
    },
    {
      "cell_type": "markdown",
      "source": [
        "$$\n",
        "\\text {luas persegi} = \\text {sisi} \\cdot \\text {sisi}\n",
        "$$\n",
        "\n",
        "$$\n",
        "\\text {keliling persegi} = 4 \\cdot \\text {sisi}\n",
        "$$"
      ],
      "metadata": {
        "id": "u74GQjY8KOcO"
      }
    },
    {
      "cell_type": "markdown",
      "source": [
        "**Contoh Input:**\n",
        "\n",
        "---"
      ],
      "metadata": {
        "id": "_5q9RqUav009"
      }
    },
    {
      "cell_type": "markdown",
      "source": [
        "```python\n",
        "sisi = 5\n",
        "```"
      ],
      "metadata": {
        "id": "FNRSANgwv009"
      }
    },
    {
      "cell_type": "markdown",
      "source": [
        "**Contoh Output:**\n",
        "\n",
        "---"
      ],
      "metadata": {
        "id": "tu8DeYAfv00-"
      }
    },
    {
      "cell_type": "markdown",
      "source": [
        "```python\n",
        "Luas Persegi: 25\n",
        "Keliling Persegi: 20\n",
        "```"
      ],
      "metadata": {
        "id": "aX3uXKnIv00-"
      }
    },
    {
      "cell_type": "markdown",
      "source": [
        "**Code disini!**\n",
        "\n",
        "---"
      ],
      "metadata": {
        "id": "_1iK0b17v00-"
      }
    },
    {
      "cell_type": "code",
      "execution_count": 7,
      "metadata": {
        "id": "N08Wi5Qzv00_",
        "colab": {
          "base_uri": "https://localhost:8080/"
        },
        "outputId": "2a92da62-5eca-486a-ea7b-cc0ba9a98eb7"
      },
      "outputs": [
        {
          "output_type": "stream",
          "name": "stdout",
          "text": [
            "Luas Persegi: 25\n",
            "Keliling Persegi: 20\n"
          ]
        }
      ],
      "source": [
        "# Tulis code Anda disini\n",
        "class BangunDatar:\n",
        "  def __init__(self, sisi):\n",
        "      self.sisi = sisi\n",
        "\n",
        "class Persegi(BangunDatar):\n",
        "\n",
        "  def luas_persegi(self):\n",
        "    self.hitung_luas = self.sisi * self.sisi\n",
        "    return print('Luas Persegi:', self.hitung_luas)\n",
        "\n",
        "  def keliling_persegi(self):\n",
        "    self.hitung_keliling = 4 * self.sisi\n",
        "    return print('Keliling Persegi:', self.hitung_keliling)\n",
        "\n",
        "persegi_ = Persegi(sisi = 5)\n",
        "persegi_.luas_persegi()\n",
        "persegi_.keliling_persegi()\n",
        "\n",
        "\n"
      ]
    },
    {
      "cell_type": "markdown",
      "source": [
        "**Kunci jawaban**\n",
        "\n",
        "---"
      ],
      "metadata": {
        "id": "lJwxR4eyv00_"
      }
    },
    {
      "cell_type": "code",
      "source": [
        "# Tulis code Anda disini\n",
        "\n",
        "# Buat parent class BangunDatar\n",
        "class BangunDatar:\n",
        "\n",
        "    # Buat initial parent class\n",
        "    def __init__(self, sisi):\n",
        "        self.sisi = sisi\n",
        "\n",
        "# Buat child class Persegi\n",
        "class Persegi(BangunDatar):\n",
        "\n",
        "    # Buat method hitung_luas\n",
        "    def luas_persegi(self):\n",
        "\n",
        "        # Hitung luas\n",
        "        sisi = self.sisi ** 2\n",
        "\n",
        "        # Return hasil\n",
        "        return sisi\n",
        "\n",
        "    # Buat method hitung_keliling\n",
        "    def keliling_persegi(self):\n",
        "\n",
        "        # Hitung keliling\n",
        "        sisi = 4 * self.sisi\n",
        "\n",
        "        # Return hasil\n",
        "        return sisi\n",
        "\n",
        "# Buat instance child class Persegi\n",
        "persegi_ = Persegi(sisi = 5)\n",
        "\n",
        "# Tampilkan hasil method luas_persegi dan keliling_persegi\n",
        "print(f\"Luas Persegi: {persegi_.luas_persegi()}\")\n",
        "print(f\"Keliling Persegi: {persegi_.keliling_persegi()}\")"
      ],
      "metadata": {
        "id": "_Szmb6b7v00_",
        "colab": {
          "base_uri": "https://localhost:8080/"
        },
        "outputId": "c51ac3ed-c41c-474d-9aa5-3c8b00052aa7"
      },
      "execution_count": null,
      "outputs": [
        {
          "output_type": "stream",
          "name": "stdout",
          "text": [
            "Luas Persegi: 25\n",
            "Keliling Persegi: 20\n"
          ]
        }
      ]
    },
    {
      "cell_type": "markdown",
      "source": [
        "## Task 3\n",
        "\n",
        "---"
      ],
      "metadata": {
        "id": "23nxgNhtvq33"
      }
    },
    {
      "cell_type": "markdown",
      "source": [
        "**Soal**\n",
        "\n",
        "---"
      ],
      "metadata": {
        "id": "rs3xFvJPvq34"
      }
    },
    {
      "cell_type": "markdown",
      "source": [
        "Buatlah sebuah parent dan child class yang berguna untuk nampilkan jenis hewan dan suara hewan tersebut menggunakan Python!"
      ],
      "metadata": {
        "id": "RoXMA6CyK1aF"
      }
    },
    {
      "cell_type": "markdown",
      "source": [
        "**Intruksi**\n",
        "\n",
        "- Buatlah sebuah parent class `Hewan`\n",
        "    - Tambahkan initial `__init__` dan attribute `nama`\n",
        "- Buatlah sebuah child class `Burung` yang berkaitan dengan parent class\n",
        "    - Tambahkan initial`__init__`dan attribute `nama` dan `warna`\n",
        "    - Tambahkan initial parent class yang menimpa (override) dengan initial child class\n",
        "    - Misal :\n",
        "        - `nama` adalah elang, bertipe `str`\n",
        "        - `warna` adalah hitam, bertipe `str`\n",
        "- Buatlah instance child class `Burung`\n",
        "- Gunakan method `bernyanyi` untuk menampilkan suara\n",
        "- Tampilkan hasil"
      ],
      "metadata": {
        "id": "NfPnr1BDvq35"
      }
    },
    {
      "cell_type": "markdown",
      "source": [
        "**Contoh Input:**\n",
        "\n",
        "---"
      ],
      "metadata": {
        "id": "5RRA6Dupvq35"
      }
    },
    {
      "cell_type": "markdown",
      "source": [
        "```python\n",
        "nama='Elang'\n",
        "warna='Hitam'\n",
        "```"
      ],
      "metadata": {
        "id": "6ULsFp7qvq35"
      }
    },
    {
      "cell_type": "markdown",
      "source": [
        "**Contoh Output:**\n",
        "\n",
        "---"
      ],
      "metadata": {
        "id": "bSqJbxETvq36"
      }
    },
    {
      "cell_type": "markdown",
      "source": [
        "```python\n",
        "Burung Elang dengan warna Hitam bernyanyi Tweet-tweet!\n",
        "```"
      ],
      "metadata": {
        "id": "ifDU_WSNvq36"
      }
    },
    {
      "cell_type": "markdown",
      "source": [
        "**Code disini!**\n",
        "\n",
        "---"
      ],
      "metadata": {
        "id": "vM4fLRbPvq36"
      }
    },
    {
      "cell_type": "code",
      "execution_count": 8,
      "metadata": {
        "id": "TEpfxu7uvq37",
        "colab": {
          "base_uri": "https://localhost:8080/"
        },
        "outputId": "d85b8cab-0a68-434f-d73c-db3393094c86"
      },
      "outputs": [
        {
          "output_type": "stream",
          "name": "stdout",
          "text": [
            "Burung Elang dengan warna Hitam bernyanyi Tweet-tweet!\n"
          ]
        }
      ],
      "source": [
        "# Tulis code Anda disini\n",
        "class Hewan:\n",
        "    def __init__(self, nama):\n",
        "        self.nama = nama\n",
        "\n",
        "class Burung(Hewan):\n",
        "    def  __init__(self, nama, warna):\n",
        "        Hewan.__init__(self, nama)\n",
        "        self.warna = warna\n",
        "\n",
        "    def bernyanyi(self):\n",
        "      return \"Tweet-tweet!\"\n",
        "\n",
        "burung = Burung(nama = 'Elang', warna = 'Hitam')\n",
        "suara_burung = burung.bernyanyi()\n",
        "\n",
        "print(f'Burung {burung.nama} dengan warna {burung.warna} bernyanyi {suara_burung}')\n",
        "\n"
      ]
    },
    {
      "cell_type": "markdown",
      "source": [
        "**Kunci jawaban**\n",
        "\n",
        "---"
      ],
      "metadata": {
        "id": "d8hnk215vq38"
      }
    },
    {
      "cell_type": "code",
      "source": [
        "# Tulis code Anda disini\n",
        "\n",
        "# Buat parent class Hewan\n",
        "class Hewan:\n",
        "\n",
        "    # Buat initial class parent\n",
        "    def __init__(self, nama):\n",
        "        self.nama = nama\n",
        "\n",
        "# Buat child class Burung\n",
        "class Burung(Hewan):\n",
        "\n",
        "    # Buat initial child class\n",
        "    def __init__(self, nama, warna):\n",
        "\n",
        "        # Buat override dengan parent class\n",
        "        Hewan.__init__(self, nama)\n",
        "        self.warna = warna\n",
        "\n",
        "    # Buat method bernyanyi\n",
        "    def bernyanyi(self):\n",
        "\n",
        "        # Tampilkan suara\n",
        "        return \"Tweet-tweet!\"\n",
        "\n",
        "# Buat instance child class Burung\n",
        "burung_ = Burung(nama='Elang', warna='Hitam')\n",
        "\n",
        "# Gunakan method bernyanyi pada child class Burung\n",
        "suara_burung = burung_.bernyanyi()\n",
        "\n",
        "# Tampilkan suara burung\n",
        "print(f'Burung {burung_.nama} dengan warna {burung_.warna} bernyanyi {suara_burung}')"
      ],
      "metadata": {
        "id": "10U83lmPvq38",
        "colab": {
          "base_uri": "https://localhost:8080/"
        },
        "outputId": "d550c489-785b-4b8e-be66-0f0dc9712861"
      },
      "execution_count": null,
      "outputs": [
        {
          "output_type": "stream",
          "name": "stdout",
          "text": [
            "Burung Elang dengan warna Hitam bernyanyi Tweet-tweet!\n"
          ]
        }
      ]
    },
    {
      "cell_type": "markdown",
      "source": [
        "## Task 4\n",
        "\n",
        "---"
      ],
      "metadata": {
        "id": "fpU-0XHQvrzb"
      }
    },
    {
      "cell_type": "markdown",
      "source": [
        "**Soal**\n",
        "\n",
        "---"
      ],
      "metadata": {
        "id": "GQtRwd6Pvrzc"
      }
    },
    {
      "cell_type": "markdown",
      "source": [
        "Buatlah sebuah parent dan child class yang berguna untuk menampilkan daftar belanja dalam bentuk dictionary menggunakan Python!"
      ],
      "metadata": {
        "id": "aXJmZJmjK8R3"
      }
    },
    {
      "cell_type": "markdown",
      "source": [
        "**Intruksi**\n",
        "\n",
        "- Buatlah sebuah parent class `BahanMakanan`\n",
        "    - Tambahkan initial `__init__` dan attribute `nama` dan `harga`\n",
        "    - Tambahkan method `info`\n",
        "- Buatlah sebuah child class `Buah` yang berkaitan dengan parent class\n",
        "    - Tambahkan initial`__init__`dan attribute `nama`, `harga`, dan `berat`\n",
        "    - Tambahkan initial parent class yang menimpa (override) dengan initial child class\n",
        "    - Misal :\n",
        "        - `nama` adalah apel, bertipe `str`\n",
        "        - `harga` adalah 10000, bertipe `int\n",
        "        - `berat` adalah 1, bertipe `float`\n",
        "    - Tambahkan method `info` untuk menampilkan semua attribute\n",
        "- Buatlah instance child class `Burung`\n",
        "- Gunakan method `info` untuk menampilkan semua attribute"
      ],
      "metadata": {
        "id": "LslskKLzvrzc"
      }
    },
    {
      "cell_type": "markdown",
      "source": [
        "**Contoh Input:**\n",
        "\n",
        "---"
      ],
      "metadata": {
        "id": "1sIU3q52vrzc"
      }
    },
    {
      "cell_type": "markdown",
      "source": [
        "```python\n",
        "nama = \"Apel\",\n",
        "harga = 10000,\n",
        "berat = 1\n",
        "```"
      ],
      "metadata": {
        "id": "4WNBLayrvrzd"
      }
    },
    {
      "cell_type": "markdown",
      "source": [
        "**Contoh Output:**\n",
        "\n",
        "---"
      ],
      "metadata": {
        "id": "t4equQg6vrzd"
      }
    },
    {
      "cell_type": "markdown",
      "source": [
        "```python\n",
        "Nama: Apel, Harga: 10000, Berat: 1 kg\n",
        "```"
      ],
      "metadata": {
        "id": "sQtbCl11vrzd"
      }
    },
    {
      "cell_type": "markdown",
      "source": [
        "**Code disini!**\n",
        "\n",
        "---"
      ],
      "metadata": {
        "id": "go6hquohvrzd"
      }
    },
    {
      "cell_type": "code",
      "execution_count": null,
      "metadata": {
        "id": "iIWdcgyYvrzd"
      },
      "outputs": [],
      "source": [
        "# Tulis code Anda disini"
      ]
    },
    {
      "cell_type": "markdown",
      "source": [
        "**Kunci jawaban**\n",
        "\n",
        "---"
      ],
      "metadata": {
        "id": "wLyCcTMTvrze"
      }
    },
    {
      "cell_type": "code",
      "source": [
        "# Tulis code Anda disini\n",
        "\n",
        "# Buat parent class BahanMakanan\n",
        "class BahanMakanan:\n",
        "\n",
        "    # Buat initial parent class\n",
        "    def __init__(self, nama, harga):\n",
        "        self.nama = nama\n",
        "        self.harga = harga\n",
        "\n",
        "    # Buat method info dan pass method ini\n",
        "    def info(self):\n",
        "        pass\n",
        "\n",
        "# Buat child class Buah\n",
        "class Buah(BahanMakanan):\n",
        "\n",
        "    # Buat initial child class\n",
        "    def __init__(self, nama, harga, berat):\n",
        "\n",
        "        # Buat override dengan parent class\n",
        "        BahanMakanan.__init__(self, nama, harga)\n",
        "        self.berat = berat\n",
        "\n",
        "    # Buat method info\n",
        "    def info(self):\n",
        "\n",
        "        # Tampilkan hasilnya\n",
        "        print(f\"Nama: {self.nama}, Harga: {self.harga}, Berat: {self.berat} kg\")\n",
        "\n",
        "# Buat instance child class buah\n",
        "buah_ = Buah(nama = \"Apel\",\n",
        "             harga = 10000,\n",
        "             berat = 1)\n",
        "\n",
        "# Gunakan method info untuk menampilkan hasil\n",
        "info = buah_.info()"
      ],
      "metadata": {
        "id": "BoMqc80pvrze",
        "colab": {
          "base_uri": "https://localhost:8080/"
        },
        "outputId": "ad131608-57aa-43c7-9511-f0f279d74c2f"
      },
      "execution_count": null,
      "outputs": [
        {
          "output_type": "stream",
          "name": "stdout",
          "text": [
            "Nama: Apel, Harga: 10000, Berat: 1 kg\n"
          ]
        }
      ]
    },
    {
      "cell_type": "markdown",
      "source": [
        "## Task 5\n",
        "\n",
        "---"
      ],
      "metadata": {
        "id": "id4lLb_Gvshm"
      }
    },
    {
      "cell_type": "markdown",
      "source": [
        "**Soal**\n",
        "\n",
        "---"
      ],
      "metadata": {
        "id": "eOP6Y1ggvshm"
      }
    },
    {
      "cell_type": "markdown",
      "source": [
        "Buatlah sebuah kalkulator sederhana menggunakan Python!"
      ],
      "metadata": {
        "id": "SmAFB1opLjvt"
      }
    },
    {
      "cell_type": "markdown",
      "source": [
        "**Intruksi**\n",
        "\n",
        "- Buatlah sebuah parent class `OperasiMatematika`\n",
        "    - Tambahkan initial `__init__` dan attribute `angka1` dan `angka2`\n",
        "- Buatlah sebuah child class `Penjumlahan` yang berkaitan dengan parent class\n",
        "    - Tambahkan initial parent class yang menimpa (override) dengan initial child class\n",
        "    - Misal :\n",
        "        - `angka1` adalah 10, bertipe `int`\n",
        "        - `angka2` adalah 5, bertipe `int\n",
        "    - Tambahkan method `hitung` untuk melakukan penjumlahan\n",
        "- Buatlah sebuah child class `Pengurangan` yang berkaitan dengan parent class\n",
        "    - Tambahkan initial parent class yang menimpa (override) dengan initial child class\n",
        "    - Misal :\n",
        "        - `angka1` adalah 8, bertipe `int`\n",
        "        - `angka2` adalah 3, bertipe `int`\n",
        "    - Tambahkan method `hitung` untuk melakukan pengurangan\n",
        "- Buatlah instance child class `Penjumlahan` dan `Pengurangan`\n",
        "- Gunakan method `hitung` untuk menampilkan hasil perhitungan"
      ],
      "metadata": {
        "id": "lJGrfLxJvshn"
      }
    },
    {
      "cell_type": "markdown",
      "source": [
        "**Contoh Input:**\n",
        "\n",
        "---"
      ],
      "metadata": {
        "id": "3VuQVayhvshn"
      }
    },
    {
      "cell_type": "markdown",
      "source": [
        "```python\n",
        "angka1 = 10\n",
        "angka2 = 5\n",
        "angka1 = 8\n",
        "angka2 = 3\n",
        "```"
      ],
      "metadata": {
        "id": "TI8L2oYovshn"
      }
    },
    {
      "cell_type": "markdown",
      "source": [
        "**Contoh Output:**\n",
        "\n",
        "---"
      ],
      "metadata": {
        "id": "egEZZBlCvsho"
      }
    },
    {
      "cell_type": "markdown",
      "source": [
        "```python\n",
        "Penjumlahan: 10 + 5 = 15\n",
        "Pengurangan: 8 - 3 = 5\n",
        "```"
      ],
      "metadata": {
        "id": "w9KPQZj7vsho"
      }
    },
    {
      "cell_type": "markdown",
      "source": [
        "**Code disini!**\n",
        "\n",
        "---"
      ],
      "metadata": {
        "id": "rfcBvjypvsho"
      }
    },
    {
      "cell_type": "code",
      "execution_count": null,
      "metadata": {
        "id": "ObfyXBgCvshp"
      },
      "outputs": [],
      "source": [
        "# Tulis code Anda disini"
      ]
    },
    {
      "cell_type": "markdown",
      "source": [
        "**Kunci jawaban**\n",
        "\n",
        "---"
      ],
      "metadata": {
        "id": "l4tnnrTXvshp"
      }
    },
    {
      "cell_type": "code",
      "source": [
        "# Tulis code Anda disini\n",
        "\n",
        "# Buat parent class OperasiMatematika\n",
        "class OperasiMatematika:\n",
        "\n",
        "    # Buat initial class parent\n",
        "    def __init__(self, angka1, angka2):\n",
        "        self.angka1 = angka1\n",
        "        self.angka2 = angka2\n",
        "\n",
        "# Buat child class Penjumlahan\n",
        "class Penjumlahan(OperasiMatematika):\n",
        "\n",
        "    # Buat initial child class\n",
        "    def __init__(self, angka1, angka2):\n",
        "        OperasiMatematika.__init__(self, angka1, angka2)\n",
        "\n",
        "    # Buat method hitung\n",
        "    def hitung(self):\n",
        "\n",
        "        # Hitung penjumlahan\n",
        "        hasil = self.angka1 + self.angka2\n",
        "\n",
        "        # Return hasil\n",
        "        return f\"Penjumlahan: {self.angka1} + {self.angka2} = {hasil}\"\n",
        "\n",
        "# Buat child class Pengurangan\n",
        "class Pengurangan(OperasiMatematika):\n",
        "\n",
        "    # Buat initial child class\n",
        "    def __init__(self, angka1, angka2):\n",
        "        OperasiMatematika.__init__(self, angka1, angka2)\n",
        "\n",
        "    # Buat method hitung\n",
        "    def hitung(self):\n",
        "\n",
        "        # Hitung pengurangan\n",
        "        hasil = self.angka1 - self.angka2\n",
        "\n",
        "        # Return hasil\n",
        "        return f\"Pengurangan: {self.angka1} - {self.angka2} = {hasil}\"\n",
        "\n",
        "# Buat instance child class penjumlahan dan pengurangan\n",
        "jumlah = Penjumlahan(angka1=10, angka2=5) # child class penjumlahan\n",
        "kurang = Pengurangan(angka1=8, angka2=3) # child class pengurangan\n",
        "\n",
        "# Gunakan method hitung pada masing-masing child class\n",
        "hasil_jumlah = jumlah.hitung()\n",
        "hasil_kurang = kurang.hitung()\n",
        "\n",
        "# Tampilkan hasil perhitungan\n",
        "print(hasil_jumlah)\n",
        "print(hasil_kurang)"
      ],
      "metadata": {
        "id": "ZsWHI6g2vshp",
        "colab": {
          "base_uri": "https://localhost:8080/"
        },
        "outputId": "0fefd7ad-c215-4500-b098-62f7246d3a9a"
      },
      "execution_count": null,
      "outputs": [
        {
          "output_type": "stream",
          "name": "stdout",
          "text": [
            "Penjumlahan: 10 + 5 = 15\n",
            "Pengurangan: 8 - 3 = 5\n"
          ]
        }
      ]
    },
    {
      "cell_type": "markdown",
      "source": [
        "## Task 6\n",
        "\n",
        "---"
      ],
      "metadata": {
        "id": "FxLd69k5vtxG"
      }
    },
    {
      "cell_type": "markdown",
      "source": [
        "**Soal**\n",
        "\n",
        "---"
      ],
      "metadata": {
        "id": "uPPBLvxzvtxX"
      }
    },
    {
      "cell_type": "markdown",
      "source": [
        "Buatlah sebuah parent dan child class untuk menampilkan biodata pendaftar menggunakan Python!"
      ],
      "metadata": {
        "id": "pjkYq57LLs81"
      }
    },
    {
      "cell_type": "markdown",
      "source": [
        "**Intruksi**\n",
        "\n",
        "- Buatlah sebuah parent class `Siswa`\n",
        "    - Tambahkan initial `__init__` dan attribute `nama`  \n",
        "- Buatlah sebuah child class `Pendaftar` yang berkaitan dengan parent class\n",
        "    - Tambahkan initial parent class yang menimpa (override) dengan initial child class\n",
        "    - Tambahkan `super()` untuk memanggil attribute class parent\n",
        "    - Misal :\n",
        "        - `nama` adalah Jordy, bertipe `str`\n",
        "        - `umur` adalah 17, bertipe `int`\n",
        "- Buatlah instance child class `Pendaftar`\n",
        "- Tampilkan semua attribute"
      ],
      "metadata": {
        "id": "OgBdi93dvtxY"
      }
    },
    {
      "cell_type": "markdown",
      "source": [
        "**Contoh Input:**\n",
        "\n",
        "---"
      ],
      "metadata": {
        "id": "P4W5plghvtxY"
      }
    },
    {
      "cell_type": "markdown",
      "source": [
        "```python\n",
        "nama = \"Jordy\"\n",
        "umur = 17\n",
        "```"
      ],
      "metadata": {
        "id": "2ivXG586vtxZ"
      }
    },
    {
      "cell_type": "markdown",
      "source": [
        "**Contoh Output:**\n",
        "\n",
        "---"
      ],
      "metadata": {
        "id": "Y-_GfCuNvtxZ"
      }
    },
    {
      "cell_type": "markdown",
      "source": [
        "```python\n",
        "Jordy\n",
        "17\n",
        "```"
      ],
      "metadata": {
        "id": "OXJy23zYvtxa"
      }
    },
    {
      "cell_type": "markdown",
      "source": [
        "**Code disini!**\n",
        "\n",
        "---"
      ],
      "metadata": {
        "id": "3YxcZaF3vtxa"
      }
    },
    {
      "cell_type": "code",
      "execution_count": null,
      "metadata": {
        "id": "6y0Bfb_xvtxa"
      },
      "outputs": [],
      "source": [
        "# Tulis code Anda disini"
      ]
    },
    {
      "cell_type": "markdown",
      "source": [
        "**Kunci jawaban**\n",
        "\n",
        "---"
      ],
      "metadata": {
        "id": "uXilm11ivtxb"
      }
    },
    {
      "cell_type": "code",
      "source": [
        "# Tulis code Anda disini\n",
        "\n",
        "# Buat parent class Siswa\n",
        "class Siswa:\n",
        "\n",
        "    # Buat initial parent class\n",
        "    def __init__(self, nama):\n",
        "        self.nama = nama\n",
        "\n",
        "class Pendaftar(Siswa):\n",
        "\n",
        "    # Buat initial child class (Gunakan fungsi super())\n",
        "    def __init__(self, nama, umur):\n",
        "        super().__init__(nama)\n",
        "        self.umur = umur\n",
        "\n",
        "# Buat instance child class Pendaftar\n",
        "siswa_ = Pendaftar(nama=\"Jordy\", umur=17)\n",
        "\n",
        "# Tampilkan attribute\n",
        "print(siswa_.nama)\n",
        "print(siswa_.umur)"
      ],
      "metadata": {
        "id": "3TmwhFLSvtxb",
        "colab": {
          "base_uri": "https://localhost:8080/"
        },
        "outputId": "a6936f8e-b902-4553-df43-f3e9ec7264b1"
      },
      "execution_count": null,
      "outputs": [
        {
          "output_type": "stream",
          "name": "stdout",
          "text": [
            "Jordy\n",
            "17\n"
          ]
        }
      ]
    },
    {
      "cell_type": "markdown",
      "source": [
        "## Task 7\n",
        "\n",
        "---"
      ],
      "metadata": {
        "id": "uxCwweXkvvEX"
      }
    },
    {
      "cell_type": "markdown",
      "source": [
        "**Soal**\n",
        "\n",
        "---"
      ],
      "metadata": {
        "id": "4-nHnNp6vvEY"
      }
    },
    {
      "cell_type": "markdown",
      "source": [
        "Buatlah sebuah parent dan child class yang berguna untuk menyimpan saldo rekening bank menggunakan Python!"
      ],
      "metadata": {
        "id": "15eScMVsMHLY"
      }
    },
    {
      "cell_type": "markdown",
      "source": [
        "**Intruksi**\n",
        "\n",
        "- Buatlah sebuah parent class `Rekening`\n",
        "    - Tambahkan initial `__init__` dan attribute `pemilik` dan `saldo`  \n",
        "- Buatlah sebuah child class `RekeningTabungan` yang berkaitan dengan parent class\n",
        "    - Tambahkan initial parent class yang menimpa (override) dengan initial child class dan attribute `bunga`\n",
        "    - Tambahkan `super()` untuk memanggil attribute class parent\n",
        "    - Misal :\n",
        "        - `pemilik` adalah Saprudin, bertipe `str`\n",
        "        - `saldo` adalah 1000000, bertipe `int`\n",
        "        - `bunga` adalah 10%, bertipe `str`\n",
        "- Buatlah instance child class `RekeningTabungan`\n",
        "- Tampilkan semua attribute"
      ],
      "metadata": {
        "id": "XcWyGo7YvvEY"
      }
    },
    {
      "cell_type": "markdown",
      "source": [
        "**Contoh Input:**\n",
        "\n",
        "---"
      ],
      "metadata": {
        "id": "CXKBc9buvvEY"
      }
    },
    {
      "cell_type": "markdown",
      "source": [
        "```python\n",
        "pemilik = 'Saprudin'\n",
        "saldo = 1000000\n",
        "bunga = '10%'\n",
        "```"
      ],
      "metadata": {
        "id": "mVuXCUpLvvEZ"
      }
    },
    {
      "cell_type": "markdown",
      "source": [
        "**Contoh Output:**\n",
        "\n",
        "---"
      ],
      "metadata": {
        "id": "wA3dkY9uvvEZ"
      }
    },
    {
      "cell_type": "markdown",
      "source": [
        "```python\n",
        "Rekenening Saprudin sebesar 1000000 dengan bunga 10%\n",
        "```"
      ],
      "metadata": {
        "id": "Qr4oKXI6vvEZ"
      }
    },
    {
      "cell_type": "markdown",
      "source": [
        "**Code disini!**\n",
        "\n",
        "---"
      ],
      "metadata": {
        "id": "gLq_LsaZvvEZ"
      }
    },
    {
      "cell_type": "code",
      "source": [
        "# Tulis code Anda disini"
      ],
      "metadata": {
        "id": "FawNHwgLO0G7"
      },
      "execution_count": null,
      "outputs": []
    },
    {
      "cell_type": "markdown",
      "source": [
        "**Kunci jawaban**\n",
        "\n",
        "---"
      ],
      "metadata": {
        "id": "HuA-m8b7vvEa"
      }
    },
    {
      "cell_type": "code",
      "source": [
        "# Tulis code Anda disini\n",
        "\n",
        "# Buat parent class Rekening\n",
        "class Rekening:\n",
        "\n",
        "    # Buat initial parent class\n",
        "    def __init__(self, pemilik, saldo):\n",
        "        self.pemilik = pemilik\n",
        "        self.saldo = saldo\n",
        "\n",
        "# Buat child class RekeningTabungan\n",
        "class RekeningTabungan(Rekening):\n",
        "\n",
        "    # Buat initial child class dan super()\n",
        "    def __init__(self, pemilik, saldo, bunga):\n",
        "        super().__init__(pemilik, saldo)\n",
        "        self.bunga = bunga\n",
        "\n",
        "# Buat instance child class RekeningTabungan\n",
        "rekening = RekeningTabungan(pemilik = 'Saprudin',\n",
        "                            saldo = 1000000,\n",
        "                            bunga = '10%')\n",
        "# Tampilkan hasil\n",
        "print(f'Rekenening {rekening.pemilik} sebesar {rekening.saldo} dengan bunga {rekening.bunga}')"
      ],
      "metadata": {
        "id": "Z_xo7vRHvvEb"
      },
      "execution_count": null,
      "outputs": []
    },
    {
      "cell_type": "markdown",
      "source": [
        "## Task 8\n",
        "\n",
        "---"
      ],
      "metadata": {
        "id": "mW066ih9vucm"
      }
    },
    {
      "cell_type": "markdown",
      "source": [
        "**Soal**\n",
        "\n",
        "---"
      ],
      "metadata": {
        "id": "djFRvuV2vucn"
      }
    },
    {
      "cell_type": "markdown",
      "source": [
        "Buatlah sebuah parent dan child class yang berguna untuk menampilkan gaji karyawan dan manajer menggunakan Python!"
      ],
      "metadata": {
        "id": "0E6xIY80MjGf"
      }
    },
    {
      "cell_type": "markdown",
      "source": [
        "**Intruksi**\n",
        "\n",
        "- Buatlah sebuah parent class `Staff`\n",
        "    - Tambahkan initial `__init__` dan attribute `nama` dan `gaji`\n",
        "    - Misal :\n",
        "        - `nama` adalah John Doe, bertipe `str`\n",
        "        - `gaji` adalah 5000, bertipe `int`\n",
        "    - Tambahkan method `hitung_gaji` untuk menampilkan gaji\n",
        "- Buatlah sebuah child class `Manajer` yang berkaitan dengan parent class\n",
        "    - Tambahkan initial parent class yang menimpa (override) dengan initial child class dan attribute baru yaitu `departemen`\n",
        "    - Tambahkan `super()` untuk memanggil attribute class parent\n",
        "    - Misal :\n",
        "        - `nama` adalah Jane Doe, bertipe `str`\n",
        "        - `gaji` adalah 8800, bertipe `int`\n",
        "        - `departemen` adalah keuangan, bertipe `int`\n",
        "    - Tambahkan method hitung gaji dengan bonus 10%\n",
        "- Buatlah instance parent class `Staff` dan child class `Manajer`\n",
        "- Tampilkan hasil"
      ],
      "metadata": {
        "id": "4NO8Aicovucn"
      }
    },
    {
      "cell_type": "markdown",
      "source": [
        "**Rumus**\n",
        "\n",
        "$$\n",
        "\\text {bonus} = 0.1 \\cdot \\text {gaji}\n",
        "$$\n",
        "\n",
        "$$\n",
        "\\text {total gaji} = \\text {gaji} - \\text {bonus}\n",
        "$$\n"
      ],
      "metadata": {
        "id": "LDBvDVewprgf"
      }
    },
    {
      "cell_type": "markdown",
      "source": [
        "**Contoh Input:**\n",
        "\n",
        "---"
      ],
      "metadata": {
        "id": "cSuqmGywvuco"
      }
    },
    {
      "cell_type": "markdown",
      "source": [
        "```python\n",
        "nama = \"John Doe\"\n",
        "gaji = 5000\n",
        "nama = \"Jane Doe\"\n",
        "gaji = 8000\n",
        "departemen = \"keuangan\"\n",
        "```"
      ],
      "metadata": {
        "id": "dkugpMxvvuco"
      }
    },
    {
      "cell_type": "markdown",
      "source": [
        "**Contoh Output:**\n",
        "\n",
        "---"
      ],
      "metadata": {
        "id": "GzFc_DYqvuco"
      }
    },
    {
      "cell_type": "markdown",
      "source": [
        "```python\n",
        "Gaji Pegawai: $5000\n",
        "Gaji Manajer: $8800.0 departement keuangan\n",
        "```"
      ],
      "metadata": {
        "id": "lGKQ608Cvuco"
      }
    },
    {
      "cell_type": "markdown",
      "source": [
        "**Code disini!**\n",
        "\n",
        "---"
      ],
      "metadata": {
        "id": "k0M5IWUqvuco"
      }
    },
    {
      "cell_type": "code",
      "execution_count": null,
      "metadata": {
        "id": "brZ7QPHkvucp"
      },
      "outputs": [],
      "source": [
        "# Tulis code Anda disini"
      ]
    },
    {
      "cell_type": "markdown",
      "source": [
        "**Kunci jawaban**\n",
        "\n",
        "---"
      ],
      "metadata": {
        "id": "ch2BR0sNvucp"
      }
    },
    {
      "cell_type": "code",
      "source": [
        "# Tulis code Anda disini\n",
        "\n",
        "# Buat parent class staff\n",
        "class Staff:\n",
        "\n",
        "    # Buat initial parent class\n",
        "    def __init__(self, nama, gaji):\n",
        "        self.nama = nama\n",
        "        self.gaji = gaji\n",
        "\n",
        "    # Buat method hitung_gajid\n",
        "    def hitung_gaji(self):\n",
        "\n",
        "        # Return gaji\n",
        "        return self.gaji\n",
        "\n",
        "# Buah child class Manajer\n",
        "class Manajer(Staff):\n",
        "\n",
        "    # Buat initial child class dan super()\n",
        "    def __init__(self, nama, gaji, departemen):\n",
        "        super().__init__(nama, gaji)\n",
        "        self.departemen = departemen\n",
        "\n",
        "    # Buat method hitung_gaji\n",
        "    def hitung_gaji(self):\n",
        "\n",
        "        # Hitung bonus 10% * dengan gaji\n",
        "        bonus = 0.1 * self.gaji\n",
        "\n",
        "        # Jumlahkan gaji dan bonus\n",
        "        total_gaji = self.gaji + bonus\n",
        "\n",
        "        # Return hasil\n",
        "        return total_gaji\n",
        "\n",
        "# Buat instance parent class Staff\n",
        "staff_ = Staff(nama = \"John Doe\", gaji = 5000) # Parent class\n",
        "\n",
        "# Buat instance child class Manajer\n",
        "manajer_ = Manajer(nama = \"Jane Doe\",\n",
        "                   gaji = 8000,\n",
        "                   departemen = \"keuangan\")\n",
        "\n",
        "# Tampilkan hasil\n",
        "print(f\"Nama : {staff_.nama} Gaji Pegawai: ${staff_.hitung_gaji()}\")\n",
        "print(f\"Nama : {manajer_.nama} Gaji Manajer: ${manajer_.hitung_gaji()} departement {manajer_.departemen}\")"
      ],
      "metadata": {
        "id": "0SVqvTdovucp",
        "colab": {
          "base_uri": "https://localhost:8080/"
        },
        "outputId": "9786b658-2ca8-495e-a2ba-8678d1ab5270"
      },
      "execution_count": null,
      "outputs": [
        {
          "output_type": "stream",
          "name": "stdout",
          "text": [
            "Nama : John Doe Gaji Pegawai: $5000\n",
            "Nama : Jane Doe Gaji Manajer: $8800.0 departement keuangan\n"
          ]
        }
      ]
    },
    {
      "cell_type": "markdown",
      "source": [
        "## Task 9\n",
        "\n",
        "---"
      ],
      "metadata": {
        "id": "Gfq93pO9vvrl"
      }
    },
    {
      "cell_type": "markdown",
      "source": [
        "**Soal**\n",
        "\n",
        "---"
      ],
      "metadata": {
        "id": "YSzUYuJlvvrn"
      }
    },
    {
      "cell_type": "markdown",
      "source": [
        "Buatlah sebuah parent dan child class untuk menampilkan tujuan penerbangan biasa dan penerbangan VIP menggunakan Python!"
      ],
      "metadata": {
        "id": "0fdiARhvM0N8"
      }
    },
    {
      "cell_type": "markdown",
      "source": [
        "**Intruksi**\n",
        "\n",
        "- Buatlah sebuah parent class `Penerbangan`\n",
        "    - Tambahkan initial `__init__` dan attribute `maskapai` dan `tujuan`\n",
        "    - Misal :\n",
        "        - `maskapai` adalah Garuda, bertipe `str`\n",
        "        - `tujuan` adalah New York, bertipe `str`\n",
        "    - Tambahkan method `infoPenerbangan` untuk menampilkan penerbangan\n",
        "- Buatlah sebuah child class `PenerbanganVIP` yang berkaitan dengan parent class\n",
        "    - Tambahkan initial parent class yang menimpa (override) dengan initial child class dan attribute baru yaitu `fasilitas`\n",
        "    - Tambahkan `super()` untuk memanggil attribute class parent\n",
        "    - Misal :\n",
        "        - `maskapai` adalah Emirates, bertipe `str`\n",
        "        - `tujuan` adalah Paris, bertipe `str`\n",
        "        - `fasilitas` adalah Lounge eksklusif, bertipe `str`\n",
        "- Buatlah instance parent class `Penerbangan` dan child class `PenerbanganVIP`\n",
        "- Tampilkan hasil"
      ],
      "metadata": {
        "id": "hGtwmafyvvrn"
      }
    },
    {
      "cell_type": "markdown",
      "source": [
        "**Contoh Input:**\n",
        "\n",
        "---"
      ],
      "metadata": {
        "id": "fJbLJUXUvvrn"
      }
    },
    {
      "cell_type": "markdown",
      "source": [
        "```python\n",
        "maskapai = \"Garuda\"\n",
        "tujuan = \"New York\"\n",
        "maskapai = \"Emirates\"          \n",
        "tujuan = \"Paris\"\n",
        "fasilitas = \"Lounge eksklusif\")\n",
        "```"
      ],
      "metadata": {
        "id": "x44iHQCyvvro"
      }
    },
    {
      "cell_type": "markdown",
      "source": [
        "**Contoh Output:**\n",
        "\n",
        "---"
      ],
      "metadata": {
        "id": "EYzW05V9vvro"
      }
    },
    {
      "cell_type": "markdown",
      "source": [
        "```python\n",
        "Maskapai: Garuda, Tujuan: New York\n",
        "Maskapai: Emirates, Tujuan: Paris, Fasilitas VIP: Lounge eksklusif\n",
        "```"
      ],
      "metadata": {
        "id": "H4pwQMkBvvro"
      }
    },
    {
      "cell_type": "markdown",
      "source": [
        "**Code disini!**\n",
        "\n",
        "---"
      ],
      "metadata": {
        "id": "DjSaYhRuvvro"
      }
    },
    {
      "cell_type": "code",
      "execution_count": null,
      "metadata": {
        "id": "G8_IZkd6vvrp"
      },
      "outputs": [],
      "source": [
        "# Tulis code Anda disini"
      ]
    },
    {
      "cell_type": "markdown",
      "source": [
        "**Kunci jawaban**\n",
        "\n",
        "---"
      ],
      "metadata": {
        "id": "DkEM5O-ivvrq"
      }
    },
    {
      "cell_type": "code",
      "source": [
        "# Tulis code Anda disini\n",
        "\n",
        "# Buat parent class Penerbangan\n",
        "class Penerbangan:\n",
        "\n",
        "    # Buat initial parent class\n",
        "    def __init__(self, maskapai, tujuan):\n",
        "        self.maskapai = maskapai\n",
        "        self.tujuan = tujuan\n",
        "\n",
        "    # Buat method infoPenerbangan\n",
        "    def infoPenerbangan(self):\n",
        "\n",
        "        # Return semua attribute parent class\n",
        "        return f\"Maskapai: {self.maskapai}, Tujuan: {self.tujuan}\"\n",
        "\n",
        "# Buat child class PenerbanganVIP\n",
        "class PenerbanganVIP(Penerbangan):\n",
        "\n",
        "    # Buat initial child class dan super()\n",
        "    def __init__(self, maskapai, tujuan, fasilitas):\n",
        "        super().__init__(maskapai, tujuan)\n",
        "        self.fasilitas = fasilitas\n",
        "\n",
        "    # Buat method infoPenerbangan\n",
        "    def infoPenerbangan(self):\n",
        "\n",
        "        # Return tampilan semua attribure child class\n",
        "        return f\"{super().infoPenerbangan()}, Fasilitas VIP: {self.fasilitas}\"\n",
        "\n",
        "# Buat instance parent class Penerbangan\n",
        "penerbangan_biasa = Penerbangan(maskapai = \"Garuda\", tujuan = \"New York\")\n",
        "\n",
        "# Buat instance child class PenerbanganVIP\n",
        "penerbangan_vip = PenerbanganVIP(maskapai = \"Emirates\",\n",
        "                                 tujuan = \"Paris\",\n",
        "                                 fasilitas = \"Lounge eksklusif\")\n",
        "\n",
        "# Tampilkan hasil\n",
        "print(penerbangan_biasa.infoPenerbangan())\n",
        "print(penerbangan_vip.infoPenerbangan())"
      ],
      "metadata": {
        "id": "M5CdfV5Vvvrq",
        "colab": {
          "base_uri": "https://localhost:8080/"
        },
        "outputId": "aad264cb-a3c6-48a9-8e37-abfc80908110"
      },
      "execution_count": null,
      "outputs": [
        {
          "output_type": "stream",
          "name": "stdout",
          "text": [
            "Maskapai: Garuda, Tujuan: New York\n",
            "Maskapai: Emirates, Tujuan: Paris, Fasilitas VIP: Lounge eksklusif\n"
          ]
        }
      ]
    },
    {
      "cell_type": "markdown",
      "source": [
        "## Task 10\n",
        "\n",
        "---"
      ],
      "metadata": {
        "id": "01WIw6AOvwTf"
      }
    },
    {
      "cell_type": "markdown",
      "source": [
        "**Soal**\n",
        "\n",
        "---"
      ],
      "metadata": {
        "id": "sTHurOF3vwTw"
      }
    },
    {
      "cell_type": "markdown",
      "source": [
        "Buatlah sistem perpustakan sederhana menggunakan Python!"
      ],
      "metadata": {
        "id": "XIiL6F3MNIs_"
      }
    },
    {
      "cell_type": "markdown",
      "source": [
        "**Intruksi**\n",
        "\n",
        "- Buatlah sebuah class `Perpustakan` untuk menyimpan semua buku\n",
        "    - Tambahkan initial `__init__` dan attribute `nama` dan `lokasi`\n",
        "        - Misal :\n",
        "            - `nama` adalah Kota Knowledge, bertipe `str`\n",
        "            - `lokasi` adalah Jl. Pendidikan No. 42, bertipe `str`\n",
        "        - Buatlah sebuah list kosong sebagai penyimpanan buku\n",
        "    - Tambahkan method  `tambah_buku` dan attribut `buku`.\n",
        "        - Tambahkan attribute ke dalam list\n",
        "    - Tambahkan method `info_perpustakaan` untuk menampilkan daftar buku dan lokasi perpustakaan, lakukan menggunakan perulangan sintaks `for`\n",
        "    "
      ],
      "metadata": {
        "id": "SwUKekT6vwTw"
      }
    },
    {
      "cell_type": "markdown",
      "source": [
        "- Buatlah sebuah parent class `Buku` untuk menambahkan buku\n",
        "    - Tambahkan initial `__init__` dan attribute `judul`, dan `pengarang`\n",
        "    - Tambahkan method `info` untuk menampilkan attribute parent class\n",
        "- Buatlah sebuah child class `BukuFiksi` yang berkaitan dengan parent class\n",
        "    - Tambahkan initial parent class yang menimpa (override) dengan initial child class dan attribute baru yaitu `genre`\n",
        "    - Tambahkan `super()` untuk memanggil attribute class parent\n",
        "    - Misal :\n",
        "        - `judul` adalah Senja di Tepi Pantai, bertipe `str`\n",
        "        - `pengarang` adalah Aria Pradana, bertipe `str`\n",
        "        - `genre` adalah Romance, bertipe `str`\n",
        "    - Tambahkan method `info` untuk menampilkan hasilnya\n",
        "- Buatlah sebuah child class `BukuNonFiksi` yang berkaitan dengan parent class\n",
        "    - Tambahkan initial parent class yang menimpa (override) dengan initial child class dan attribute baru yaitu `subjek`\n",
        "    - Tambahkan `super()` untuk memanggil attribute class parent\n",
        "    - Misal :\n",
        "        - `judul` adalah Encyclopedia of Science, bertipe `str`\n",
        "        - `pengarang` adalah Dr. Watson, bertipe `str`\n",
        "        - `subjek` adalah Science, bertipe `str`\n",
        "    - Tambahkan method `info` untuk menampilkan hasilnya\n",
        "- Buatlah instance class Perpustakaan\n",
        "- Buatlah instance child class `BukuFiksi` dan `BukuNonFiksi`\n",
        "- Gunakan method `tambah_buku` dari class `Perpustakaan` untuk menambahkan buku ke dalam perpusakaan\n",
        "- Gunakan method `info_perpustakaan` untuk menampilkan hasilnya"
      ],
      "metadata": {
        "id": "2eh6lpseGbUR"
      }
    },
    {
      "cell_type": "markdown",
      "source": [
        "**Contoh Input:**\n",
        "\n",
        "---"
      ],
      "metadata": {
        "id": "NU_M-DZkvwTw"
      }
    },
    {
      "cell_type": "markdown",
      "source": [
        "```python\n",
        "nama = \"Kota Knowledge\"\n",
        "lokasi = \"Jl. Pendidikan No. 42\"\n",
        "judul = \"Senja di Tepi Pantai\"\n",
        "pengarang = \"Aria Pradana\"\n",
        "genre = \"Romance\"\n",
        "judul = \"Encyclopedia of Science\"\n",
        "pengarang = \"Dr. Watson\"\n",
        "subjek = \"Science\"\n",
        "```"
      ],
      "metadata": {
        "id": "9Sg_cMknvwTx"
      }
    },
    {
      "cell_type": "markdown",
      "source": [
        "**Contoh Output:**\n",
        "\n",
        "---"
      ],
      "metadata": {
        "id": "XuhcEL0uvwTx"
      }
    },
    {
      "cell_type": "markdown",
      "source": [
        "```python\n",
        "Perpustakaan Kota Knowledge (Jl. Pendidikan No. 42) dengan 2 buku:\n",
        "- Senja di Tepi Pantai oleh Aria Pradana, Genre: Romance\n",
        "- Encyclopedia of Science oleh Dr. Watson, Subjek: Science\n",
        "```"
      ],
      "metadata": {
        "id": "9TrN_BopvwTx"
      }
    },
    {
      "cell_type": "markdown",
      "source": [
        "**Code disini!**\n",
        "\n",
        "---"
      ],
      "metadata": {
        "id": "BZhZ9VZGvwTy"
      }
    },
    {
      "cell_type": "code",
      "execution_count": null,
      "metadata": {
        "id": "N4TV2sNSvwTy"
      },
      "outputs": [],
      "source": [
        "# Tulis code Anda disini"
      ]
    },
    {
      "cell_type": "markdown",
      "source": [
        "**Kunci jawaban**\n",
        "\n",
        "---"
      ],
      "metadata": {
        "id": "69uhtNNrvwTy"
      }
    },
    {
      "cell_type": "code",
      "source": [
        "# Buat class tunggal Perpustakaan\n",
        "class Perpustakaan:\n",
        "\n",
        "    # Buat initial class\n",
        "    def __init__(self, nama, lokasi):\n",
        "        self.nama = nama\n",
        "        self.lokasi = lokasi\n",
        "\n",
        "        # Simpan daftar buku di dalam perpustakaan\n",
        "        self.daftar_buku = []\n",
        "\n",
        "    # Buat method tambah_buku\n",
        "    def tambah_buku(self, buku):\n",
        "\n",
        "        # Tambahkan buku ke dalam list kosong\n",
        "        self.daftar_buku.append(buku)\n",
        "\n",
        "    # Buat method info_perpustakaan\n",
        "    def info_perpustakaan(self):\n",
        "\n",
        "        # Format informasi perpustakaan dengan nama, lokasi, dan jumlah buku\n",
        "        info = f\"Perpustakaan {self.nama} ({self.lokasi}) dengan {len(self.daftar_buku)} buku:\"\n",
        "\n",
        "        # Loop melalui setiap buku dalam daftar buku\n",
        "        for buku in self.daftar_buku:\n",
        "\n",
        "            # Tambahkan informasi setiap buku ke string informasi perpustakaan\n",
        "            info += f\"\\n- {buku.info()}\"\n",
        "\n",
        "        # Return hasil informasi perpustakaan\n",
        "        return info\n",
        "\n",
        "# Buat parent class Buku\n",
        "class Buku:\n",
        "\n",
        "    # Buat initial parent class\n",
        "    def __init__(self, judul, pengarang):\n",
        "        self.judul = judul\n",
        "        self.pengarang = pengarang\n",
        "\n",
        "    # Buat method info\n",
        "    def info(self):\n",
        "\n",
        "        # Return semua attribute parent class\n",
        "        return f\"{self.judul} oleh {self.pengarang}\"\n",
        "\n",
        "# Buat child class BukuFiksi\n",
        "class BukuFiksi(Buku):\n",
        "\n",
        "    # Buat initial child class dan super()\n",
        "    def __init__(self, judul, pengarang, genre):\n",
        "        super().__init__(judul, pengarang)\n",
        "        self.genre = genre\n",
        "\n",
        "    # Buat method info\n",
        "    def info(self):\n",
        "\n",
        "        # Return semua attribute pada child class BukuFiksi\n",
        "        return f\"{super().info()}, Genre: {self.genre}\"\n",
        "\n",
        "\n",
        "# Buat child class BukuNonFiksi\n",
        "class BukuNonFiksi(Buku):\n",
        "\n",
        "    # Buat initial child class dan super()\n",
        "    def __init__(self, judul, pengarang, subjek):\n",
        "        super().__init__(judul, pengarang)\n",
        "        self.subjek = subjek\n",
        "\n",
        "    # Buat method info\n",
        "    def info(self):\n",
        "\n",
        "        # Return semua attribute pada child class BukuNonFiksi\n",
        "        return f\"{super().info()}, Subjek: {self.subjek}\"\n",
        "\n",
        "# Buat instance class Perpustakaan\n",
        "perpustakaan_kota = Perpustakaan(nama = \"Kota Knowledge\",\n",
        "                                 lokasi = \"Jl. Pendidikan No. 42\")\n",
        "\n",
        "# Buat instance child class BukuFiksi\n",
        "novel = BukuFiksi(judul = \"Senja di Tepi Pantai\",\n",
        "                  pengarang = \"Aria Pradana\",\n",
        "                  genre = \"Romance\")\n",
        "\n",
        "# Buat instance child class BukuNonFiksi\n",
        "encyclopedia = BukuNonFiksi(judul = \"Encyclopedia of Science\",\n",
        "                            pengarang = \"Dr. Watson\",\n",
        "                            subjek = \"Science\")\n",
        "\n",
        "# Tambahkan buku ke method tambah_buku pada class Perpustakaan\n",
        "perpustakaan_kota.tambah_buku(novel)\n",
        "perpustakaan_kota.tambah_buku(encyclopedia)\n",
        "\n",
        "# Tampilkan informasi perpustakaan\n",
        "print(perpustakaan_kota.info_perpustakaan())"
      ],
      "metadata": {
        "id": "-hfDOu14vwTz",
        "colab": {
          "base_uri": "https://localhost:8080/"
        },
        "outputId": "d8020cae-ec51-4b8c-fd0c-3cae4509b06a"
      },
      "execution_count": null,
      "outputs": [
        {
          "output_type": "stream",
          "name": "stdout",
          "text": [
            "Perpustakaan Kota Knowledge (Jl. Pendidikan No. 42) dengan 2 buku:\n",
            "- Senja di Tepi Pantai oleh Aria Pradana, Genre: Romance\n",
            "- Encyclopedia of Science oleh Dr. Watson, Subjek: Science\n"
          ]
        }
      ]
    },
    {
      "cell_type": "markdown",
      "source": [
        "## Task 11\n",
        "\n",
        "---"
      ],
      "metadata": {
        "id": "yYou5XjjJ2gV"
      }
    },
    {
      "cell_type": "markdown",
      "source": [
        "**Soal**\n",
        "\n",
        "---"
      ],
      "metadata": {
        "id": "tVFKdSZ8J3u2"
      }
    },
    {
      "cell_type": "markdown",
      "source": [
        "Buatlah sistem manajemen gaji karyawan sederhana menggunakan Python!"
      ],
      "metadata": {
        "id": "CUVy9hrPNVMw"
      }
    },
    {
      "cell_type": "markdown",
      "source": [
        "**Intruksi**\n",
        "\n",
        "- Buatlah sebuah class `Perusahaan` untuk menyimpan semua data karyawan\n",
        "    - Tambahkan initial `__init__` dan attribute `nama`\n",
        "        - Misal :\n",
        "            - `nama` adalah ABC Corp, bertipe `str`\n",
        "        - Buatlah sebuah list kosong sebagai data karyawan\n",
        "    - Tambahkan method  `tambah_karyawan` dan attribut `karyawan`.\n",
        "        - Tambahkan attribute ke dalam list\n",
        "    - Tambahkan method `proses_gaji` untuk menampilkan method `hitung_gaji` dan `cetak_info_gaji`. Gunakan perulangan sintaks `for` untuk mengeluatkan semua karyawan yang ada di dalam list"
      ],
      "metadata": {
        "id": "uetz7gV_J5Wk"
      }
    },
    {
      "cell_type": "markdown",
      "source": [
        "- Buatlah sebuah parent class `Karyawan` untuk menambahkan karyawan\n",
        "    - Tambahkan initial `__init__` dan attribute `nama`, dan `jam_kerja`\n",
        "    - Tambahkan method `hitung_gaji` untuk menghitung gaji karyawan\n",
        "        - Buat perhitungan `jam_kerja` * 10000\n",
        "    - Tambahkan method `info` untuk menampilkan informasi data karyawan\n",
        "    - Tambahkan method `cetak_info_gaji` untuk menampilkan total gaji yang diterima\n",
        "\n",
        "- Buatlah sebuah child class `Manajer` yang berkaitan dengan parent class\n",
        "    - Tambahkan initial parent class yang menimpa (override) dengan initial child class dan attribute baru yaitu `bonus`\n",
        "    - Tambahkan `super()` untuk memanggil attribute class parent\n",
        "    - Misal :\n",
        "        - `nama` adalah bob, bertipe `str`\n",
        "        - `jam_kerja` adalah 35, bertipe `int`\n",
        "        - `bonus` adalah 500000, bertipe `int`\n",
        "    - Tambahkan method `hitung_gaji` untuk menambahkan gaji dan bonusnya\n",
        "    - Tambahkan method `info` untuk menampilkan informasi manager dengan nama, jam kerja, dan bonus\n",
        "- Buatlah instance class `Perusahaan`\n",
        "- Buatlah instance child class `Karyawan` dan `Manajer`\n",
        "- Gunakan method `tambah_karyawan` dari class `Perusahaan` untuk menambahkan data karyawan\n",
        "- Gunakan method `proses_gaji` untuk menampilkan total gaji"
      ],
      "metadata": {
        "id": "1YefTQuNQZR3"
      }
    },
    {
      "cell_type": "markdown",
      "source": [
        "**Contoh Input:**\n",
        "\n",
        "---"
      ],
      "metadata": {
        "id": "m2ym7p0VJ64k"
      }
    },
    {
      "cell_type": "markdown",
      "source": [
        "```python\n",
        "nama = \"ABC Corp\"\n",
        "nama = \"Alice\"\n",
        "jam_kerja = 40\n",
        "nama = \"Bob\"        \n",
        "jam_kerja = 35\n",
        "bonus = 500000\n",
        "```"
      ],
      "metadata": {
        "id": "Kl7_kdgFJ9Iw"
      }
    },
    {
      "cell_type": "markdown",
      "source": [
        "**Contoh Output:**\n",
        "\n",
        "---"
      ],
      "metadata": {
        "id": "N0-4wRqXJ9R_"
      }
    },
    {
      "cell_type": "markdown",
      "source": [
        "```python\n",
        "Alice bekerja selama 40 jam perminggu\n",
        "Gaji: Rp400000\n",
        "------------------------------\n",
        "Bob bekerja selama 35 jam perminggu dengan bonus: Rp500000\n",
        "Gaji: Rp850000\n",
        "------------------------------\n",
        "```"
      ],
      "metadata": {
        "id": "6JiMcweQKCLb"
      }
    },
    {
      "cell_type": "markdown",
      "source": [
        "**Code disini!**\n",
        "\n",
        "---"
      ],
      "metadata": {
        "id": "MSWXrp55KCgS"
      }
    },
    {
      "cell_type": "code",
      "source": [
        "# Tulis code Anda disini"
      ],
      "metadata": {
        "id": "xXbx2zLbKFJ1"
      },
      "execution_count": null,
      "outputs": []
    },
    {
      "cell_type": "markdown",
      "source": [
        "**Kunci Jawaban**\n",
        "\n",
        "----"
      ],
      "metadata": {
        "id": "1nOlZgY_KFZ3"
      }
    },
    {
      "cell_type": "code",
      "source": [
        "# Tulis code Anda disini\n",
        "\n",
        "# Buat class tunggal Perusahaan\n",
        "class Perusahaan:\n",
        "\n",
        "    # Buat initial class\n",
        "    def __init__(self, nama):\n",
        "        self.nama = nama\n",
        "\n",
        "        # Simpan daftar karyawan di dalam list\n",
        "        self.daftar_karyawan = []\n",
        "\n",
        "    # Buat method tambah_karyawan\n",
        "    def tambah_karyawan(self, karyawan):\n",
        "\n",
        "        # Tambahkan karyawan ke dalam list daftar_karyawan\n",
        "        self.daftar_karyawan.append(karyawan)\n",
        "\n",
        "    # Buat method proses_gaji\n",
        "    def proses_gaji(self):\n",
        "\n",
        "        # Loop melalui setiap karyawan dalam daftar_karyawan\n",
        "        for karyawan in self.daftar_karyawan:\n",
        "\n",
        "            # Hitung gaji dan cetak informasi gaji untuk setiap karyawan\n",
        "            karyawan.hitung_gaji()\n",
        "            karyawan.cetak_info_gaji()\n",
        "\n",
        "# Buat parent class Karyawan\n",
        "class Karyawan:\n",
        "\n",
        "    # Buat initial parent class\n",
        "    def __init__(self, nama, jam_kerja):\n",
        "        self.nama = nama\n",
        "        self.jam_kerja = jam_kerja\n",
        "\n",
        "        # Buat initial gaji adalah 0\n",
        "        self.gaji = 0\n",
        "\n",
        "    # Buat method hitung_gaji\n",
        "    def hitung_gaji(self):\n",
        "\n",
        "        # Hitung perjam * 10000\n",
        "        self.gaji = self.jam_kerja * 10000\n",
        "\n",
        "    # Buat method info\n",
        "    def info(self):\n",
        "\n",
        "        # Return informasi karyawan dengan nama dan jam kerja\n",
        "        return f\"{self.nama} bekerja selama {self.jam_kerja} jam per minggu\"\n",
        "\n",
        "    # Buat method cetak_info_gaji\n",
        "    def cetak_info_gaji(self):\n",
        "\n",
        "        # Cetak informasi karyawan dan gaji\n",
        "        print(self.info())\n",
        "        print(f\"Gaji: Rp{self.gaji}\")\n",
        "        print(\"-\" * 30)\n",
        "\n",
        "# Buat child class Manager\n",
        "class Manager(Karyawan):\n",
        "\n",
        "    # Buat initial child class dan super()\n",
        "    def __init__(self, nama, jam_kerja, bonus):\n",
        "        super().__init__(nama, jam_kerja)\n",
        "        self.bonus = bonus\n",
        "\n",
        "    # Buat method hitung_gaji untuk Manager\n",
        "    def hitung_gaji(self):\n",
        "        super().hitung_gaji()\n",
        "\n",
        "        # Tambahkan gaji dan bonus\n",
        "        self.gaji += self.bonus\n",
        "\n",
        "    # Buat method info untuk Manager\n",
        "    def info(self):\n",
        "\n",
        "        # Return informasi manager dengan nama, jam kerja, dan bonus\n",
        "        return f\"{super().info()} dengan bonus: Rp{self.bonus}\"\n",
        "\n",
        "# Buat instance class Perusahaan\n",
        "perusahaan_x = Perusahaan(nama = \"ABC Corp\")\n",
        "\n",
        "# Buat instance child class Karyawan\n",
        "karyawan1 = Karyawan(nama = \"Alice\", jam_kerja = 40)\n",
        "\n",
        "# Buat instance child class Manager\n",
        "manager1 = Manager(nama = \"Bob\",\n",
        "                   jam_kerja = 35,\n",
        "                   bonus = 500000)\n",
        "\n",
        "# Tambahkan karyawan dan manager ke dalam daftar_karyawan perusahaan\n",
        "perusahaan_x.tambah_karyawan(karyawan1)\n",
        "perusahaan_x.tambah_karyawan(manager1)\n",
        "\n",
        "# Tampilkan hasil\n",
        "perusahaan_x.proses_gaji()"
      ],
      "metadata": {
        "colab": {
          "base_uri": "https://localhost:8080/"
        },
        "id": "oULG_cjHKHWn",
        "outputId": "89ee4018-925d-49b6-ccd0-425f0fe6f0a6"
      },
      "execution_count": null,
      "outputs": [
        {
          "output_type": "stream",
          "name": "stdout",
          "text": [
            "Alice bekerja selama 40 jam per minggu\n",
            "Gaji: Rp400000\n",
            "------------------------------\n",
            "Bob bekerja selama 35 jam per minggu dengan bonus: Rp500000\n",
            "Gaji: Rp850000\n",
            "------------------------------\n",
            "jan bekerja selama 20 jam per minggu\n",
            "Gaji: Rp200000\n",
            "------------------------------\n"
          ]
        }
      ]
    }
  ]
}