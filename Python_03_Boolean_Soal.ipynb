{
  "nbformat": 4,
  "nbformat_minor": 0,
  "metadata": {
    "colab": {
      "provenance": [],
      "include_colab_link": true
    },
    "kernelspec": {
      "name": "python3",
      "display_name": "Python 3"
    },
    "language_info": {
      "name": "python"
    }
  },
  "cells": [
    {
      "cell_type": "markdown",
      "metadata": {
        "id": "view-in-github",
        "colab_type": "text"
      },
      "source": [
        "<a href=\"https://colab.research.google.com/github/afaafa/afaafa/blob/main/Python_03_Boolean_Soal.ipynb\" target=\"_parent\"><img src=\"https://colab.research.google.com/assets/colab-badge.svg\" alt=\"Open In Colab\"/></a>"
      ]
    },
    {
      "cell_type": "markdown",
      "source": [
        "# Day 3 - Boolean\n",
        "---\n",
        "\n",
        "Python Programming - Sekolah Data - Pacmann AI"
      ],
      "metadata": {
        "id": "CXu-OfQnLhwv"
      }
    },
    {
      "cell_type": "markdown",
      "source": [
        "## Task 1\n",
        "\n",
        "---"
      ],
      "metadata": {
        "id": "1cX__AUaieTB"
      }
    },
    {
      "cell_type": "markdown",
      "source": [
        "**Soal**\n",
        "\n",
        "---"
      ],
      "metadata": {
        "id": "mDxFJKM1LnHe"
      }
    },
    {
      "cell_type": "markdown",
      "source": [
        "Lakukan pengecekan angka `12` dan `11`, apakah kedua angkah tersebut sama?"
      ],
      "metadata": {
        "id": "Hj2S9Abgif63"
      }
    },
    {
      "cell_type": "markdown",
      "source": [
        "**Contoh Output:**\n",
        "\n",
        "---"
      ],
      "metadata": {
        "id": "GMbvG3wwisa3"
      }
    },
    {
      "cell_type": "markdown",
      "source": [
        "```python\n",
        "False\n",
        "```"
      ],
      "metadata": {
        "id": "SqID1LLWit9B"
      }
    },
    {
      "cell_type": "markdown",
      "source": [
        "**Code disini!**\n",
        "\n",
        "---"
      ],
      "metadata": {
        "id": "LnNqv5YSD0V1"
      }
    },
    {
      "cell_type": "code",
      "source": [
        "# Tulis code Anda disini\n",
        "..."
      ],
      "metadata": {
        "id": "2SL_qyElizhB",
        "colab": {
          "base_uri": "https://localhost:8080/"
        },
        "outputId": "f76560f9-208a-4fd9-f1a0-1c7dc523d0bf"
      },
      "execution_count": null,
      "outputs": [
        {
          "output_type": "execute_result",
          "data": {
            "text/plain": [
              "False"
            ]
          },
          "metadata": {},
          "execution_count": 1
        }
      ]
    },
    {
      "cell_type": "markdown",
      "source": [
        "## Task 2\n",
        "\n",
        "---"
      ],
      "metadata": {
        "id": "XrAgof_ljLdG"
      }
    },
    {
      "cell_type": "markdown",
      "source": [
        "**Soal**\n",
        "\n",
        "---"
      ],
      "metadata": {
        "id": "8Kl9yzC2L7oU"
      }
    },
    {
      "cell_type": "markdown",
      "source": [
        "Lakukan pengecekan kata `akutansi` dan `Akutansi`, Apakah kata tersebut tidak sama?"
      ],
      "metadata": {
        "id": "4ZSpWs66jM8O"
      }
    },
    {
      "cell_type": "markdown",
      "source": [
        "**Contoh Ouput:**\n",
        "\n",
        "---"
      ],
      "metadata": {
        "id": "EOW5R3Syjjf6"
      }
    },
    {
      "cell_type": "markdown",
      "source": [
        "```python\n",
        "True\n",
        "```"
      ],
      "metadata": {
        "id": "Lauss_eDjlDs"
      }
    },
    {
      "cell_type": "markdown",
      "source": [
        "**Code disini!**\n",
        "\n",
        "---"
      ],
      "metadata": {
        "id": "1IUdQtoZMJNg"
      }
    },
    {
      "cell_type": "code",
      "source": [
        "# Tulis code Anda disini\n",
        "..."
      ],
      "metadata": {
        "id": "ytPhZ7HNMJNm",
        "colab": {
          "base_uri": "https://localhost:8080/"
        },
        "outputId": "f64963eb-219b-4936-8c72-fd0722380383"
      },
      "execution_count": null,
      "outputs": [
        {
          "output_type": "execute_result",
          "data": {
            "text/plain": [
              "True"
            ]
          },
          "metadata": {},
          "execution_count": 2
        }
      ]
    },
    {
      "cell_type": "markdown",
      "source": [
        "## Task 3\n",
        "\n",
        "---"
      ],
      "metadata": {
        "id": "TkwASQCzhkL7"
      }
    },
    {
      "cell_type": "markdown",
      "source": [
        "**Soal**\n",
        "\n",
        "---"
      ],
      "metadata": {
        "id": "yzzX-jSxMN60"
      }
    },
    {
      "cell_type": "markdown",
      "source": [
        "- Simpan angka `12` dan `20` ke dalam variable `angka_1` dan `angka_2`\n",
        "- Lakukan perbandingan antara kedua variable, apakah `angka_1` lebih besar dari `angka_2`?"
      ],
      "metadata": {
        "id": "d0NrOSG2hnol"
      }
    },
    {
      "cell_type": "markdown",
      "source": [
        "**Contoh Input:**\n",
        "\n",
        "---"
      ],
      "metadata": {
        "id": "-ebv9dqsh2Jp"
      }
    },
    {
      "cell_type": "markdown",
      "source": [
        "```python\n",
        "angka_1 = 12\n",
        "angka_2 = 20\n",
        "```"
      ],
      "metadata": {
        "id": "Bk9OgfgMh4B2"
      }
    },
    {
      "cell_type": "markdown",
      "source": [
        "**Contoh Output:**\n",
        "\n",
        "---"
      ],
      "metadata": {
        "id": "KFFV82rriKCM"
      }
    },
    {
      "cell_type": "markdown",
      "source": [
        "```python\n",
        "False\n",
        "```"
      ],
      "metadata": {
        "id": "lqGvtTMxiLSR"
      }
    },
    {
      "cell_type": "markdown",
      "source": [
        "**Code disini!**\n",
        "\n",
        "---"
      ],
      "metadata": {
        "id": "BIbNoUZaNdHQ"
      }
    },
    {
      "cell_type": "code",
      "source": [
        "# Tulis code Anda disini\n",
        "..."
      ],
      "metadata": {
        "id": "_byHqJ1oNdHW",
        "colab": {
          "base_uri": "https://localhost:8080/"
        },
        "outputId": "6567df20-5e2b-4215-c053-3102c2f1e559"
      },
      "execution_count": null,
      "outputs": [
        {
          "output_type": "stream",
          "name": "stdout",
          "text": [
            "False\n"
          ]
        }
      ]
    },
    {
      "cell_type": "markdown",
      "source": [
        "## Task 4\n",
        "\n",
        "---"
      ],
      "metadata": {
        "id": "1H9hDyB7kOgf"
      }
    },
    {
      "cell_type": "markdown",
      "source": [
        "**Soal**\n",
        "\n",
        "---"
      ],
      "metadata": {
        "id": "-DlS4KzFNiFI"
      }
    },
    {
      "cell_type": "markdown",
      "source": [
        "Budi membeli `baju` seharga 50000, di toko baju tersebut akan mendapatkan bonus gantungan kunci jika pembelian lebih dari 100000, apakah budi mendapatkan gantungan kunci?"
      ],
      "metadata": {
        "id": "aKqXquSxkQAf"
      }
    },
    {
      "cell_type": "markdown",
      "source": [
        "**Contoh Input:**\n",
        "\n",
        "---"
      ],
      "metadata": {
        "id": "L8IdOY-BkfUB"
      }
    },
    {
      "cell_type": "markdown",
      "source": [
        "```python\n",
        "baju = 50000\n",
        "syarat = 100000\n",
        "```"
      ],
      "metadata": {
        "id": "NUBGOrtOkhTQ"
      }
    },
    {
      "cell_type": "markdown",
      "source": [
        "**Contoh Output:**\n",
        "\n",
        "---"
      ],
      "metadata": {
        "id": "ur-PhMgsk37g"
      }
    },
    {
      "cell_type": "markdown",
      "source": [
        "```python\n",
        "False\n",
        "```"
      ],
      "metadata": {
        "id": "yx540_rYk9WS"
      }
    },
    {
      "cell_type": "markdown",
      "source": [
        "**Code disini!**\n",
        "\n",
        "---"
      ],
      "metadata": {
        "id": "fjstmWuUNwzD"
      }
    },
    {
      "cell_type": "code",
      "source": [
        "# Tulis code Anda disini\n",
        "..."
      ],
      "metadata": {
        "id": "H7cfANWANwzJ",
        "colab": {
          "base_uri": "https://localhost:8080/"
        },
        "outputId": "83f48ba3-3139-45d5-a1c2-deba470f4255"
      },
      "execution_count": null,
      "outputs": [
        {
          "output_type": "stream",
          "name": "stdout",
          "text": [
            "False\n"
          ]
        }
      ]
    },
    {
      "cell_type": "markdown",
      "source": [
        "## Task 5\n",
        "\n",
        "---"
      ],
      "metadata": {
        "id": "-tw828UPl2I9"
      }
    },
    {
      "cell_type": "markdown",
      "source": [
        "**Soal**\n",
        "\n",
        "---"
      ],
      "metadata": {
        "id": "x0MmHqWCN0bB"
      }
    },
    {
      "cell_type": "markdown",
      "source": [
        "Diketahui umur Andi adalah 12 tahun, umur Dodi adalah 10 tahun dan umur Jono adalah 15 tahun, Apakah umur Jono lebih kecil dari Dodi?"
      ],
      "metadata": {
        "id": "5OV35a6JmRAy"
      }
    },
    {
      "cell_type": "markdown",
      "source": [
        "**Contoh Input:**\n",
        "\n",
        "---"
      ],
      "metadata": {
        "id": "JT47hU4LnLtD"
      }
    },
    {
      "cell_type": "markdown",
      "source": [
        "```python\n",
        "umur_dodi = 10\n",
        "umur_jono = 15\n",
        "```"
      ],
      "metadata": {
        "id": "Vs1SXsqsnNkP"
      }
    },
    {
      "cell_type": "markdown",
      "source": [
        "**Contoh Output:**\n",
        "\n",
        "---"
      ],
      "metadata": {
        "id": "3T-QF5NfnXDk"
      }
    },
    {
      "cell_type": "markdown",
      "source": [
        "```python\n",
        "False\n",
        "```"
      ],
      "metadata": {
        "id": "xEmktANznvd8"
      }
    },
    {
      "cell_type": "markdown",
      "source": [
        "**Code disini!**\n",
        "\n",
        "---"
      ],
      "metadata": {
        "id": "Xk-pw7S-OC1b"
      }
    },
    {
      "cell_type": "code",
      "source": [
        "# Tulis code Anda disini\n",
        "..."
      ],
      "metadata": {
        "id": "ehZ04OQAOC1i",
        "colab": {
          "base_uri": "https://localhost:8080/"
        },
        "outputId": "25d02ce1-ed61-4672-9e42-d4e5420e1dd5"
      },
      "execution_count": null,
      "outputs": [
        {
          "output_type": "stream",
          "name": "stdout",
          "text": [
            "False\n"
          ]
        }
      ]
    },
    {
      "cell_type": "markdown",
      "source": [
        "## Task 6\n",
        "\n",
        "---"
      ],
      "metadata": {
        "id": "_Uaf6B3qoCTD"
      }
    },
    {
      "cell_type": "markdown",
      "source": [
        "**Soal**\n",
        "\n",
        "---"
      ],
      "metadata": {
        "id": "VmEnQOGhOJWX"
      }
    },
    {
      "cell_type": "markdown",
      "source": [
        "Periksa apakah nilai `x` lebih kecil atau sama dengan y bila diketahui: $y = 3x^{2} + 4x - 27$ dan `x = 3`"
      ],
      "metadata": {
        "id": "3D6_1mkLoDXy"
      }
    },
    {
      "cell_type": "markdown",
      "source": [
        "**Contoh Input:**\n",
        "\n",
        "---"
      ],
      "metadata": {
        "id": "uBEYELe1o_Ut"
      }
    },
    {
      "cell_type": "markdown",
      "source": [
        "```python\n",
        "x = 3\n",
        "```"
      ],
      "metadata": {
        "id": "3yXlH64mpA8w"
      }
    },
    {
      "cell_type": "markdown",
      "source": [
        "**Contoh Output:**\n",
        "\n",
        "---"
      ],
      "metadata": {
        "id": "b8wHZ2UOpFvN"
      }
    },
    {
      "cell_type": "markdown",
      "source": [
        "```python\n",
        "True\n",
        "```"
      ],
      "metadata": {
        "id": "mFA0Gz5upHV-"
      }
    },
    {
      "cell_type": "markdown",
      "source": [
        "**Code disini!**\n",
        "\n",
        "---"
      ],
      "metadata": {
        "id": "YH0zbAjuOUOx"
      }
    },
    {
      "cell_type": "code",
      "source": [
        "# Tulis code Anda disini\n",
        "..."
      ],
      "metadata": {
        "id": "ml6lJx_EOUO5",
        "colab": {
          "base_uri": "https://localhost:8080/"
        },
        "outputId": "b488ebc2-1466-4157-8752-018f2a64b077"
      },
      "execution_count": null,
      "outputs": [
        {
          "output_type": "stream",
          "name": "stdout",
          "text": [
            "True\n"
          ]
        }
      ]
    },
    {
      "cell_type": "markdown",
      "source": [
        "## Task 7\n",
        "\n",
        "----"
      ],
      "metadata": {
        "id": "67PJtcPiB527"
      }
    },
    {
      "cell_type": "markdown",
      "source": [
        "**Soal**\n",
        "\n",
        "---"
      ],
      "metadata": {
        "id": "De2vVhsCOcJS"
      }
    },
    {
      "cell_type": "markdown",
      "source": [
        "Dodi ingin mendaftar tentara, tetapi terdapat persyaratan tidak buta warna dan tidak perokok. Kondisi Dodi saat ini adalah tidak buta warna tetapi perokok, apakah Dodi dapat lolos tentara?"
      ],
      "metadata": {
        "id": "5F3SdGH1Aq67"
      }
    },
    {
      "cell_type": "markdown",
      "source": [
        "**Contoh Input:**\n",
        "\n",
        "---"
      ],
      "metadata": {
        "id": "FwyF4T1jBK2X"
      }
    },
    {
      "cell_type": "markdown",
      "source": [
        "```python\n",
        "buta_warna = True\n",
        "perokok = False\n",
        "```"
      ],
      "metadata": {
        "id": "Tao3aeX_BMy4"
      }
    },
    {
      "cell_type": "markdown",
      "source": [
        "**Contoh Output:**\n",
        "\n",
        "---"
      ],
      "metadata": {
        "id": "ibVtwcXtB7rf"
      }
    },
    {
      "cell_type": "markdown",
      "source": [
        "```python\n",
        "False\n",
        "```"
      ],
      "metadata": {
        "id": "Mgq7u1tJB9au"
      }
    },
    {
      "cell_type": "markdown",
      "source": [
        "**Code disini!**\n",
        "\n",
        "---"
      ],
      "metadata": {
        "id": "5UJYryTzOktk"
      }
    },
    {
      "cell_type": "code",
      "source": [
        "# Tulis code Anda disini\n",
        "..."
      ],
      "metadata": {
        "id": "xyemTDaAOktr",
        "colab": {
          "base_uri": "https://localhost:8080/"
        },
        "outputId": "e9b54877-a265-441a-b134-3586672e56de"
      },
      "execution_count": null,
      "outputs": [
        {
          "output_type": "stream",
          "name": "stdout",
          "text": [
            "False\n"
          ]
        }
      ]
    },
    {
      "cell_type": "markdown",
      "source": [
        "## Task 8\n",
        "\n",
        "---"
      ],
      "metadata": {
        "id": "xe0fgZ71pflI"
      }
    },
    {
      "cell_type": "markdown",
      "source": [
        "**Soal**\n",
        "\n",
        "---"
      ],
      "metadata": {
        "id": "0hlKcz3rOpD1"
      }
    },
    {
      "cell_type": "markdown",
      "source": [
        "Seorang siswa akan dibelikan handphone baru oleh ayahnya jika nilai ujian `matematika` dan `fisika` diatas KKM yaitu 75. Ketika nilai ujian keluar, siswa tersebut mendapatkan nilai `matematika` 80 dan `fisika` 70. Apakah siswa tersebut dibelikan handphone?"
      ],
      "metadata": {
        "id": "7bIW6audphPW"
      }
    },
    {
      "cell_type": "markdown",
      "source": [
        "**Contoh Input:**\n",
        "\n",
        "---"
      ],
      "metadata": {
        "id": "VsXJi-JwqOCs"
      }
    },
    {
      "cell_type": "markdown",
      "source": [
        "```python\n",
        "matematika = 80\n",
        "fisika = 70\n",
        "kkm = 75\n",
        "```"
      ],
      "metadata": {
        "id": "udkpMe24qa6R"
      }
    },
    {
      "cell_type": "markdown",
      "source": [
        "**Contoh Output:**\n",
        "\n",
        "---"
      ],
      "metadata": {
        "id": "9G9c9iyWqktc"
      }
    },
    {
      "cell_type": "markdown",
      "source": [
        "```python\n",
        "False\n",
        "```"
      ],
      "metadata": {
        "id": "c_CQMJqcqm4V"
      }
    },
    {
      "cell_type": "markdown",
      "source": [
        "**Code disini!**\n",
        "\n",
        "---"
      ],
      "metadata": {
        "id": "45zRA1aYO7HK"
      }
    },
    {
      "cell_type": "code",
      "source": [
        "# Tulis code Anda disini\n",
        "..."
      ],
      "metadata": {
        "id": "p8zCoARpO7HR",
        "colab": {
          "base_uri": "https://localhost:8080/"
        },
        "outputId": "1249b390-24ae-4ab6-8fa9-77fac374db0e"
      },
      "execution_count": null,
      "outputs": [
        {
          "output_type": "stream",
          "name": "stdout",
          "text": [
            "False\n"
          ]
        }
      ]
    },
    {
      "cell_type": "markdown",
      "source": [
        "## Task 9\n",
        "\n",
        "----"
      ],
      "metadata": {
        "id": "OreMPBOhra7G"
      }
    },
    {
      "cell_type": "markdown",
      "source": [
        "**Soal**\n",
        "\n",
        "----"
      ],
      "metadata": {
        "id": "A-WMxCEWPmtR"
      }
    },
    {
      "cell_type": "markdown",
      "source": [
        "Sekolah abc sedang mengadakan bidik misi untuk siswanya dengan ketentuan pernah mengikuti lomba matematika Nasional ataupun Provinsi. Sinta ikut mendaftar bidik misi tersebut dan Sinta pernah mengikuti perlombaan matematika tingkat Provinsi. Apakah Sinta mendapatkan bidik misi tersebut?"
      ],
      "metadata": {
        "id": "p_O4jv0Nrctd"
      }
    },
    {
      "cell_type": "markdown",
      "source": [
        "**Contoh Input:**\n",
        "\n",
        "---"
      ],
      "metadata": {
        "id": "6Tov8qrrsC4G"
      }
    },
    {
      "cell_type": "markdown",
      "source": [
        "```python\n",
        "persyaratan = \"Nasional\" ataupun \"Provinsi\"\n",
        "perlombaan_sinta = \"provinsi\"\n",
        "```"
      ],
      "metadata": {
        "id": "MZNkHzuosElU"
      }
    },
    {
      "cell_type": "markdown",
      "source": [
        "**Contoh Output:**\n",
        "\n",
        "---"
      ],
      "metadata": {
        "id": "5AfYYDx1sNVx"
      }
    },
    {
      "cell_type": "markdown",
      "source": [
        "```python\n",
        "True\n",
        "```"
      ],
      "metadata": {
        "id": "yVBKcwq3sOt3"
      }
    },
    {
      "cell_type": "markdown",
      "source": [
        "**Code disini!**\n",
        "\n",
        "---"
      ],
      "metadata": {
        "id": "_Jcn4Ta8PiCL"
      }
    },
    {
      "cell_type": "code",
      "source": [
        "# Tulis code Anda disini\n",
        "..."
      ],
      "metadata": {
        "id": "wbZzPjoqPiCS",
        "colab": {
          "base_uri": "https://localhost:8080/"
        },
        "outputId": "1809f8cf-b021-4af1-adb3-3e509c8a4fa8"
      },
      "execution_count": null,
      "outputs": [
        {
          "output_type": "execute_result",
          "data": {
            "text/plain": [
              "True"
            ]
          },
          "metadata": {},
          "execution_count": 9
        }
      ]
    },
    {
      "cell_type": "markdown",
      "source": [
        "## Task 10\n",
        "\n",
        "---"
      ],
      "metadata": {
        "id": "IraIJR8LtVjV"
      }
    },
    {
      "cell_type": "markdown",
      "source": [
        "**Soal**\n",
        "\n",
        "---"
      ],
      "metadata": {
        "id": "lG54-vwjPpdu"
      }
    },
    {
      "cell_type": "markdown",
      "source": [
        "Setiap pekerja berhak mendapatkan asuransi jika sudah bekerja lebih dari 2 tahun, tetapi Diana masih bekerja selama 1 tahun. Apakah Diana mendapatkan asuransi tersebut?"
      ],
      "metadata": {
        "id": "F-ncNsHStW1J"
      }
    },
    {
      "cell_type": "markdown",
      "source": [
        "**Hint**\n",
        "\n",
        "- Gunakan logika `Not` untuk membalikan hasil sebenarnya"
      ],
      "metadata": {
        "id": "UbbcsI2tUIBQ"
      }
    },
    {
      "cell_type": "markdown",
      "source": [
        "**Contoh Input:**\n",
        "\n",
        "---"
      ],
      "metadata": {
        "id": "J5Hwpol3vyjy"
      }
    },
    {
      "cell_type": "markdown",
      "source": [
        "```python\n",
        "masa_kerja_diana = 1\n",
        "masa_kerja_syarat = 2\n",
        "```"
      ],
      "metadata": {
        "id": "8TqjzUc6v0SH"
      }
    },
    {
      "cell_type": "markdown",
      "source": [
        "**Contoh Output:**\n",
        "\n",
        "---"
      ],
      "metadata": {
        "id": "2Hm9yhIjv8kc"
      }
    },
    {
      "cell_type": "markdown",
      "source": [
        "```python\n",
        "Apakah Diana tidak mendapatkan asuransi? : True\n",
        "```"
      ],
      "metadata": {
        "id": "WOT0cLpDv-WJ"
      }
    },
    {
      "cell_type": "markdown",
      "source": [
        "**Code disini!**\n",
        "\n",
        "---"
      ],
      "metadata": {
        "id": "o_8a93itP3ZE"
      }
    },
    {
      "cell_type": "code",
      "source": [
        "# Tulis code Anda disini\n",
        "..."
      ],
      "metadata": {
        "id": "x_Sbdpi3P3ZK",
        "colab": {
          "base_uri": "https://localhost:8080/"
        },
        "outputId": "499285e9-3e74-4eb1-bbe1-2b1b7ce3b53d"
      },
      "execution_count": null,
      "outputs": [
        {
          "output_type": "stream",
          "name": "stdout",
          "text": [
            "Apakah Diana tidak mendapatkan asuransi? : True\n"
          ]
        }
      ]
    },
    {
      "cell_type": "markdown",
      "source": [
        "## Task 11\n",
        "\n",
        "---"
      ],
      "metadata": {
        "id": "nrL6KArC73CV"
      }
    },
    {
      "cell_type": "markdown",
      "source": [
        "**Soal**\n",
        "\n",
        "---"
      ],
      "metadata": {
        "id": "MnmDhKleQBIi"
      }
    },
    {
      "cell_type": "markdown",
      "source": [
        "Apakah suatu `bilangan` 15 habis dibagi oleh 3 atau 5?"
      ],
      "metadata": {
        "id": "Pyd-jCEQ75op"
      }
    },
    {
      "cell_type": "markdown",
      "source": [
        "**Contoh Input:**\n",
        "\n",
        "---"
      ],
      "metadata": {
        "id": "3SkE8RkC8kjU"
      }
    },
    {
      "cell_type": "markdown",
      "source": [
        "```python\n",
        "bilangan = 15\n",
        "```"
      ],
      "metadata": {
        "id": "Aa5hsk3o8m_J"
      }
    },
    {
      "cell_type": "markdown",
      "source": [
        "**Contoh Output:**\n",
        "\n",
        "---"
      ],
      "metadata": {
        "id": "ez_ifUzE8ybf"
      }
    },
    {
      "cell_type": "markdown",
      "source": [
        "```python\n",
        "True\n",
        "```"
      ],
      "metadata": {
        "id": "Yo05wg-980LG"
      }
    },
    {
      "cell_type": "markdown",
      "source": [
        "**Code disini!**\n",
        "\n",
        "---"
      ],
      "metadata": {
        "id": "rBvoUZhtQIdy"
      }
    },
    {
      "cell_type": "code",
      "source": [
        "# Tulis code Anda disini\n",
        "..."
      ],
      "metadata": {
        "id": "7uzg-8eWQId4",
        "colab": {
          "base_uri": "https://localhost:8080/"
        },
        "outputId": "36387168-265a-44c9-8392-ce1868454dfb"
      },
      "execution_count": null,
      "outputs": [
        {
          "output_type": "stream",
          "name": "stdout",
          "text": [
            "True\n"
          ]
        }
      ]
    },
    {
      "cell_type": "markdown",
      "source": [
        "## Task 12\n",
        "\n",
        "---"
      ],
      "metadata": {
        "id": "7kc8agLg9k4T"
      }
    },
    {
      "cell_type": "markdown",
      "source": [
        "**Soal**\n",
        "\n",
        "----"
      ],
      "metadata": {
        "id": "S7vrLm_pQL1g"
      }
    },
    {
      "cell_type": "markdown",
      "source": [
        "Suatu perusahaan memiliki kebijakan bahwa jika seorang karyawan memiliki lebih dari 5 tahun pengalaman dan tidak pernah terlambat selama setidaknya 3 tahun terakhir, maka dia berhak mendapatkan promosi.\n",
        "\n",
        "Apakah benar bahwa seorang karyawan dengan 7 tahun pengalaman dan tidak pernah terlambat selama 4 tahun terakhir tidak akan mendapatkan promosi?\""
      ],
      "metadata": {
        "id": "04uUxqaE9sHD"
      }
    },
    {
      "cell_type": "markdown",
      "source": [
        "**Hint**\n",
        "- Gunakan operasi logika `not` untuk membalikan hasil sebenarnya"
      ],
      "metadata": {
        "id": "TEH7eS9f-f45"
      }
    },
    {
      "cell_type": "markdown",
      "source": [
        "**Contoh Input:**\n",
        "\n",
        "---"
      ],
      "metadata": {
        "id": "gfpt4s4W_zQ3"
      }
    },
    {
      "cell_type": "markdown",
      "source": [
        "```python\n",
        "pengalaman_karyawan = 7\n",
        "tidak_terlambat = 4\n",
        "```"
      ],
      "metadata": {
        "id": "fKoXf-eW_1MK"
      }
    },
    {
      "cell_type": "markdown",
      "source": [
        "**Contoh Output:**\n",
        "\n",
        "---"
      ],
      "metadata": {
        "id": "QIe1n-ac_7pI"
      }
    },
    {
      "cell_type": "markdown",
      "source": [
        "```python\n",
        "Apakah benar kondisi tersebut tidak mendapatkan promosi ? : False\n",
        "```"
      ],
      "metadata": {
        "id": "Y9uqMj1q_9Bo"
      }
    },
    {
      "cell_type": "markdown",
      "source": [
        "**Code disini!**\n",
        "\n",
        "---"
      ],
      "metadata": {
        "id": "DBasEmigQbKD"
      }
    },
    {
      "cell_type": "code",
      "source": [
        "# Tulis code Anda disini\n",
        "..."
      ],
      "metadata": {
        "id": "6iOYHBIoQbKK",
        "colab": {
          "base_uri": "https://localhost:8080/"
        },
        "outputId": "b03f4ba1-793a-4625-ba71-17539639bf21"
      },
      "execution_count": null,
      "outputs": [
        {
          "output_type": "stream",
          "name": "stdout",
          "text": [
            "Apakah benar kondisi tersebut tidak mendapatkan promosi ? : False\n"
          ]
        }
      ]
    },
    {
      "cell_type": "markdown",
      "source": [
        "## Task 13\n",
        "\n",
        "---"
      ],
      "metadata": {
        "id": "VQtNCyo3wEnR"
      }
    },
    {
      "cell_type": "markdown",
      "source": [
        "**Soal**\n",
        "\n",
        "---"
      ],
      "metadata": {
        "id": "Dsg4-N-6QeWg"
      }
    },
    {
      "cell_type": "markdown",
      "source": [
        "Simpan nilai a, b, dan c ke dalam variable `a`, `b` dan `c` sehingga nilai boolean dari operasi logika berikut menjadi `False`:"
      ],
      "metadata": {
        "id": "fGXsoLeVwGAq"
      }
    },
    {
      "cell_type": "markdown",
      "source": [
        "**Rumus**"
      ],
      "metadata": {
        "id": "AAjQu9FIQrX_"
      }
    },
    {
      "cell_type": "markdown",
      "source": [
        "(a > b AND a > c) OR (b < c)"
      ],
      "metadata": {
        "id": "AIGSYjE6QsaK"
      }
    },
    {
      "cell_type": "markdown",
      "source": [
        "**Contoh Input:**\n",
        "\n",
        "---"
      ],
      "metadata": {
        "id": "_B9Gpk2xyxgg"
      }
    },
    {
      "cell_type": "markdown",
      "source": [
        "```python\n",
        "a = 2\n",
        "b = 12\n",
        "c = 5\n",
        "```"
      ],
      "metadata": {
        "id": "ZWouv15jyzeT"
      }
    },
    {
      "cell_type": "markdown",
      "source": [
        "**Contoh Output:**\n",
        "\n",
        "---"
      ],
      "metadata": {
        "id": "phrVIFZLQ0ho"
      }
    },
    {
      "cell_type": "markdown",
      "source": [
        "```python\n",
        "False\n",
        "```"
      ],
      "metadata": {
        "id": "c3wRC6FwzC-6"
      }
    },
    {
      "cell_type": "markdown",
      "source": [
        "**Code disini!**\n",
        "\n",
        "---"
      ],
      "metadata": {
        "id": "5t2AlA2WQ6RH"
      }
    },
    {
      "cell_type": "code",
      "source": [
        "# Tulis code Anda disini\n",
        "..."
      ],
      "metadata": {
        "id": "MCPA_ZfPQ6RO",
        "colab": {
          "base_uri": "https://localhost:8080/"
        },
        "outputId": "5d3d9804-8bad-493c-8e65-142c033eac6f"
      },
      "execution_count": null,
      "outputs": [
        {
          "output_type": "stream",
          "name": "stdout",
          "text": [
            "False\n"
          ]
        }
      ]
    },
    {
      "cell_type": "markdown",
      "source": [
        "## Task 14\n",
        "\n",
        "---"
      ],
      "metadata": {
        "id": "bp9OW9r20HSb"
      }
    },
    {
      "cell_type": "markdown",
      "source": [
        "**Soal**\n",
        "\n",
        "---"
      ],
      "metadata": {
        "id": "kOCFKgzuQ9p3"
      }
    },
    {
      "cell_type": "markdown",
      "source": [
        "Pak Agus ingin menjalankan usaha berjualan bakso keliling, namun saat ini beliau sedang sakit dan lebih rentan terhadap suhu tinggi serta harus menghindari terkena hujan. Pak Agus disarankan untuk tidak berada di suhu udara yang melebihi 30 derajat Celsius."
      ],
      "metadata": {
        "id": "g4vhio8O0InJ"
      }
    },
    {
      "cell_type": "markdown",
      "source": [
        "**Contoh Input:**\n",
        "\n",
        "---"
      ],
      "metadata": {
        "id": "IFF669Y_38nL"
      }
    },
    {
      "cell_type": "markdown",
      "source": [
        "```python\n",
        "is_sunny = True\n",
        "tol_temperatur = 30\n",
        "suhu_sekarang = 25\n",
        "```"
      ],
      "metadata": {
        "id": "tgd9l-z64AzO"
      }
    },
    {
      "cell_type": "markdown",
      "source": [
        "**Contoh Output:**\n",
        "\n",
        "---"
      ],
      "metadata": {
        "id": "4ISRpLZQ4N7C"
      }
    },
    {
      "cell_type": "markdown",
      "source": [
        "```python\n",
        "Apakah pak Agus boleh berjualan bakso? : True\n",
        "```"
      ],
      "metadata": {
        "id": "T5g2qgTK4PVx"
      }
    },
    {
      "cell_type": "markdown",
      "source": [
        "**Code disini!**\n",
        "\n",
        "---"
      ],
      "metadata": {
        "id": "GVgJjGtVRKpa"
      }
    },
    {
      "cell_type": "code",
      "source": [
        "# Tulis code Anda disini\n",
        "is_sunny = True\n",
        "tol_temperatur = 30\n",
        "suhu_sekarang = 25\n",
        "\n",
        "jualan = is_sunny and suhu_sekarang <= tol_temperatur\n",
        "\n",
        "True and True\n",
        "\n",
        "data_suhu = 25 <= 30\n",
        "print(data_suhu)\n",
        "\n",
        "print('Apakah pak Agus boleh berjualan bakso: ', jualan)"
      ],
      "metadata": {
        "id": "gM2v_UbARKpg",
        "colab": {
          "base_uri": "https://localhost:8080/"
        },
        "outputId": "f9ff67ef-1899-4716-d813-b0b6ec7c4cd0"
      },
      "execution_count": null,
      "outputs": [
        {
          "output_type": "stream",
          "name": "stdout",
          "text": [
            "True\n",
            "Apakah pak Agus boleh berjualan bakso:  True\n"
          ]
        }
      ]
    },
    {
      "cell_type": "markdown",
      "source": [
        "## Task 15\n",
        "\n",
        "---"
      ],
      "metadata": {
        "id": "x2b86hT7Herr"
      }
    },
    {
      "cell_type": "markdown",
      "source": [
        "**Soal**\n",
        "\n",
        "----"
      ],
      "metadata": {
        "id": "prJEuM4fRON-"
      }
    },
    {
      "cell_type": "markdown",
      "source": [
        "Gunakan operasi pembalik, Apakah bilangan 3 itu bukan ganjil ?"
      ],
      "metadata": {
        "id": "JQPSLnLGH2FC"
      }
    },
    {
      "cell_type": "markdown",
      "source": [
        "**Hint**\n",
        "- Gunakan operasi logika `not` untuk membalikan hasil sebenarnya"
      ],
      "metadata": {
        "id": "TtxO0RmuRUHL"
      }
    },
    {
      "cell_type": "markdown",
      "source": [
        "**Contoh Input:**\n",
        "\n",
        "---"
      ],
      "metadata": {
        "id": "pU7z5CA_JMkc"
      }
    },
    {
      "cell_type": "markdown",
      "source": [
        "```python\n",
        "bilangan = 3\n",
        "```"
      ],
      "metadata": {
        "id": "h0M3EV28JOnX"
      }
    },
    {
      "cell_type": "markdown",
      "source": [
        "**Contoh Output:**\n",
        "\n",
        "---"
      ],
      "metadata": {
        "id": "NzzlqAVaJQ6M"
      }
    },
    {
      "cell_type": "markdown",
      "source": [
        "```python\n",
        "Apakah bilangan 3 bukan ganjil? False\n",
        "```"
      ],
      "metadata": {
        "id": "szgHdOZMJFtW"
      }
    },
    {
      "cell_type": "markdown",
      "source": [
        "**Code disini!**\n",
        "\n",
        "---"
      ],
      "metadata": {
        "id": "bXYpsS8oReVq"
      }
    },
    {
      "cell_type": "code",
      "source": [
        "# Tulis code Anda disini\n",
        "..."
      ],
      "metadata": {
        "id": "TSRLyQjcReVr",
        "colab": {
          "base_uri": "https://localhost:8080/"
        },
        "outputId": "c7be0379-7671-4389-de68-15403c8dc992"
      },
      "execution_count": null,
      "outputs": [
        {
          "output_type": "stream",
          "name": "stdout",
          "text": [
            "Apakah bilangan 3 bukan ganjil? False\n"
          ]
        }
      ]
    },
    {
      "cell_type": "markdown",
      "source": [
        "## Task 16\n",
        "\n",
        "---"
      ],
      "metadata": {
        "id": "BkpZ24_VJk5Y"
      }
    },
    {
      "cell_type": "markdown",
      "source": [
        "**Soal**\n",
        "\n",
        "---"
      ],
      "metadata": {
        "id": "44h8FeZvRhfE"
      }
    },
    {
      "cell_type": "markdown",
      "source": [
        "Sebuah perlombaan mempunyai ketentuan bahwa peserta harus berusia minimal 18 tahun dan tidak sedang hamil. Ani berusia 20 tahun dan tidak sedang hamil."
      ],
      "metadata": {
        "id": "-L9asrBbHgBo"
      }
    },
    {
      "cell_type": "markdown",
      "source": [
        "**Hint**\n",
        "- Gunakan operasi logika `not` untuk membalikan hasil sebenarnya"
      ],
      "metadata": {
        "id": "HEnM8VCcRti-"
      }
    },
    {
      "cell_type": "markdown",
      "source": [
        "**Contoh Input:**\n",
        "\n",
        "---"
      ],
      "metadata": {
        "id": "W-rhhb-EJ5rr"
      }
    },
    {
      "cell_type": "markdown",
      "source": [
        "```python\n",
        "usia_ani = 20\n",
        "kondisi_hamil = True\n",
        "```"
      ],
      "metadata": {
        "id": "SlX8iYtvJwpE"
      }
    },
    {
      "cell_type": "markdown",
      "source": [
        "**Contoh Output:**\n",
        "\n",
        "---"
      ],
      "metadata": {
        "id": "zuI7UIz9J7nB"
      }
    },
    {
      "cell_type": "markdown",
      "source": [
        "```python\n",
        "Ani memenuhi syarat lomba: True\n",
        "```"
      ],
      "metadata": {
        "id": "7fUokLvBJ9Br"
      }
    },
    {
      "cell_type": "markdown",
      "source": [
        "**Code disini!**\n",
        "\n",
        "---"
      ],
      "metadata": {
        "id": "U9UFxIOESHRc"
      }
    },
    {
      "cell_type": "code",
      "source": [
        "# Tulis code Anda disini\n",
        "..."
      ],
      "metadata": {
        "id": "J7icYaaXSHRj",
        "colab": {
          "base_uri": "https://localhost:8080/"
        },
        "outputId": "86cb19cc-0b35-4344-df48-e5d3d9621b2d"
      },
      "execution_count": null,
      "outputs": [
        {
          "output_type": "stream",
          "name": "stdout",
          "text": [
            "Ani memenuhi syarat lomba: False\n"
          ]
        }
      ]
    },
    {
      "cell_type": "markdown",
      "source": [
        "## Task 17\n",
        "\n",
        "---"
      ],
      "metadata": {
        "id": "XfaH4trU5okh"
      }
    },
    {
      "cell_type": "markdown",
      "source": [
        "**Soal**\n",
        "\n",
        "---"
      ],
      "metadata": {
        "id": "oLwlVkxMSLAV"
      }
    },
    {
      "cell_type": "markdown",
      "source": [
        "- Lakukan pengecekan angka genap pada variable `bilangan` yang berisi angka 20 dengan menggunakan boolean `and`, `not` dan `or`"
      ],
      "metadata": {
        "id": "Lwwi9FQk5qFl"
      }
    },
    {
      "cell_type": "markdown",
      "source": [
        "Ketentuan:\n",
        "- Hasil bagi tidak boleh sama dengan 1\n",
        "- Hasil bagi harus sama dengan 0"
      ],
      "metadata": {
        "id": "MaXojz3Sxrzz"
      }
    },
    {
      "cell_type": "markdown",
      "source": [
        "**Contoh Input:**\n",
        "\n",
        "---"
      ],
      "metadata": {
        "id": "GQblssdn6Xqr"
      }
    },
    {
      "cell_type": "markdown",
      "source": [
        "```python\n",
        "bilangan = 20\n",
        "```"
      ],
      "metadata": {
        "id": "Qex6mNEP6ZjU"
      }
    },
    {
      "cell_type": "markdown",
      "source": [
        "**Contoh Output:**\n",
        "\n",
        "---"
      ],
      "metadata": {
        "id": "mLMuijo-6cak"
      }
    },
    {
      "cell_type": "markdown",
      "source": [
        "```python\n",
        "True\n",
        "```"
      ],
      "metadata": {
        "id": "x9cUuAxp6e8F"
      }
    },
    {
      "cell_type": "markdown",
      "source": [
        "**Code disini!**\n",
        "\n",
        "---"
      ],
      "metadata": {
        "id": "ceSntoFuTAwh"
      }
    },
    {
      "cell_type": "code",
      "source": [
        "# Tulis code Anda disini\n",
        "..."
      ],
      "metadata": {
        "id": "ojDtgZRYTAwp",
        "colab": {
          "base_uri": "https://localhost:8080/"
        },
        "outputId": "aa8d0fa3-c73a-4d92-e1eb-1ba23f368f29"
      },
      "execution_count": null,
      "outputs": [
        {
          "output_type": "stream",
          "name": "stdout",
          "text": [
            "True\n"
          ]
        }
      ]
    },
    {
      "cell_type": "markdown",
      "source": [
        "## Task 18\n",
        "\n",
        "---"
      ],
      "metadata": {
        "id": "U-JQ_bMbEQKi"
      }
    },
    {
      "cell_type": "markdown",
      "source": [
        "**Soal**\n",
        "\n",
        "---"
      ],
      "metadata": {
        "id": "0ggnPnfvTTpb"
      }
    },
    {
      "cell_type": "markdown",
      "source": [
        "Sebuah tim olahraga hanya akan memilih pemain sebagai kaptennya jika pemain tersebut :\n",
        "- memiliki lebih dari 4 tahun pengalaman\n",
        "- memiliki tingkat kehadiran di atas 90%\n",
        "- berhasil mencetak setidaknya 10 gol dalam satu musim.\n",
        "\n",
        "Dian, memiliki 5 tahun pengalaman, tingkat kehadiran 95%, dan telah mencetak 12 gol musim ini. Apakah Dian dapat menjadi kapten tim?"
      ],
      "metadata": {
        "id": "vS---odYERxR"
      }
    },
    {
      "cell_type": "markdown",
      "source": [
        "**Contoh Input:**\n",
        "\n",
        "---"
      ],
      "metadata": {
        "id": "HMIUdLaBEUsK"
      }
    },
    {
      "cell_type": "markdown",
      "source": [
        "```python\n",
        "pengalaman_dian = 5\n",
        "tingkat_kehadiran_dian = 95\n",
        "gol_dian = 12\n",
        "```"
      ],
      "metadata": {
        "id": "_sFujSdpEtL7"
      }
    },
    {
      "cell_type": "markdown",
      "source": [
        "**Contoh Output:**\n",
        "\n",
        "---"
      ],
      "metadata": {
        "id": "RbvuTkyCE1xl"
      }
    },
    {
      "cell_type": "markdown",
      "source": [
        "```python\n",
        "Apakah Dian bisa menjadi kapten tim: True\n",
        "```"
      ],
      "metadata": {
        "id": "M9CrsjT0E3Rw"
      }
    },
    {
      "cell_type": "markdown",
      "source": [
        "**Code disini!**\n",
        "\n",
        "---"
      ],
      "metadata": {
        "id": "4Y9hv-feTi8x"
      }
    },
    {
      "cell_type": "code",
      "source": [
        "# Tulis code Anda disini\n",
        "..."
      ],
      "metadata": {
        "id": "wtxvqxLITi83",
        "colab": {
          "base_uri": "https://localhost:8080/"
        },
        "outputId": "2e4502bb-2d43-40bf-f087-153c5f4494b2"
      },
      "execution_count": null,
      "outputs": [
        {
          "output_type": "stream",
          "name": "stdout",
          "text": [
            "Apakah Dian bisa menjadi kapten tim: True\n"
          ]
        }
      ]
    },
    {
      "cell_type": "markdown",
      "source": [
        "## Task 19\n",
        "\n",
        "---"
      ],
      "metadata": {
        "id": "K8erKCATFmwU"
      }
    },
    {
      "cell_type": "markdown",
      "source": [
        "**Soal**\n",
        "\n",
        "---"
      ],
      "metadata": {
        "id": "i376f86tTmdA"
      }
    },
    {
      "cell_type": "markdown",
      "source": [
        "Suatu perusahaan memberikan bonus kepada karyawan dengan ketentuan\n",
        "- memiliki pengalaman di antara 3 hingga 7 tahun\n",
        "- memiliki tingkat keterlambatan di bawah 5%\n",
        "- atau memiliki setidaknya 2 sertifikasi\n",
        "\n",
        "Irfan memiliki 8 tahun pengalaman, tingkat keterlambatan 3%, dan tidak memiliki sertifikasi. Apakah Irfan akan mendapatkan bonus?"
      ],
      "metadata": {
        "id": "qmFj1WSuFo4u"
      }
    },
    {
      "cell_type": "markdown",
      "source": [
        "**Hint**\n",
        "- Gunakan operasi logika `not` untuk membalikan hasil sebenarnya"
      ],
      "metadata": {
        "id": "6hi52fIVF_xG"
      }
    },
    {
      "cell_type": "markdown",
      "source": [
        "**Contoh Input:**\n",
        "\n",
        "---"
      ],
      "metadata": {
        "id": "KogMcIljGMxX"
      }
    },
    {
      "cell_type": "markdown",
      "source": [
        "```python\n",
        "pengalaman_irfan = 8\n",
        "keterlambatan_irfan = 3\n",
        "sertifikasi_irfan = False\n",
        "```"
      ],
      "metadata": {
        "id": "tDB6wE0mGRsU"
      }
    },
    {
      "cell_type": "markdown",
      "source": [
        "**Contoh Output:**\n",
        "\n",
        "---"
      ],
      "metadata": {
        "id": "bY3Gy_G4HSBW"
      }
    },
    {
      "cell_type": "markdown",
      "source": [
        "```python\n",
        "Irfan mendapatkan bonus: False\n",
        "```"
      ],
      "metadata": {
        "id": "huyepbveHT9N"
      }
    },
    {
      "cell_type": "markdown",
      "source": [
        "**Code disini!**\n",
        "\n",
        "---"
      ],
      "metadata": {
        "id": "zja_viCQUieu"
      }
    },
    {
      "cell_type": "code",
      "source": [
        "# Tulis code Anda disini\n",
        "..."
      ],
      "metadata": {
        "id": "aCJ0SlBUUie1",
        "colab": {
          "base_uri": "https://localhost:8080/"
        },
        "outputId": "aa5f00e1-5721-4ca5-87b1-09491478360e"
      },
      "execution_count": null,
      "outputs": [
        {
          "output_type": "stream",
          "name": "stdout",
          "text": [
            "Irfan mendapatkan bonus: False\n"
          ]
        }
      ]
    },
    {
      "cell_type": "markdown",
      "source": [
        "## Task 20\n",
        "\n",
        "---"
      ],
      "metadata": {
        "id": "VzsyoNf3KvMA"
      }
    },
    {
      "cell_type": "markdown",
      "source": [
        "**Soal**\n",
        "\n",
        "---"
      ],
      "metadata": {
        "id": "5JclfC11UlWn"
      }
    },
    {
      "cell_type": "markdown",
      "source": [
        "Sebuah toko pakaian memberikan potongan harga kepada pelanggan yang sudah melakukan:\n",
        "- Pembelian di atas 500.000 rupiah\n",
        "- Tidak pernah mengembalikan barang\n",
        "\n",
        "Citra telah melakukan pembelian sebesar 700.000 rupiah dan tidak pernah mengembalikan barang. Apakah Citra mendapatkan diskon?"
      ],
      "metadata": {
        "id": "Rp1-nCWqKwJw"
      }
    },
    {
      "cell_type": "markdown",
      "source": [
        "**Contoh Input:**\n",
        "\n",
        "---"
      ],
      "metadata": {
        "id": "mugNK7TzMdUv"
      }
    },
    {
      "cell_type": "markdown",
      "source": [
        "```python\n",
        "pembelian_citra = 700000\n",
        "pengembalian_citra = False\n",
        "```"
      ],
      "metadata": {
        "id": "QCqWVYhWMe6F"
      }
    },
    {
      "cell_type": "markdown",
      "source": [
        "**Contoh Output:**\n",
        "\n",
        "---"
      ],
      "metadata": {
        "id": "eIMXge_6MqFO"
      }
    },
    {
      "cell_type": "markdown",
      "source": [
        "```python\n",
        "Citra mendapatkan potongan harga: True\n",
        "```"
      ],
      "metadata": {
        "id": "G6GgNoVpMsFZ"
      }
    },
    {
      "cell_type": "markdown",
      "source": [
        "**Code disini!**\n",
        "\n",
        "---"
      ],
      "metadata": {
        "id": "aYipntodU7Gv"
      }
    },
    {
      "cell_type": "code",
      "source": [
        "# Tulis code Anda disini\n",
        "..."
      ],
      "metadata": {
        "id": "RK7zNhjqU7Gv",
        "colab": {
          "base_uri": "https://localhost:8080/"
        },
        "outputId": "fd7f01f5-eb63-47e8-f146-4d35dd4d179c"
      },
      "execution_count": null,
      "outputs": [
        {
          "output_type": "stream",
          "name": "stdout",
          "text": [
            "Citra mendapatkan potongan harga: True\n"
          ]
        }
      ]
    }
  ]
}